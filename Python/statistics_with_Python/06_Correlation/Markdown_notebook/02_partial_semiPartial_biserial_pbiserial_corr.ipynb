{
 "cells": [
  {
   "cell_type": "code",
   "execution_count": 1,
   "metadata": {},
   "outputs": [],
   "source": [
    "import pandas as pd\n",
    "import numpy as np\n",
    "import scipy.stats as st\n",
    "import statsmodels.api as sm\n",
    "import matplotlib.pyplot as plt\n",
    "import seaborn as sns"
   ]
  },
  {
   "cell_type": "markdown",
   "metadata": {},
   "source": [
    "#  Biserial, Point biserial,  Partial Correlation and Semi-Partial Correlation"
   ]
  },
  {
   "cell_type": "markdown",
   "metadata": {},
   "source": [
    "## Note:\n",
    "### point-biserial correlation coefficient : discrete dichotomy\n",
    "###  biserial correlation : continuous dichotomy "
   ]
  },
  {
   "cell_type": "code",
   "execution_count": 2,
   "metadata": {},
   "outputs": [],
   "source": [
    "cat_data = pd.read_csv('/home/atrides/Desktop/R/statistics_with_Python/06_Correlation/Data_Files/pbcorr.csv')"
   ]
  },
  {
   "cell_type": "markdown",
   "metadata": {},
   "source": [
    "### Point biserial"
   ]
  },
  {
   "cell_type": "code",
   "execution_count": 5,
   "metadata": {},
   "outputs": [
    {
     "name": "stdout",
     "output_type": "stream",
     "text": [
      "PointbiserialrResult(correlation=0.378454249471916, pvalue=0.002867597554256142)\n"
     ]
    }
   ],
   "source": [
    "# point-biserial correlation with scipy.stats.pointbiserialr\n",
    "print(st.pointbiserialr(cat_data['time'], cat_data['gender']))"
   ]
  },
  {
   "cell_type": "code",
   "execution_count": 6,
   "metadata": {},
   "outputs": [
    {
     "name": "stdout",
     "output_type": "stream",
     "text": [
      "0.37845424947191597\n"
     ]
    }
   ],
   "source": [
    "# point-biserial correlation for time and gender can also be obtained by\n",
    "r = cat_data['time'].corr(cat_data['gender'])\n",
    "print(r)"
   ]
  },
  {
   "cell_type": "code",
   "execution_count": 11,
   "metadata": {},
   "outputs": [
    {
     "name": "stdout",
     "output_type": "stream",
     "text": [
      "0.3982542599811433\n"
     ]
    }
   ],
   "source": [
    "# Now for confidence interval , as we have learnt r, doesn't have a normal sampling distribution, but Fisher has given us a way anyways\n",
    "\n",
    "Z_r = np.arctanh(r)\n",
    "print(Z_r)"
   ]
  },
  {
   "cell_type": "code",
   "execution_count": 12,
   "metadata": {},
   "outputs": [
    {
     "name": "stdout",
     "output_type": "stream",
     "text": [
      "(0.13776431357290136, 0.5769392253082637)\n"
     ]
    }
   ],
   "source": [
    "N = len(cat_data)\n",
    "SE_Zr = np.sqrt(1/(N-3))\n",
    "lcb,ucb = Z_r-1.96*SE_Zr, Z_r+1.96*SE_Zr\n",
    "(lcb, ucb) = np.tanh((lcb, ucb))\n",
    "print((lcb, ucb))"
   ]
  },
  {
   "cell_type": "code",
   "execution_count": 14,
   "metadata": {},
   "outputs": [
    {
     "name": "stdout",
     "output_type": "stream",
     "text": [
      "0.1432276189433512\n"
     ]
    }
   ],
   "source": [
    "# Thus coefficient of determination will be:\n",
    "\n",
    "r_squared = r**2\n",
    "print(r_squared)"
   ]
  },
  {
   "cell_type": "markdown",
   "metadata": {},
   "source": [
    "### Biserial"
   ]
  },
  {
   "cell_type": "code",
   "execution_count": 7,
   "metadata": {},
   "outputs": [],
   "source": [
    "# r_b = (r_pb * np.sqrt(p*q))/y\n",
    "len_0 = len(cat_data[cat_data['gender']==0])\n",
    "female_ratio = len_0/len(cat_data)\n",
    "male_ratio = 1-female_ratio\n",
    "q,p = (male_ratio, female_ratio)"
   ]
  },
  {
   "cell_type": "code",
   "execution_count": 8,
   "metadata": {},
   "outputs": [],
   "source": [
    "y = 0.3977"
   ]
  },
  {
   "cell_type": "code",
   "execution_count": 9,
   "metadata": {},
   "outputs": [
    {
     "name": "stdout",
     "output_type": "stream",
     "text": [
      "0.4747451640575249\n"
     ]
    }
   ],
   "source": [
    "r_biserial = r*np.sqrt(p*q)/y\n",
    "print(r_biserial)"
   ]
  },
  {
   "cell_type": "markdown",
   "metadata": {},
   "source": [
    "### Partial"
   ]
  },
  {
   "cell_type": "code",
   "execution_count": 15,
   "metadata": {},
   "outputs": [],
   "source": [
    "data = pd.read_csv('/home/atrides/Desktop/R/statistics_with_Python/06_Correlation/Data_Files/Exam Anxiety.dat', sep='\\t')"
   ]
  },
  {
   "cell_type": "code",
   "execution_count": 16,
   "metadata": {},
   "outputs": [
    {
     "name": "stdout",
     "output_type": "stream",
     "text": [
      "   Revise  Exam  Anxiety\n",
      "0       4    40   86.298\n",
      "1      11    65   88.716\n",
      "2      27    80   70.178\n",
      "3      53    80   61.312\n",
      "4       4    40   89.522\n"
     ]
    }
   ],
   "source": [
    "data = data[['Revise', 'Exam', 'Anxiety']]\n",
    "print(data.head())"
   ]
  },
  {
   "cell_type": "code",
   "execution_count": 18,
   "metadata": {},
   "outputs": [],
   "source": [
    "import pingouin as pg"
   ]
  },
  {
   "cell_type": "code",
   "execution_count": 20,
   "metadata": {},
   "outputs": [
    {
     "name": "stdout",
     "output_type": "stream",
     "text": [
      "           Revise      Exam   Anxiety\n",
      "Revise   1.000000  0.132678 -0.648530\n",
      "Exam     0.132678  1.000000 -0.246666\n",
      "Anxiety -0.648530 -0.246666  1.000000\n"
     ]
    }
   ],
   "source": [
    "print(data.pcorr())"
   ]
  },
  {
   "cell_type": "code",
   "execution_count": 21,
   "metadata": {},
   "outputs": [
    {
     "name": "stdout",
     "output_type": "stream",
     "text": [
      "           n         r           CI95%        r2    adj_r2     p-val   BF10  \\\n",
      "pearson  103 -0.246666  [-0.42, -0.06]  0.060844  0.042061  0.012013  2.762   \n",
      "\n",
      "            power  \n",
      "pearson  0.715461  \n"
     ]
    }
   ],
   "source": [
    "# Using pingouin\n",
    "print(pg.partial_corr(data = data, x='Exam', y='Anxiety', covar='Revise'))"
   ]
  },
  {
   "cell_type": "markdown",
   "metadata": {},
   "source": [
    "### Semi-Partial Correlation"
   ]
  },
  {
   "cell_type": "code",
   "execution_count": 23,
   "metadata": {},
   "outputs": [
    {
     "name": "stdout",
     "output_type": "stream",
     "text": [
      "           n         r          CI95%        r2    adj_r2     p-val   BF10  \\\n",
      "pearson  103 -0.173889  [-0.36, 0.02]  0.030237  0.010842  0.078977  0.564   \n",
      "\n",
      "            power  \n",
      "pearson  0.422393  \n"
     ]
    }
   ],
   "source": [
    "print(pg.partial_corr(data=data, x='Exam' , y='Anxiety', x_covar='Revise'))"
   ]
  },
  {
   "cell_type": "markdown",
   "metadata": {},
   "source": [
    "#### ·partial correlation -  quantifies the relationship between two variables while controlling for the effects of a third variable on both variables in the original correlation.\n",
    "\n",
    "#### ·semi-partial correlation-  quantifies the relationship between two variables while controlling for the effects of a third variable on only one of the variables in the original correlation"
   ]
  },
  {
   "cell_type": "code",
   "execution_count": null,
   "metadata": {},
   "outputs": [],
   "source": []
  }
 ],
 "metadata": {
  "kernelspec": {
   "display_name": "Python 3",
   "language": "python",
   "name": "python3"
  },
  "language_info": {
   "codemirror_mode": {
    "name": "ipython",
    "version": 3
   },
   "file_extension": ".py",
   "mimetype": "text/x-python",
   "name": "python",
   "nbconvert_exporter": "python",
   "pygments_lexer": "ipython3",
   "version": "3.8.2"
  }
 },
 "nbformat": 4,
 "nbformat_minor": 4
}

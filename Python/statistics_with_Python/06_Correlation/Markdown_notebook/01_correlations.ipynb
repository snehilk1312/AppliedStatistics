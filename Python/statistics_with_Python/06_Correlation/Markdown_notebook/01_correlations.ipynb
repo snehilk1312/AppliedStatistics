{
 "cells": [
  {
   "cell_type": "code",
   "execution_count": 1,
   "metadata": {},
   "outputs": [],
   "source": [
    "import pandas as pd\n",
    "import numpy as np\n",
    "import scipy.stats as st\n",
    "import statsmodels.api as sm\n",
    "import matplotlib.pyplot as plt\n",
    "import seaborn as sns"
   ]
  },
  {
   "cell_type": "markdown",
   "metadata": {},
   "source": [
    "### Calculating covariance and correlation coeffecient using hand"
   ]
  },
  {
   "cell_type": "code",
   "execution_count": 2,
   "metadata": {},
   "outputs": [],
   "source": [
    "ad = pd.DataFrame({'watched':[5,4,4,6,8], 'bought':[8,9,10,13,15]})"
   ]
  },
  {
   "cell_type": "code",
   "execution_count": 3,
   "metadata": {},
   "outputs": [
    {
     "name": "stdout",
     "output_type": "stream",
     "text": [
      "   watched  bought\n",
      "0        5       8\n",
      "1        4       9\n",
      "2        4      10\n",
      "3        6      13\n",
      "4        8      15\n"
     ]
    }
   ],
   "source": [
    "print(ad)"
   ]
  },
  {
   "cell_type": "code",
   "execution_count": 4,
   "metadata": {},
   "outputs": [
    {
     "name": "stdout",
     "output_type": "stream",
     "text": [
      "       watched     bought\n",
      "count  5.00000   5.000000\n",
      "mean   5.40000  11.000000\n",
      "std    1.67332   2.915476\n",
      "min    4.00000   8.000000\n",
      "25%    4.00000   9.000000\n",
      "50%    5.00000  10.000000\n",
      "75%    6.00000  13.000000\n",
      "max    8.00000  15.000000\n"
     ]
    }
   ],
   "source": [
    "print(ad.describe())"
   ]
  },
  {
   "cell_type": "code",
   "execution_count": 5,
   "metadata": {},
   "outputs": [
    {
     "name": "stdout",
     "output_type": "stream",
     "text": [
      "          watched    bought\n",
      "watched  1.000000  0.871165\n",
      "bought   0.871165  1.000000\n"
     ]
    }
   ],
   "source": [
    "print(ad.corr())"
   ]
  },
  {
   "cell_type": "code",
   "execution_count": 7,
   "metadata": {},
   "outputs": [
    {
     "data": {
      "image/png": "[encoded data removed]",
      "text/plain": [
       "<Figure size 360x360 with 1 Axes>"
      ]
     },
     "metadata": {
      "needs_background": "light"
     },
     "output_type": "display_data"
    }
   ],
   "source": [
    "_ = sns.lmplot('watched', 'bought', data=ad)\n",
    "plt.show()"
   ]
  },
  {
   "cell_type": "code",
   "execution_count": 8,
   "metadata": {},
   "outputs": [],
   "source": [
    "# cross-product deviations: multiply the deviations of one variable by the corresponding deviations of a second variable\n",
    "\n",
    "# for above examples Cross Product Deviations\n",
    "watched_diff, bought_diff = [], []\n",
    "for index, row in ad.iterrows():\n",
    "    watched_diff.append(5.4-row['watched'])\n",
    "    bought_diff.append(11-row['bought'])"
   ]
  },
  {
   "cell_type": "code",
   "execution_count": 9,
   "metadata": {},
   "outputs": [
    {
     "name": "stdout",
     "output_type": "stream",
     "text": [
      "[0.40000000000000036, 1.4000000000000004, 1.4000000000000004, -0.5999999999999996, -2.5999999999999996] [3, 2, 1, -2, -4]\n"
     ]
    }
   ],
   "source": [
    "print(watched_diff, bought_diff)"
   ]
  },
  {
   "cell_type": "code",
   "execution_count": 10,
   "metadata": {},
   "outputs": [
    {
     "name": "stdout",
     "output_type": "stream",
     "text": [
      "17.0\n"
     ]
    }
   ],
   "source": [
    "Cross_Product_Deviations = sum(np.multiply(watched_diff, bought_diff))\n",
    "print(Cross_Product_Deviations)"
   ]
  },
  {
   "cell_type": "markdown",
   "metadata": {},
   "source": [
    "#### Covariance (we got it from cross product deviations)"
   ]
  },
  {
   "cell_type": "code",
   "execution_count": 14,
   "metadata": {},
   "outputs": [
    {
     "name": "stdout",
     "output_type": "stream",
     "text": [
      "4.25\n"
     ]
    }
   ],
   "source": [
    "# covariance = Cross_Product_Deviations/(N-1)\n",
    "Covariance = Cross_Product_Deviations/(5-1)\n",
    "print(Covariance)"
   ]
  },
  {
   "cell_type": "code",
   "execution_count": 13,
   "metadata": {},
   "outputs": [],
   "source": [
    "# now\n",
    "watched_diff_standarized = np.array(watched_diff)/(ad['watched'].std())\n",
    "bought_diff_standarized = np.array(bought_diff)/(ad['bought'].std())"
   ]
  },
  {
   "cell_type": "code",
   "execution_count": 15,
   "metadata": {},
   "outputs": [
    {
     "name": "stdout",
     "output_type": "stream",
     "text": [
      "3.484660262185848\n"
     ]
    }
   ],
   "source": [
    "Cross_Product_Deviatiions_standarized = sum(np.multiply(watched_diff_standarized, bought_diff_standarized))\n",
    "print(Cross_Product_Deviatiions_standarized)"
   ]
  },
  {
   "cell_type": "markdown",
   "metadata": {},
   "source": [
    "#### R, correlation coefficient is standarized covariance"
   ]
  },
  {
   "cell_type": "code",
   "execution_count": 16,
   "metadata": {},
   "outputs": [
    {
     "name": "stdout",
     "output_type": "stream",
     "text": [
      "0.871165065546462\n"
     ]
    }
   ],
   "source": [
    "Covariance_standarized = Cross_Product_Deviatiions_standarized/(5-1)\n",
    "print(Covariance_standarized)"
   ]
  },
  {
   "cell_type": "code",
   "execution_count": 20,
   "metadata": {},
   "outputs": [
    {
     "name": "stdout",
     "output_type": "stream",
     "text": [
      "0.871165065546462\n"
     ]
    }
   ],
   "source": [
    "# also , we can get it by R = Covariance/(s1*s2)\n",
    "print(Covariance/(ad['watched'].std() * ad['bought'].std()))"
   ]
  },
  {
   "cell_type": "markdown",
   "metadata": {},
   "source": [
    "## Correlations"
   ]
  },
  {
   "cell_type": "code",
   "execution_count": 21,
   "metadata": {},
   "outputs": [],
   "source": [
    "data = pd.read_csv('/home/atrides/Desktop/R/statistics_with_Python/06_Correlation/Data_Files/Exam Anxiety.dat', sep='\\t')"
   ]
  },
  {
   "cell_type": "code",
   "execution_count": 22,
   "metadata": {},
   "outputs": [
    {
     "name": "stdout",
     "output_type": "stream",
     "text": [
      "   Code  Revise  Exam  Anxiety  Gender\n",
      "0     1       4    40   86.298    Male\n",
      "1     2      11    65   88.716  Female\n",
      "2     3      27    80   70.178    Male\n",
      "3     4      53    80   61.312    Male\n",
      "4     5       4    40   89.522    Male\n"
     ]
    }
   ],
   "source": [
    "print(data.head())"
   ]
  },
  {
   "cell_type": "code",
   "execution_count": 23,
   "metadata": {},
   "outputs": [],
   "source": [
    "data.set_index('Code', inplace=True, drop=True)"
   ]
  },
  {
   "cell_type": "code",
   "execution_count": 29,
   "metadata": {},
   "outputs": [
    {
     "name": "stdout",
     "output_type": "stream",
     "text": [
      "           Revise      Exam   Anxiety\n",
      "Revise   1.000000  0.396721 -0.709249\n",
      "Exam     0.396721  1.000000 -0.440993\n",
      "Anxiety -0.709249 -0.440993  1.000000\n"
     ]
    }
   ],
   "source": [
    "# pearson\n",
    "print(data.corr())"
   ]
  },
  {
   "cell_type": "code",
   "execution_count": 30,
   "metadata": {},
   "outputs": [
    {
     "name": "stdout",
     "output_type": "stream",
     "text": [
      "           Revise      Exam   Anxiety\n",
      "Revise   1.000000  0.263326 -0.488560\n",
      "Exam     0.263326  1.000000 -0.284792\n",
      "Anxiety -0.488560 -0.284792  1.000000\n"
     ]
    }
   ],
   "source": [
    "# kendall\n",
    "print(data.corr(method='kendall'))"
   ]
  },
  {
   "cell_type": "markdown",
   "metadata": {},
   "source": [
    "### using scipy.stats, only does one pair of variables at a time"
   ]
  },
  {
   "cell_type": "code",
   "execution_count": 31,
   "metadata": {},
   "outputs": [
    {
     "name": "stdout",
     "output_type": "stream",
     "text": [
      "(0.39672069692675677, 3.343451148053714e-05)\n"
     ]
    }
   ],
   "source": [
    "print(st.pearsonr(data['Revise'], data['Exam']))"
   ]
  },
  {
   "cell_type": "code",
   "execution_count": 32,
   "metadata": {},
   "outputs": [
    {
     "name": "stdout",
     "output_type": "stream",
     "text": [
      "SpearmanrResult(correlation=0.34989478093526827, pvalue=0.0002912864258449831)\n"
     ]
    }
   ],
   "source": [
    "print(st.spearmanr(data['Revise'], data['Exam']))"
   ]
  },
  {
   "cell_type": "code",
   "execution_count": 33,
   "metadata": {},
   "outputs": [
    {
     "name": "stdout",
     "output_type": "stream",
     "text": [
      "KendalltauResult(correlation=0.26332585349238524, pvalue=0.00014270086676695348)\n"
     ]
    }
   ],
   "source": [
    "print(st.kendalltau(data['Revise'], data['Exam']))"
   ]
  },
  {
   "cell_type": "code",
   "execution_count": 34,
   "metadata": {},
   "outputs": [
    {
     "name": "stdout",
     "output_type": "stream",
     "text": [
      "(-0.44099341160878863, 3.1278727730079265e-06)\n"
     ]
    }
   ],
   "source": [
    "print(st.pearsonr(data['Anxiety'], data['Exam']))"
   ]
  },
  {
   "cell_type": "markdown",
   "metadata": {},
   "source": [
    "# Note:\n",
    "\n",
    "### use pearson r for parametric\n",
    "\n",
    "### use spearman rho for non-parametric\n",
    "\n",
    "### use tendall tau for non-parametric and small datasets"
   ]
  },
  {
   "cell_type": "code",
   "execution_count": 35,
   "metadata": {},
   "outputs": [
    {
     "data": {
      "image/png": "[encoded data removed]",
      "text/plain": [
       "<Figure size 360x360 with 1 Axes>"
      ]
     },
     "metadata": {
      "needs_background": "light"
     },
     "output_type": "display_data"
    }
   ],
   "source": [
    "# seeing the relation with lmplot\n",
    "_ = sns.lmplot('Revise', 'Exam', data=data)\n",
    "plt.show()"
   ]
  },
  {
   "cell_type": "markdown",
   "metadata": {},
   "source": [
    "## R^2 : measure of the amount of variability in one variable that is shared by the other"
   ]
  },
  {
   "cell_type": "code",
   "execution_count": 36,
   "metadata": {},
   "outputs": [
    {
     "name": "stdout",
     "output_type": "stream",
     "text": [
      "           Revise      Exam   Anxiety\n",
      "Revise   1.000000  0.157387  0.503035\n",
      "Exam     0.157387  1.000000  0.194475\n",
      "Anxiety  0.503035  0.194475  1.000000\n"
     ]
    }
   ],
   "source": [
    "print((data.corr())**2)"
   ]
  },
  {
   "cell_type": "code",
   "execution_count": null,
   "metadata": {},
   "outputs": [],
   "source": []
  }
 ],
 "metadata": {
  "kernelspec": {
   "display_name": "Python 3",
   "language": "python",
   "name": "python3"
  },
  "language_info": {
   "codemirror_mode": {
    "name": "ipython",
    "version": 3
   },
   "file_extension": ".py",
   "mimetype": "text/x-python",
   "name": "python",
   "nbconvert_exporter": "python",
   "pygments_lexer": "ipython3",
   "version": "3.8.2"
  }
 },
 "nbformat": 4,
 "nbformat_minor": 4
}

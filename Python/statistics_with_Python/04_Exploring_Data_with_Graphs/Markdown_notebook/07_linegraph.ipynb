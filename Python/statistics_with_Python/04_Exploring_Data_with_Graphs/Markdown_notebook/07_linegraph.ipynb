{
 "cells": [
  {
   "cell_type": "code",
   "execution_count": 1,
   "metadata": {},
   "outputs": [],
   "source": [
    "import pandas as pd\n",
    "import seaborn as sns\n",
    "import matplotlib.pyplot as plt"
   ]
  },
  {
   "cell_type": "code",
   "execution_count": 2,
   "metadata": {},
   "outputs": [
    {
     "name": "stdout",
     "output_type": "stream",
     "text": [
      "   Baseline  Tongue  Carotid  Rectum\n",
      "0        15       9        7       2\n",
      "1        13      18        7       4\n",
      "2         9      17        5       4\n",
      "3         7      15       10       5\n",
      "4        11      18        7       4\n"
     ]
    }
   ],
   "source": [
    "data = pd.read_csv('/home/atrides/Desktop/R/statistics_with_Python/04_Exploring_Data_with_Graphs/Data_Files/Hiccups.dat', sep='\\s+')\n",
    "print(data.head())"
   ]
  },
  {
   "cell_type": "code",
   "execution_count": 3,
   "metadata": {},
   "outputs": [
    {
     "name": "stdout",
     "output_type": "stream",
     "text": [
      "        Baseline     Tongue    Carotid     Rectum\n",
      "count  15.000000  15.000000  15.000000  15.000000\n",
      "mean   13.133333  12.800000   8.733333   3.533333\n",
      "std     4.838339   5.414267   2.344192   0.833809\n",
      "min     3.000000   3.000000   5.000000   2.000000\n",
      "25%    10.000000   9.500000   7.000000   3.000000\n",
      "50%    13.000000  14.000000   8.000000   4.000000\n",
      "75%    16.000000  16.500000  10.500000   4.000000\n",
      "max    20.000000  22.000000  13.000000   5.000000\n"
     ]
    }
   ],
   "source": [
    "print(data.describe())"
   ]
  },
  {
   "cell_type": "code",
   "execution_count": 11,
   "metadata": {},
   "outputs": [],
   "source": [
    "data['id'] = data.index"
   ]
  },
  {
   "cell_type": "code",
   "execution_count": 15,
   "metadata": {},
   "outputs": [
    {
     "name": "stdout",
     "output_type": "stream",
     "text": [
      "  Intervention  Hiccups\n",
      "0     Baseline       15\n",
      "1     Baseline       13\n",
      "2     Baseline        9\n",
      "3     Baseline        7\n",
      "4     Baseline       11\n"
     ]
    }
   ],
   "source": [
    "df = pd.melt(data, id_vars='id', value_vars=['Baseline', 'Tongue', 'Carotid', 'Rectum'], var_name='Intervention', value_name='Hiccups')\n",
    "df.drop(['id'], axis=1, inplace=True)\n",
    "print(df.head())"
   ]
  },
  {
   "cell_type": "code",
   "execution_count": 16,
   "metadata": {},
   "outputs": [
    {
     "data": {
      "image/png": "[encoded data removed]",
      "text/plain": [
       "<Figure size 432x288 with 1 Axes>"
      ]
     },
     "metadata": {
      "needs_background": "light"
     },
     "output_type": "display_data"
    }
   ],
   "source": [
    "_ = sns.pointplot(x='Intervention', y='Hiccups', data=df,linestyles=['--'])"
   ]
  },
  {
   "cell_type": "code",
   "execution_count": 18,
   "metadata": {},
   "outputs": [
    {
     "name": "stdout",
     "output_type": "stream",
     "text": [
      "            Group  Baseline  Six_months\n",
      "0  Text Messagers        52          32\n",
      "1  Text Messagers        68          48\n",
      "2  Text Messagers        85          62\n",
      "3  Text Messagers        47          16\n",
      "4  Text Messagers        73          63\n"
     ]
    }
   ],
   "source": [
    "# When there are several independent variables\n",
    "da = pd.read_csv('/home/atrides/Desktop/R/statistics_with_Python/04_Exploring_Data_with_Graphs/Data_Files/TextMessages.dat', sep='\\t')\n",
    "print(da.head())"
   ]
  },
  {
   "cell_type": "code",
   "execution_count": 23,
   "metadata": {},
   "outputs": [
    {
     "name": "stdout",
     "output_type": "stream",
     "text": [
      "       Group        time  num_msgs\n",
      "95  Controls  Six_months        62\n",
      "96  Controls  Six_months        71\n",
      "97  Controls  Six_months        55\n",
      "98  Controls  Six_months        46\n",
      "99  Controls  Six_months        79\n"
     ]
    }
   ],
   "source": [
    "da_ = pd.melt(da, id_vars='Group', value_vars=['Baseline', 'Six_months'], var_name='time', value_name='num_msgs')\n",
    "print(da_.tail())"
   ]
  },
  {
   "cell_type": "code",
   "execution_count": 32,
   "metadata": {},
   "outputs": [
    {
     "data": {
      "image/png": "[encoded data removed]",
      "text/plain": [
       "<Figure size 432x288 with 1 Axes>"
      ]
     },
     "metadata": {
      "needs_background": "light"
     },
     "output_type": "display_data"
    }
   ],
   "source": [
    "_ = sns.pointplot(x='time', y='num_msgs', data=da_, hue='Group')\n",
    "plt.show()"
   ]
  }
 ],
 "metadata": {
  "kernelspec": {
   "display_name": "Python 3",
   "language": "python",
   "name": "python3"
  },
  "language_info": {
   "codemirror_mode": {
    "name": "ipython",
    "version": 3
   },
   "file_extension": ".py",
   "mimetype": "text/x-python",
   "name": "python",
   "nbconvert_exporter": "python",
   "pygments_lexer": "ipython3",
   "version": "3.7.6"
  }
 },
 "nbformat": 4,
 "nbformat_minor": 4
}

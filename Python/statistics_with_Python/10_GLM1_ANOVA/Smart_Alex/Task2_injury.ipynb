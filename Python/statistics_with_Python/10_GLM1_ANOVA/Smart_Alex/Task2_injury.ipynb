{
 "cells": [
  {
   "cell_type": "code",
   "execution_count": 1,
   "metadata": {},
   "outputs": [],
   "source": [
    "import numpy as np\n",
    "import pandas as pd\n",
    "import matplotlib.pyplot as plt\n",
    "import seaborn as sns\n",
    "import scipy.stats as st\n",
    "import pingouin as pg\n",
    "\n",
    "import statsmodels.api as sm\n",
    "from statsmodels.formula.api import ols\n",
    "import statsmodels.stats.outliers_influence as sms\n",
    "from statsmodels.tools.tools import add_constant\n",
    "\n",
    "from patsy.contrasts import ContrastMatrix\n",
    "from patsy.contrasts import Poly\n",
    "%matplotlib inline"
   ]
  },
  {
   "cell_type": "code",
   "execution_count": 3,
   "metadata": {},
   "outputs": [
    {
     "data": {
      "text/html": [
       "<div>\n",
       "<style scoped>\n",
       "    .dataframe tbody tr th:only-of-type {\n",
       "        vertical-align: middle;\n",
       "    }\n",
       "\n",
       "    .dataframe tbody tr th {\n",
       "        vertical-align: top;\n",
       "    }\n",
       "\n",
       "    .dataframe thead th {\n",
       "        text-align: right;\n",
       "    }\n",
       "</style>\n",
       "<table border=\"1\" class=\"dataframe\">\n",
       "  <thead>\n",
       "    <tr style=\"text-align: right;\">\n",
       "      <th></th>\n",
       "      <th>hero</th>\n",
       "      <th>injury</th>\n",
       "    </tr>\n",
       "  </thead>\n",
       "  <tbody>\n",
       "    <tr>\n",
       "      <th>0</th>\n",
       "      <td>1</td>\n",
       "      <td>51</td>\n",
       "    </tr>\n",
       "    <tr>\n",
       "      <th>1</th>\n",
       "      <td>1</td>\n",
       "      <td>31</td>\n",
       "    </tr>\n",
       "    <tr>\n",
       "      <th>2</th>\n",
       "      <td>1</td>\n",
       "      <td>58</td>\n",
       "    </tr>\n",
       "    <tr>\n",
       "      <th>3</th>\n",
       "      <td>1</td>\n",
       "      <td>20</td>\n",
       "    </tr>\n",
       "    <tr>\n",
       "      <th>4</th>\n",
       "      <td>1</td>\n",
       "      <td>47</td>\n",
       "    </tr>\n",
       "  </tbody>\n",
       "</table>\n",
       "</div>"
      ],
      "text/plain": [
       "   hero  injury\n",
       "0     1      51\n",
       "1     1      31\n",
       "2     1      58\n",
       "3     1      20\n",
       "4     1      47"
      ]
     },
     "execution_count": 3,
     "metadata": {},
     "output_type": "execute_result"
    }
   ],
   "source": [
    "data = pd.read_csv('../Data_Files/Superhero.dat' , sep='\\t')\n",
    "data.head()"
   ]
  },
  {
   "cell_type": "code",
   "execution_count": 4,
   "metadata": {},
   "outputs": [
    {
     "data": {
      "image/png": "[encoded data removed]",
      "text/plain": [
       "<Figure size 432x288 with 1 Axes>"
      ]
     },
     "metadata": {
      "needs_background": "light"
     },
     "output_type": "display_data"
    }
   ],
   "source": [
    "_ = sns.boxplot(x='hero', y='injury', data=data)"
   ]
  },
  {
   "cell_type": "code",
   "execution_count": 5,
   "metadata": {},
   "outputs": [],
   "source": [
    "data_1 = data[data['hero']==1]\n",
    "data_2 = data[data['hero']==2]\n",
    "data_3 = data[data['hero']==3]\n",
    "data_4 = data[data['hero']==4]"
   ]
  },
  {
   "cell_type": "code",
   "execution_count": 6,
   "metadata": {},
   "outputs": [
    {
     "name": "stdout",
     "output_type": "stream",
     "text": [
      "0.8269751995286303 0.4910160327502844\n"
     ]
    }
   ],
   "source": [
    "stat, p = st.levene(data_1['injury'], data_2['injury'], data_3['injury'], data_4['injury'])\n",
    "print(stat, p)"
   ]
  },
  {
   "cell_type": "code",
   "execution_count": 7,
   "metadata": {},
   "outputs": [
    {
     "data": {
      "text/html": [
       "<table class=\"simpletable\">\n",
       "<caption>OLS Regression Results</caption>\n",
       "<tr>\n",
       "  <th>Dep. Variable:</th>         <td>injury</td>      <th>  R-squared:         </th> <td>   0.490</td>\n",
       "</tr>\n",
       "<tr>\n",
       "  <th>Model:</th>                   <td>OLS</td>       <th>  Adj. R-squared:    </th> <td>   0.431</td>\n",
       "</tr>\n",
       "<tr>\n",
       "  <th>Method:</th>             <td>Least Squares</td>  <th>  F-statistic:       </th> <td>   8.317</td>\n",
       "</tr>\n",
       "<tr>\n",
       "  <th>Date:</th>             <td>Wed, 28 Oct 2020</td> <th>  Prob (F-statistic):</th> <td>0.000483</td>\n",
       "</tr>\n",
       "<tr>\n",
       "  <th>Time:</th>                 <td>13:30:22</td>     <th>  Log-Likelihood:    </th> <td> -117.24</td>\n",
       "</tr>\n",
       "<tr>\n",
       "  <th>No. Observations:</th>      <td>    30</td>      <th>  AIC:               </th> <td>   242.5</td>\n",
       "</tr>\n",
       "<tr>\n",
       "  <th>Df Residuals:</th>          <td>    26</td>      <th>  BIC:               </th> <td>   248.1</td>\n",
       "</tr>\n",
       "<tr>\n",
       "  <th>Df Model:</th>              <td>     3</td>      <th>                     </th>     <td> </td>   \n",
       "</tr>\n",
       "<tr>\n",
       "  <th>Covariance Type:</th>      <td>nonrobust</td>    <th>                     </th>     <td> </td>   \n",
       "</tr>\n",
       "</table>\n",
       "<table class=\"simpletable\">\n",
       "<tr>\n",
       "        <td></td>          <th>coef</th>     <th>std err</th>      <th>t</th>      <th>P>|t|</th>  <th>[0.025</th>    <th>0.975]</th>  \n",
       "</tr>\n",
       "<tr>\n",
       "  <th>Intercept</th>    <td>   41.6250</td> <td>    4.577</td> <td>    9.095</td> <td> 0.000</td> <td>   32.218</td> <td>   51.032</td>\n",
       "</tr>\n",
       "<tr>\n",
       "  <th>C(hero)[T.2]</th> <td>   18.7083</td> <td>    6.991</td> <td>    2.676</td> <td> 0.013</td> <td>    4.338</td> <td>   33.078</td>\n",
       "</tr>\n",
       "<tr>\n",
       "  <th>C(hero)[T.3]</th> <td>   -6.2500</td> <td>    6.472</td> <td>   -0.966</td> <td> 0.343</td> <td>  -19.554</td> <td>    7.054</td>\n",
       "</tr>\n",
       "<tr>\n",
       "  <th>C(hero)[T.4]</th> <td>  -15.3750</td> <td>    6.472</td> <td>   -2.376</td> <td> 0.025</td> <td>  -28.679</td> <td>   -2.071</td>\n",
       "</tr>\n",
       "</table>\n",
       "<table class=\"simpletable\">\n",
       "<tr>\n",
       "  <th>Omnibus:</th>       <td> 1.483</td> <th>  Durbin-Watson:     </th> <td>   2.922</td>\n",
       "</tr>\n",
       "<tr>\n",
       "  <th>Prob(Omnibus):</th> <td> 0.476</td> <th>  Jarque-Bera (JB):  </th> <td>   0.866</td>\n",
       "</tr>\n",
       "<tr>\n",
       "  <th>Skew:</th>          <td>-0.415</td> <th>  Prob(JB):          </th> <td>   0.649</td>\n",
       "</tr>\n",
       "<tr>\n",
       "  <th>Kurtosis:</th>      <td> 3.060</td> <th>  Cond. No.          </th> <td>    4.68</td>\n",
       "</tr>\n",
       "</table><br/><br/>Notes:<br/>[1] Standard Errors assume that the covariance matrix of the errors is correctly specified."
      ],
      "text/plain": [
       "<class 'statsmodels.iolib.summary.Summary'>\n",
       "\"\"\"\n",
       "                            OLS Regression Results                            \n",
       "==============================================================================\n",
       "Dep. Variable:                 injury   R-squared:                       0.490\n",
       "Model:                            OLS   Adj. R-squared:                  0.431\n",
       "Method:                 Least Squares   F-statistic:                     8.317\n",
       "Date:                Wed, 28 Oct 2020   Prob (F-statistic):           0.000483\n",
       "Time:                        13:30:22   Log-Likelihood:                -117.24\n",
       "No. Observations:                  30   AIC:                             242.5\n",
       "Df Residuals:                      26   BIC:                             248.1\n",
       "Df Model:                           3                                         \n",
       "Covariance Type:            nonrobust                                         \n",
       "================================================================================\n",
       "                   coef    std err          t      P>|t|      [0.025      0.975]\n",
       "--------------------------------------------------------------------------------\n",
       "Intercept       41.6250      4.577      9.095      0.000      32.218      51.032\n",
       "C(hero)[T.2]    18.7083      6.991      2.676      0.013       4.338      33.078\n",
       "C(hero)[T.3]    -6.2500      6.472     -0.966      0.343     -19.554       7.054\n",
       "C(hero)[T.4]   -15.3750      6.472     -2.376      0.025     -28.679      -2.071\n",
       "==============================================================================\n",
       "Omnibus:                        1.483   Durbin-Watson:                   2.922\n",
       "Prob(Omnibus):                  0.476   Jarque-Bera (JB):                0.866\n",
       "Skew:                          -0.415   Prob(JB):                        0.649\n",
       "Kurtosis:                       3.060   Cond. No.                         4.68\n",
       "==============================================================================\n",
       "\n",
       "Notes:\n",
       "[1] Standard Errors assume that the covariance matrix of the errors is correctly specified.\n",
       "\"\"\""
      ]
     },
     "execution_count": 7,
     "metadata": {},
     "output_type": "execute_result"
    }
   ],
   "source": [
    "m01 = ols('injury~C(hero)', data=data).fit()\n",
    "m01.summary()"
   ]
  },
  {
   "cell_type": "code",
   "execution_count": 8,
   "metadata": {},
   "outputs": [
    {
     "data": {
      "text/html": [
       "<div>\n",
       "<style scoped>\n",
       "    .dataframe tbody tr th:only-of-type {\n",
       "        vertical-align: middle;\n",
       "    }\n",
       "\n",
       "    .dataframe tbody tr th {\n",
       "        vertical-align: top;\n",
       "    }\n",
       "\n",
       "    .dataframe thead th {\n",
       "        text-align: right;\n",
       "    }\n",
       "</style>\n",
       "<table border=\"1\" class=\"dataframe\">\n",
       "  <thead>\n",
       "    <tr style=\"text-align: right;\">\n",
       "      <th></th>\n",
       "      <th>df</th>\n",
       "      <th>sum_sq</th>\n",
       "      <th>mean_sq</th>\n",
       "      <th>F</th>\n",
       "      <th>PR(&gt;F)</th>\n",
       "    </tr>\n",
       "  </thead>\n",
       "  <tbody>\n",
       "    <tr>\n",
       "      <th>C(hero)</th>\n",
       "      <td>3.0</td>\n",
       "      <td>4180.616667</td>\n",
       "      <td>1393.538889</td>\n",
       "      <td>8.316612</td>\n",
       "      <td>0.000483</td>\n",
       "    </tr>\n",
       "    <tr>\n",
       "      <th>Residual</th>\n",
       "      <td>26.0</td>\n",
       "      <td>4356.583333</td>\n",
       "      <td>167.560897</td>\n",
       "      <td>NaN</td>\n",
       "      <td>NaN</td>\n",
       "    </tr>\n",
       "  </tbody>\n",
       "</table>\n",
       "</div>"
      ],
      "text/plain": [
       "            df       sum_sq      mean_sq         F    PR(>F)\n",
       "C(hero)    3.0  4180.616667  1393.538889  8.316612  0.000483\n",
       "Residual  26.0  4356.583333   167.560897       NaN       NaN"
      ]
     },
     "execution_count": 8,
     "metadata": {},
     "output_type": "execute_result"
    }
   ],
   "source": [
    "anova_table = sm.stats.anova_lm(m01)\n",
    "anova_table"
   ]
  },
  {
   "cell_type": "markdown",
   "metadata": {},
   "source": [
    "#### # In the ANOVA output above, the observed significance value is less than .05 and so we can say that there was a significant effect of superhero costume on injury severity. However, at this stage we still do not know exactly what the effect of superhero costume was (we don’t know which groups differed). Because there were no specific hypotheses, only that the groups would differ, we can’t look at planned contrasts but we can conduct some post hoc tests. I am going to conduct a Benjamini–Hochberg (BH) test by executing"
   ]
  },
  {
   "cell_type": "code",
   "execution_count": 9,
   "metadata": {},
   "outputs": [],
   "source": [
    "from statsmodels.sandbox.stats.multicomp import MultiComparison"
   ]
  },
  {
   "cell_type": "code",
   "execution_count": 10,
   "metadata": {},
   "outputs": [],
   "source": [
    "multicomp = MultiComparison(data['injury'], data['hero'])   # testfunc"
   ]
  },
  {
   "cell_type": "code",
   "execution_count": 11,
   "metadata": {},
   "outputs": [
    {
     "name": "stdout",
     "output_type": "stream",
     "text": [
      "Test Multiple Comparison ttest_ind \n",
      "FWER=0.05 method=fdr_bh\n",
      "alphacSidak=0.01, alphacBonf=0.008\n",
      "=============================================\n",
      "group1 group2   stat   pval  pval_corr reject\n",
      "---------------------------------------------\n",
      "     1      2 -2.3367 0.0376    0.0564  False\n",
      "     1      3  0.9757 0.3458    0.3458  False\n",
      "     1      4  2.9615 0.0103    0.0221   True\n",
      "     2      3  3.0002 0.0111    0.0221   True\n",
      "     2      4  4.8181 0.0004    0.0025   True\n",
      "     3      4  1.6468 0.1219    0.1462  False\n",
      "---------------------------------------------\n"
     ]
    }
   ],
   "source": [
    "# Benjamini-Hochberg\n",
    "com_bh = multicomp.allpairtest(st.ttest_ind, method='fdr_bh')\n",
    "print(com_bh[0])"
   ]
  },
  {
   "cell_type": "code",
   "execution_count": 12,
   "metadata": {},
   "outputs": [
    {
     "name": "stdout",
     "output_type": "stream",
     "text": [
      "Test Multiple Comparison ttest_ind \n",
      "FWER=0.05 method=holm\n",
      "alphacSidak=0.01, alphacBonf=0.008\n",
      "=============================================\n",
      "group1 group2   stat   pval  pval_corr reject\n",
      "---------------------------------------------\n",
      "     1      2 -2.3367 0.0376    0.1128  False\n",
      "     1      3  0.9757 0.3458    0.3458  False\n",
      "     1      4  2.9615 0.0103    0.0515  False\n",
      "     2      3  3.0002 0.0111    0.0515  False\n",
      "     2      4  4.8181 0.0004    0.0025   True\n",
      "     3      4  1.6468 0.1219    0.2437  False\n",
      "---------------------------------------------\n"
     ]
    }
   ],
   "source": [
    "# Holm's\n",
    "com_holm= multicomp.allpairtest(st.ttest_ind, method='holm')\n",
    "print(com_holm[0])"
   ]
  },
  {
   "cell_type": "code",
   "execution_count": 13,
   "metadata": {},
   "outputs": [
    {
     "name": "stdout",
     "output_type": "stream",
     "text": [
      "Test Multiple Comparison ttest_ind \n",
      "FWER=0.05 method=bonf\n",
      "alphacSidak=0.01, alphacBonf=0.008\n",
      "=============================================\n",
      "group1 group2   stat   pval  pval_corr reject\n",
      "---------------------------------------------\n",
      "     1      2 -2.3367 0.0376    0.2256  False\n",
      "     1      3  0.9757 0.3458       1.0  False\n",
      "     1      4  2.9615 0.0103    0.0619  False\n",
      "     2      3  3.0002 0.0111    0.0664  False\n",
      "     2      4  4.8181 0.0004    0.0025   True\n",
      "     3      4  1.6468 0.1219    0.7311  False\n",
      "---------------------------------------------\n"
     ]
    }
   ],
   "source": [
    "# Bonf\n",
    "com_bonf= multicomp.allpairtest(st.ttest_ind, method='bonf')\n",
    "print(com_bonf[0])"
   ]
  },
  {
   "cell_type": "markdown",
   "metadata": {},
   "source": [
    "#### # Doing all three post hoc test , we can see where the difference lie.\n",
    "#### # Note: The Statistical Power of these three post-hoc test are as follows fdr_bh > holm > bonf, which is pretty evident pval_corr."
   ]
  },
  {
   "cell_type": "markdown",
   "metadata": {},
   "source": [
    "## Calculating the effect size"
   ]
  },
  {
   "cell_type": "code",
   "execution_count": 14,
   "metadata": {},
   "outputs": [],
   "source": [
    "SSm = 4180.616667\n",
    "SSr = 4356.58\n",
    "SSt = SSm+SSr"
   ]
  },
  {
   "cell_type": "code",
   "execution_count": 15,
   "metadata": {},
   "outputs": [],
   "source": [
    "MSm = 1393.538889\n",
    "MSr = 167.56"
   ]
  },
  {
   "cell_type": "code",
   "execution_count": 16,
   "metadata": {},
   "outputs": [
    {
     "data": {
      "text/plain": [
       "0.4225203308603871"
      ]
     },
     "execution_count": 16,
     "metadata": {},
     "output_type": "execute_result"
    }
   ],
   "source": [
    "ω_squared = (SSm-3*MSr)/(SSt+MSr)   # here ω_squared is like adjusted R_squared\n",
    "ω_squared"
   ]
  },
  {
   "cell_type": "code",
   "execution_count": 17,
   "metadata": {},
   "outputs": [
    {
     "data": {
      "text/plain": [
       "0.6500156389352391"
      ]
     },
     "execution_count": 17,
     "metadata": {},
     "output_type": "execute_result"
    }
   ],
   "source": [
    "ω = np.sqrt(ω_squared)       # ω, more accurate measure of R\n",
    "ω"
   ]
  },
  {
   "cell_type": "markdown",
   "metadata": {},
   "source": [
    "### Final reporting:\n",
    "#### # All significant values are reported at p < .05.There was a significant effect of superhero costume on severity of injury, F(3, 26) = 8.32, ω2 = .42. Benjamini–Hochberg tests revealed wearing a Superman costume resulted in significantly more severe injuries than Ninja Turtle and Hulk costumes, all ps < .05. Wearing a Spiderman costume resulted in significantly more severe injuries than wearing a Ninja Turtle costume p < .05 but not significantly more severe injuries than wearing a Hulk costume p = .34. Wearing a Hulk costume did not result in significantly more severe injuries than wearing a Ninja Turtle costume,p = 0.1462"
   ]
  },
  {
   "cell_type": "code",
   "execution_count": null,
   "metadata": {},
   "outputs": [],
   "source": []
  }
 ],
 "metadata": {
  "kernelspec": {
   "display_name": "Python 3",
   "language": "python",
   "name": "python3"
  },
  "language_info": {
   "codemirror_mode": {
    "name": "ipython",
    "version": 3
   },
   "file_extension": ".py",
   "mimetype": "text/x-python",
   "name": "python",
   "nbconvert_exporter": "python",
   "pygments_lexer": "ipython3",
   "version": "3.8.5"
  }
 },
 "nbformat": 4,
 "nbformat_minor": 4
}

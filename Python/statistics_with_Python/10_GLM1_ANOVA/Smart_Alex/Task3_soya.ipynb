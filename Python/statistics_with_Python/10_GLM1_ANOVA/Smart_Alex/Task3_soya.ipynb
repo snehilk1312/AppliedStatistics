{
 "cells": [
  {
   "cell_type": "code",
   "execution_count": 1,
   "metadata": {},
   "outputs": [],
   "source": [
    "import numpy as np\n",
    "import pandas as pd\n",
    "import matplotlib.pyplot as plt\n",
    "import seaborn as sns\n",
    "import scipy.stats as st\n",
    "import pingouin as pg\n",
    "\n",
    "import statsmodels.api as sm\n",
    "from statsmodels.formula.api import ols\n",
    "import statsmodels.stats.outliers_influence as sms\n",
    "from statsmodels.tools.tools import add_constant\n",
    "\n",
    "from patsy.contrasts import ContrastMatrix\n",
    "from patsy.contrasts import Poly\n",
    "%matplotlib inline"
   ]
  },
  {
   "cell_type": "code",
   "execution_count": 3,
   "metadata": {},
   "outputs": [
    {
     "data": {
      "text/html": [
       "<div>\n",
       "<style scoped>\n",
       "    .dataframe tbody tr th:only-of-type {\n",
       "        vertical-align: middle;\n",
       "    }\n",
       "\n",
       "    .dataframe tbody tr th {\n",
       "        vertical-align: top;\n",
       "    }\n",
       "\n",
       "    .dataframe thead th {\n",
       "        text-align: right;\n",
       "    }\n",
       "</style>\n",
       "<table border=\"1\" class=\"dataframe\">\n",
       "  <thead>\n",
       "    <tr style=\"text-align: right;\">\n",
       "      <th></th>\n",
       "      <th>Soya</th>\n",
       "      <th>Sperm</th>\n",
       "    </tr>\n",
       "  </thead>\n",
       "  <tbody>\n",
       "    <tr>\n",
       "      <th>0</th>\n",
       "      <td>No Soya Meals</td>\n",
       "      <td>0.35</td>\n",
       "    </tr>\n",
       "    <tr>\n",
       "      <th>1</th>\n",
       "      <td>No Soya Meals</td>\n",
       "      <td>0.58</td>\n",
       "    </tr>\n",
       "    <tr>\n",
       "      <th>2</th>\n",
       "      <td>No Soya Meals</td>\n",
       "      <td>0.88</td>\n",
       "    </tr>\n",
       "    <tr>\n",
       "      <th>3</th>\n",
       "      <td>No Soya Meals</td>\n",
       "      <td>0.92</td>\n",
       "    </tr>\n",
       "    <tr>\n",
       "      <th>4</th>\n",
       "      <td>No Soya Meals</td>\n",
       "      <td>1.22</td>\n",
       "    </tr>\n",
       "  </tbody>\n",
       "</table>\n",
       "</div>"
      ],
      "text/plain": [
       "            Soya  Sperm\n",
       "0  No Soya Meals   0.35\n",
       "1  No Soya Meals   0.58\n",
       "2  No Soya Meals   0.88\n",
       "3  No Soya Meals   0.92\n",
       "4  No Soya Meals   1.22"
      ]
     },
     "execution_count": 3,
     "metadata": {},
     "output_type": "execute_result"
    }
   ],
   "source": [
    "data = pd.read_csv('../Data_Files/Soya.dat', sep='\\t')\n",
    "data.head()"
   ]
  },
  {
   "cell_type": "code",
   "execution_count": 4,
   "metadata": {},
   "outputs": [
    {
     "data": {
      "text/html": [
       "<div>\n",
       "<style scoped>\n",
       "    .dataframe tbody tr th:only-of-type {\n",
       "        vertical-align: middle;\n",
       "    }\n",
       "\n",
       "    .dataframe tbody tr th {\n",
       "        vertical-align: top;\n",
       "    }\n",
       "\n",
       "    .dataframe thead th {\n",
       "        text-align: right;\n",
       "    }\n",
       "</style>\n",
       "<table border=\"1\" class=\"dataframe\">\n",
       "  <thead>\n",
       "    <tr style=\"text-align: right;\">\n",
       "      <th></th>\n",
       "      <th>count</th>\n",
       "      <th>mean</th>\n",
       "      <th>std</th>\n",
       "      <th>min</th>\n",
       "      <th>25%</th>\n",
       "      <th>50%</th>\n",
       "      <th>75%</th>\n",
       "      <th>max</th>\n",
       "    </tr>\n",
       "    <tr>\n",
       "      <th>Soya</th>\n",
       "      <th></th>\n",
       "      <th></th>\n",
       "      <th></th>\n",
       "      <th></th>\n",
       "      <th></th>\n",
       "      <th></th>\n",
       "      <th></th>\n",
       "      <th></th>\n",
       "    </tr>\n",
       "  </thead>\n",
       "  <tbody>\n",
       "    <tr>\n",
       "      <th>1 Soya Meal Per Week</th>\n",
       "      <td>20.0</td>\n",
       "      <td>4.6060</td>\n",
       "      <td>4.672586</td>\n",
       "      <td>0.33</td>\n",
       "      <td>1.3400</td>\n",
       "      <td>2.595</td>\n",
       "      <td>7.1250</td>\n",
       "      <td>18.47</td>\n",
       "    </tr>\n",
       "    <tr>\n",
       "      <th>4 Soyal Meals Per Week</th>\n",
       "      <td>20.0</td>\n",
       "      <td>4.1105</td>\n",
       "      <td>4.410078</td>\n",
       "      <td>0.40</td>\n",
       "      <td>1.3400</td>\n",
       "      <td>2.945</td>\n",
       "      <td>4.7075</td>\n",
       "      <td>18.21</td>\n",
       "    </tr>\n",
       "    <tr>\n",
       "      <th>7 Soya Meals Per Week</th>\n",
       "      <td>20.0</td>\n",
       "      <td>1.6535</td>\n",
       "      <td>1.108989</td>\n",
       "      <td>0.31</td>\n",
       "      <td>0.7850</td>\n",
       "      <td>1.335</td>\n",
       "      <td>2.7125</td>\n",
       "      <td>4.11</td>\n",
       "    </tr>\n",
       "    <tr>\n",
       "      <th>No Soya Meals</th>\n",
       "      <td>20.0</td>\n",
       "      <td>4.9870</td>\n",
       "      <td>5.084488</td>\n",
       "      <td>0.35</td>\n",
       "      <td>1.4375</td>\n",
       "      <td>3.095</td>\n",
       "      <td>7.6300</td>\n",
       "      <td>21.08</td>\n",
       "    </tr>\n",
       "  </tbody>\n",
       "</table>\n",
       "</div>"
      ],
      "text/plain": [
       "                        count    mean       std   min     25%    50%     75%  \\\n",
       "Soya                                                                           \n",
       "1 Soya Meal Per Week     20.0  4.6060  4.672586  0.33  1.3400  2.595  7.1250   \n",
       "4 Soyal Meals Per Week   20.0  4.1105  4.410078  0.40  1.3400  2.945  4.7075   \n",
       "7 Soya Meals Per Week    20.0  1.6535  1.108989  0.31  0.7850  1.335  2.7125   \n",
       "No Soya Meals            20.0  4.9870  5.084488  0.35  1.4375  3.095  7.6300   \n",
       "\n",
       "                          max  \n",
       "Soya                           \n",
       "1 Soya Meal Per Week    18.47  \n",
       "4 Soyal Meals Per Week  18.21  \n",
       "7 Soya Meals Per Week    4.11  \n",
       "No Soya Meals           21.08  "
      ]
     },
     "execution_count": 4,
     "metadata": {},
     "output_type": "execute_result"
    }
   ],
   "source": [
    "data.groupby('Soya')['Sperm'].describe()"
   ]
  },
  {
   "cell_type": "code",
   "execution_count": 5,
   "metadata": {},
   "outputs": [
    {
     "data": {
      "image/png": "[encoded data removed]",
      "text/plain": [
       "<Figure size 432x288 with 1 Axes>"
      ]
     },
     "metadata": {
      "needs_background": "light"
     },
     "output_type": "display_data"
    }
   ],
   "source": [
    "_ = sns.boxplot(x='Soya', y='Sperm', data=data)"
   ]
  },
  {
   "cell_type": "code",
   "execution_count": 21,
   "metadata": {},
   "outputs": [],
   "source": [
    "data_0 = data[data['Soya']=='No Soya Meals']\n",
    "data_1 = data[data['Soya']=='1 Soya Meal Per Week']\n",
    "data_4 = data[data['Soya']=='4 Soyal Meals Per Week']\n",
    "data_7 = data[data['Soya']=='7 Soya Meals Per Week']"
   ]
  },
  {
   "cell_type": "code",
   "execution_count": 22,
   "metadata": {},
   "outputs": [
    {
     "name": "stdout",
     "output_type": "stream",
     "text": [
      "2.8605966363770716 0.04236514183199408\n"
     ]
    }
   ],
   "source": [
    "stat, p = st.levene(data_0['Sperm'], data_1['Sperm'], data_4['Sperm'], data_7['Sperm'])\n",
    "print(stat, p)"
   ]
  },
  {
   "cell_type": "markdown",
   "metadata": {},
   "source": [
    "#### # Assumption of homogeneity of variances is violated. Clear from boxplots and levene tests.\n"
   ]
  },
  {
   "cell_type": "code",
   "execution_count": 23,
   "metadata": {},
   "outputs": [
    {
     "data": {
      "text/plain": [
       "(0.7485488057136536, 2.173252688919547e-10)"
      ]
     },
     "execution_count": 23,
     "metadata": {},
     "output_type": "execute_result"
    }
   ],
   "source": [
    "st.shapiro(data['Sperm'])"
   ]
  },
  {
   "cell_type": "code",
   "execution_count": 24,
   "metadata": {},
   "outputs": [
    {
     "data": {
      "image/png": "[encoded data removed]",
      "text/plain": [
       "<Figure size 360x288 with 1 Axes>"
      ]
     },
     "metadata": {
      "needs_background": "light"
     },
     "output_type": "display_data"
    }
   ],
   "source": [
    "_ = pg.qqplot(data['Sperm'], confidence=False)"
   ]
  },
  {
   "cell_type": "markdown",
   "metadata": {},
   "source": [
    "#### # normality assumption is also violated."
   ]
  },
  {
   "cell_type": "markdown",
   "metadata": {},
   "source": [
    "## Doing Normal Anova"
   ]
  },
  {
   "cell_type": "code",
   "execution_count": 25,
   "metadata": {},
   "outputs": [
    {
     "data": {
      "text/html": [
       "<table class=\"simpletable\">\n",
       "<caption>OLS Regression Results</caption>\n",
       "<tr>\n",
       "  <th>Dep. Variable:</th>          <td>Sperm</td>      <th>  R-squared:         </th> <td>   0.094</td>\n",
       "</tr>\n",
       "<tr>\n",
       "  <th>Model:</th>                   <td>OLS</td>       <th>  Adj. R-squared:    </th> <td>   0.058</td>\n",
       "</tr>\n",
       "<tr>\n",
       "  <th>Method:</th>             <td>Least Squares</td>  <th>  F-statistic:       </th> <td>   2.635</td>\n",
       "</tr>\n",
       "<tr>\n",
       "  <th>Date:</th>             <td>Wed, 28 Oct 2020</td> <th>  Prob (F-statistic):</th>  <td>0.0558</td> \n",
       "</tr>\n",
       "<tr>\n",
       "  <th>Time:</th>                 <td>13:52:57</td>     <th>  Log-Likelihood:    </th> <td> -225.01</td>\n",
       "</tr>\n",
       "<tr>\n",
       "  <th>No. Observations:</th>      <td>    80</td>      <th>  AIC:               </th> <td>   458.0</td>\n",
       "</tr>\n",
       "<tr>\n",
       "  <th>Df Residuals:</th>          <td>    76</td>      <th>  BIC:               </th> <td>   467.5</td>\n",
       "</tr>\n",
       "<tr>\n",
       "  <th>Df Model:</th>              <td>     3</td>      <th>                     </th>     <td> </td>   \n",
       "</tr>\n",
       "<tr>\n",
       "  <th>Covariance Type:</th>      <td>nonrobust</td>    <th>                     </th>     <td> </td>   \n",
       "</tr>\n",
       "</table>\n",
       "<table class=\"simpletable\">\n",
       "<tr>\n",
       "                  <td></td>                     <th>coef</th>     <th>std err</th>      <th>t</th>      <th>P>|t|</th>  <th>[0.025</th>    <th>0.975]</th>  \n",
       "</tr>\n",
       "<tr>\n",
       "  <th>Intercept</th>                         <td>    4.6060</td> <td>    0.924</td> <td>    4.983</td> <td> 0.000</td> <td>    2.765</td> <td>    6.447</td>\n",
       "</tr>\n",
       "<tr>\n",
       "  <th>C(Soya)[T.4 Soyal Meals Per Week]</th> <td>   -0.4955</td> <td>    1.307</td> <td>   -0.379</td> <td> 0.706</td> <td>   -3.099</td> <td>    2.108</td>\n",
       "</tr>\n",
       "<tr>\n",
       "  <th>C(Soya)[T.7 Soya Meals Per Week]</th>  <td>   -2.9525</td> <td>    1.307</td> <td>   -2.258</td> <td> 0.027</td> <td>   -5.556</td> <td>   -0.349</td>\n",
       "</tr>\n",
       "<tr>\n",
       "  <th>C(Soya)[T.No Soya Meals]</th>          <td>    0.3810</td> <td>    1.307</td> <td>    0.291</td> <td> 0.772</td> <td>   -2.223</td> <td>    2.985</td>\n",
       "</tr>\n",
       "</table>\n",
       "<table class=\"simpletable\">\n",
       "<tr>\n",
       "  <th>Omnibus:</th>       <td>43.835</td> <th>  Durbin-Watson:     </th> <td>   0.948</td>\n",
       "</tr>\n",
       "<tr>\n",
       "  <th>Prob(Omnibus):</th> <td> 0.000</td> <th>  Jarque-Bera (JB):  </th> <td> 114.530</td>\n",
       "</tr>\n",
       "<tr>\n",
       "  <th>Skew:</th>          <td> 1.904</td> <th>  Prob(JB):          </th> <td>1.35e-25</td>\n",
       "</tr>\n",
       "<tr>\n",
       "  <th>Kurtosis:</th>      <td> 7.457</td> <th>  Cond. No.          </th> <td>    4.79</td>\n",
       "</tr>\n",
       "</table><br/><br/>Notes:<br/>[1] Standard Errors assume that the covariance matrix of the errors is correctly specified."
      ],
      "text/plain": [
       "<class 'statsmodels.iolib.summary.Summary'>\n",
       "\"\"\"\n",
       "                            OLS Regression Results                            \n",
       "==============================================================================\n",
       "Dep. Variable:                  Sperm   R-squared:                       0.094\n",
       "Model:                            OLS   Adj. R-squared:                  0.058\n",
       "Method:                 Least Squares   F-statistic:                     2.635\n",
       "Date:                Wed, 28 Oct 2020   Prob (F-statistic):             0.0558\n",
       "Time:                        13:52:57   Log-Likelihood:                -225.01\n",
       "No. Observations:                  80   AIC:                             458.0\n",
       "Df Residuals:                      76   BIC:                             467.5\n",
       "Df Model:                           3                                         \n",
       "Covariance Type:            nonrobust                                         \n",
       "=====================================================================================================\n",
       "                                        coef    std err          t      P>|t|      [0.025      0.975]\n",
       "-----------------------------------------------------------------------------------------------------\n",
       "Intercept                             4.6060      0.924      4.983      0.000       2.765       6.447\n",
       "C(Soya)[T.4 Soyal Meals Per Week]    -0.4955      1.307     -0.379      0.706      -3.099       2.108\n",
       "C(Soya)[T.7 Soya Meals Per Week]     -2.9525      1.307     -2.258      0.027      -5.556      -0.349\n",
       "C(Soya)[T.No Soya Meals]              0.3810      1.307      0.291      0.772      -2.223       2.985\n",
       "==============================================================================\n",
       "Omnibus:                       43.835   Durbin-Watson:                   0.948\n",
       "Prob(Omnibus):                  0.000   Jarque-Bera (JB):              114.530\n",
       "Skew:                           1.904   Prob(JB):                     1.35e-25\n",
       "Kurtosis:                       7.457   Cond. No.                         4.79\n",
       "==============================================================================\n",
       "\n",
       "Notes:\n",
       "[1] Standard Errors assume that the covariance matrix of the errors is correctly specified.\n",
       "\"\"\""
      ]
     },
     "execution_count": 25,
     "metadata": {},
     "output_type": "execute_result"
    }
   ],
   "source": [
    "m01 = ols('Sperm~C(Soya)', data=data).fit()\n",
    "m01.summary()"
   ]
  },
  {
   "cell_type": "markdown",
   "metadata": {},
   "source": [
    "### When doing normal anova it seems that the test is not significant at p=0.05\n",
    "\n",
    "#### # The main ANOVA summary table shows us that because the observed significance value is greater than .05 we can say that there was no significant effect of soya intake on men’s sperm count. This is strange  coz , the Kruskal–Wallis test produced a significant result! The reason for this difference is that the data violate the assumptions of normality and homogeneity of variance. As I mention in non-parametric tests chapter, although parametric tests have more power to detect effects when their assumptions are met, when their assumptions are violated non-parametric tests have more power! This example was arranged to prove this point: because the parametric assumptions are violated, the non-parametric tests produced a significant result and the parametric test did not because, in these circumstances, the non-parametric test has the greater power!"
   ]
  },
  {
   "cell_type": "markdown",
   "metadata": {},
   "source": [
    "### Doing welch-f test\n"
   ]
  },
  {
   "cell_type": "code",
   "execution_count": 26,
   "metadata": {},
   "outputs": [
    {
     "data": {
      "text/html": [
       "<div>\n",
       "<style scoped>\n",
       "    .dataframe tbody tr th:only-of-type {\n",
       "        vertical-align: middle;\n",
       "    }\n",
       "\n",
       "    .dataframe tbody tr th {\n",
       "        vertical-align: top;\n",
       "    }\n",
       "\n",
       "    .dataframe thead th {\n",
       "        text-align: right;\n",
       "    }\n",
       "</style>\n",
       "<table border=\"1\" class=\"dataframe\">\n",
       "  <thead>\n",
       "    <tr style=\"text-align: right;\">\n",
       "      <th></th>\n",
       "      <th>Source</th>\n",
       "      <th>ddof1</th>\n",
       "      <th>ddof2</th>\n",
       "      <th>F</th>\n",
       "      <th>p-unc</th>\n",
       "      <th>np2</th>\n",
       "    </tr>\n",
       "  </thead>\n",
       "  <tbody>\n",
       "    <tr>\n",
       "      <th>0</th>\n",
       "      <td>Soya</td>\n",
       "      <td>3</td>\n",
       "      <td>34.658552</td>\n",
       "      <td>6.283693</td>\n",
       "      <td>0.001608</td>\n",
       "      <td>0.094228</td>\n",
       "    </tr>\n",
       "  </tbody>\n",
       "</table>\n",
       "</div>"
      ],
      "text/plain": [
       "  Source  ddof1      ddof2         F     p-unc       np2\n",
       "0   Soya      3  34.658552  6.283693  0.001608  0.094228"
      ]
     },
     "execution_count": 26,
     "metadata": {},
     "output_type": "execute_result"
    }
   ],
   "source": [
    "aov = pg.welch_anova(dv='Sperm', between='Soya', data=data)\n",
    "aov"
   ]
  },
  {
   "cell_type": "markdown",
   "metadata": {},
   "source": [
    "#### # This output shows Welch’sF; note that the Welch test agrees with the non-parametric test in that the significance of F is below the .05 threshold. However, in these circumstances, because normality and homogeneity of variance have been violated we’d use a non-parametric test anyway!"
   ]
  },
  {
   "cell_type": "markdown",
   "metadata": {},
   "source": [
    "### Doing Robust anova , Kruskal-wallis"
   ]
  },
  {
   "cell_type": "code",
   "execution_count": 28,
   "metadata": {},
   "outputs": [
    {
     "data": {
      "text/plain": [
       "KruskalResult(statistic=8.658888888888868, pvalue=0.0341873601936127)"
      ]
     },
     "execution_count": 28,
     "metadata": {},
     "output_type": "execute_result"
    }
   ],
   "source": [
    "st.kruskal(data_0['Sperm'], data_1['Sperm'], data_4['Sperm'], data_7['Sperm'])"
   ]
  },
  {
   "cell_type": "markdown",
   "metadata": {},
   "source": [
    "### # It is significant when we do Robust anova. although parametric tests have more power to detect effects when their assumptions are met, when their assumptions are violated non-parametric tests have more power!"
   ]
  },
  {
   "cell_type": "code",
   "execution_count": null,
   "metadata": {},
   "outputs": [],
   "source": []
  }
 ],
 "metadata": {
  "kernelspec": {
   "display_name": "Python 3",
   "language": "python",
   "name": "python3"
  },
  "language_info": {
   "codemirror_mode": {
    "name": "ipython",
    "version": 3
   },
   "file_extension": ".py",
   "mimetype": "text/x-python",
   "name": "python",
   "nbconvert_exporter": "python",
   "pygments_lexer": "ipython3",
   "version": "3.8.5"
  }
 },
 "nbformat": 4,
 "nbformat_minor": 4
}

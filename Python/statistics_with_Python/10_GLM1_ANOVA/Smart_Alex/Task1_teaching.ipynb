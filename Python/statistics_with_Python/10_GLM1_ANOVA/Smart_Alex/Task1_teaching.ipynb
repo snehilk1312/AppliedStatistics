{
 "cells": [
  {
   "cell_type": "code",
   "execution_count": 1,
   "metadata": {},
   "outputs": [],
   "source": [
    "import numpy as np\n",
    "import pandas as pd\n",
    "import matplotlib.pyplot as plt\n",
    "import seaborn as sns\n",
    "import scipy.stats as st\n",
    "import pingouin as pg"
   ]
  },
  {
   "cell_type": "code",
   "execution_count": 2,
   "metadata": {},
   "outputs": [],
   "source": [
    "import statsmodels.api as sm\n",
    "from statsmodels.formula.api import ols\n",
    "import statsmodels.stats.outliers_influence as sms\n",
    "from statsmodels.tools.tools import add_constant"
   ]
  },
  {
   "cell_type": "code",
   "execution_count": 3,
   "metadata": {},
   "outputs": [],
   "source": [
    "from patsy.contrasts import ContrastMatrix\n",
    "from patsy.contrasts import Poly\n",
    "%matplotlib inline"
   ]
  },
  {
   "cell_type": "code",
   "execution_count": 6,
   "metadata": {},
   "outputs": [
    {
     "data": {
      "text/html": [
       "<div>\n",
       "<style scoped>\n",
       "    .dataframe tbody tr th:only-of-type {\n",
       "        vertical-align: middle;\n",
       "    }\n",
       "\n",
       "    .dataframe tbody tr th {\n",
       "        vertical-align: top;\n",
       "    }\n",
       "\n",
       "    .dataframe thead th {\n",
       "        text-align: right;\n",
       "    }\n",
       "</style>\n",
       "<table border=\"1\" class=\"dataframe\">\n",
       "  <thead>\n",
       "    <tr style=\"text-align: right;\">\n",
       "      <th></th>\n",
       "      <th>group</th>\n",
       "      <th>exam</th>\n",
       "    </tr>\n",
       "  </thead>\n",
       "  <tbody>\n",
       "    <tr>\n",
       "      <th>0</th>\n",
       "      <td>1</td>\n",
       "      <td>50</td>\n",
       "    </tr>\n",
       "    <tr>\n",
       "      <th>1</th>\n",
       "      <td>1</td>\n",
       "      <td>45</td>\n",
       "    </tr>\n",
       "    <tr>\n",
       "      <th>2</th>\n",
       "      <td>1</td>\n",
       "      <td>48</td>\n",
       "    </tr>\n",
       "    <tr>\n",
       "      <th>3</th>\n",
       "      <td>1</td>\n",
       "      <td>47</td>\n",
       "    </tr>\n",
       "    <tr>\n",
       "      <th>4</th>\n",
       "      <td>1</td>\n",
       "      <td>45</td>\n",
       "    </tr>\n",
       "  </tbody>\n",
       "</table>\n",
       "</div>"
      ],
      "text/plain": [
       "   group  exam\n",
       "0      1    50\n",
       "1      1    45\n",
       "2      1    48\n",
       "3      1    47\n",
       "4      1    45"
      ]
     },
     "execution_count": 6,
     "metadata": {},
     "output_type": "execute_result"
    }
   ],
   "source": [
    "data = pd.read_csv('../Data_Files/Teach.dat', sep='\\t')\n",
    "data.head()"
   ]
  },
  {
   "cell_type": "code",
   "execution_count": 7,
   "metadata": {},
   "outputs": [
    {
     "data": {
      "text/html": [
       "<table class=\"simpletable\">\n",
       "<caption>OLS Regression Results</caption>\n",
       "<tr>\n",
       "  <th>Dep. Variable:</th>          <td>exam</td>       <th>  R-squared:         </th> <td>   0.609</td>\n",
       "</tr>\n",
       "<tr>\n",
       "  <th>Model:</th>                   <td>OLS</td>       <th>  Adj. R-squared:    </th> <td>   0.580</td>\n",
       "</tr>\n",
       "<tr>\n",
       "  <th>Method:</th>             <td>Least Squares</td>  <th>  F-statistic:       </th> <td>   21.01</td>\n",
       "</tr>\n",
       "<tr>\n",
       "  <th>Date:</th>             <td>Wed, 28 Oct 2020</td> <th>  Prob (F-statistic):</th> <td>3.15e-06</td>\n",
       "</tr>\n",
       "<tr>\n",
       "  <th>Time:</th>                 <td>13:16:30</td>     <th>  Log-Likelihood:    </th> <td> -91.332</td>\n",
       "</tr>\n",
       "<tr>\n",
       "  <th>No. Observations:</th>      <td>    30</td>      <th>  AIC:               </th> <td>   188.7</td>\n",
       "</tr>\n",
       "<tr>\n",
       "  <th>Df Residuals:</th>          <td>    27</td>      <th>  BIC:               </th> <td>   192.9</td>\n",
       "</tr>\n",
       "<tr>\n",
       "  <th>Df Model:</th>              <td>     2</td>      <th>                     </th>     <td> </td>   \n",
       "</tr>\n",
       "<tr>\n",
       "  <th>Covariance Type:</th>      <td>nonrobust</td>    <th>                     </th>     <td> </td>   \n",
       "</tr>\n",
       "</table>\n",
       "<table class=\"simpletable\">\n",
       "<tr>\n",
       "        <td></td>           <th>coef</th>     <th>std err</th>      <th>t</th>      <th>P>|t|</th>  <th>[0.025</th>    <th>0.975]</th>  \n",
       "</tr>\n",
       "<tr>\n",
       "  <th>Intercept</th>     <td>   50.0000</td> <td>    1.694</td> <td>   29.524</td> <td> 0.000</td> <td>   46.525</td> <td>   53.475</td>\n",
       "</tr>\n",
       "<tr>\n",
       "  <th>C(group)[T.2]</th> <td>    6.0000</td> <td>    2.395</td> <td>    2.505</td> <td> 0.019</td> <td>    1.086</td> <td>   10.914</td>\n",
       "</tr>\n",
       "<tr>\n",
       "  <th>C(group)[T.3]</th> <td>   15.4000</td> <td>    2.395</td> <td>    6.430</td> <td> 0.000</td> <td>   10.486</td> <td>   20.314</td>\n",
       "</tr>\n",
       "</table>\n",
       "<table class=\"simpletable\">\n",
       "<tr>\n",
       "  <th>Omnibus:</th>       <td> 0.671</td> <th>  Durbin-Watson:     </th> <td>   2.033</td>\n",
       "</tr>\n",
       "<tr>\n",
       "  <th>Prob(Omnibus):</th> <td> 0.715</td> <th>  Jarque-Bera (JB):  </th> <td>   0.746</td>\n",
       "</tr>\n",
       "<tr>\n",
       "  <th>Skew:</th>          <td> 0.218</td> <th>  Prob(JB):          </th> <td>   0.689</td>\n",
       "</tr>\n",
       "<tr>\n",
       "  <th>Kurtosis:</th>      <td> 2.363</td> <th>  Cond. No.          </th> <td>    3.73</td>\n",
       "</tr>\n",
       "</table><br/><br/>Notes:<br/>[1] Standard Errors assume that the covariance matrix of the errors is correctly specified."
      ],
      "text/plain": [
       "<class 'statsmodels.iolib.summary.Summary'>\n",
       "\"\"\"\n",
       "                            OLS Regression Results                            \n",
       "==============================================================================\n",
       "Dep. Variable:                   exam   R-squared:                       0.609\n",
       "Model:                            OLS   Adj. R-squared:                  0.580\n",
       "Method:                 Least Squares   F-statistic:                     21.01\n",
       "Date:                Wed, 28 Oct 2020   Prob (F-statistic):           3.15e-06\n",
       "Time:                        13:16:30   Log-Likelihood:                -91.332\n",
       "No. Observations:                  30   AIC:                             188.7\n",
       "Df Residuals:                      27   BIC:                             192.9\n",
       "Df Model:                           2                                         \n",
       "Covariance Type:            nonrobust                                         \n",
       "=================================================================================\n",
       "                    coef    std err          t      P>|t|      [0.025      0.975]\n",
       "---------------------------------------------------------------------------------\n",
       "Intercept        50.0000      1.694     29.524      0.000      46.525      53.475\n",
       "C(group)[T.2]     6.0000      2.395      2.505      0.019       1.086      10.914\n",
       "C(group)[T.3]    15.4000      2.395      6.430      0.000      10.486      20.314\n",
       "==============================================================================\n",
       "Omnibus:                        0.671   Durbin-Watson:                   2.033\n",
       "Prob(Omnibus):                  0.715   Jarque-Bera (JB):                0.746\n",
       "Skew:                           0.218   Prob(JB):                        0.689\n",
       "Kurtosis:                       2.363   Cond. No.                         3.73\n",
       "==============================================================================\n",
       "\n",
       "Notes:\n",
       "[1] Standard Errors assume that the covariance matrix of the errors is correctly specified.\n",
       "\"\"\""
      ]
     },
     "execution_count": 7,
     "metadata": {},
     "output_type": "execute_result"
    }
   ],
   "source": [
    "m01 = ols('exam~C(group)', data=data).fit()\n",
    "m01.summary()"
   ]
  },
  {
   "cell_type": "markdown",
   "metadata": {},
   "source": [
    "### Checking various assumptions before doing Anova"
   ]
  },
  {
   "cell_type": "code",
   "execution_count": 8,
   "metadata": {},
   "outputs": [],
   "source": [
    "data_1 = data[data['group']==1]\n",
    "data_2 = data[data['group']==2]\n",
    "data_3 = data[data['group']==3]"
   ]
  },
  {
   "cell_type": "code",
   "execution_count": 9,
   "metadata": {},
   "outputs": [
    {
     "name": "stdout",
     "output_type": "stream",
     "text": [
      "1.734265734265734 0.1956209045688294\n"
     ]
    }
   ],
   "source": [
    "stat, p = st.levene(data_1['exam'], data_2['exam'], data_3['exam'])\n",
    "print(stat, p)"
   ]
  },
  {
   "cell_type": "code",
   "execution_count": 10,
   "metadata": {},
   "outputs": [
    {
     "data": {
      "image/png": "[encoded data removed]",
      "text/plain": [
       "<Figure size 432x288 with 1 Axes>"
      ]
     },
     "metadata": {
      "needs_background": "light"
     },
     "output_type": "display_data"
    }
   ],
   "source": [
    "_ = sns.boxplot(x='group', y='exam', data=data)"
   ]
  },
  {
   "cell_type": "code",
   "execution_count": 11,
   "metadata": {},
   "outputs": [
    {
     "data": {
      "image/png": "[encoded data removed]",
      "text/plain": [
       "<Figure size 432x288 with 1 Axes>"
      ]
     },
     "metadata": {
      "needs_background": "light"
     },
     "output_type": "display_data"
    }
   ],
   "source": [
    "_ = sns.lineplot(x='group', y='exam',data=data, err_style='bars')"
   ]
  },
  {
   "cell_type": "code",
   "execution_count": 13,
   "metadata": {},
   "outputs": [
    {
     "data": {
      "text/html": [
       "<div>\n",
       "<style scoped>\n",
       "    .dataframe tbody tr th:only-of-type {\n",
       "        vertical-align: middle;\n",
       "    }\n",
       "\n",
       "    .dataframe tbody tr th {\n",
       "        vertical-align: top;\n",
       "    }\n",
       "\n",
       "    .dataframe thead th {\n",
       "        text-align: right;\n",
       "    }\n",
       "</style>\n",
       "<table border=\"1\" class=\"dataframe\">\n",
       "  <thead>\n",
       "    <tr style=\"text-align: right;\">\n",
       "      <th></th>\n",
       "      <th>df</th>\n",
       "      <th>sum_sq</th>\n",
       "      <th>mean_sq</th>\n",
       "      <th>F</th>\n",
       "      <th>PR(&gt;F)</th>\n",
       "    </tr>\n",
       "  </thead>\n",
       "  <tbody>\n",
       "    <tr>\n",
       "      <th>C(group)</th>\n",
       "      <td>2.0</td>\n",
       "      <td>1205.066667</td>\n",
       "      <td>602.533333</td>\n",
       "      <td>21.007748</td>\n",
       "      <td>0.000003</td>\n",
       "    </tr>\n",
       "    <tr>\n",
       "      <th>Residual</th>\n",
       "      <td>27.0</td>\n",
       "      <td>774.400000</td>\n",
       "      <td>28.681481</td>\n",
       "      <td>NaN</td>\n",
       "      <td>NaN</td>\n",
       "    </tr>\n",
       "  </tbody>\n",
       "</table>\n",
       "</div>"
      ],
      "text/plain": [
       "            df       sum_sq     mean_sq          F    PR(>F)\n",
       "C(group)   2.0  1205.066667  602.533333  21.007748  0.000003\n",
       "Residual  27.0   774.400000   28.681481        NaN       NaN"
      ]
     },
     "execution_count": 13,
     "metadata": {},
     "output_type": "execute_result"
    }
   ],
   "source": [
    "anova_table = sm.stats.anova_lm(m01)\n",
    "anova_table"
   ]
  },
  {
   "cell_type": "code",
   "execution_count": 14,
   "metadata": {},
   "outputs": [
    {
     "data": {
      "text/html": [
       "<div>\n",
       "<style scoped>\n",
       "    .dataframe tbody tr th:only-of-type {\n",
       "        vertical-align: middle;\n",
       "    }\n",
       "\n",
       "    .dataframe tbody tr th {\n",
       "        vertical-align: top;\n",
       "    }\n",
       "\n",
       "    .dataframe thead th {\n",
       "        text-align: right;\n",
       "    }\n",
       "</style>\n",
       "<table border=\"1\" class=\"dataframe\">\n",
       "  <thead>\n",
       "    <tr style=\"text-align: right;\">\n",
       "      <th></th>\n",
       "      <th>predicted</th>\n",
       "      <th>standarized_prediction</th>\n",
       "    </tr>\n",
       "  </thead>\n",
       "  <tbody>\n",
       "    <tr>\n",
       "      <th>0</th>\n",
       "      <td>50.0</td>\n",
       "      <td>-1.106588</td>\n",
       "    </tr>\n",
       "    <tr>\n",
       "      <th>1</th>\n",
       "      <td>50.0</td>\n",
       "      <td>-1.106588</td>\n",
       "    </tr>\n",
       "    <tr>\n",
       "      <th>2</th>\n",
       "      <td>50.0</td>\n",
       "      <td>-1.106588</td>\n",
       "    </tr>\n",
       "    <tr>\n",
       "      <th>3</th>\n",
       "      <td>50.0</td>\n",
       "      <td>-1.106588</td>\n",
       "    </tr>\n",
       "    <tr>\n",
       "      <th>4</th>\n",
       "      <td>50.0</td>\n",
       "      <td>-1.106588</td>\n",
       "    </tr>\n",
       "  </tbody>\n",
       "</table>\n",
       "</div>"
      ],
      "text/plain": [
       "   predicted  standarized_prediction\n",
       "0       50.0               -1.106588\n",
       "1       50.0               -1.106588\n",
       "2       50.0               -1.106588\n",
       "3       50.0               -1.106588\n",
       "4       50.0               -1.106588"
      ]
     },
     "execution_count": 14,
     "metadata": {},
     "output_type": "execute_result"
    }
   ],
   "source": [
    "prediction = pd.DataFrame(m01.fittedvalues)\n",
    "prediction.columns = ['predicted'] \n",
    "prediction['standarized_prediction']  = (prediction['predicted']-prediction['predicted'].mean())/prediction['predicted'].std()\n",
    "prediction.head()"
   ]
  },
  {
   "cell_type": "code",
   "execution_count": 15,
   "metadata": {},
   "outputs": [
    {
     "data": {
      "text/html": [
       "<div>\n",
       "<style scoped>\n",
       "    .dataframe tbody tr th:only-of-type {\n",
       "        vertical-align: middle;\n",
       "    }\n",
       "\n",
       "    .dataframe tbody tr th {\n",
       "        vertical-align: top;\n",
       "    }\n",
       "\n",
       "    .dataframe thead th {\n",
       "        text-align: right;\n",
       "    }\n",
       "</style>\n",
       "<table border=\"1\" class=\"dataframe\">\n",
       "  <thead>\n",
       "    <tr style=\"text-align: right;\">\n",
       "      <th></th>\n",
       "      <th>dfb_Intercept</th>\n",
       "      <th>dfb_C(group)[T.2]</th>\n",
       "      <th>dfb_C(group)[T.3]</th>\n",
       "      <th>cooks_d</th>\n",
       "      <th>standard_resid</th>\n",
       "      <th>hat_diag</th>\n",
       "      <th>dffits_internal</th>\n",
       "      <th>student_resid</th>\n",
       "      <th>dffits</th>\n",
       "      <th>predicted</th>\n",
       "      <th>standarized_prediction</th>\n",
       "    </tr>\n",
       "  </thead>\n",
       "  <tbody>\n",
       "    <tr>\n",
       "      <th>0</th>\n",
       "      <td>1.235138e-14</td>\n",
       "      <td>-1.455624e-15</td>\n",
       "      <td>-7.278120e-16</td>\n",
       "      <td>2.897561e-31</td>\n",
       "      <td>-2.797037e-15</td>\n",
       "      <td>0.1</td>\n",
       "      <td>-9.323455e-16</td>\n",
       "      <td>-2.744751e-15</td>\n",
       "      <td>-9.149170e-16</td>\n",
       "      <td>50.0</td>\n",
       "      <td>-1.106588</td>\n",
       "    </tr>\n",
       "    <tr>\n",
       "      <th>1</th>\n",
       "      <td>-3.278413e-01</td>\n",
       "      <td>2.318188e-01</td>\n",
       "      <td>2.318188e-01</td>\n",
       "      <td>3.587006e-02</td>\n",
       "      <td>-9.841198e-01</td>\n",
       "      <td>0.1</td>\n",
       "      <td>-3.280399e-01</td>\n",
       "      <td>-9.835240e-01</td>\n",
       "      <td>-3.278413e-01</td>\n",
       "      <td>50.0</td>\n",
       "      <td>-1.106588</td>\n",
       "    </tr>\n",
       "    <tr>\n",
       "      <th>2</th>\n",
       "      <td>-1.291342e-01</td>\n",
       "      <td>9.131168e-02</td>\n",
       "      <td>9.131168e-02</td>\n",
       "      <td>5.739210e-03</td>\n",
       "      <td>-3.936479e-01</td>\n",
       "      <td>0.1</td>\n",
       "      <td>-1.312160e-01</td>\n",
       "      <td>-3.874026e-01</td>\n",
       "      <td>-1.291342e-01</td>\n",
       "      <td>50.0</td>\n",
       "      <td>-1.106588</td>\n",
       "    </tr>\n",
       "    <tr>\n",
       "      <th>3</th>\n",
       "      <td>-1.944039e-01</td>\n",
       "      <td>1.374643e-01</td>\n",
       "      <td>1.374643e-01</td>\n",
       "      <td>1.291322e-02</td>\n",
       "      <td>-5.904719e-01</td>\n",
       "      <td>0.1</td>\n",
       "      <td>-1.968240e-01</td>\n",
       "      <td>-5.832118e-01</td>\n",
       "      <td>-1.944039e-01</td>\n",
       "      <td>50.0</td>\n",
       "      <td>-1.106588</td>\n",
       "    </tr>\n",
       "    <tr>\n",
       "      <th>4</th>\n",
       "      <td>-3.278413e-01</td>\n",
       "      <td>2.318188e-01</td>\n",
       "      <td>2.318188e-01</td>\n",
       "      <td>3.587006e-02</td>\n",
       "      <td>-9.841198e-01</td>\n",
       "      <td>0.1</td>\n",
       "      <td>-3.280399e-01</td>\n",
       "      <td>-9.835240e-01</td>\n",
       "      <td>-3.278413e-01</td>\n",
       "      <td>50.0</td>\n",
       "      <td>-1.106588</td>\n",
       "    </tr>\n",
       "  </tbody>\n",
       "</table>\n",
       "</div>"
      ],
      "text/plain": [
       "   dfb_Intercept  dfb_C(group)[T.2]  dfb_C(group)[T.3]       cooks_d  \\\n",
       "0   1.235138e-14      -1.455624e-15      -7.278120e-16  2.897561e-31   \n",
       "1  -3.278413e-01       2.318188e-01       2.318188e-01  3.587006e-02   \n",
       "2  -1.291342e-01       9.131168e-02       9.131168e-02  5.739210e-03   \n",
       "3  -1.944039e-01       1.374643e-01       1.374643e-01  1.291322e-02   \n",
       "4  -3.278413e-01       2.318188e-01       2.318188e-01  3.587006e-02   \n",
       "\n",
       "   standard_resid  hat_diag  dffits_internal  student_resid        dffits  \\\n",
       "0   -2.797037e-15       0.1    -9.323455e-16  -2.744751e-15 -9.149170e-16   \n",
       "1   -9.841198e-01       0.1    -3.280399e-01  -9.835240e-01 -3.278413e-01   \n",
       "2   -3.936479e-01       0.1    -1.312160e-01  -3.874026e-01 -1.291342e-01   \n",
       "3   -5.904719e-01       0.1    -1.968240e-01  -5.832118e-01 -1.944039e-01   \n",
       "4   -9.841198e-01       0.1    -3.280399e-01  -9.835240e-01 -3.278413e-01   \n",
       "\n",
       "   predicted  standarized_prediction  \n",
       "0       50.0               -1.106588  \n",
       "1       50.0               -1.106588  \n",
       "2       50.0               -1.106588  \n",
       "3       50.0               -1.106588  \n",
       "4       50.0               -1.106588  "
      ]
     },
     "execution_count": 15,
     "metadata": {},
     "output_type": "execute_result"
    }
   ],
   "source": [
    "summary_frame = sms.OLSInfluence(m01).summary_frame()\n",
    "summary_frame = pd.merge(summary_frame, prediction, how = 'inner', left_index = True, right_index = True)\n",
    "summary_frame .head()"
   ]
  },
  {
   "cell_type": "code",
   "execution_count": 16,
   "metadata": {},
   "outputs": [
    {
     "data": {
      "image/png": "[encoded data removed]",
      "text/plain": [
       "<Figure size 432x288 with 1 Axes>"
      ]
     },
     "metadata": {
      "needs_background": "light"
     },
     "output_type": "display_data"
    }
   ],
   "source": [
    "_ = sns.scatterplot(x = 'standard_resid', y='standarized_prediction', data = summary_frame)\n",
    "_ = plt.axhline(y=0)"
   ]
  },
  {
   "cell_type": "code",
   "execution_count": 17,
   "metadata": {},
   "outputs": [
    {
     "data": {
      "text/plain": [
       "(0.9368069767951965, 0.07463926076889038)"
      ]
     },
     "execution_count": 17,
     "metadata": {},
     "output_type": "execute_result"
    }
   ],
   "source": [
    "st.shapiro(data['exam'])"
   ]
  },
  {
   "cell_type": "code",
   "execution_count": 18,
   "metadata": {},
   "outputs": [
    {
     "data": {
      "image/png": "[encoded data removed]",
      "text/plain": [
       "<Figure size 360x288 with 1 Axes>"
      ]
     },
     "metadata": {
      "needs_background": "light"
     },
     "output_type": "display_data"
    }
   ],
   "source": [
    "_ = pg.qqplot(summary_frame['standard_resid'], confidence=False)"
   ]
  },
  {
   "cell_type": "code",
   "execution_count": null,
   "metadata": {},
   "outputs": [],
   "source": []
  }
 ],
 "metadata": {
  "kernelspec": {
   "display_name": "Python 3",
   "language": "python",
   "name": "python3"
  },
  "language_info": {
   "codemirror_mode": {
    "name": "ipython",
    "version": 3
   },
   "file_extension": ".py",
   "mimetype": "text/x-python",
   "name": "python",
   "nbconvert_exporter": "python",
   "pygments_lexer": "ipython3",
   "version": "3.8.5"
  }
 },
 "nbformat": 4,
 "nbformat_minor": 4
}

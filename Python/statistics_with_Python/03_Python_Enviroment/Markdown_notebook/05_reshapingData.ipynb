{
 "cells": [
  {
   "cell_type": "code",
   "execution_count": 111,
   "metadata": {},
   "outputs": [],
   "source": [
    "import pandas as pd\n",
    "import numpy as np"
   ]
  },
  {
   "cell_type": "code",
   "execution_count": 112,
   "metadata": {},
   "outputs": [],
   "source": [
    "data = pd.read_csv('/home/atrides/Desktop/R/statistics_with_Python/03_Python_Enviroment/Data_Files/Honeymoon Period.dat', sep='\\s+')"
   ]
  },
  {
   "cell_type": "code",
   "execution_count": 114,
   "metadata": {},
   "outputs": [
    {
     "name": "stdout",
     "output_type": "stream",
     "text": [
      "   Person  Satisfaction_Base  Satisfaction_6_Months  Satisfaction_12_Months  \\\n",
      "0       1                  6                      6                       5   \n",
      "1       2                  7                      7                       8   \n",
      "2       3                  4                      6                       2   \n",
      "3       4                  6                      9                       4   \n",
      "4       5                  6                      7                       6   \n",
      "\n",
      "   Satisfaction_18_Months  Gender  \n",
      "0                     2.0     0.0  \n",
      "1                     4.0     1.0  \n",
      "2                     2.0     1.0  \n",
      "3                     1.0     0.0  \n",
      "4                     6.0     0.0  \n"
     ]
    }
   ],
   "source": [
    "print(data.head())"
   ]
  },
  {
   "cell_type": "code",
   "execution_count": 115,
   "metadata": {},
   "outputs": [
    {
     "name": "stdout",
     "output_type": "stream",
     "text": [
      "Index(['Person', 'Satisfaction_Base', 'Satisfaction_6_Months',\n",
      "       'Satisfaction_12_Months', 'Satisfaction_18_Months', 'Gender'],\n",
      "      dtype='object')\n"
     ]
    }
   ],
   "source": [
    "print(data.columns)"
   ]
  },
  {
   "cell_type": "markdown",
   "metadata": {},
   "source": [
    "## wide data to long data"
   ]
  },
  {
   "cell_type": "code",
   "execution_count": 116,
   "metadata": {},
   "outputs": [
    {
     "name": "stdout",
     "output_type": "stream",
     "text": [
      "   Person  Gender satisfaction_after_time  value\n",
      "0       1     0.0       Satisfaction_Base    6.0\n",
      "1       2     1.0       Satisfaction_Base    7.0\n",
      "2       3     1.0       Satisfaction_Base    4.0\n",
      "3       4     0.0       Satisfaction_Base    6.0\n",
      "4       5     0.0       Satisfaction_Base    6.0\n",
      "5       6     1.0       Satisfaction_Base    5.0\n",
      "6       7     0.0       Satisfaction_Base    6.0\n",
      "7       8     NaN       Satisfaction_Base    2.0\n",
      "8       9     0.0       Satisfaction_Base   10.0\n",
      "9      10     0.0       Satisfaction_Base   10.0\n"
     ]
    }
   ],
   "source": [
    "melted_df = pd.melt(data,id_vars=['Person','Gender'], value_vars=['Satisfaction_Base','Satisfaction_6_Months','Satisfaction_12_Months','Satisfaction_18_Months'], \n",
    "       var_name='satisfaction_after_time')\n",
    "print(melted_df.head(10))"
   ]
  },
  {
   "cell_type": "markdown",
   "metadata": {},
   "source": [
    "## long data to wide data"
   ]
  },
  {
   "cell_type": "code",
   "execution_count": 117,
   "metadata": {},
   "outputs": [],
   "source": [
    "unmelted_df = pd.pivot_table(melted_df, values='value', index=['Person'],\n",
    "\n",
    "                    columns=['satisfaction_after_time'], dropna=False)"
   ]
  },
  {
   "cell_type": "code",
   "execution_count": 118,
   "metadata": {},
   "outputs": [],
   "source": [
    "_ = melted_df[melted_df['satisfaction_after_time']=='Satisfaction_Base']['Gender']"
   ]
  },
  {
   "cell_type": "code",
   "execution_count": 119,
   "metadata": {},
   "outputs": [],
   "source": [
    "unmelted_df.columns = ['Satisfaction_Base','Satisfaction_6_Months', 'Satisfaction_12_Months','Satisfaction_18_Months']"
   ]
  },
  {
   "cell_type": "code",
   "execution_count": 120,
   "metadata": {},
   "outputs": [],
   "source": [
    "unmelted_df['Person'] = unmelted_df.index\n",
    "unmelted_df.reset_index(drop=True, inplace=True)"
   ]
  },
  {
   "cell_type": "code",
   "execution_count": 121,
   "metadata": {},
   "outputs": [],
   "source": [
    "unmelted_df['Gender'] = _"
   ]
  },
  {
   "cell_type": "code",
   "execution_count": 122,
   "metadata": {},
   "outputs": [
    {
     "name": "stdout",
     "output_type": "stream",
     "text": [
      "     Satisfaction_Base  Satisfaction_6_Months  Satisfaction_12_Months  \\\n",
      "0                  5.0                    2.0                     6.0   \n",
      "1                  8.0                    4.0                     7.0   \n",
      "2                  2.0                    2.0                     6.0   \n",
      "3                  4.0                    1.0                     9.0   \n",
      "4                  6.0                    6.0                     7.0   \n",
      "..                 ...                    ...                     ...   \n",
      "110                2.0                    1.0                     4.0   \n",
      "111                1.0                    7.0                     6.0   \n",
      "112                6.0                    7.0                     6.0   \n",
      "113                2.0                    1.0                    10.0   \n",
      "114                2.0                    1.0                     6.0   \n",
      "\n",
      "     Satisfaction_18_Months  Person  Gender  \n",
      "0                       6.0       1     0.0  \n",
      "1                       7.0       2     1.0  \n",
      "2                       4.0       3     1.0  \n",
      "3                       6.0       4     0.0  \n",
      "4                       6.0       5     0.0  \n",
      "..                      ...     ...     ...  \n",
      "110                     8.0     119     1.0  \n",
      "111                     3.0     120     1.0  \n",
      "112                     6.0     121     1.0  \n",
      "113                     5.0     122     NaN  \n",
      "114                     5.0     123     0.0  \n",
      "\n",
      "[115 rows x 6 columns]\n"
     ]
    }
   ],
   "source": [
    "# data converted from long to wide\n",
    "print(unmelted_df)"
   ]
  },
  {
   "cell_type": "code",
   "execution_count": null,
   "metadata": {},
   "outputs": [],
   "source": []
  },
  {
   "cell_type": "code",
   "execution_count": null,
   "metadata": {},
   "outputs": [],
   "source": []
  }
 ],
 "metadata": {
  "kernelspec": {
   "display_name": "Python 3",
   "language": "python",
   "name": "python3"
  },
  "language_info": {
   "codemirror_mode": {
    "name": "ipython",
    "version": 3
   },
   "file_extension": ".py",
   "mimetype": "text/x-python",
   "name": "python",
   "nbconvert_exporter": "python",
   "pygments_lexer": "ipython3",
   "version": "3.7.6"
  }
 },
 "nbformat": 4,
 "nbformat_minor": 4
}

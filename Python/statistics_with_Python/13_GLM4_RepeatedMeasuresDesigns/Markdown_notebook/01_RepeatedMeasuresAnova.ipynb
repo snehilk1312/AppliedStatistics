{
 "cells": [
  {
   "cell_type": "code",
   "execution_count": 1,
   "metadata": {},
   "outputs": [],
   "source": [
    "import pandas as pd\n",
    "import numpy as np\n",
    "import matplotlib.pyplot as plt\n",
    "import seaborn as sns\n",
    "import pingouin as pg\n",
    "import scipy.stats as st\n",
    "import statsmodels.api as sm\n",
    "import statsmodels.formula.api as smf\n",
    "%matplotlib inline"
   ]
  },
  {
   "cell_type": "code",
   "execution_count": 2,
   "metadata": {},
   "outputs": [
    {
     "data": {
      "text/html": [
       "<div>\n",
       "<style scoped>\n",
       "    .dataframe tbody tr th:only-of-type {\n",
       "        vertical-align: middle;\n",
       "    }\n",
       "\n",
       "    .dataframe tbody tr th {\n",
       "        vertical-align: top;\n",
       "    }\n",
       "\n",
       "    .dataframe thead th {\n",
       "        text-align: right;\n",
       "    }\n",
       "</style>\n",
       "<table border=\"1\" class=\"dataframe\">\n",
       "  <thead>\n",
       "    <tr style=\"text-align: right;\">\n",
       "      <th></th>\n",
       "      <th>participant</th>\n",
       "      <th>stick_insect</th>\n",
       "      <th>kangaroo_testicle</th>\n",
       "      <th>fish_eye</th>\n",
       "      <th>witchetty_grub</th>\n",
       "    </tr>\n",
       "  </thead>\n",
       "  <tbody>\n",
       "    <tr>\n",
       "      <th>0</th>\n",
       "      <td>P1</td>\n",
       "      <td>8</td>\n",
       "      <td>7</td>\n",
       "      <td>1</td>\n",
       "      <td>6</td>\n",
       "    </tr>\n",
       "    <tr>\n",
       "      <th>1</th>\n",
       "      <td>P2</td>\n",
       "      <td>9</td>\n",
       "      <td>5</td>\n",
       "      <td>2</td>\n",
       "      <td>5</td>\n",
       "    </tr>\n",
       "    <tr>\n",
       "      <th>2</th>\n",
       "      <td>P3</td>\n",
       "      <td>6</td>\n",
       "      <td>2</td>\n",
       "      <td>3</td>\n",
       "      <td>8</td>\n",
       "    </tr>\n",
       "    <tr>\n",
       "      <th>3</th>\n",
       "      <td>P4</td>\n",
       "      <td>5</td>\n",
       "      <td>3</td>\n",
       "      <td>1</td>\n",
       "      <td>9</td>\n",
       "    </tr>\n",
       "    <tr>\n",
       "      <th>4</th>\n",
       "      <td>P5</td>\n",
       "      <td>8</td>\n",
       "      <td>4</td>\n",
       "      <td>5</td>\n",
       "      <td>8</td>\n",
       "    </tr>\n",
       "    <tr>\n",
       "      <th>5</th>\n",
       "      <td>P6</td>\n",
       "      <td>7</td>\n",
       "      <td>5</td>\n",
       "      <td>6</td>\n",
       "      <td>7</td>\n",
       "    </tr>\n",
       "    <tr>\n",
       "      <th>6</th>\n",
       "      <td>P7</td>\n",
       "      <td>10</td>\n",
       "      <td>2</td>\n",
       "      <td>7</td>\n",
       "      <td>2</td>\n",
       "    </tr>\n",
       "    <tr>\n",
       "      <th>7</th>\n",
       "      <td>P8</td>\n",
       "      <td>12</td>\n",
       "      <td>6</td>\n",
       "      <td>8</td>\n",
       "      <td>1</td>\n",
       "    </tr>\n",
       "  </tbody>\n",
       "</table>\n",
       "</div>"
      ],
      "text/plain": [
       "  participant  stick_insect  kangaroo_testicle  fish_eye  witchetty_grub\n",
       "0          P1             8                  7         1               6\n",
       "1          P2             9                  5         2               5\n",
       "2          P3             6                  2         3               8\n",
       "3          P4             5                  3         1               9\n",
       "4          P5             8                  4         5               8\n",
       "5          P6             7                  5         6               7\n",
       "6          P7            10                  2         7               2\n",
       "7          P8            12                  6         8               1"
      ]
     },
     "execution_count": 2,
     "metadata": {},
     "output_type": "execute_result"
    }
   ],
   "source": [
    "df = pd.read_csv('../Data_Files/Bushtucker.dat',sep='\\t')\n",
    "df"
   ]
  },
  {
   "cell_type": "markdown",
   "metadata": {},
   "source": [
    "### Converting data from wide to Long format"
   ]
  },
  {
   "cell_type": "code",
   "execution_count": 3,
   "metadata": {},
   "outputs": [
    {
     "data": {
      "text/html": [
       "<div>\n",
       "<style scoped>\n",
       "    .dataframe tbody tr th:only-of-type {\n",
       "        vertical-align: middle;\n",
       "    }\n",
       "\n",
       "    .dataframe tbody tr th {\n",
       "        vertical-align: top;\n",
       "    }\n",
       "\n",
       "    .dataframe thead th {\n",
       "        text-align: right;\n",
       "    }\n",
       "</style>\n",
       "<table border=\"1\" class=\"dataframe\">\n",
       "  <thead>\n",
       "    <tr style=\"text-align: right;\">\n",
       "      <th></th>\n",
       "      <th>participant</th>\n",
       "      <th>variable</th>\n",
       "      <th>value</th>\n",
       "    </tr>\n",
       "  </thead>\n",
       "  <tbody>\n",
       "    <tr>\n",
       "      <th>0</th>\n",
       "      <td>P1</td>\n",
       "      <td>fish_eye</td>\n",
       "      <td>1</td>\n",
       "    </tr>\n",
       "    <tr>\n",
       "      <th>1</th>\n",
       "      <td>P1</td>\n",
       "      <td>kangaroo_testicle</td>\n",
       "      <td>7</td>\n",
       "    </tr>\n",
       "    <tr>\n",
       "      <th>2</th>\n",
       "      <td>P1</td>\n",
       "      <td>stick_insect</td>\n",
       "      <td>8</td>\n",
       "    </tr>\n",
       "    <tr>\n",
       "      <th>3</th>\n",
       "      <td>P1</td>\n",
       "      <td>witchetty_grub</td>\n",
       "      <td>6</td>\n",
       "    </tr>\n",
       "    <tr>\n",
       "      <th>4</th>\n",
       "      <td>P2</td>\n",
       "      <td>fish_eye</td>\n",
       "      <td>2</td>\n",
       "    </tr>\n",
       "    <tr>\n",
       "      <th>5</th>\n",
       "      <td>P2</td>\n",
       "      <td>kangaroo_testicle</td>\n",
       "      <td>5</td>\n",
       "    </tr>\n",
       "    <tr>\n",
       "      <th>6</th>\n",
       "      <td>P2</td>\n",
       "      <td>stick_insect</td>\n",
       "      <td>9</td>\n",
       "    </tr>\n",
       "    <tr>\n",
       "      <th>7</th>\n",
       "      <td>P2</td>\n",
       "      <td>witchetty_grub</td>\n",
       "      <td>5</td>\n",
       "    </tr>\n",
       "  </tbody>\n",
       "</table>\n",
       "</div>"
      ],
      "text/plain": [
       "  participant           variable  value\n",
       "0          P1           fish_eye      1\n",
       "1          P1  kangaroo_testicle      7\n",
       "2          P1       stick_insect      8\n",
       "3          P1     witchetty_grub      6\n",
       "4          P2           fish_eye      2\n",
       "5          P2  kangaroo_testicle      5\n",
       "6          P2       stick_insect      9\n",
       "7          P2     witchetty_grub      5"
      ]
     },
     "execution_count": 3,
     "metadata": {},
     "output_type": "execute_result"
    }
   ],
   "source": [
    "df_long = pd.melt(df, id_vars=['participant'], value_vars=['stick_insect','kangaroo_testicle','fish_eye','witchetty_grub'])\n",
    "df_long.sort_values(['participant','variable'],inplace=True)\n",
    "df_long.reset_index(drop=True, inplace=True)\n",
    "df_long.head(8)"
   ]
  },
  {
   "cell_type": "markdown",
   "metadata": {},
   "source": [
    "### Analyzing the Data"
   ]
  },
  {
   "cell_type": "code",
   "execution_count": 4,
   "metadata": {},
   "outputs": [
    {
     "data": {
      "image/png": "[encoded data removed]",
      "text/plain": [
       "<Figure size 432x288 with 1 Axes>"
      ]
     },
     "metadata": {
      "needs_background": "light"
     },
     "output_type": "display_data"
    }
   ],
   "source": [
    "_ = sns.barplot(x='variable', y='value',data=df_long)"
   ]
  },
  {
   "cell_type": "code",
   "execution_count": 5,
   "metadata": {},
   "outputs": [
    {
     "data": {
      "image/png": "[encoded data removed]",
      "text/plain": [
       "<Figure size 432x288 with 1 Axes>"
      ]
     },
     "metadata": {
      "needs_background": "light"
     },
     "output_type": "display_data"
    }
   ],
   "source": [
    "_ = sns.boxplot(x='variable', y='value',data=df_long)"
   ]
  },
  {
   "cell_type": "code",
   "execution_count": 6,
   "metadata": {},
   "outputs": [
    {
     "data": {
      "text/html": [
       "<div>\n",
       "<style scoped>\n",
       "    .dataframe tbody tr th:only-of-type {\n",
       "        vertical-align: middle;\n",
       "    }\n",
       "\n",
       "    .dataframe tbody tr th {\n",
       "        vertical-align: top;\n",
       "    }\n",
       "\n",
       "    .dataframe thead th {\n",
       "        text-align: right;\n",
       "    }\n",
       "</style>\n",
       "<table border=\"1\" class=\"dataframe\">\n",
       "  <thead>\n",
       "    <tr style=\"text-align: right;\">\n",
       "      <th></th>\n",
       "      <th>count</th>\n",
       "      <th>mean</th>\n",
       "      <th>std</th>\n",
       "      <th>min</th>\n",
       "      <th>25%</th>\n",
       "      <th>50%</th>\n",
       "      <th>75%</th>\n",
       "      <th>max</th>\n",
       "    </tr>\n",
       "    <tr>\n",
       "      <th>variable</th>\n",
       "      <th></th>\n",
       "      <th></th>\n",
       "      <th></th>\n",
       "      <th></th>\n",
       "      <th></th>\n",
       "      <th></th>\n",
       "      <th></th>\n",
       "      <th></th>\n",
       "    </tr>\n",
       "  </thead>\n",
       "  <tbody>\n",
       "    <tr>\n",
       "      <th>fish_eye</th>\n",
       "      <td>8.0</td>\n",
       "      <td>4.125</td>\n",
       "      <td>2.748376</td>\n",
       "      <td>1.0</td>\n",
       "      <td>1.75</td>\n",
       "      <td>4.0</td>\n",
       "      <td>6.25</td>\n",
       "      <td>8.0</td>\n",
       "    </tr>\n",
       "    <tr>\n",
       "      <th>kangaroo_testicle</th>\n",
       "      <td>8.0</td>\n",
       "      <td>4.250</td>\n",
       "      <td>1.832251</td>\n",
       "      <td>2.0</td>\n",
       "      <td>2.75</td>\n",
       "      <td>4.5</td>\n",
       "      <td>5.25</td>\n",
       "      <td>7.0</td>\n",
       "    </tr>\n",
       "    <tr>\n",
       "      <th>stick_insect</th>\n",
       "      <td>8.0</td>\n",
       "      <td>8.125</td>\n",
       "      <td>2.232071</td>\n",
       "      <td>5.0</td>\n",
       "      <td>6.75</td>\n",
       "      <td>8.0</td>\n",
       "      <td>9.25</td>\n",
       "      <td>12.0</td>\n",
       "    </tr>\n",
       "    <tr>\n",
       "      <th>witchetty_grub</th>\n",
       "      <td>8.0</td>\n",
       "      <td>5.750</td>\n",
       "      <td>2.915476</td>\n",
       "      <td>1.0</td>\n",
       "      <td>4.25</td>\n",
       "      <td>6.5</td>\n",
       "      <td>8.00</td>\n",
       "      <td>9.0</td>\n",
       "    </tr>\n",
       "  </tbody>\n",
       "</table>\n",
       "</div>"
      ],
      "text/plain": [
       "                   count   mean       std  min   25%  50%   75%   max\n",
       "variable                                                             \n",
       "fish_eye             8.0  4.125  2.748376  1.0  1.75  4.0  6.25   8.0\n",
       "kangaroo_testicle    8.0  4.250  1.832251  2.0  2.75  4.5  5.25   7.0\n",
       "stick_insect         8.0  8.125  2.232071  5.0  6.75  8.0  9.25  12.0\n",
       "witchetty_grub       8.0  5.750  2.915476  1.0  4.25  6.5  8.00   9.0"
      ]
     },
     "execution_count": 6,
     "metadata": {},
     "output_type": "execute_result"
    }
   ],
   "source": [
    "df_long.groupby('variable').describe()['value']"
   ]
  },
  {
   "cell_type": "markdown",
   "metadata": {},
   "source": [
    "## Repeating measure anova using python"
   ]
  },
  {
   "cell_type": "code",
   "execution_count": 7,
   "metadata": {},
   "outputs": [],
   "source": [
    "import statsmodels.stats.anova as sp"
   ]
  },
  {
   "cell_type": "code",
   "execution_count": 10,
   "metadata": {},
   "outputs": [
    {
     "data": {
      "text/html": [
       "<table class=\"simpletable\">\n",
       "<tr>\n",
       "      <td></td>     <th>F Value</th> <th>Num DF</th> <th>Den DF</th>  <th>Pr > F</th>\n",
       "</tr>\n",
       "<tr>\n",
       "  <th>variable</th> <td>3.7938</td>  <td>3.0000</td> <td>21.0000</td> <td>0.0256</td>\n",
       "</tr>\n",
       "</table>"
      ],
      "text/plain": [
       "<class 'statsmodels.iolib.summary2.Summary'>\n",
       "\"\"\"\n",
       "                Anova\n",
       "======================================\n",
       "         F Value Num DF  Den DF Pr > F\n",
       "--------------------------------------\n",
       "variable  3.7938 3.0000 21.0000 0.0256\n",
       "======================================\n",
       "\n",
       "\"\"\""
      ]
     },
     "execution_count": 10,
     "metadata": {},
     "output_type": "execute_result"
    }
   ],
   "source": [
    "aovrm = sp.AnovaRM(df_long, 'value', 'participant', within=['variable']).fit()\n",
    "aovrm.summary()"
   ]
  },
  {
   "cell_type": "markdown",
   "metadata": {},
   "source": [
    "####  Calculation of between-subject effects and corrections for violation of sphericity are not yet implemented when you use statsmodels AnovaRM "
   ]
  },
  {
   "cell_type": "code",
   "execution_count": 18,
   "metadata": {},
   "outputs": [
    {
     "data": {
      "text/html": [
       "<div>\n",
       "<style scoped>\n",
       "    .dataframe tbody tr th:only-of-type {\n",
       "        vertical-align: middle;\n",
       "    }\n",
       "\n",
       "    .dataframe tbody tr th {\n",
       "        vertical-align: top;\n",
       "    }\n",
       "\n",
       "    .dataframe thead th {\n",
       "        text-align: right;\n",
       "    }\n",
       "</style>\n",
       "<table border=\"1\" class=\"dataframe\">\n",
       "  <thead>\n",
       "    <tr style=\"text-align: right;\">\n",
       "      <th></th>\n",
       "      <th>Source</th>\n",
       "      <th>ddof1</th>\n",
       "      <th>ddof2</th>\n",
       "      <th>F</th>\n",
       "      <th>p-unc</th>\n",
       "      <th>p-GG-corr</th>\n",
       "      <th>n2</th>\n",
       "      <th>eps</th>\n",
       "      <th>sphericity</th>\n",
       "      <th>W-spher</th>\n",
       "      <th>p-spher</th>\n",
       "    </tr>\n",
       "  </thead>\n",
       "  <tbody>\n",
       "    <tr>\n",
       "      <th>0</th>\n",
       "      <td>variable</td>\n",
       "      <td>3</td>\n",
       "      <td>21</td>\n",
       "      <td>3.793806</td>\n",
       "      <td>0.02557</td>\n",
       "      <td>0.062584</td>\n",
       "      <td>0.35148</td>\n",
       "      <td>0.532846</td>\n",
       "      <td>False</td>\n",
       "      <td>0.136248</td>\n",
       "      <td>0.046846</td>\n",
       "    </tr>\n",
       "  </tbody>\n",
       "</table>\n",
       "</div>"
      ],
      "text/plain": [
       "     Source  ddof1  ddof2         F    p-unc  p-GG-corr       n2       eps  \\\n",
       "0  variable      3     21  3.793806  0.02557   0.062584  0.35148  0.532846   \n",
       "\n",
       "   sphericity   W-spher   p-spher  \n",
       "0       False  0.136248  0.046846  "
      ]
     },
     "execution_count": 18,
     "metadata": {},
     "output_type": "execute_result"
    }
   ],
   "source": [
    "pg.rm_anova(df_long,within=['variable'],subject='participant',dv='value',effsize='n2')"
   ]
  },
  {
   "cell_type": "markdown",
   "metadata": {},
   "source": [
    "#### The upper implementation of repeated measure anova in python using pingouin module gives the corrections for violation of sphericity . \n",
    "\n",
    "##### see https://pingouin-stats.org/generated/pingouin.rm_anova.html"
   ]
  },
  {
   "cell_type": "markdown",
   "metadata": {},
   "source": [
    "### As per  Greenhouse–Geisser correction ,  the F-ratio is non-significant(although mind that this correction is somewhat conservative) ."
   ]
  },
  {
   "cell_type": "markdown",
   "metadata": {},
   "source": [
    "## Using multilevel approach, you can forget about sphericity"
   ]
  },
  {
   "cell_type": "code",
   "execution_count": 53,
   "metadata": {},
   "outputs": [
    {
     "name": "stderr",
     "output_type": "stream",
     "text": [
      "/home/atrides/.local/lib/python3.8/site-packages/statsmodels/base/model.py:566: ConvergenceWarning: Maximum Likelihood optimization failed to converge. Check mle_retvals\n",
      "  warnings.warn(\"Maximum Likelihood optimization failed to \"\n",
      "/home/atrides/.local/lib/python3.8/site-packages/statsmodels/regression/mixed_linear_model.py:2131: ConvergenceWarning: Retrying MixedLM optimization with lbfgs\n",
      "  warnings.warn(\n",
      "/home/atrides/.local/lib/python3.8/site-packages/statsmodels/regression/mixed_linear_model.py:2168: ConvergenceWarning: The MLE may be on the boundary of the parameter space.\n",
      "  warnings.warn(msg, ConvergenceWarning)\n",
      "/home/atrides/.local/lib/python3.8/site-packages/statsmodels/regression/mixed_linear_model.py:2189: ConvergenceWarning: The Hessian matrix at the estimated parameter values is not positive definite.\n",
      "  warnings.warn(msg, ConvergenceWarning)\n"
     ]
    },
    {
     "data": {
      "text/html": [
       "<table class=\"simpletable\">\n",
       "<tr>\n",
       "       <td>Model:</td>       <td>MixedLM</td> <td>Dependent Variable:</td>   <td>value</td> \n",
       "</tr>\n",
       "<tr>\n",
       "  <td>No. Observations:</td>   <td>32</td>          <td>Method:</td>          <td>ML</td>   \n",
       "</tr>\n",
       "<tr>\n",
       "     <td>No. Groups:</td>       <td>8</td>          <td>Scale:</td>         <td>7.9336</td> \n",
       "</tr>\n",
       "<tr>\n",
       "  <td>Min. group size:</td>     <td>4</td>      <td>Log-Likelihood:</td>   <td>-78.5437</td>\n",
       "</tr>\n",
       "<tr>\n",
       "  <td>Max. group size:</td>     <td>4</td>        <td>Converged:</td>         <td>Yes</td>  \n",
       "</tr>\n",
       "<tr>\n",
       "  <td>Mean group size:</td>    <td>4.0</td>            <td></td>               <td></td>    \n",
       "</tr>\n",
       "</table>\n",
       "<table class=\"simpletable\">\n",
       "<tr>\n",
       "         <td></td>         <th>Coef.</th> <th>Std.Err.</th>    <th>z</th>   <th>P>|z|</th> <th>[0.025</th> <th>0.975]</th>\n",
       "</tr>\n",
       "<tr>\n",
       "  <th>Intercept</th>       <td>5.563</td>   <td>0.498</td>  <td>11.171</td> <td>0.000</td>  <td>4.587</td>  <td>6.538</td>\n",
       "</tr>\n",
       "<tr>\n",
       "  <th>participant Var</th> <td>0.000</td>     <td></td>        <td></td>      <td></td>       <td></td>       <td></td>   \n",
       "</tr>\n",
       "</table>"
      ],
      "text/plain": [
       "<class 'statsmodels.iolib.summary2.Summary'>\n",
       "\"\"\"\n",
       "          Mixed Linear Model Regression Results\n",
       "=========================================================\n",
       "Model:             MixedLM  Dependent Variable:  value   \n",
       "No. Observations:  32       Method:              ML      \n",
       "No. Groups:        8        Scale:               7.9336  \n",
       "Min. group size:   4        Log-Likelihood:      -78.5437\n",
       "Max. group size:   4        Converged:           Yes     \n",
       "Mean group size:   4.0                                   \n",
       "---------------------------------------------------------\n",
       "                Coef. Std.Err.   z    P>|z| [0.025 0.975]\n",
       "---------------------------------------------------------\n",
       "Intercept       5.563    0.498 11.171 0.000  4.587  6.538\n",
       "participant Var 0.000                                    \n",
       "=========================================================\n",
       "\n",
       "\"\"\""
      ]
     },
     "execution_count": 53,
     "metadata": {},
     "output_type": "execute_result"
    }
   ],
   "source": [
    "mlm_mod_baseline = smf.mixedlm(\n",
    "    formula = 'value ~ 1', \n",
    "    groups = 'participant', \n",
    "    data=df_long\n",
    ")\n",
    "\n",
    "# Run the fit\n",
    "mlm_result_baseline = mlm_mod_baseline.fit(reml=False)\n",
    "\n",
    "# Print out the summary of the fit\n",
    "mlm_result_baseline.summary()"
   ]
  },
  {
   "cell_type": "code",
   "execution_count": 54,
   "metadata": {},
   "outputs": [
    {
     "name": "stderr",
     "output_type": "stream",
     "text": [
      "/home/atrides/.local/lib/python3.8/site-packages/statsmodels/regression/mixed_linear_model.py:2168: ConvergenceWarning: The MLE may be on the boundary of the parameter space.\n",
      "  warnings.warn(msg, ConvergenceWarning)\n",
      "/home/atrides/.local/lib/python3.8/site-packages/statsmodels/regression/mixed_linear_model.py:2189: ConvergenceWarning: The Hessian matrix at the estimated parameter values is not positive definite.\n",
      "  warnings.warn(msg, ConvergenceWarning)\n"
     ]
    },
    {
     "data": {
      "text/html": [
       "<table class=\"simpletable\">\n",
       "<tr>\n",
       "       <td>Model:</td>       <td>MixedLM</td> <td>Dependent Variable:</td>   <td>value</td> \n",
       "</tr>\n",
       "<tr>\n",
       "  <td>No. Observations:</td>   <td>32</td>          <td>Method:</td>          <td>ML</td>   \n",
       "</tr>\n",
       "<tr>\n",
       "     <td>No. Groups:</td>       <td>8</td>          <td>Scale:</td>         <td>5.3359</td> \n",
       "</tr>\n",
       "<tr>\n",
       "  <td>Min. group size:</td>     <td>4</td>      <td>Log-Likelihood:</td>   <td>-72.1975</td>\n",
       "</tr>\n",
       "<tr>\n",
       "  <td>Max. group size:</td>     <td>4</td>        <td>Converged:</td>         <td>Yes</td>  \n",
       "</tr>\n",
       "<tr>\n",
       "  <td>Mean group size:</td>    <td>4.0</td>            <td></td>               <td></td>    \n",
       "</tr>\n",
       "</table>\n",
       "<table class=\"simpletable\">\n",
       "<tr>\n",
       "                  <td></td>                 <th>Coef.</th> <th>Std.Err.</th>   <th>z</th>   <th>P>|z|</th> <th>[0.025</th> <th>0.975]</th>\n",
       "</tr>\n",
       "<tr>\n",
       "  <th>Intercept</th>                        <td>4.125</td>   <td>0.817</td>  <td>5.051</td> <td>0.000</td>  <td>2.524</td>  <td>5.726</td>\n",
       "</tr>\n",
       "<tr>\n",
       "  <th>C(variable)[T.kangaroo_testicle]</th> <td>0.125</td>   <td>1.155</td>  <td>0.108</td> <td>0.914</td> <td>-2.139</td>  <td>2.389</td>\n",
       "</tr>\n",
       "<tr>\n",
       "  <th>C(variable)[T.stick_insect]</th>      <td>4.000</td>   <td>1.155</td>  <td>3.463</td> <td>0.001</td>  <td>1.736</td>  <td>6.264</td>\n",
       "</tr>\n",
       "<tr>\n",
       "  <th>C(variable)[T.witchetty_grub]</th>    <td>1.625</td>   <td>1.155</td>  <td>1.407</td> <td>0.159</td> <td>-0.639</td>  <td>3.889</td>\n",
       "</tr>\n",
       "<tr>\n",
       "  <th>participant Var</th>                  <td>0.000</td>     <td></td>       <td></td>      <td></td>       <td></td>       <td></td>   \n",
       "</tr>\n",
       "</table>"
      ],
      "text/plain": [
       "<class 'statsmodels.iolib.summary2.Summary'>\n",
       "\"\"\"\n",
       "                  Mixed Linear Model Regression Results\n",
       "=========================================================================\n",
       "Model:                   MixedLM       Dependent Variable:       value   \n",
       "No. Observations:        32            Method:                   ML      \n",
       "No. Groups:              8             Scale:                    5.3359  \n",
       "Min. group size:         4             Log-Likelihood:           -72.1975\n",
       "Max. group size:         4             Converged:                Yes     \n",
       "Mean group size:         4.0                                             \n",
       "-------------------------------------------------------------------------\n",
       "                                 Coef. Std.Err.   z   P>|z| [0.025 0.975]\n",
       "-------------------------------------------------------------------------\n",
       "Intercept                        4.125    0.817 5.051 0.000  2.524  5.726\n",
       "C(variable)[T.kangaroo_testicle] 0.125    1.155 0.108 0.914 -2.139  2.389\n",
       "C(variable)[T.stick_insect]      4.000    1.155 3.463 0.001  1.736  6.264\n",
       "C(variable)[T.witchetty_grub]    1.625    1.155 1.407 0.159 -0.639  3.889\n",
       "participant Var                  0.000                                   \n",
       "=========================================================================\n",
       "\n",
       "\"\"\""
      ]
     },
     "execution_count": 54,
     "metadata": {},
     "output_type": "execute_result"
    }
   ],
   "source": [
    "mlm_mod = smf.mixedlm(\n",
    "    formula = 'value ~ C(variable)', \n",
    "    groups ='participant', \n",
    "    data=df_long\n",
    ")\n",
    "# Run the fit\n",
    "mlm_result = mlm_mod.fit(reml = False)   # we are using method maximum likelihood instead of restricted maximum  likelihood\n",
    "# Print out the summary of the fit\n",
    "mlm_result.summary()"
   ]
  },
  {
   "cell_type": "code",
   "execution_count": 65,
   "metadata": {},
   "outputs": [
    {
     "data": {
      "text/plain": [
       "12.69252869295093"
      ]
     },
     "execution_count": 65,
     "metadata": {},
     "output_type": "execute_result"
    }
   ],
   "source": [
    "chiSquare_ratio = (-2*mlm_result_baseline.llf-(-2*mlm_result.llf))\n",
    "chiSquare_ratio"
   ]
  },
  {
   "cell_type": "code",
   "execution_count": 66,
   "metadata": {},
   "outputs": [
    {
     "name": "stdout",
     "output_type": "stream",
     "text": [
      "aic:  156.39493318781382 \t bic:  165.18934860461218 \t log likelihood:  -72.19746659390691\n"
     ]
    }
   ],
   "source": [
    "print('aic: ',mlm_result.aic,'\\t','bic: ',mlm_result.bic,'\\t','log likelihood: ',mlm_result.llf)"
   ]
  },
  {
   "cell_type": "code",
   "execution_count": 67,
   "metadata": {},
   "outputs": [
    {
     "name": "stdout",
     "output_type": "stream",
     "text": [
      "aic:  163.08746188076475 \t bic:  167.48466958916393 \t log likelihood:  -78.54373094038237\n"
     ]
    }
   ],
   "source": [
    "print('aic: ',mlm_result_baseline.aic, '\\t','bic: ',mlm_result_baseline.bic,'\\t','log likelihood: ',mlm_result_baseline.llf)"
   ]
  },
  {
   "cell_type": "code",
   "execution_count": 68,
   "metadata": {},
   "outputs": [],
   "source": [
    "chi_df = 3"
   ]
  },
  {
   "cell_type": "code",
   "execution_count": 70,
   "metadata": {},
   "outputs": [
    {
     "name": "stdout",
     "output_type": "stream",
     "text": [
      "chisquare_Stats:  12.69252869295093 \t p_value 0.00535230533784814\n"
     ]
    }
   ],
   "source": [
    "chi_square_pvalue = 1 - st.chi2.cdf(12.692,chi_df)\n",
    "print('chisquare_Stats: ',chiSquare_ratio,'\\t', 'p_value',chi_square_pvalue)"
   ]
  },
  {
   "cell_type": "markdown",
   "metadata": {},
   "source": [
    "#### # from p-value and L.Ratio, we can see that after including Animal in our independent variable , there is improvement in model correctness."
   ]
  },
  {
   "cell_type": "markdown",
   "metadata": {},
   "source": [
    "## Post-Hoc tests"
   ]
  },
  {
   "cell_type": "code",
   "execution_count": 71,
   "metadata": {},
   "outputs": [],
   "source": [
    "from statsmodels.sandbox.stats.multicomp import MultiComparison"
   ]
  },
  {
   "cell_type": "code",
   "execution_count": 72,
   "metadata": {},
   "outputs": [],
   "source": [
    "multicomp = MultiComparison(df_long['value'], df_long['variable'])   # testfunc"
   ]
  },
  {
   "cell_type": "code",
   "execution_count": 73,
   "metadata": {},
   "outputs": [
    {
     "name": "stdout",
     "output_type": "stream",
     "text": [
      "Test Multiple Comparison ttest_rel \n",
      "FWER=0.05 method=bonf\n",
      "alphacSidak=0.01, alphacBonf=0.008\n",
      "===================================================================\n",
      "      group1            group2        stat   pval  pval_corr reject\n",
      "-------------------------------------------------------------------\n",
      "         fish_eye kangaroo_testicle  -0.104 0.9201       1.0  False\n",
      "         fish_eye      stick_insect  -5.465 0.0009    0.0056   True\n",
      "         fish_eye    witchetty_grub -0.8919  0.402       1.0  False\n",
      "kangaroo_testicle      stick_insect -4.7753  0.002    0.0121   True\n",
      "kangaroo_testicle    witchetty_grub -1.1225 0.2987       1.0  False\n",
      "     stick_insect    witchetty_grub  1.3252 0.2267       1.0  False\n",
      "-------------------------------------------------------------------\n"
     ]
    }
   ],
   "source": [
    "# Bonferroni\n",
    "com = multicomp.allpairtest(st.ttest_rel, method='bonf')\n",
    "print(com[0])"
   ]
  },
  {
   "cell_type": "code",
   "execution_count": 74,
   "metadata": {},
   "outputs": [
    {
     "data": {
      "text/html": [
       "<table class=\"simpletable\">\n",
       "<caption>Multiple Comparison of Means - Tukey HSD, FWER=0.05</caption>\n",
       "<tr>\n",
       "       <th>group1</th>            <th>group2</th>       <th>meandiff</th>  <th>p-adj</th>  <th>lower</th>   <th>upper</th> <th>reject</th>\n",
       "</tr>\n",
       "<tr>\n",
       "      <td>fish_eye</td>      <td>kangaroo_testicle</td>   <td>0.125</td>    <td>0.9</td>  <td>-3.2462</td> <td>3.4962</td>  <td>False</td>\n",
       "</tr>\n",
       "<tr>\n",
       "      <td>fish_eye</td>        <td>stick_insect</td>       <td>4.0</td>   <td>0.0154</td> <td>0.6288</td>  <td>7.3712</td>  <td>True</td> \n",
       "</tr>\n",
       "<tr>\n",
       "      <td>fish_eye</td>       <td>witchetty_grub</td>     <td>1.625</td>   <td>0.555</td> <td>-1.7462</td> <td>4.9962</td>  <td>False</td>\n",
       "</tr>\n",
       "<tr>\n",
       "  <td>kangaroo_testicle</td>   <td>stick_insect</td>      <td>3.875</td>  <td>0.0196</td> <td>0.5038</td>  <td>7.2462</td>  <td>True</td> \n",
       "</tr>\n",
       "<tr>\n",
       "  <td>kangaroo_testicle</td>  <td>witchetty_grub</td>      <td>1.5</td>   <td>0.6107</td> <td>-1.8712</td> <td>4.8712</td>  <td>False</td>\n",
       "</tr>\n",
       "<tr>\n",
       "    <td>stick_insect</td>     <td>witchetty_grub</td>    <td>-2.375</td>  <td>0.2414</td> <td>-5.7462</td> <td>0.9962</td>  <td>False</td>\n",
       "</tr>\n",
       "</table>"
      ],
      "text/plain": [
       "<class 'statsmodels.iolib.table.SimpleTable'>"
      ]
     },
     "execution_count": 74,
     "metadata": {},
     "output_type": "execute_result"
    }
   ],
   "source": [
    "# Tukey HSD\n",
    "co = multicomp.tukeyhsd(alpha=0.05)\n",
    "co.summary()"
   ]
  },
  {
   "cell_type": "markdown",
   "metadata": {},
   "source": [
    "## Effect Size"
   ]
  },
  {
   "cell_type": "markdown",
   "metadata": {},
   "source": [
    "### see generalized eta-squared which is the output of pingouin rm_anova() under column labelled n2 "
   ]
  },
  {
   "cell_type": "markdown",
   "metadata": {},
   "source": [
    "## calculating various sum of square"
   ]
  },
  {
   "cell_type": "code",
   "execution_count": 75,
   "metadata": {},
   "outputs": [
    {
     "data": {
      "text/plain": [
       "count    32.000000\n",
       "mean      5.562500\n",
       "std       2.861733\n",
       "min       1.000000\n",
       "25%       3.000000\n",
       "50%       6.000000\n",
       "75%       8.000000\n",
       "max      12.000000\n",
       "Name: value, dtype: float64"
      ]
     },
     "execution_count": 75,
     "metadata": {},
     "output_type": "execute_result"
    }
   ],
   "source": [
    "df_long['value'].describe()"
   ]
  },
  {
   "cell_type": "code",
   "execution_count": 76,
   "metadata": {},
   "outputs": [
    {
     "data": {
      "text/plain": [
       "253.875"
      ]
     },
     "execution_count": 76,
     "metadata": {},
     "output_type": "execute_result"
    }
   ],
   "source": [
    "SSt = df_long['value'].std()**2 * (32-1)\n",
    "SSt"
   ]
  },
  {
   "cell_type": "code",
   "execution_count": 77,
   "metadata": {},
   "outputs": [
    {
     "data": {
      "text/plain": [
       "31"
      ]
     },
     "execution_count": 77,
     "metadata": {},
     "output_type": "execute_result"
    }
   ],
   "source": [
    "SSt_df = df_long['value'].count()-1\n",
    "SSt_df"
   ]
  },
  {
   "cell_type": "code",
   "execution_count": 79,
   "metadata": {},
   "outputs": [
    {
     "data": {
      "text/plain": [
       "[3.1091263510296048,\n",
       " 2.8722813232690143,\n",
       " 2.753785273643051,\n",
       " 3.415650255319866,\n",
       " 2.0615528128088303,\n",
       " 0.9574271077563381,\n",
       " 3.947573094109004,\n",
       " 4.573474244670748]"
      ]
     },
     "execution_count": 79,
     "metadata": {},
     "output_type": "execute_result"
    }
   ],
   "source": [
    "std = list(df_long.groupby('participant').describe()['value']['std'])\n",
    "std"
   ]
  },
  {
   "cell_type": "code",
   "execution_count": 80,
   "metadata": {},
   "outputs": [
    {
     "data": {
      "text/plain": [
       "236.5"
      ]
     },
     "execution_count": 80,
     "metadata": {},
     "output_type": "execute_result"
    }
   ],
   "source": [
    "SSw = 0\n",
    "for i in range(8):\n",
    "  SSw += std[i]**2 * (4-1)\n",
    "\n",
    "SSw"
   ]
  },
  {
   "cell_type": "code",
   "execution_count": 81,
   "metadata": {},
   "outputs": [
    {
     "data": {
      "text/plain": [
       "24"
      ]
     },
     "execution_count": 81,
     "metadata": {},
     "output_type": "execute_result"
    }
   ],
   "source": [
    "SSw_df = (4-1)*8\n",
    "SSw_df"
   ]
  },
  {
   "cell_type": "code",
   "execution_count": 82,
   "metadata": {},
   "outputs": [
    {
     "data": {
      "text/plain": [
       "[4.125, 4.25, 8.125, 5.75]"
      ]
     },
     "execution_count": 82,
     "metadata": {},
     "output_type": "execute_result"
    }
   ],
   "source": [
    "mean = list(df_long.groupby('variable').describe()['value']['mean'])\n",
    "mean"
   ]
  },
  {
   "cell_type": "code",
   "execution_count": 84,
   "metadata": {},
   "outputs": [
    {
     "data": {
      "text/plain": [
       "83.125"
      ]
     },
     "execution_count": 84,
     "metadata": {},
     "output_type": "execute_result"
    }
   ],
   "source": [
    "SSm = 0\n",
    "for i in range(4):\n",
    "  SSm += (8)*(df_long['value'].mean()-mean[i])**2\n",
    "\n",
    "SSm"
   ]
  },
  {
   "cell_type": "code",
   "execution_count": 87,
   "metadata": {},
   "outputs": [
    {
     "data": {
      "text/plain": [
       "3"
      ]
     },
     "execution_count": 87,
     "metadata": {},
     "output_type": "execute_result"
    }
   ],
   "source": [
    "SSm_df = 4-1     # k-1\n",
    "SSm_df"
   ]
  },
  {
   "cell_type": "code",
   "execution_count": 88,
   "metadata": {},
   "outputs": [
    {
     "data": {
      "text/plain": [
       "153.375"
      ]
     },
     "execution_count": 88,
     "metadata": {},
     "output_type": "execute_result"
    }
   ],
   "source": [
    "SSr = SSw-SSm\n",
    "SSr"
   ]
  },
  {
   "cell_type": "code",
   "execution_count": 89,
   "metadata": {},
   "outputs": [
    {
     "data": {
      "text/plain": [
       "21"
      ]
     },
     "execution_count": 89,
     "metadata": {},
     "output_type": "execute_result"
    }
   ],
   "source": [
    "SSr_df = SSw_df-SSm_df\n",
    "SSr_df"
   ]
  },
  {
   "cell_type": "code",
   "execution_count": 90,
   "metadata": {},
   "outputs": [
    {
     "data": {
      "text/plain": [
       "17.375"
      ]
     },
     "execution_count": 90,
     "metadata": {},
     "output_type": "execute_result"
    }
   ],
   "source": [
    "SSb = SSt-SSw\n",
    "SSb"
   ]
  },
  {
   "cell_type": "code",
   "execution_count": 91,
   "metadata": {},
   "outputs": [
    {
     "data": {
      "text/plain": [
       "27.708333333333332"
      ]
     },
     "execution_count": 91,
     "metadata": {},
     "output_type": "execute_result"
    }
   ],
   "source": [
    "MSm = SSm/SSm_df\n",
    "MSm"
   ]
  },
  {
   "cell_type": "code",
   "execution_count": 92,
   "metadata": {},
   "outputs": [
    {
     "data": {
      "text/plain": [
       "7.303571428571429"
      ]
     },
     "execution_count": 92,
     "metadata": {},
     "output_type": "execute_result"
    }
   ],
   "source": [
    "MSr = SSr/SSr_df\n",
    "MSr"
   ]
  },
  {
   "cell_type": "code",
   "execution_count": 93,
   "metadata": {},
   "outputs": [
    {
     "data": {
      "text/plain": [
       "3.793806030969845"
      ]
     },
     "execution_count": 93,
     "metadata": {},
     "output_type": "execute_result"
    }
   ],
   "source": [
    "F = MSm/MSr\n",
    "F"
   ]
  },
  {
   "cell_type": "code",
   "execution_count": null,
   "metadata": {},
   "outputs": [],
   "source": []
  }
 ],
 "metadata": {
  "kernelspec": {
   "display_name": "Python 3",
   "language": "python",
   "name": "python3"
  },
  "language_info": {
   "codemirror_mode": {
    "name": "ipython",
    "version": 3
   },
   "file_extension": ".py",
   "mimetype": "text/x-python",
   "name": "python",
   "nbconvert_exporter": "python",
   "pygments_lexer": "ipython3",
   "version": "3.8.5"
  }
 },
 "nbformat": 4,
 "nbformat_minor": 4
}

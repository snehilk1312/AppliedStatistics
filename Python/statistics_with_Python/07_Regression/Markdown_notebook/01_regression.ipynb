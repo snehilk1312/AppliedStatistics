{
 "cells": [
  {
   "cell_type": "code",
   "execution_count": 28,
   "metadata": {},
   "outputs": [],
   "source": [
    "import pandas as pd\n",
    "import numpy as np\n",
    "import matplotlib.pyplot as plt\n",
    "import seaborn as sns\n",
    "import scipy.stats as st\n",
    "import statsmodels.api as sm\n",
    "import pingouin as pg"
   ]
  },
  {
   "cell_type": "code",
   "execution_count": 53,
   "metadata": {},
   "outputs": [],
   "source": [
    "import statsmodels.stats.outliers_influence as sms\n",
    "from functools import reduce"
   ]
  },
  {
   "cell_type": "code",
   "execution_count": 29,
   "metadata": {},
   "outputs": [],
   "source": [
    "import warnings\n",
    "warnings.filterwarnings('ignore')"
   ]
  },
  {
   "cell_type": "markdown",
   "metadata": {},
   "source": [
    "# Regression"
   ]
  },
  {
   "cell_type": "markdown",
   "metadata": {},
   "source": [
    "### i) Simple Regression\n",
    "\n",
    "#### Outcome = Model + Error\n",
    "#### Sum of Squares, SSt, SSm , SSr"
   ]
  },
  {
   "cell_type": "code",
   "execution_count": 30,
   "metadata": {},
   "outputs": [
    {
     "name": "stdout",
     "output_type": "stream",
     "text": [
      "    adverts  sales\n",
      "0    10.256    330\n",
      "1   985.685    120\n",
      "2  1445.563    360\n",
      "3  1188.193    270\n",
      "4   574.513    220\n"
     ]
    }
   ],
   "source": [
    "data = pd.read_csv('/home/atrides/Desktop/R/statistics_with_Python/07_Regression/Data_Files/Album Sales 1.dat', sep='\\t')\n",
    "print(data.head())"
   ]
  },
  {
   "cell_type": "code",
   "execution_count": 31,
   "metadata": {},
   "outputs": [
    {
     "data": {
      "image/png": "[encoded data removed]",
      "text/plain": [
       "<Figure size 360x360 with 1 Axes>"
      ]
     },
     "metadata": {
      "needs_background": "light"
     },
     "output_type": "display_data"
    }
   ],
   "source": [
    "_ = sns.lmplot(x='adverts', y='sales', data=data)\n",
    "plt.show()"
   ]
  },
  {
   "cell_type": "code",
   "execution_count": 32,
   "metadata": {},
   "outputs": [
    {
     "name": "stdout",
     "output_type": "stream",
     "text": [
      "                            OLS Regression Results                            \n",
      "==============================================================================\n",
      "Dep. Variable:                  sales   R-squared:                       0.335\n",
      "Model:                            OLS   Adj. R-squared:                  0.331\n",
      "Method:                 Least Squares   F-statistic:                     99.59\n",
      "Date:                Tue, 15 Sep 2020   Prob (F-statistic):           2.94e-19\n",
      "Time:                        21:33:43   Log-Likelihood:                -1120.7\n",
      "No. Observations:                 200   AIC:                             2245.\n",
      "Df Residuals:                     198   BIC:                             2252.\n",
      "Df Model:                           1                                         \n",
      "Covariance Type:            nonrobust                                         \n",
      "==============================================================================\n",
      "                 coef    std err          t      P>|t|      [0.025      0.975]\n",
      "------------------------------------------------------------------------------\n",
      "Intercept    134.1399      7.537     17.799      0.000     119.278     149.002\n",
      "adverts        0.0961      0.010      9.979      0.000       0.077       0.115\n",
      "==============================================================================\n",
      "Omnibus:                        4.961   Durbin-Watson:                   2.032\n",
      "Prob(Omnibus):                  0.084   Jarque-Bera (JB):                4.556\n",
      "Skew:                           0.339   Prob(JB):                        0.102\n",
      "Kurtosis:                       3.294   Cond. No.                     1.26e+03\n",
      "==============================================================================\n",
      "\n",
      "Notes:\n",
      "[1] Standard Errors assume that the covariance matrix of the errors is correctly specified.\n",
      "[2] The condition number is large, 1.26e+03. This might indicate that there are\n",
      "strong multicollinearity or other numerical problems.\n"
     ]
    }
   ],
   "source": [
    "model = sm.OLS.from_formula('sales ~ adverts',data=data)\n",
    "res = model.fit()\n",
    "print(res.summary())"
   ]
  },
  {
   "cell_type": "markdown",
   "metadata": {},
   "source": [
    "### ii) Multiple Regression"
   ]
  },
  {
   "cell_type": "code",
   "execution_count": 33,
   "metadata": {},
   "outputs": [
    {
     "name": "stdout",
     "output_type": "stream",
     "text": [
      "    adverts  sales  airplay  attract\n",
      "0    10.256    330       43       10\n",
      "1   985.685    120       28        7\n",
      "2  1445.563    360       35        7\n",
      "3  1188.193    270       33        7\n",
      "4   574.513    220       44        5\n"
     ]
    }
   ],
   "source": [
    "df = pd.read_csv('/home/atrides/Desktop/R/statistics_with_Python/07_Regression/Data_Files/Album Sales 2.dat', sep='\\t')\n",
    "print(df.head())"
   ]
  },
  {
   "cell_type": "code",
   "execution_count": 34,
   "metadata": {},
   "outputs": [
    {
     "name": "stdout",
     "output_type": "stream",
     "text": [
      "                            OLS Regression Results                            \n",
      "==============================================================================\n",
      "Dep. Variable:                  sales   R-squared:                       0.335\n",
      "Model:                            OLS   Adj. R-squared:                  0.331\n",
      "Method:                 Least Squares   F-statistic:                     99.59\n",
      "Date:                Tue, 15 Sep 2020   Prob (F-statistic):           2.94e-19\n",
      "Time:                        21:33:49   Log-Likelihood:                -1120.7\n",
      "No. Observations:                 200   AIC:                             2245.\n",
      "Df Residuals:                     198   BIC:                             2252.\n",
      "Df Model:                           1                                         \n",
      "Covariance Type:            nonrobust                                         \n",
      "==============================================================================\n",
      "                 coef    std err          t      P>|t|      [0.025      0.975]\n",
      "------------------------------------------------------------------------------\n",
      "Intercept    134.1399      7.537     17.799      0.000     119.278     149.002\n",
      "adverts        0.0961      0.010      9.979      0.000       0.077       0.115\n",
      "==============================================================================\n",
      "Omnibus:                        4.961   Durbin-Watson:                   2.032\n",
      "Prob(Omnibus):                  0.084   Jarque-Bera (JB):                4.556\n",
      "Skew:                           0.339   Prob(JB):                        0.102\n",
      "Kurtosis:                       3.294   Cond. No.                     1.26e+03\n",
      "==============================================================================\n",
      "\n",
      "Notes:\n",
      "[1] Standard Errors assume that the covariance matrix of the errors is correctly specified.\n",
      "[2] The condition number is large, 1.26e+03. This might indicate that there are\n",
      "strong multicollinearity or other numerical problems.\n"
     ]
    }
   ],
   "source": [
    "# with one predictor variable\n",
    "model_1 = sm.OLS.from_formula(\"sales~adverts\", data=df)\n",
    "res_1 = model_1.fit()\n",
    "print(res_1.summary())"
   ]
  },
  {
   "cell_type": "code",
   "execution_count": 35,
   "metadata": {},
   "outputs": [
    {
     "name": "stdout",
     "output_type": "stream",
     "text": [
      "                            OLS Regression Results                            \n",
      "==============================================================================\n",
      "Dep. Variable:                  sales   R-squared:                       0.665\n",
      "Model:                            OLS   Adj. R-squared:                  0.660\n",
      "Method:                 Least Squares   F-statistic:                     129.5\n",
      "Date:                Tue, 15 Sep 2020   Prob (F-statistic):           2.88e-46\n",
      "Time:                        21:33:51   Log-Likelihood:                -1052.2\n",
      "No. Observations:                 200   AIC:                             2112.\n",
      "Df Residuals:                     196   BIC:                             2126.\n",
      "Df Model:                           3                                         \n",
      "Covariance Type:            nonrobust                                         \n",
      "==============================================================================\n",
      "                 coef    std err          t      P>|t|      [0.025      0.975]\n",
      "------------------------------------------------------------------------------\n",
      "Intercept    -26.6130     17.350     -1.534      0.127     -60.830       7.604\n",
      "adverts        0.0849      0.007     12.261      0.000       0.071       0.099\n",
      "airplay        3.3674      0.278     12.123      0.000       2.820       3.915\n",
      "attract       11.0863      2.438      4.548      0.000       6.279      15.894\n",
      "==============================================================================\n",
      "Omnibus:                        0.610   Durbin-Watson:                   1.950\n",
      "Prob(Omnibus):                  0.737   Jarque-Bera (JB):                0.351\n",
      "Skew:                          -0.073   Prob(JB):                        0.839\n",
      "Kurtosis:                       3.144   Cond. No.                     4.11e+03\n",
      "==============================================================================\n",
      "\n",
      "Notes:\n",
      "[1] Standard Errors assume that the covariance matrix of the errors is correctly specified.\n",
      "[2] The condition number is large, 4.11e+03. This might indicate that there are\n",
      "strong multicollinearity or other numerical problems.\n"
     ]
    }
   ],
   "source": [
    "# with all predictor variables\n",
    "model_2 = sm.OLS.from_formula(\"sales~adverts+airplay+attract\", data=df)\n",
    "res_2 = model_2.fit()\n",
    "print(res_2.summary())"
   ]
  },
  {
   "cell_type": "markdown",
   "metadata": {},
   "source": [
    "##### see the inrcrease in R^2 and Adjusted R^2 in model_2 w.r.t model_1"
   ]
  },
  {
   "cell_type": "markdown",
   "metadata": {},
   "source": [
    "### Standarized regression coeffecients (beta coeffecients)\n",
    "#####  refers to how many standard deviations a dependent variable will change, per standard deviation increase in the predictor variable."
   ]
  },
  {
   "cell_type": "code",
   "execution_count": 36,
   "metadata": {},
   "outputs": [],
   "source": [
    "df_ = pd.DataFrame()\n",
    "df_['adverts'] = (df['adverts']-df['adverts'].mean())/df['adverts'].std()\n",
    "df_['airplay'] = (df['airplay']-df['adverts'].mean())/df['airplay'].std()\n",
    "df_['attract'] = (df['attract']-df['adverts'].mean())/df['attract'].std()\n",
    "df_['sales'] = (df['sales']-df['adverts'].mean())/df['sales'].std()"
   ]
  },
  {
   "cell_type": "code",
   "execution_count": 37,
   "metadata": {},
   "outputs": [
    {
     "name": "stdout",
     "output_type": "stream",
     "text": [
      "                            OLS Regression Results                            \n",
      "==============================================================================\n",
      "Dep. Variable:                  sales   R-squared:                       0.665\n",
      "Model:                            OLS   Adj. R-squared:                  0.660\n",
      "Method:                 Least Squares   F-statistic:                     129.5\n",
      "Date:                Tue, 15 Sep 2020   Prob (F-statistic):           2.88e-46\n",
      "Time:                        21:33:53   Log-Likelihood:                -174.02\n",
      "No. Observations:                 200   AIC:                             356.0\n",
      "Df Residuals:                     196   BIC:                             369.2\n",
      "Df Model:                           3                                         \n",
      "Covariance Type:            nonrobust                                         \n",
      "==============================================================================\n",
      "                 coef    std err          t      P>|t|      [0.025      0.975]\n",
      "------------------------------------------------------------------------------\n",
      "Intercept    102.7485     18.112      5.673      0.000      67.029     138.468\n",
      "adverts        0.5108      0.042     12.261      0.000       0.429       0.593\n",
      "airplay        0.5120      0.042     12.123      0.000       0.429       0.595\n",
      "attract        0.1917      0.042      4.548      0.000       0.109       0.275\n",
      "==============================================================================\n",
      "Omnibus:                        0.610   Durbin-Watson:                   1.950\n",
      "Prob(Omnibus):                  0.737   Jarque-Bera (JB):                0.351\n",
      "Skew:                          -0.073   Prob(JB):                        0.839\n",
      "Kurtosis:                       3.144   Cond. No.                     1.92e+05\n",
      "==============================================================================\n",
      "\n",
      "Notes:\n",
      "[1] Standard Errors assume that the covariance matrix of the errors is correctly specified.\n",
      "[2] The condition number is large, 1.92e+05. This might indicate that there are\n",
      "strong multicollinearity or other numerical problems.\n"
     ]
    }
   ],
   "source": [
    "model = sm.OLS.from_formula(\"sales~adverts+airplay+attract\", data=df_)\n",
    "res = model.fit()\n",
    "print(res.summary())"
   ]
  },
  {
   "cell_type": "markdown",
   "metadata": {},
   "source": [
    "### Comparing models using python"
   ]
  },
  {
   "cell_type": "code",
   "execution_count": 38,
   "metadata": {},
   "outputs": [
    {
     "name": "stdout",
     "output_type": "stream",
     "text": [
      "   df_resid            ssr  df_diff        ss_diff          F        Pr(>F)\n",
      "0     198.0  862264.167468      0.0            NaN        NaN           NaN\n",
      "1     196.0  434574.581730      2.0  427689.585738  96.447379  6.879395e-30\n"
     ]
    }
   ],
   "source": [
    "from statsmodels.formula.api import ols\n",
    "from statsmodels.stats.anova import anova_lm\n",
    "\n",
    "m01 = ols('sales~adverts', data=df).fit()\n",
    "m02 = ols('sales~adverts+airplay+attract', data=df).fit()\n",
    "anovaResults = anova_lm(m01, m02)\n",
    "print(anovaResults)"
   ]
  },
  {
   "cell_type": "markdown",
   "metadata": {},
   "source": [
    "### Outliers and Influential cases"
   ]
  },
  {
   "cell_type": "markdown",
   "metadata": {},
   "source": [
    "#### references\n",
    "\n",
    "https://www.statsmodels.org/stable/generated/statsmodels.stats.outliers_influence.OLSInfluence.html#statsmodels.stats.outliers_influence.OLSInfluence\n",
    "\n",
    "https://www.statsmodels.org/dev/generated/statsmodels.regression.linear_model.OLS.html\n",
    "\n",
    "https://stackoverflow.com/questions/46304514/access-standardized-residuals-cooks-values-hatvalues-leverage-etc-easily-i\n",
    "\n",
    "https://www.geeksforgeeks.org/reduce-in-python/"
   ]
  },
  {
   "cell_type": "code",
   "execution_count": 71,
   "metadata": {},
   "outputs": [
    {
     "data": {
      "text/html": [
       "<div>\n",
       "<style scoped>\n",
       "    .dataframe tbody tr th:only-of-type {\n",
       "        vertical-align: middle;\n",
       "    }\n",
       "\n",
       "    .dataframe tbody tr th {\n",
       "        vertical-align: top;\n",
       "    }\n",
       "\n",
       "    .dataframe thead th {\n",
       "        text-align: right;\n",
       "    }\n",
       "</style>\n",
       "<table border=\"1\" class=\"dataframe\">\n",
       "  <thead>\n",
       "    <tr style=\"text-align: right;\">\n",
       "      <th></th>\n",
       "      <th>dfb_Intercept</th>\n",
       "      <th>dfb_adverts</th>\n",
       "      <th>dfb_airplay</th>\n",
       "      <th>dfb_attract</th>\n",
       "      <th>cooks_d</th>\n",
       "      <th>standard_resid</th>\n",
       "      <th>hat_diag</th>\n",
       "      <th>dffits_internal</th>\n",
       "      <th>student_resid</th>\n",
       "      <th>dffits</th>\n",
       "    </tr>\n",
       "  </thead>\n",
       "  <tbody>\n",
       "    <tr>\n",
       "      <th>0</th>\n",
       "      <td>-0.315539</td>\n",
       "      <td>-0.242346</td>\n",
       "      <td>0.157739</td>\n",
       "      <td>0.353292</td>\n",
       "      <td>0.058704</td>\n",
       "      <td>2.177404</td>\n",
       "      <td>0.047191</td>\n",
       "      <td>0.484578</td>\n",
       "      <td>2.198596</td>\n",
       "      <td>0.489294</td>\n",
       "    </tr>\n",
       "    <tr>\n",
       "      <th>1</th>\n",
       "      <td>0.012593</td>\n",
       "      <td>-0.126374</td>\n",
       "      <td>0.009421</td>\n",
       "      <td>-0.018683</td>\n",
       "      <td>0.010889</td>\n",
       "      <td>-2.323083</td>\n",
       "      <td>0.008007</td>\n",
       "      <td>-0.208705</td>\n",
       "      <td>-2.349724</td>\n",
       "      <td>-0.211098</td>\n",
       "    </tr>\n",
       "    <tr>\n",
       "      <th>2</th>\n",
       "      <td>-0.038068</td>\n",
       "      <td>0.174929</td>\n",
       "      <td>0.046574</td>\n",
       "      <td>-0.005385</td>\n",
       "      <td>0.011401</td>\n",
       "      <td>1.468802</td>\n",
       "      <td>0.020700</td>\n",
       "      <td>0.213548</td>\n",
       "      <td>1.473180</td>\n",
       "      <td>0.214184</td>\n",
       "    </tr>\n",
       "    <tr>\n",
       "      <th>3</th>\n",
       "      <td>-0.002576</td>\n",
       "      <td>0.012163</td>\n",
       "      <td>0.003444</td>\n",
       "      <td>0.000129</td>\n",
       "      <td>0.000072</td>\n",
       "      <td>0.150116</td>\n",
       "      <td>0.012561</td>\n",
       "      <td>0.016931</td>\n",
       "      <td>0.149741</td>\n",
       "      <td>0.016889</td>\n",
       "    </tr>\n",
       "    <tr>\n",
       "      <th>4</th>\n",
       "      <td>-0.008583</td>\n",
       "      <td>0.001088</td>\n",
       "      <td>-0.014254</td>\n",
       "      <td>0.013554</td>\n",
       "      <td>0.000103</td>\n",
       "      <td>-0.123798</td>\n",
       "      <td>0.026065</td>\n",
       "      <td>-0.020253</td>\n",
       "      <td>-0.123487</td>\n",
       "      <td>-0.020202</td>\n",
       "    </tr>\n",
       "  </tbody>\n",
       "</table>\n",
       "</div>"
      ],
      "text/plain": [
       "   dfb_Intercept  dfb_adverts  dfb_airplay  dfb_attract   cooks_d  \\\n",
       "0      -0.315539    -0.242346     0.157739     0.353292  0.058704   \n",
       "1       0.012593    -0.126374     0.009421    -0.018683  0.010889   \n",
       "2      -0.038068     0.174929     0.046574    -0.005385  0.011401   \n",
       "3      -0.002576     0.012163     0.003444     0.000129  0.000072   \n",
       "4      -0.008583     0.001088    -0.014254     0.013554  0.000103   \n",
       "\n",
       "   standard_resid  hat_diag  dffits_internal  student_resid    dffits  \n",
       "0        2.177404  0.047191         0.484578       2.198596  0.489294  \n",
       "1       -2.323083  0.008007        -0.208705      -2.349724 -0.211098  \n",
       "2        1.468802  0.020700         0.213548       1.473180  0.214184  \n",
       "3        0.150116  0.012561         0.016931       0.149741  0.016889  \n",
       "4       -0.123798  0.026065        -0.020253      -0.123487 -0.020202  "
      ]
     },
     "execution_count": 71,
     "metadata": {},
     "output_type": "execute_result"
    }
   ],
   "source": [
    "summary_frame = sms.OLSInfluence(m02).summary_frame()\n",
    "summary_frame .head()"
   ]
  },
  {
   "cell_type": "code",
   "execution_count": 72,
   "metadata": {},
   "outputs": [
    {
     "data": {
      "text/html": [
       "<div>\n",
       "<style scoped>\n",
       "    .dataframe tbody tr th:only-of-type {\n",
       "        vertical-align: middle;\n",
       "    }\n",
       "\n",
       "    .dataframe tbody tr th {\n",
       "        vertical-align: top;\n",
       "    }\n",
       "\n",
       "    .dataframe thead th {\n",
       "        text-align: right;\n",
       "    }\n",
       "</style>\n",
       "<table border=\"1\" class=\"dataframe\">\n",
       "  <thead>\n",
       "    <tr style=\"text-align: right;\">\n",
       "      <th></th>\n",
       "      <th>cooks_d</th>\n",
       "      <th>standard_resid</th>\n",
       "      <th>student_resid</th>\n",
       "      <th>hat_diag</th>\n",
       "    </tr>\n",
       "  </thead>\n",
       "  <tbody>\n",
       "    <tr>\n",
       "      <th>0</th>\n",
       "      <td>0.058704</td>\n",
       "      <td>2.177404</td>\n",
       "      <td>2.198596</td>\n",
       "      <td>0.047191</td>\n",
       "    </tr>\n",
       "    <tr>\n",
       "      <th>1</th>\n",
       "      <td>0.010889</td>\n",
       "      <td>-2.323083</td>\n",
       "      <td>-2.349724</td>\n",
       "      <td>0.008007</td>\n",
       "    </tr>\n",
       "    <tr>\n",
       "      <th>2</th>\n",
       "      <td>0.011401</td>\n",
       "      <td>1.468802</td>\n",
       "      <td>1.473180</td>\n",
       "      <td>0.020700</td>\n",
       "    </tr>\n",
       "    <tr>\n",
       "      <th>3</th>\n",
       "      <td>0.000072</td>\n",
       "      <td>0.150116</td>\n",
       "      <td>0.149741</td>\n",
       "      <td>0.012561</td>\n",
       "    </tr>\n",
       "    <tr>\n",
       "      <th>4</th>\n",
       "      <td>0.000103</td>\n",
       "      <td>-0.123798</td>\n",
       "      <td>-0.123487</td>\n",
       "      <td>0.026065</td>\n",
       "    </tr>\n",
       "  </tbody>\n",
       "</table>\n",
       "</div>"
      ],
      "text/plain": [
       "    cooks_d  standard_resid  student_resid  hat_diag\n",
       "0  0.058704        2.177404       2.198596  0.047191\n",
       "1  0.010889       -2.323083      -2.349724  0.008007\n",
       "2  0.011401        1.468802       1.473180  0.020700\n",
       "3  0.000072        0.150116       0.149741  0.012561\n",
       "4  0.000103       -0.123798      -0.123487  0.026065"
      ]
     },
     "execution_count": 72,
     "metadata": {},
     "output_type": "execute_result"
    }
   ],
   "source": [
    "summary_frame = summary_frame[['cooks_d','standard_resid', 'student_resid', 'hat_diag' ]]\n",
    "summary_frame.head()"
   ]
  },
  {
   "cell_type": "code",
   "execution_count": 73,
   "metadata": {},
   "outputs": [],
   "source": [
    "resid = pd.DataFrame(df['sales'] - m02.fittedvalues)\n",
    "resid.columns = ['residual']"
   ]
  },
  {
   "cell_type": "code",
   "execution_count": 74,
   "metadata": {},
   "outputs": [],
   "source": [
    "dfbeta = pd.DataFrame(pd.DataFrame(sms.OLSInfluence(m02).dfbeta)[0])\n",
    "dfbeta.columns = ['dfbeta']"
   ]
  },
  {
   "cell_type": "code",
   "execution_count": 75,
   "metadata": {},
   "outputs": [
    {
     "data": {
      "text/html": [
       "<div>\n",
       "<style scoped>\n",
       "    .dataframe tbody tr th:only-of-type {\n",
       "        vertical-align: middle;\n",
       "    }\n",
       "\n",
       "    .dataframe tbody tr th {\n",
       "        vertical-align: top;\n",
       "    }\n",
       "\n",
       "    .dataframe thead th {\n",
       "        text-align: right;\n",
       "    }\n",
       "</style>\n",
       "<table border=\"1\" class=\"dataframe\">\n",
       "  <thead>\n",
       "    <tr style=\"text-align: right;\">\n",
       "      <th></th>\n",
       "      <th>adverts</th>\n",
       "      <th>sales</th>\n",
       "      <th>airplay</th>\n",
       "      <th>attract</th>\n",
       "      <th>residual</th>\n",
       "      <th>cooks_d</th>\n",
       "      <th>standard_resid</th>\n",
       "      <th>student_resid</th>\n",
       "      <th>hat_diag</th>\n",
       "      <th>dfbeta</th>\n",
       "    </tr>\n",
       "  </thead>\n",
       "  <tbody>\n",
       "    <tr>\n",
       "      <th>0</th>\n",
       "      <td>10.256</td>\n",
       "      <td>330</td>\n",
       "      <td>43</td>\n",
       "      <td>10</td>\n",
       "      <td>100.079745</td>\n",
       "      <td>0.058704</td>\n",
       "      <td>2.177404</td>\n",
       "      <td>2.198596</td>\n",
       "      <td>0.047191</td>\n",
       "      <td>-5.421827</td>\n",
       "    </tr>\n",
       "    <tr>\n",
       "      <th>1</th>\n",
       "      <td>985.685</td>\n",
       "      <td>120</td>\n",
       "      <td>28</td>\n",
       "      <td>7</td>\n",
       "      <td>-108.948992</td>\n",
       "      <td>0.010889</td>\n",
       "      <td>-2.323083</td>\n",
       "      <td>-2.349724</td>\n",
       "      <td>0.008007</td>\n",
       "      <td>0.216017</td>\n",
       "    </tr>\n",
       "    <tr>\n",
       "      <th>2</th>\n",
       "      <td>1445.563</td>\n",
       "      <td>360</td>\n",
       "      <td>35</td>\n",
       "      <td>7</td>\n",
       "      <td>68.442368</td>\n",
       "      <td>0.011401</td>\n",
       "      <td>1.468802</td>\n",
       "      <td>1.473180</td>\n",
       "      <td>0.020700</td>\n",
       "      <td>-0.658518</td>\n",
       "    </tr>\n",
       "    <tr>\n",
       "      <th>3</th>\n",
       "      <td>1188.193</td>\n",
       "      <td>270</td>\n",
       "      <td>33</td>\n",
       "      <td>7</td>\n",
       "      <td>7.024026</td>\n",
       "      <td>0.000072</td>\n",
       "      <td>0.150116</td>\n",
       "      <td>0.149741</td>\n",
       "      <td>0.012561</td>\n",
       "      <td>-0.044809</td>\n",
       "    </tr>\n",
       "    <tr>\n",
       "      <th>4</th>\n",
       "      <td>574.513</td>\n",
       "      <td>220</td>\n",
       "      <td>44</td>\n",
       "      <td>5</td>\n",
       "      <td>-5.752861</td>\n",
       "      <td>0.000103</td>\n",
       "      <td>-0.123798</td>\n",
       "      <td>-0.123487</td>\n",
       "      <td>0.026065</td>\n",
       "      <td>-0.149284</td>\n",
       "    </tr>\n",
       "  </tbody>\n",
       "</table>\n",
       "</div>"
      ],
      "text/plain": [
       "    adverts  sales  airplay  attract    residual   cooks_d  standard_resid  \\\n",
       "0    10.256    330       43       10  100.079745  0.058704        2.177404   \n",
       "1   985.685    120       28        7 -108.948992  0.010889       -2.323083   \n",
       "2  1445.563    360       35        7   68.442368  0.011401        1.468802   \n",
       "3  1188.193    270       33        7    7.024026  0.000072        0.150116   \n",
       "4   574.513    220       44        5   -5.752861  0.000103       -0.123798   \n",
       "\n",
       "   student_resid  hat_diag    dfbeta  \n",
       "0       2.198596  0.047191 -5.421827  \n",
       "1      -2.349724  0.008007  0.216017  \n",
       "2       1.473180  0.020700 -0.658518  \n",
       "3       0.149741  0.012561 -0.044809  \n",
       "4      -0.123487  0.026065 -0.149284  "
      ]
     },
     "execution_count": 75,
     "metadata": {},
     "output_type": "execute_result"
    }
   ],
   "source": [
    "df_ = [df, resid, summary_frame, dfbeta]\n",
    "final_summary = reduce(lambda left,right: pd.merge(left,right, left_index=True, right_index=True), df_)\n",
    "final_summary.head()"
   ]
  },
  {
   "cell_type": "code",
   "execution_count": 76,
   "metadata": {},
   "outputs": [],
   "source": [
    "cov_ratio = pd.DataFrame(sms.OLSInfluence(m02).cov_ratio)\n",
    "cov_ratio.columns = ['cov_ratio']"
   ]
  },
  {
   "cell_type": "code",
   "execution_count": 77,
   "metadata": {},
   "outputs": [
    {
     "data": {
      "text/html": [
       "<div>\n",
       "<style scoped>\n",
       "    .dataframe tbody tr th:only-of-type {\n",
       "        vertical-align: middle;\n",
       "    }\n",
       "\n",
       "    .dataframe tbody tr th {\n",
       "        vertical-align: top;\n",
       "    }\n",
       "\n",
       "    .dataframe thead th {\n",
       "        text-align: right;\n",
       "    }\n",
       "</style>\n",
       "<table border=\"1\" class=\"dataframe\">\n",
       "  <thead>\n",
       "    <tr style=\"text-align: right;\">\n",
       "      <th></th>\n",
       "      <th>adverts</th>\n",
       "      <th>sales</th>\n",
       "      <th>airplay</th>\n",
       "      <th>attract</th>\n",
       "      <th>residual</th>\n",
       "      <th>cooks_d</th>\n",
       "      <th>standard_resid</th>\n",
       "      <th>student_resid</th>\n",
       "      <th>hat_diag</th>\n",
       "      <th>dfbeta</th>\n",
       "      <th>cov_ratio</th>\n",
       "    </tr>\n",
       "  </thead>\n",
       "  <tbody>\n",
       "    <tr>\n",
       "      <th>0</th>\n",
       "      <td>10.256</td>\n",
       "      <td>330</td>\n",
       "      <td>43</td>\n",
       "      <td>10</td>\n",
       "      <td>100.079745</td>\n",
       "      <td>0.058704</td>\n",
       "      <td>2.177404</td>\n",
       "      <td>2.198596</td>\n",
       "      <td>0.047191</td>\n",
       "      <td>-5.421827</td>\n",
       "      <td>0.971275</td>\n",
       "    </tr>\n",
       "    <tr>\n",
       "      <th>1</th>\n",
       "      <td>985.685</td>\n",
       "      <td>120</td>\n",
       "      <td>28</td>\n",
       "      <td>7</td>\n",
       "      <td>-108.948992</td>\n",
       "      <td>0.010889</td>\n",
       "      <td>-2.323083</td>\n",
       "      <td>-2.349724</td>\n",
       "      <td>0.008007</td>\n",
       "      <td>0.216017</td>\n",
       "      <td>0.920183</td>\n",
       "    </tr>\n",
       "    <tr>\n",
       "      <th>9</th>\n",
       "      <td>174.093</td>\n",
       "      <td>300</td>\n",
       "      <td>40</td>\n",
       "      <td>7</td>\n",
       "      <td>99.533751</td>\n",
       "      <td>0.017756</td>\n",
       "      <td>2.130289</td>\n",
       "      <td>2.149882</td>\n",
       "      <td>0.015410</td>\n",
       "      <td>-0.215971</td>\n",
       "      <td>0.943920</td>\n",
       "    </tr>\n",
       "    <tr>\n",
       "      <th>46</th>\n",
       "      <td>102.568</td>\n",
       "      <td>40</td>\n",
       "      <td>25</td>\n",
       "      <td>8</td>\n",
       "      <td>-114.969819</td>\n",
       "      <td>0.024115</td>\n",
       "      <td>-2.460996</td>\n",
       "      <td>-2.493538</td>\n",
       "      <td>0.015677</td>\n",
       "      <td>1.137816</td>\n",
       "      <td>0.914580</td>\n",
       "    </tr>\n",
       "    <tr>\n",
       "      <th>51</th>\n",
       "      <td>405.913</td>\n",
       "      <td>190</td>\n",
       "      <td>12</td>\n",
       "      <td>4</td>\n",
       "      <td>97.402661</td>\n",
       "      <td>0.033159</td>\n",
       "      <td>2.099446</td>\n",
       "      <td>2.118034</td>\n",
       "      <td>0.029213</td>\n",
       "      <td>6.069241</td>\n",
       "      <td>0.959953</td>\n",
       "    </tr>\n",
       "    <tr>\n",
       "      <th>54</th>\n",
       "      <td>1542.329</td>\n",
       "      <td>190</td>\n",
       "      <td>33</td>\n",
       "      <td>8</td>\n",
       "      <td>-114.123081</td>\n",
       "      <td>0.040416</td>\n",
       "      <td>-2.455913</td>\n",
       "      <td>-2.488224</td>\n",
       "      <td>0.026104</td>\n",
       "      <td>2.984377</td>\n",
       "      <td>0.924858</td>\n",
       "    </tr>\n",
       "    <tr>\n",
       "      <th>60</th>\n",
       "      <td>579.321</td>\n",
       "      <td>300</td>\n",
       "      <td>30</td>\n",
       "      <td>7</td>\n",
       "      <td>98.810295</td>\n",
       "      <td>0.005948</td>\n",
       "      <td>2.104079</td>\n",
       "      <td>2.122816</td>\n",
       "      <td>0.005346</td>\n",
       "      <td>0.014082</td>\n",
       "      <td>0.936538</td>\n",
       "    </tr>\n",
       "    <tr>\n",
       "      <th>67</th>\n",
       "      <td>56.895</td>\n",
       "      <td>70</td>\n",
       "      <td>37</td>\n",
       "      <td>7</td>\n",
       "      <td>-110.415642</td>\n",
       "      <td>0.022289</td>\n",
       "      <td>-2.363549</td>\n",
       "      <td>-2.391845</td>\n",
       "      <td>0.015709</td>\n",
       "      <td>-0.048133</td>\n",
       "      <td>0.923698</td>\n",
       "    </tr>\n",
       "    <tr>\n",
       "      <th>99</th>\n",
       "      <td>1000.000</td>\n",
       "      <td>250</td>\n",
       "      <td>5</td>\n",
       "      <td>7</td>\n",
       "      <td>97.286661</td>\n",
       "      <td>0.031364</td>\n",
       "      <td>2.095399</td>\n",
       "      <td>2.113858</td>\n",
       "      <td>0.027779</td>\n",
       "      <td>1.051349</td>\n",
       "      <td>0.958877</td>\n",
       "    </tr>\n",
       "    <tr>\n",
       "      <th>163</th>\n",
       "      <td>9.104</td>\n",
       "      <td>120</td>\n",
       "      <td>53</td>\n",
       "      <td>8</td>\n",
       "      <td>-121.324049</td>\n",
       "      <td>0.070766</td>\n",
       "      <td>-2.628814</td>\n",
       "      <td>-2.669584</td>\n",
       "      <td>0.039349</td>\n",
       "      <td>3.072359</td>\n",
       "      <td>0.920373</td>\n",
       "    </tr>\n",
       "    <tr>\n",
       "      <th>168</th>\n",
       "      <td>145.585</td>\n",
       "      <td>360</td>\n",
       "      <td>42</td>\n",
       "      <td>8</td>\n",
       "      <td>144.132462</td>\n",
       "      <td>0.050867</td>\n",
       "      <td>3.093333</td>\n",
       "      <td>3.163622</td>\n",
       "      <td>0.020821</td>\n",
       "      <td>-2.853187</td>\n",
       "      <td>0.853247</td>\n",
       "    </tr>\n",
       "    <tr>\n",
       "      <th>199</th>\n",
       "      <td>785.694</td>\n",
       "      <td>110</td>\n",
       "      <td>20</td>\n",
       "      <td>9</td>\n",
       "      <td>-97.206060</td>\n",
       "      <td>0.025135</td>\n",
       "      <td>-2.088044</td>\n",
       "      <td>-2.106269</td>\n",
       "      <td>0.022540</td>\n",
       "      <td>2.860833</td>\n",
       "      <td>0.954350</td>\n",
       "    </tr>\n",
       "  </tbody>\n",
       "</table>\n",
       "</div>"
      ],
      "text/plain": [
       "      adverts  sales  airplay  attract    residual   cooks_d  standard_resid  \\\n",
       "0      10.256    330       43       10  100.079745  0.058704        2.177404   \n",
       "1     985.685    120       28        7 -108.948992  0.010889       -2.323083   \n",
       "9     174.093    300       40        7   99.533751  0.017756        2.130289   \n",
       "46    102.568     40       25        8 -114.969819  0.024115       -2.460996   \n",
       "51    405.913    190       12        4   97.402661  0.033159        2.099446   \n",
       "54   1542.329    190       33        8 -114.123081  0.040416       -2.455913   \n",
       "60    579.321    300       30        7   98.810295  0.005948        2.104079   \n",
       "67     56.895     70       37        7 -110.415642  0.022289       -2.363549   \n",
       "99   1000.000    250        5        7   97.286661  0.031364        2.095399   \n",
       "163     9.104    120       53        8 -121.324049  0.070766       -2.628814   \n",
       "168   145.585    360       42        8  144.132462  0.050867        3.093333   \n",
       "199   785.694    110       20        9  -97.206060  0.025135       -2.088044   \n",
       "\n",
       "     student_resid  hat_diag    dfbeta  cov_ratio  \n",
       "0         2.198596  0.047191 -5.421827   0.971275  \n",
       "1        -2.349724  0.008007  0.216017   0.920183  \n",
       "9         2.149882  0.015410 -0.215971   0.943920  \n",
       "46       -2.493538  0.015677  1.137816   0.914580  \n",
       "51        2.118034  0.029213  6.069241   0.959953  \n",
       "54       -2.488224  0.026104  2.984377   0.924858  \n",
       "60        2.122816  0.005346  0.014082   0.936538  \n",
       "67       -2.391845  0.015709 -0.048133   0.923698  \n",
       "99        2.113858  0.027779  1.051349   0.958877  \n",
       "163      -2.669584  0.039349  3.072359   0.920373  \n",
       "168       3.163622  0.020821 -2.853187   0.853247  \n",
       "199      -2.106269  0.022540  2.860833   0.954350  "
      ]
     },
     "execution_count": 77,
     "metadata": {},
     "output_type": "execute_result"
    }
   ],
   "source": [
    "# these cases have somewhat large residuals\n",
    "large_resid  = final_summary[(final_summary['standard_resid']>=2) | (final_summary['standard_resid']<=-2)]\n",
    "large_resid = pd.merge(large_resid, cov_ratio, how = 'left', right_index=True, left_index=True)\n",
    "large_resid"
   ]
  },
  {
   "cell_type": "code",
   "execution_count": 78,
   "metadata": {},
   "outputs": [
    {
     "name": "stdout",
     "output_type": "stream",
     "text": [
      "0.02\n"
     ]
    }
   ],
   "source": [
    "# now let's look at cooks distance, leverage, covariance Ratio for these cases\n",
    "k = 3 #number of predictors\n",
    "n = 200 #number of objervations\n",
    "\n",
    "average_leverage = (k+1)/n\n",
    "print(average_leverage)\n"
   ]
  },
  {
   "cell_type": "code",
   "execution_count": 79,
   "metadata": {},
   "outputs": [
    {
     "name": "stdout",
     "output_type": "stream",
     "text": [
      "0.94 1.06\n"
     ]
    }
   ],
   "source": [
    "cvr_limit_high = 1+3*average_leverage\n",
    "cvr_limit_low  = 1-3*average_leverage\n",
    "\n",
    "print(cvr_limit_low, cvr_limit_high)"
   ]
  },
  {
   "cell_type": "markdown",
   "metadata": {},
   "source": [
    "#### from this large residual model we conclude that\n",
    "#### Most of our 12 potential outliers have CVR values within or just outside the boundaries.\n",
    "#### none of them has a Cook’s distance greater than 1,  so none of the cases is having an undue influence on the model.\n",
    "\n",
    "\n",
    "#### So , Note:\n",
    "\n",
    "#### i) Look at standardized residuals and check that no more than 5% of cases have absolute values above 2, \n",
    "####    and that no more than about 1% have absolute values above 2.5. Any case with a value above about 3 could be an outlier.\n",
    "\n",
    "#### ii)Look at the values of Cook’s distance: any value above 1 indicates a case that might be influencing the model.\n",
    "\n",
    "#### iii)Calculate the average leverage (the number of predictors plus 1, divided by the sample size) \n",
    "####      and then look for values greater than twice or three times this average value\n",
    "\n",
    "#### iv)Calculate the upper and lower limit of acceptable values for the covariance ratio, CVR.\n",
    "####        The upper limit is 1 plus three times the average leverage, whereas \n",
    "####        the lower limit is 1 minus three times the average leverage. \n",
    "####        Cases that have a CVR falling outside these limits may be problematic"
   ]
  },
  {
   "cell_type": "markdown",
   "metadata": {},
   "source": [
    "## Testing Various Assumptions"
   ]
  },
  {
   "cell_type": "markdown",
   "metadata": {},
   "source": [
    "### i) Assumptions of Independent Errors"
   ]
  },
  {
   "cell_type": "code",
   "execution_count": 80,
   "metadata": {},
   "outputs": [
    {
     "name": "stdout",
     "output_type": "stream",
     "text": [
      "1.9498189295800616\n"
     ]
    }
   ],
   "source": [
    "from statsmodels.stats.stattools import durbin_watson\n",
    "print(durbin_watson(m02.resid))\n",
    "\n",
    "# The closer to 2 that the value is, the better, and for these data the value is 1.950,\n",
    "# which is so close to 2 that the assumption has almost certainly been met."
   ]
  },
  {
   "cell_type": "markdown",
   "metadata": {},
   "source": [
    "### ii) Assumption of no multicollinearity"
   ]
  },
  {
   "cell_type": "code",
   "execution_count": 81,
   "metadata": {},
   "outputs": [],
   "source": [
    "from statsmodels.tools.tools import add_constant\n",
    "from statsmodels.stats.outliers_influence import variance_inflation_factor\n",
    "\n",
    "df_ = add_constant(df)\n",
    "df_.drop(['sales'], inplace=True,axis=1)  # dropping Dependent variable"
   ]
  },
  {
   "cell_type": "code",
   "execution_count": 82,
   "metadata": {},
   "outputs": [],
   "source": [
    "vif = pd.Series([variance_inflation_factor(df_.values, i) \n",
    "               for i in range(1, df_.shape[1])], \n",
    "              index=df_.columns[1:])"
   ]
  },
  {
   "cell_type": "code",
   "execution_count": 83,
   "metadata": {},
   "outputs": [
    {
     "name": "stdout",
     "output_type": "stream",
     "text": [
      "adverts    1.014593\n",
      "airplay    1.042504\n",
      "attract    1.038455\n",
      "dtype: float64\n"
     ]
    }
   ],
   "source": [
    "print(vif)"
   ]
  },
  {
   "cell_type": "code",
   "execution_count": 84,
   "metadata": {},
   "outputs": [
    {
     "name": "stdout",
     "output_type": "stream",
     "text": [
      "1.0318504825952806\n"
     ]
    }
   ],
   "source": [
    "avg_vif  = np.mean(vif)\n",
    "print(avg_vif)"
   ]
  },
  {
   "cell_type": "code",
   "execution_count": 85,
   "metadata": {},
   "outputs": [
    {
     "name": "stdout",
     "output_type": "stream",
     "text": [
      "adverts    0.985617\n",
      "airplay    0.959229\n",
      "attract    0.962969\n",
      "dtype: float64\n"
     ]
    }
   ],
   "source": [
    "tolerance  = 1/vif\n",
    "print(tolerance)"
   ]
  },
  {
   "cell_type": "markdown",
   "metadata": {},
   "source": [
    "#####  the assumption of multicollinearity is followed too"
   ]
  },
  {
   "cell_type": "markdown",
   "metadata": {},
   "source": [
    "### iii) Assumption about the Residuals"
   ]
  },
  {
   "cell_type": "code",
   "execution_count": 86,
   "metadata": {},
   "outputs": [],
   "source": [
    "prediction = pd.DataFrame(m02.fittedvalues)\n",
    "prediction.columns = ['predicted']"
   ]
  },
  {
   "cell_type": "code",
   "execution_count": 87,
   "metadata": {},
   "outputs": [
    {
     "data": {
      "text/html": [
       "<div>\n",
       "<style scoped>\n",
       "    .dataframe tbody tr th:only-of-type {\n",
       "        vertical-align: middle;\n",
       "    }\n",
       "\n",
       "    .dataframe tbody tr th {\n",
       "        vertical-align: top;\n",
       "    }\n",
       "\n",
       "    .dataframe thead th {\n",
       "        text-align: right;\n",
       "    }\n",
       "</style>\n",
       "<table border=\"1\" class=\"dataframe\">\n",
       "  <thead>\n",
       "    <tr style=\"text-align: right;\">\n",
       "      <th></th>\n",
       "      <th>adverts</th>\n",
       "      <th>sales</th>\n",
       "      <th>airplay</th>\n",
       "      <th>attract</th>\n",
       "      <th>residual</th>\n",
       "      <th>cooks_d</th>\n",
       "      <th>standard_resid</th>\n",
       "      <th>student_resid</th>\n",
       "      <th>hat_diag</th>\n",
       "      <th>dfbeta</th>\n",
       "    </tr>\n",
       "  </thead>\n",
       "  <tbody>\n",
       "    <tr>\n",
       "      <th>0</th>\n",
       "      <td>10.256</td>\n",
       "      <td>330</td>\n",
       "      <td>43</td>\n",
       "      <td>10</td>\n",
       "      <td>100.079745</td>\n",
       "      <td>0.058704</td>\n",
       "      <td>2.177404</td>\n",
       "      <td>2.198596</td>\n",
       "      <td>0.047191</td>\n",
       "      <td>-5.421827</td>\n",
       "    </tr>\n",
       "    <tr>\n",
       "      <th>1</th>\n",
       "      <td>985.685</td>\n",
       "      <td>120</td>\n",
       "      <td>28</td>\n",
       "      <td>7</td>\n",
       "      <td>-108.948992</td>\n",
       "      <td>0.010889</td>\n",
       "      <td>-2.323083</td>\n",
       "      <td>-2.349724</td>\n",
       "      <td>0.008007</td>\n",
       "      <td>0.216017</td>\n",
       "    </tr>\n",
       "    <tr>\n",
       "      <th>2</th>\n",
       "      <td>1445.563</td>\n",
       "      <td>360</td>\n",
       "      <td>35</td>\n",
       "      <td>7</td>\n",
       "      <td>68.442368</td>\n",
       "      <td>0.011401</td>\n",
       "      <td>1.468802</td>\n",
       "      <td>1.473180</td>\n",
       "      <td>0.020700</td>\n",
       "      <td>-0.658518</td>\n",
       "    </tr>\n",
       "    <tr>\n",
       "      <th>3</th>\n",
       "      <td>1188.193</td>\n",
       "      <td>270</td>\n",
       "      <td>33</td>\n",
       "      <td>7</td>\n",
       "      <td>7.024026</td>\n",
       "      <td>0.000072</td>\n",
       "      <td>0.150116</td>\n",
       "      <td>0.149741</td>\n",
       "      <td>0.012561</td>\n",
       "      <td>-0.044809</td>\n",
       "    </tr>\n",
       "    <tr>\n",
       "      <th>4</th>\n",
       "      <td>574.513</td>\n",
       "      <td>220</td>\n",
       "      <td>44</td>\n",
       "      <td>5</td>\n",
       "      <td>-5.752861</td>\n",
       "      <td>0.000103</td>\n",
       "      <td>-0.123798</td>\n",
       "      <td>-0.123487</td>\n",
       "      <td>0.026065</td>\n",
       "      <td>-0.149284</td>\n",
       "    </tr>\n",
       "  </tbody>\n",
       "</table>\n",
       "</div>"
      ],
      "text/plain": [
       "    adverts  sales  airplay  attract    residual   cooks_d  standard_resid  \\\n",
       "0    10.256    330       43       10  100.079745  0.058704        2.177404   \n",
       "1   985.685    120       28        7 -108.948992  0.010889       -2.323083   \n",
       "2  1445.563    360       35        7   68.442368  0.011401        1.468802   \n",
       "3  1188.193    270       33        7    7.024026  0.000072        0.150116   \n",
       "4   574.513    220       44        5   -5.752861  0.000103       -0.123798   \n",
       "\n",
       "   student_resid  hat_diag    dfbeta  \n",
       "0       2.198596  0.047191 -5.421827  \n",
       "1      -2.349724  0.008007  0.216017  \n",
       "2       1.473180  0.020700 -0.658518  \n",
       "3       0.149741  0.012561 -0.044809  \n",
       "4      -0.123487  0.026065 -0.149284  "
      ]
     },
     "execution_count": 87,
     "metadata": {},
     "output_type": "execute_result"
    }
   ],
   "source": [
    "prediction['standarized_prediction']  = (prediction['predicted']-prediction['predicted'].mean())/prediction['predicted'].std()\n",
    "final_summary.head()"
   ]
  },
  {
   "cell_type": "code",
   "execution_count": 89,
   "metadata": {},
   "outputs": [
    {
     "data": {
      "image/png": "[encoded data removed]",
      "text/plain": [
       "<Figure size 432x288 with 1 Axes>"
      ]
     },
     "metadata": {
      "needs_background": "light"
     },
     "output_type": "display_data"
    }
   ],
   "source": [
    "_ = sns.scatterplot(x= final_summary['standard_resid'], y = prediction['standarized_prediction'] )\n",
    "_ = plt.axhline(y=0)\n",
    "plt.show()"
   ]
  },
  {
   "cell_type": "code",
   "execution_count": 90,
   "metadata": {},
   "outputs": [
    {
     "data": {
      "image/png": "[encoded data removed]",
      "text/plain": [
       "<Figure size 360x288 with 1 Axes>"
      ]
     },
     "metadata": {
      "needs_background": "light"
     },
     "output_type": "display_data"
    }
   ],
   "source": [
    "_ = pg.qqplot(final_summary['standard_resid'])\n",
    "plt.show()"
   ]
  },
  {
   "cell_type": "code",
   "execution_count": 99,
   "metadata": {},
   "outputs": [
    {
     "data": {
      "image/png": "[encoded data removed]",
      "text/plain": [
       "<Figure size 432x288 with 1 Axes>"
      ]
     },
     "metadata": {
      "needs_background": "light"
     },
     "output_type": "display_data"
    }
   ],
   "source": [
    "fig,ax = plt.subplots(figsize=(6, 4))\n",
    "ax = plt.hist(final_summary['student_resid'],density=True,bins=30, edgecolor='black', linewidth=1.4)\n",
    "plt.xlabel('student_resid', fontsize=14)\n",
    "plt.show()"
   ]
  },
  {
   "cell_type": "markdown",
   "metadata": {},
   "source": [
    "##### this assumption was also met"
   ]
  },
  {
   "cell_type": "code",
   "execution_count": null,
   "metadata": {},
   "outputs": [],
   "source": []
  }
 ],
 "metadata": {
  "@webio": {
   "lastCommId": null,
   "lastKernelId": null
  },
  "kernelspec": {
   "display_name": "Python 3",
   "language": "python",
   "name": "python3"
  },
  "language_info": {
   "codemirror_mode": {
    "name": "ipython",
    "version": 3
   },
   "file_extension": ".py",
   "mimetype": "text/x-python",
   "name": "python",
   "nbconvert_exporter": "python",
   "pygments_lexer": "ipython3",
   "version": "3.8.2"
  }
 },
 "nbformat": 4,
 "nbformat_minor": 4
}

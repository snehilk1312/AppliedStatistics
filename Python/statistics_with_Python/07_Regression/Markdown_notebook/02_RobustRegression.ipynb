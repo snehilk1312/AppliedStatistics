{
 "cells": [
  {
   "cell_type": "code",
   "execution_count": 7,
   "metadata": {},
   "outputs": [],
   "source": [
    "import pandas as pd\n",
    "import statsmodels.api as sm\n",
    "from statsmodels.tools.tools import add_constant"
   ]
  },
  {
   "cell_type": "code",
   "execution_count": 8,
   "metadata": {},
   "outputs": [
    {
     "name": "stdout",
     "output_type": "stream",
     "text": [
      "   const   adverts  sales  airplay  attract\n",
      "0    1.0    10.256    330       43       10\n",
      "1    1.0   985.685    120       28        7\n",
      "2    1.0  1445.563    360       35        7\n",
      "3    1.0  1188.193    270       33        7\n",
      "4    1.0   574.513    220       44        5\n"
     ]
    }
   ],
   "source": [
    "data = pd.read_csv('/home/atrides/Desktop/R/statistics_with_Python/07_Regression/Data_Files/Album Sales 2.dat' , sep='\\t')\n",
    "data = add_constant(data)\n",
    "print(data.head())"
   ]
  },
  {
   "cell_type": "code",
   "execution_count": 9,
   "metadata": {},
   "outputs": [],
   "source": [
    "a_ = data[['const','adverts', 'airplay', 'attract']]\n",
    "b_ = data[['sales']]"
   ]
  },
  {
   "cell_type": "markdown",
   "metadata": {},
   "source": [
    "## What if I violate an assumption!"
   ]
  },
  {
   "cell_type": "code",
   "execution_count": 10,
   "metadata": {},
   "outputs": [
    {
     "name": "stdout",
     "output_type": "stream",
     "text": [
      "                    Robust linear Model Regression Results                    \n",
      "==============================================================================\n",
      "Dep. Variable:                  sales   No. Observations:                  200\n",
      "Model:                            RLM   Df Residuals:                      196\n",
      "Method:                          IRLS   Df Model:                            3\n",
      "Norm:                          HuberT                                         \n",
      "Scale Est.:                       mad                                         \n",
      "Cov Type:                          H1                                         \n",
      "Date:                Tue, 15 Sep 2020                                         \n",
      "Time:                        22:07:50                                         \n",
      "No. Iterations:                    10                                         \n",
      "==============================================================================\n",
      "                 coef    std err          z      P>|z|      [0.025      0.975]\n",
      "------------------------------------------------------------------------------\n",
      "const        -29.6912     17.386     -1.708      0.088     -63.768       4.385\n",
      "adverts        0.0857      0.007     12.350      0.000       0.072       0.099\n",
      "airplay        3.3930      0.278     12.189      0.000       2.847       3.939\n",
      "attract       11.4426      2.443      4.684      0.000       6.655      16.231\n",
      "==============================================================================\n",
      "\n",
      "If the model instance has been used for another fit with different fit parameters, then the fit options might not be the correct ones anymore .\n"
     ]
    }
   ],
   "source": [
    "rlm_model = sm.RLM(b_, a_)\n",
    "rlm_res = rlm_model.fit()\n",
    "print(rlm_res.summary())"
   ]
  },
  {
   "cell_type": "code",
   "execution_count": null,
   "metadata": {},
   "outputs": [],
   "source": []
  }
 ],
 "metadata": {
  "@webio": {
   "lastCommId": null,
   "lastKernelId": null
  },
  "kernelspec": {
   "display_name": "Python 3",
   "language": "python",
   "name": "python3"
  },
  "language_info": {
   "codemirror_mode": {
    "name": "ipython",
    "version": 3
   },
   "file_extension": ".py",
   "mimetype": "text/x-python",
   "name": "python",
   "nbconvert_exporter": "python",
   "pygments_lexer": "ipython3",
   "version": "3.8.2"
  }
 },
 "nbformat": 4,
 "nbformat_minor": 4
}

{
 "cells": [
  {
   "cell_type": "code",
   "execution_count": 33,
   "metadata": {},
   "outputs": [],
   "source": [
    "import pandas as pd\n",
    "import numpy as np\n",
    "import matplotlib.pyplot as plt\n",
    "import seaborn as sns\n",
    "import scipy.stats as st\n",
    "import statsmodels.api as sm\n",
    "import pingouin as pg\n",
    "import statsmodels.stats.outliers_influence as sms\n",
    "from functools import reduce\n",
    "from statsmodels.stats.stattools import durbin_watson\n",
    "from statsmodels.formula.api import ols\n",
    "from statsmodels.stats.anova import anova_lm"
   ]
  },
  {
   "cell_type": "code",
   "execution_count": 3,
   "metadata": {},
   "outputs": [
    {
     "name": "stdout",
     "output_type": "stream",
     "text": [
      "   ticknumb                   music  day1  day2  day3 change\n",
      "0      2111                Metaller  2.65  1.35  1.61  -1.04\n",
      "1      2229                  Crusty  0.97  1.41   .29   -.68\n",
      "2      2338  No Musical Affiliation  0.84                   \n",
      "3      2384                  Crusty  3.03                   \n",
      "4      2401  No Musical Affiliation  0.88   .08             \n"
     ]
    }
   ],
   "source": [
    "da = pd.read_csv('/home/atrides/Desktop/R/statistics_with_Python/07_Regression/Data_Files/GlastonburyFestivalRegression.dat', sep='\\t')\n",
    "print(da.head())"
   ]
  },
  {
   "cell_type": "code",
   "execution_count": 5,
   "metadata": {},
   "outputs": [
    {
     "data": {
      "text/plain": [
       "array(['Metaller', 'Crusty', 'No Musical Affiliation', 'Indie Kid'],\n",
       "      dtype=object)"
      ]
     },
     "execution_count": 5,
     "metadata": {},
     "output_type": "execute_result"
    }
   ],
   "source": [
    "da.replace(' ' ,np.nan, inplace=True)\n",
    "da['music'].unique()"
   ]
  },
  {
   "cell_type": "code",
   "execution_count": 6,
   "metadata": {},
   "outputs": [],
   "source": [
    "da_ = da[da['change'].notna()]"
   ]
  },
  {
   "cell_type": "code",
   "execution_count": 8,
   "metadata": {},
   "outputs": [
    {
     "name": "stdout",
     "output_type": "stream",
     "text": [
      "    Crusty  Indie Kid  Metaller\n",
      "0        0          0         1\n",
      "1        1          0         0\n",
      "9        0          0         0\n",
      "11       1          0         0\n",
      "13       0          0         0\n"
     ]
    }
   ],
   "source": [
    "dummies = pd.get_dummies(da_['music'])\n",
    "dummy = dummies.iloc[:,0:3]\n",
    "print(dummy.head())"
   ]
  },
  {
   "cell_type": "code",
   "execution_count": 9,
   "metadata": {},
   "outputs": [
    {
     "name": "stdout",
     "output_type": "stream",
     "text": [
      "<class 'pandas.core.frame.DataFrame'>\n",
      "Int64Index: 123 entries, 0 to 800\n",
      "Data columns (total 9 columns):\n",
      " #   Column    Non-Null Count  Dtype  \n",
      "---  ------    --------------  -----  \n",
      " 0   ticknumb  123 non-null    int64  \n",
      " 1   music     123 non-null    object \n",
      " 2   day1      123 non-null    float64\n",
      " 3   day2      123 non-null    object \n",
      " 4   day3      123 non-null    object \n",
      " 5   change    123 non-null    object \n",
      " 6   Crusty    123 non-null    uint8  \n",
      " 7   Indie     123 non-null    uint8  \n",
      " 8   Metaller  123 non-null    uint8  \n",
      "dtypes: float64(1), int64(1), object(4), uint8(3)\n",
      "memory usage: 12.1+ KB\n",
      "None\n"
     ]
    }
   ],
   "source": [
    "da_ = pd.merge(da_, dummy, how='inner', left_index=True, right_index=True)\n",
    "\n",
    "col =list(da_.columns)\n",
    "col[-2]='Indie'\n",
    "da_.columns=col\n",
    "\n",
    "print(da_.info())"
   ]
  },
  {
   "cell_type": "code",
   "execution_count": 13,
   "metadata": {},
   "outputs": [
    {
     "name": "stdout",
     "output_type": "stream",
     "text": [
      "                            OLS Regression Results                            \n",
      "==============================================================================\n",
      "Dep. Variable:                 change   R-squared:                       0.076\n",
      "Model:                            OLS   Adj. R-squared:                  0.053\n",
      "Method:                 Least Squares   F-statistic:                     3.270\n",
      "Date:                Tue, 15 Sep 2020   Prob (F-statistic):             0.0237\n",
      "Time:                        22:14:25   Log-Likelihood:                -126.53\n",
      "No. Observations:                 123   AIC:                             261.1\n",
      "Df Residuals:                     119   BIC:                             272.3\n",
      "Df Model:                           3                                         \n",
      "Covariance Type:            nonrobust                                         \n",
      "==============================================================================\n",
      "                 coef    std err          t      P>|t|      [0.025      0.975]\n",
      "------------------------------------------------------------------------------\n",
      "Intercept     -0.5543      0.090     -6.134      0.000      -0.733      -0.375\n",
      "Crusty        -0.4115      0.167     -2.464      0.015      -0.742      -0.081\n",
      "Indie         -0.4100      0.205     -2.001      0.048      -0.816      -0.004\n",
      "Metaller       0.0284      0.160      0.177      0.860      -0.289       0.346\n",
      "==============================================================================\n",
      "Omnibus:                        0.870   Durbin-Watson:                   1.893\n",
      "Prob(Omnibus):                  0.647   Jarque-Bera (JB):                0.881\n",
      "Skew:                          -0.197   Prob(JB):                        0.644\n",
      "Kurtosis:                       2.871   Cond. No.                         3.96\n",
      "==============================================================================\n",
      "\n",
      "Notes:\n",
      "[1] Standard Errors assume that the covariance matrix of the errors is correctly specified.\n"
     ]
    }
   ],
   "source": [
    "da_['change']=pd.to_numeric(da_['change'])\n",
    "m03 = ols('change~Crusty+Indie+Metaller', data=da_).fit()\n",
    "print(m03.summary())"
   ]
  },
  {
   "cell_type": "markdown",
   "metadata": {},
   "source": [
    "#### what does these coeffiecients represent this actually represents the difference in the change in hygiene scores if a person has no musical affiliation,  compared to someone who is a crusty, indie, metal, Rescpectively"
   ]
  },
  {
   "cell_type": "markdown",
   "metadata": {},
   "source": [
    "### Outliers and Influential cases"
   ]
  },
  {
   "cell_type": "code",
   "execution_count": 17,
   "metadata": {},
   "outputs": [
    {
     "data": {
      "text/html": [
       "<div>\n",
       "<style scoped>\n",
       "    .dataframe tbody tr th:only-of-type {\n",
       "        vertical-align: middle;\n",
       "    }\n",
       "\n",
       "    .dataframe tbody tr th {\n",
       "        vertical-align: top;\n",
       "    }\n",
       "\n",
       "    .dataframe thead th {\n",
       "        text-align: right;\n",
       "    }\n",
       "</style>\n",
       "<table border=\"1\" class=\"dataframe\">\n",
       "  <thead>\n",
       "    <tr style=\"text-align: right;\">\n",
       "      <th></th>\n",
       "      <th>cooks_d</th>\n",
       "      <th>standard_resid</th>\n",
       "      <th>student_resid</th>\n",
       "      <th>hat_diag</th>\n",
       "    </tr>\n",
       "  </thead>\n",
       "  <tbody>\n",
       "    <tr>\n",
       "      <th>0</th>\n",
       "      <td>5.571876e-03</td>\n",
       "      <td>-0.761233</td>\n",
       "      <td>-0.759880</td>\n",
       "      <td>0.037037</td>\n",
       "    </tr>\n",
       "    <tr>\n",
       "      <th>1</th>\n",
       "      <td>1.956655e-03</td>\n",
       "      <td>0.424279</td>\n",
       "      <td>0.422812</td>\n",
       "      <td>0.041667</td>\n",
       "    </tr>\n",
       "    <tr>\n",
       "      <th>2</th>\n",
       "      <td>3.050585e-07</td>\n",
       "      <td>-0.008340</td>\n",
       "      <td>-0.008305</td>\n",
       "      <td>0.017241</td>\n",
       "    </tr>\n",
       "    <tr>\n",
       "      <th>3</th>\n",
       "      <td>9.082698e-03</td>\n",
       "      <td>0.914116</td>\n",
       "      <td>0.913480</td>\n",
       "      <td>0.041667</td>\n",
       "    </tr>\n",
       "    <tr>\n",
       "      <th>4</th>\n",
       "      <td>1.320307e-03</td>\n",
       "      <td>0.548662</td>\n",
       "      <td>0.547044</td>\n",
       "      <td>0.017241</td>\n",
       "    </tr>\n",
       "  </tbody>\n",
       "</table>\n",
       "</div>"
      ],
      "text/plain": [
       "        cooks_d  standard_resid  student_resid  hat_diag\n",
       "0  5.571876e-03       -0.761233      -0.759880  0.037037\n",
       "1  1.956655e-03        0.424279       0.422812  0.041667\n",
       "2  3.050585e-07       -0.008340      -0.008305  0.017241\n",
       "3  9.082698e-03        0.914116       0.913480  0.041667\n",
       "4  1.320307e-03        0.548662       0.547044  0.017241"
      ]
     },
     "execution_count": 17,
     "metadata": {},
     "output_type": "execute_result"
    }
   ],
   "source": [
    "summary_ = sms.OLSInfluence(m03).summary_frame()\n",
    "summary_ = summary_[['cooks_d','standard_resid', 'student_resid', 'hat_diag' ]]\n",
    "summary_.reset_index(inplace=True, drop=True)\n",
    "summary_.head()"
   ]
  },
  {
   "cell_type": "code",
   "execution_count": 19,
   "metadata": {},
   "outputs": [],
   "source": [
    "da_.reset_index(inplace=True, drop=True)\n",
    "\n",
    "resid = pd.DataFrame(da_['change'] - m03.fittedvalues)\n",
    "resid.columns = ['residual']\n",
    "resid.reset_index(inplace=True, drop=True)"
   ]
  },
  {
   "cell_type": "code",
   "execution_count": 21,
   "metadata": {},
   "outputs": [],
   "source": [
    "dfbeta = pd.DataFrame(pd.DataFrame(sms.OLSInfluence(m03).dfbeta)[0])\n",
    "dfbeta.columns = ['dfbeta']"
   ]
  },
  {
   "cell_type": "code",
   "execution_count": 25,
   "metadata": {},
   "outputs": [],
   "source": [
    "cov_ratio = pd.DataFrame(sms.OLSInfluence(m03).cov_ratio)\n",
    "cov_ratio.columns = ['cov_ratio']"
   ]
  },
  {
   "cell_type": "code",
   "execution_count": 22,
   "metadata": {},
   "outputs": [],
   "source": [
    "dq = [da_, resid, summary_, dfbeta]"
   ]
  },
  {
   "cell_type": "code",
   "execution_count": 23,
   "metadata": {},
   "outputs": [],
   "source": [
    "final_summary = reduce(lambda left,right: pd.merge(left,right, left_index=True, right_index=True), dq)"
   ]
  },
  {
   "cell_type": "code",
   "execution_count": 26,
   "metadata": {},
   "outputs": [
    {
     "data": {
      "text/html": [
       "<div>\n",
       "<style scoped>\n",
       "    .dataframe tbody tr th:only-of-type {\n",
       "        vertical-align: middle;\n",
       "    }\n",
       "\n",
       "    .dataframe tbody tr th {\n",
       "        vertical-align: top;\n",
       "    }\n",
       "\n",
       "    .dataframe thead th {\n",
       "        text-align: right;\n",
       "    }\n",
       "</style>\n",
       "<table border=\"1\" class=\"dataframe\">\n",
       "  <thead>\n",
       "    <tr style=\"text-align: right;\">\n",
       "      <th></th>\n",
       "      <th>ticknumb</th>\n",
       "      <th>music</th>\n",
       "      <th>day1</th>\n",
       "      <th>day2</th>\n",
       "      <th>day3</th>\n",
       "      <th>change</th>\n",
       "      <th>Crusty</th>\n",
       "      <th>Indie</th>\n",
       "      <th>Metaller</th>\n",
       "      <th>residual</th>\n",
       "      <th>cooks_d</th>\n",
       "      <th>standard_resid</th>\n",
       "      <th>student_resid</th>\n",
       "      <th>hat_diag</th>\n",
       "      <th>dfbeta</th>\n",
       "    </tr>\n",
       "  </thead>\n",
       "  <tbody>\n",
       "    <tr>\n",
       "      <th>7</th>\n",
       "      <td>2604</td>\n",
       "      <td>Crusty</td>\n",
       "      <td>2.57</td>\n",
       "      <td>.11</td>\n",
       "      <td>.02</td>\n",
       "      <td>-2.55</td>\n",
       "      <td>1</td>\n",
       "      <td>0</td>\n",
       "      <td>0</td>\n",
       "      <td>NaN</td>\n",
       "      <td>0.060102</td>\n",
       "      <td>-2.351468</td>\n",
       "      <td>-2.397940</td>\n",
       "      <td>0.041667</td>\n",
       "      <td>4.440892e-16</td>\n",
       "    </tr>\n",
       "    <tr>\n",
       "      <th>21</th>\n",
       "      <td>2975</td>\n",
       "      <td>No Musical Affiliation</td>\n",
       "      <td>1.66</td>\n",
       "      <td>2.12</td>\n",
       "      <td>2.7</td>\n",
       "      <td>1.04</td>\n",
       "      <td>0</td>\n",
       "      <td>0</td>\n",
       "      <td>0</td>\n",
       "      <td>NaN</td>\n",
       "      <td>0.023953</td>\n",
       "      <td>2.336931</td>\n",
       "      <td>2.382401</td>\n",
       "      <td>0.017241</td>\n",
       "      <td>2.797036e-02</td>\n",
       "    </tr>\n",
       "    <tr>\n",
       "      <th>26</th>\n",
       "      <td>3095</td>\n",
       "      <td>No Musical Affiliation</td>\n",
       "      <td>2.71</td>\n",
       "      <td>.78</td>\n",
       "      <td>.33</td>\n",
       "      <td>-2.38</td>\n",
       "      <td>0</td>\n",
       "      <td>0</td>\n",
       "      <td>0</td>\n",
       "      <td>NaN</td>\n",
       "      <td>0.031410</td>\n",
       "      <td>-2.676086</td>\n",
       "      <td>-2.748813</td>\n",
       "      <td>0.017241</td>\n",
       "      <td>-3.202964e-02</td>\n",
       "    </tr>\n",
       "    <tr>\n",
       "      <th>46</th>\n",
       "      <td>3490</td>\n",
       "      <td>No Musical Affiliation</td>\n",
       "      <td>2.55</td>\n",
       "      <td>.82</td>\n",
       "      <td>.29</td>\n",
       "      <td>-2.26</td>\n",
       "      <td>0</td>\n",
       "      <td>0</td>\n",
       "      <td>0</td>\n",
       "      <td>NaN</td>\n",
       "      <td>0.027416</td>\n",
       "      <td>-2.500190</td>\n",
       "      <td>-2.557747</td>\n",
       "      <td>0.017241</td>\n",
       "      <td>-2.992438e-02</td>\n",
       "    </tr>\n",
       "    <tr>\n",
       "      <th>69</th>\n",
       "      <td>3792</td>\n",
       "      <td>No Musical Affiliation</td>\n",
       "      <td>1.32</td>\n",
       "      <td>1.7</td>\n",
       "      <td>2.29</td>\n",
       "      <td>0.97</td>\n",
       "      <td>0</td>\n",
       "      <td>0</td>\n",
       "      <td>0</td>\n",
       "      <td>NaN</td>\n",
       "      <td>0.021896</td>\n",
       "      <td>2.234325</td>\n",
       "      <td>2.273109</td>\n",
       "      <td>0.017241</td>\n",
       "      <td>2.674229e-02</td>\n",
       "    </tr>\n",
       "  </tbody>\n",
       "</table>\n",
       "</div>"
      ],
      "text/plain": [
       "    ticknumb                   music  day1  day2  day3  change  Crusty  Indie  \\\n",
       "7       2604                  Crusty  2.57   .11   .02   -2.55       1      0   \n",
       "21      2975  No Musical Affiliation  1.66  2.12   2.7    1.04       0      0   \n",
       "26      3095  No Musical Affiliation  2.71   .78   .33   -2.38       0      0   \n",
       "46      3490  No Musical Affiliation  2.55   .82   .29   -2.26       0      0   \n",
       "69      3792  No Musical Affiliation  1.32   1.7  2.29    0.97       0      0   \n",
       "\n",
       "    Metaller  residual   cooks_d  standard_resid  student_resid  hat_diag  \\\n",
       "7          0       NaN  0.060102       -2.351468      -2.397940  0.041667   \n",
       "21         0       NaN  0.023953        2.336931       2.382401  0.017241   \n",
       "26         0       NaN  0.031410       -2.676086      -2.748813  0.017241   \n",
       "46         0       NaN  0.027416       -2.500190      -2.557747  0.017241   \n",
       "69         0       NaN  0.021896        2.234325       2.273109  0.017241   \n",
       "\n",
       "          dfbeta  \n",
       "7   4.440892e-16  \n",
       "21  2.797036e-02  \n",
       "26 -3.202964e-02  \n",
       "46 -2.992438e-02  \n",
       "69  2.674229e-02  "
      ]
     },
     "execution_count": 26,
     "metadata": {},
     "output_type": "execute_result"
    }
   ],
   "source": [
    "large_resid  = final_summary[(final_summary['standard_resid']>=2) | (final_summary['standard_resid']<=-2)]\n",
    "large_resid"
   ]
  },
  {
   "cell_type": "code",
   "execution_count": 29,
   "metadata": {},
   "outputs": [
    {
     "name": "stdout",
     "output_type": "stream",
     "text": [
      "0.032520325203252036\n"
     ]
    }
   ],
   "source": [
    "k = 3 #number of predictors\n",
    "n = 123 #number of objervations\n",
    "\n",
    "average_leverage = (k+1)/n\n",
    "print(average_leverage)"
   ]
  },
  {
   "cell_type": "code",
   "execution_count": 30,
   "metadata": {},
   "outputs": [
    {
     "name": "stdout",
     "output_type": "stream",
     "text": [
      "0.9024390243902439 1.0975609756097562\n"
     ]
    }
   ],
   "source": [
    "cvr_limit_high = 1+3*average_leverage\n",
    "cvr_limit_low  = 1-3*average_leverage\n",
    "\n",
    "print(cvr_limit_low, cvr_limit_high)"
   ]
  },
  {
   "cell_type": "code",
   "execution_count": 31,
   "metadata": {},
   "outputs": [
    {
     "name": "stdout",
     "output_type": "stream",
     "text": [
      "cov_ratio    0.892255\n",
      "Name: 7, dtype: float64\n",
      "cov_ratio    0.872171\n",
      "Name: 21, dtype: float64\n",
      "cov_ratio    0.821091\n",
      "Name: 26, dtype: float64\n",
      "cov_ratio    0.848158\n",
      "Name: 46, dtype: float64\n",
      "cov_ratio    0.886672\n",
      "Name: 69, dtype: float64\n"
     ]
    }
   ],
   "source": [
    "print(cov_ratio.iloc[7])\n",
    "print(cov_ratio.iloc[21])\n",
    "print(cov_ratio.iloc[26])\n",
    "print(cov_ratio.iloc[46])\n",
    "print(cov_ratio.iloc[69])"
   ]
  },
  {
   "cell_type": "markdown",
   "metadata": {},
   "source": [
    "#### Therefore, we are looking for any cases that deviate substantially from these boundaries.. However, given the Cook’s distance for this case, there is probably little cause for alarm.None of them has a Cook’s distance greater than 1, so none of the cases is having an undue influence on the model."
   ]
  },
  {
   "cell_type": "markdown",
   "metadata": {},
   "source": [
    "## Checking Assumptions"
   ]
  },
  {
   "cell_type": "markdown",
   "metadata": {},
   "source": [
    "#### Checking Assumptions of Independent Errors"
   ]
  },
  {
   "cell_type": "code",
   "execution_count": 35,
   "metadata": {},
   "outputs": [
    {
     "name": "stdout",
     "output_type": "stream",
     "text": [
      "1.8934071205674472\n"
     ]
    }
   ],
   "source": [
    "print(durbin_watson(m03.resid))"
   ]
  },
  {
   "cell_type": "markdown",
   "metadata": {},
   "source": [
    "#### Assumption of no multicollinearity"
   ]
  },
  {
   "cell_type": "code",
   "execution_count": 37,
   "metadata": {},
   "outputs": [],
   "source": [
    "from statsmodels.tools.tools import add_constant\n",
    "from statsmodels.stats.outliers_influence import variance_inflation_factor\n",
    "da_ = add_constant(da_)"
   ]
  },
  {
   "cell_type": "code",
   "execution_count": 38,
   "metadata": {},
   "outputs": [],
   "source": [
    "dz = da_[['const', 'Crusty', 'Indie', 'Metaller']]"
   ]
  },
  {
   "cell_type": "code",
   "execution_count": 39,
   "metadata": {},
   "outputs": [],
   "source": [
    "dz.reset_index(drop=True, inplace=True)"
   ]
  },
  {
   "cell_type": "code",
   "execution_count": 40,
   "metadata": {},
   "outputs": [
    {
     "name": "stdout",
     "output_type": "stream",
     "text": [
      "Crusty      1.137931\n",
      "Indie       1.100084\n",
      "Metaller    1.143818\n",
      "dtype: float64\n"
     ]
    }
   ],
   "source": [
    "vif = pd.Series([variance_inflation_factor(dz.values, i) \n",
    "               for i in range(1, dz.shape[1])], \n",
    "              index=dz.columns[1:])\n",
    "print(vif)"
   ]
  },
  {
   "cell_type": "code",
   "execution_count": 41,
   "metadata": {},
   "outputs": [
    {
     "name": "stdout",
     "output_type": "stream",
     "text": [
      "1.127277824502383\n"
     ]
    }
   ],
   "source": [
    "avg_vif  = np.mean(vif)\n",
    "print(avg_vif)"
   ]
  },
  {
   "cell_type": "code",
   "execution_count": 42,
   "metadata": {},
   "outputs": [
    {
     "data": {
      "text/plain": [
       "Crusty      0.878788\n",
       "Indie       0.909021\n",
       "Metaller    0.874265\n",
       "dtype: float64"
      ]
     },
     "execution_count": 42,
     "metadata": {},
     "output_type": "execute_result"
    }
   ],
   "source": [
    "tolerance  = 1/vif\n",
    "tolerance "
   ]
  },
  {
   "cell_type": "markdown",
   "metadata": {},
   "source": [
    "#### Assumption about the Residuals"
   ]
  },
  {
   "cell_type": "code",
   "execution_count": 44,
   "metadata": {},
   "outputs": [
    {
     "name": "stdout",
     "output_type": "stream",
     "text": [
      "   predicted\n",
      "0  -0.525926\n",
      "1  -0.965833\n",
      "2  -0.554310\n",
      "3  -0.965833\n",
      "4  -0.554310\n"
     ]
    }
   ],
   "source": [
    "prediction = pd.DataFrame(m03.fittedvalues)\n",
    "prediction.columns = ['predicted']\n",
    "prediction.reset_index(drop=True, inplace=True)\n",
    "print(prediction.head())"
   ]
  },
  {
   "cell_type": "code",
   "execution_count": 45,
   "metadata": {},
   "outputs": [
    {
     "data": {
      "image/png": "[encoded data removed]",
      "text/plain": [
       "<Figure size 432x288 with 1 Axes>"
      ]
     },
     "metadata": {
      "needs_background": "light"
     },
     "output_type": "display_data"
    }
   ],
   "source": [
    "prediction['standarized_prediction']  = (prediction['predicted']-prediction['predicted'].mean())/prediction['predicted'].std()\n",
    "_ = sns.scatterplot(x= final_summary['standard_resid'], y = prediction['standarized_prediction'] )\n",
    "plt.show()"
   ]
  },
  {
   "cell_type": "code",
   "execution_count": 46,
   "metadata": {},
   "outputs": [
    {
     "data": {
      "image/png": "[encoded data removed]",
      "text/plain": [
       "<Figure size 360x288 with 1 Axes>"
      ]
     },
     "metadata": {
      "needs_background": "light"
     },
     "output_type": "display_data"
    }
   ],
   "source": [
    "_ = pg.qqplot(final_summary['standard_resid'],)\n",
    "plt.show()"
   ]
  },
  {
   "cell_type": "code",
   "execution_count": 47,
   "metadata": {},
   "outputs": [
    {
     "data": {
      "image/png": "[encoded data removed]",
      "text/plain": [
       "<Figure size 432x288 with 1 Axes>"
      ]
     },
     "metadata": {
      "needs_background": "light"
     },
     "output_type": "display_data"
    }
   ],
   "source": [
    "fig,ax = plt.subplots(figsize=(6, 4))\n",
    "ax = plt.hist(final_summary['student_resid'],density=True,bins=30, edgecolor='black', linewidth=1.4)\n",
    "plt.xlabel('student_resid', fontsize=14)\n",
    "plt.show()"
   ]
  },
  {
   "cell_type": "markdown",
   "metadata": {},
   "source": [
    "### all assumptions are met :)"
   ]
  },
  {
   "cell_type": "code",
   "execution_count": null,
   "metadata": {},
   "outputs": [],
   "source": []
  }
 ],
 "metadata": {
  "kernelspec": {
   "display_name": "Python 3",
   "language": "python",
   "name": "python3"
  },
  "language_info": {
   "codemirror_mode": {
    "name": "ipython",
    "version": 3
   },
   "file_extension": ".py",
   "mimetype": "text/x-python",
   "name": "python",
   "nbconvert_exporter": "python",
   "pygments_lexer": "ipython3",
   "version": "3.8.2"
  }
 },
 "nbformat": 4,
 "nbformat_minor": 4
}

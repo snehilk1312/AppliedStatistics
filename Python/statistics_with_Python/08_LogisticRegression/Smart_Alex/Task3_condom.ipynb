{
 "cells": [
  {
   "cell_type": "code",
   "execution_count": 1,
   "metadata": {},
   "outputs": [],
   "source": [
    "import pandas as pd\n",
    "import numpy as np\n",
    "import matplotlib.pyplot as plt\n",
    "import seaborn as sns\n",
    "import statsmodels.api as sm\n",
    "import scipy.stats as st\n",
    "import pingouin as pg\n",
    "%matplotlib inline "
   ]
  },
  {
   "cell_type": "code",
   "execution_count": 2,
   "metadata": {},
   "outputs": [],
   "source": [
    "data = pd.read_csv('/home/atrides/Desktop/R/statistics_with_Python/08_LogisticRegression/Data_Files/condom.dat', sep='\\t')"
   ]
  },
  {
   "cell_type": "code",
   "execution_count": 3,
   "metadata": {},
   "outputs": [
    {
     "data": {
      "text/html": [
       "<div>\n",
       "<style scoped>\n",
       "    .dataframe tbody tr th:only-of-type {\n",
       "        vertical-align: middle;\n",
       "    }\n",
       "\n",
       "    .dataframe tbody tr th {\n",
       "        vertical-align: top;\n",
       "    }\n",
       "\n",
       "    .dataframe thead th {\n",
       "        text-align: right;\n",
       "    }\n",
       "</style>\n",
       "<table border=\"1\" class=\"dataframe\">\n",
       "  <thead>\n",
       "    <tr style=\"text-align: right;\">\n",
       "      <th></th>\n",
       "      <th>particip</th>\n",
       "      <th>safety</th>\n",
       "      <th>use</th>\n",
       "      <th>gender</th>\n",
       "      <th>sexexp</th>\n",
       "      <th>previous</th>\n",
       "      <th>selfcon</th>\n",
       "      <th>perceive</th>\n",
       "    </tr>\n",
       "  </thead>\n",
       "  <tbody>\n",
       "    <tr>\n",
       "      <th>0</th>\n",
       "      <td>5</td>\n",
       "      <td>3</td>\n",
       "      <td>Unprotected</td>\n",
       "      <td>Female</td>\n",
       "      <td>5</td>\n",
       "      <td>No Condom</td>\n",
       "      <td>5</td>\n",
       "      <td>4</td>\n",
       "    </tr>\n",
       "    <tr>\n",
       "      <th>1</th>\n",
       "      <td>6</td>\n",
       "      <td>1</td>\n",
       "      <td>Unprotected</td>\n",
       "      <td>Male</td>\n",
       "      <td>3</td>\n",
       "      <td>No Condom</td>\n",
       "      <td>2</td>\n",
       "      <td>2</td>\n",
       "    </tr>\n",
       "    <tr>\n",
       "      <th>2</th>\n",
       "      <td>9</td>\n",
       "      <td>0</td>\n",
       "      <td>Unprotected</td>\n",
       "      <td>Female</td>\n",
       "      <td>2</td>\n",
       "      <td>No Condom</td>\n",
       "      <td>3</td>\n",
       "      <td>0</td>\n",
       "    </tr>\n",
       "    <tr>\n",
       "      <th>3</th>\n",
       "      <td>13</td>\n",
       "      <td>3</td>\n",
       "      <td>Unprotected</td>\n",
       "      <td>Male</td>\n",
       "      <td>3</td>\n",
       "      <td>No Condom</td>\n",
       "      <td>4</td>\n",
       "      <td>4</td>\n",
       "    </tr>\n",
       "    <tr>\n",
       "      <th>4</th>\n",
       "      <td>14</td>\n",
       "      <td>2</td>\n",
       "      <td>Unprotected</td>\n",
       "      <td>Female</td>\n",
       "      <td>3</td>\n",
       "      <td>No Condom</td>\n",
       "      <td>6</td>\n",
       "      <td>3</td>\n",
       "    </tr>\n",
       "  </tbody>\n",
       "</table>\n",
       "</div>"
      ],
      "text/plain": [
       "   particip  safety          use  gender  sexexp   previous  selfcon  perceive\n",
       "0         5       3  Unprotected  Female       5  No Condom        5         4\n",
       "1         6       1  Unprotected    Male       3  No Condom        2         2\n",
       "2         9       0  Unprotected  Female       2  No Condom        3         0\n",
       "3        13       3  Unprotected    Male       3  No Condom        4         4\n",
       "4        14       2  Unprotected  Female       3  No Condom        6         3"
      ]
     },
     "execution_count": 3,
     "metadata": {},
     "output_type": "execute_result"
    }
   ],
   "source": [
    "data.head()"
   ]
  },
  {
   "cell_type": "code",
   "execution_count": 5,
   "metadata": {},
   "outputs": [
    {
     "data": {
      "text/plain": [
       "array(['Unprotected', 'Condom Used'], dtype=object)"
      ]
     },
     "execution_count": 5,
     "metadata": {},
     "output_type": "execute_result"
    }
   ],
   "source": [
    "data['use'].unique()"
   ]
  },
  {
   "cell_type": "code",
   "execution_count": 6,
   "metadata": {},
   "outputs": [],
   "source": [
    "data['usex'] = data['use'].replace({'Unprotected':0, 'Condom Used':1 })\n",
    "data['genderx'] = data['gender'].replace({'Male':0, 'Female':1})\n",
    "data['previousx'] = data['previous'].replace({'No Condom':0, 'Condom used':1, 'First Time with partner':2})"
   ]
  },
  {
   "cell_type": "code",
   "execution_count": 8,
   "metadata": {},
   "outputs": [
    {
     "name": "stdout",
     "output_type": "stream",
     "text": [
      "   Condom used  First Time with partner\n",
      "0            0                        0\n",
      "1            0                        0\n",
      "2            0                        0\n",
      "3            0                        0\n",
      "4            0                        0\n"
     ]
    }
   ],
   "source": [
    "dummies = pd.get_dummies(data['previous'])\n",
    "dummy = dummies.iloc[:,0:2]\n",
    "print(dummy.head())"
   ]
  },
  {
   "cell_type": "code",
   "execution_count": 9,
   "metadata": {},
   "outputs": [],
   "source": [
    "data = pd.merge(data, dummy, how='inner', left_index=True, right_index=True)"
   ]
  },
  {
   "cell_type": "code",
   "execution_count": 10,
   "metadata": {},
   "outputs": [
    {
     "data": {
      "text/html": [
       "<div>\n",
       "<style scoped>\n",
       "    .dataframe tbody tr th:only-of-type {\n",
       "        vertical-align: middle;\n",
       "    }\n",
       "\n",
       "    .dataframe tbody tr th {\n",
       "        vertical-align: top;\n",
       "    }\n",
       "\n",
       "    .dataframe thead th {\n",
       "        text-align: right;\n",
       "    }\n",
       "</style>\n",
       "<table border=\"1\" class=\"dataframe\">\n",
       "  <thead>\n",
       "    <tr style=\"text-align: right;\">\n",
       "      <th></th>\n",
       "      <th>particip</th>\n",
       "      <th>safety</th>\n",
       "      <th>use</th>\n",
       "      <th>gender</th>\n",
       "      <th>sexexp</th>\n",
       "      <th>previous</th>\n",
       "      <th>selfcon</th>\n",
       "      <th>perceive</th>\n",
       "      <th>usex</th>\n",
       "      <th>genderx</th>\n",
       "      <th>previousx</th>\n",
       "      <th>Condom used</th>\n",
       "      <th>First Time with partner</th>\n",
       "    </tr>\n",
       "  </thead>\n",
       "  <tbody>\n",
       "    <tr>\n",
       "      <th>0</th>\n",
       "      <td>5</td>\n",
       "      <td>3</td>\n",
       "      <td>Unprotected</td>\n",
       "      <td>Female</td>\n",
       "      <td>5</td>\n",
       "      <td>No Condom</td>\n",
       "      <td>5</td>\n",
       "      <td>4</td>\n",
       "      <td>0</td>\n",
       "      <td>1</td>\n",
       "      <td>0</td>\n",
       "      <td>0</td>\n",
       "      <td>0</td>\n",
       "    </tr>\n",
       "    <tr>\n",
       "      <th>1</th>\n",
       "      <td>6</td>\n",
       "      <td>1</td>\n",
       "      <td>Unprotected</td>\n",
       "      <td>Male</td>\n",
       "      <td>3</td>\n",
       "      <td>No Condom</td>\n",
       "      <td>2</td>\n",
       "      <td>2</td>\n",
       "      <td>0</td>\n",
       "      <td>0</td>\n",
       "      <td>0</td>\n",
       "      <td>0</td>\n",
       "      <td>0</td>\n",
       "    </tr>\n",
       "    <tr>\n",
       "      <th>2</th>\n",
       "      <td>9</td>\n",
       "      <td>0</td>\n",
       "      <td>Unprotected</td>\n",
       "      <td>Female</td>\n",
       "      <td>2</td>\n",
       "      <td>No Condom</td>\n",
       "      <td>3</td>\n",
       "      <td>0</td>\n",
       "      <td>0</td>\n",
       "      <td>1</td>\n",
       "      <td>0</td>\n",
       "      <td>0</td>\n",
       "      <td>0</td>\n",
       "    </tr>\n",
       "    <tr>\n",
       "      <th>3</th>\n",
       "      <td>13</td>\n",
       "      <td>3</td>\n",
       "      <td>Unprotected</td>\n",
       "      <td>Male</td>\n",
       "      <td>3</td>\n",
       "      <td>No Condom</td>\n",
       "      <td>4</td>\n",
       "      <td>4</td>\n",
       "      <td>0</td>\n",
       "      <td>0</td>\n",
       "      <td>0</td>\n",
       "      <td>0</td>\n",
       "      <td>0</td>\n",
       "    </tr>\n",
       "    <tr>\n",
       "      <th>4</th>\n",
       "      <td>14</td>\n",
       "      <td>2</td>\n",
       "      <td>Unprotected</td>\n",
       "      <td>Female</td>\n",
       "      <td>3</td>\n",
       "      <td>No Condom</td>\n",
       "      <td>6</td>\n",
       "      <td>3</td>\n",
       "      <td>0</td>\n",
       "      <td>1</td>\n",
       "      <td>0</td>\n",
       "      <td>0</td>\n",
       "      <td>0</td>\n",
       "    </tr>\n",
       "  </tbody>\n",
       "</table>\n",
       "</div>"
      ],
      "text/plain": [
       "   particip  safety          use  gender  sexexp   previous  selfcon  \\\n",
       "0         5       3  Unprotected  Female       5  No Condom        5   \n",
       "1         6       1  Unprotected    Male       3  No Condom        2   \n",
       "2         9       0  Unprotected  Female       2  No Condom        3   \n",
       "3        13       3  Unprotected    Male       3  No Condom        4   \n",
       "4        14       2  Unprotected  Female       3  No Condom        6   \n",
       "\n",
       "   perceive  usex  genderx  previousx  Condom used  First Time with partner  \n",
       "0         4     0        1          0            0                        0  \n",
       "1         2     0        0          0            0                        0  \n",
       "2         0     0        1          0            0                        0  \n",
       "3         4     0        0          0            0                        0  \n",
       "4         3     0        1          0            0                        0  "
      ]
     },
     "execution_count": 10,
     "metadata": {},
     "output_type": "execute_result"
    }
   ],
   "source": [
    "data.head()"
   ]
  },
  {
   "cell_type": "code",
   "execution_count": 11,
   "metadata": {},
   "outputs": [],
   "source": [
    "from statsmodels.tools.tools import add_constant\n",
    "\n",
    "data = add_constant(data)"
   ]
  },
  {
   "cell_type": "code",
   "execution_count": 12,
   "metadata": {},
   "outputs": [],
   "source": [
    "from statsmodels.genmod import families"
   ]
  },
  {
   "cell_type": "code",
   "execution_count": 13,
   "metadata": {},
   "outputs": [
    {
     "name": "stdout",
     "output_type": "stream",
     "text": [
      "                 Generalized Linear Model Regression Results                  \n",
      "==============================================================================\n",
      "Dep. Variable:                   usex   No. Observations:                  100\n",
      "Model:                            GLM   Df Residuals:                       96\n",
      "Model Family:                Binomial   Df Model:                            3\n",
      "Link Function:                  logit   Scale:                          1.0000\n",
      "Method:                          IRLS   Log-Likelihood:                -52.885\n",
      "Date:                Wed, 16 Sep 2020   Deviance:                       105.77\n",
      "Time:                        01:40:47   Pearson chi2:                     101.\n",
      "No. Iterations:                     5                                         \n",
      "Covariance Type:            nonrobust                                         \n",
      "==============================================================================\n",
      "                 coef    std err          z      P>|z|      [0.025      0.975]\n",
      "------------------------------------------------------------------------------\n",
      "const         -2.4761      0.752     -3.294      0.001      -3.949      -1.003\n",
      "safety        -0.4641      0.218     -2.131      0.033      -0.891      -0.037\n",
      "perceive       0.9402      0.223      4.217      0.000       0.503       1.377\n",
      "genderx        0.3167      0.496      0.638      0.523      -0.656       1.289\n",
      "==============================================================================\n"
     ]
    }
   ],
   "source": [
    "m01 = sm.GLM(data['usex'] , data[['const','safety','perceive','genderx']], \n",
    "          family=families.Binomial()).fit(attach_wls=True, atol=1e-10)\n",
    "print(m01.summary())"
   ]
  },
  {
   "cell_type": "code",
   "execution_count": 15,
   "metadata": {
    "scrolled": true
   },
   "outputs": [
    {
     "name": "stdout",
     "output_type": "stream",
     "text": [
      "                 Generalized Linear Model Regression Results                  \n",
      "==============================================================================\n",
      "Dep. Variable:                   usex   No. Observations:                  100\n",
      "Model:                            GLM   Df Residuals:                       92\n",
      "Model Family:                Binomial   Df Model:                            7\n",
      "Link Function:                  logit   Scale:                          1.0000\n",
      "Method:                          IRLS   Log-Likelihood:                -43.986\n",
      "Date:                Wed, 16 Sep 2020   Deviance:                       87.971\n",
      "Time:                        01:41:36   Pearson chi2:                     87.8\n",
      "No. Iterations:                     6                                         \n",
      "Covariance Type:            nonrobust                                         \n",
      "===========================================================================================\n",
      "                              coef    std err          z      P>|z|      [0.025      0.975]\n",
      "-------------------------------------------------------------------------------------------\n",
      "const                      -4.9597      1.147     -4.326      0.000      -7.207      -2.713\n",
      "safety                     -0.4825      0.236     -2.044      0.041      -0.945      -0.020\n",
      "perceive                    0.9491      0.237      4.005      0.000       0.485       1.414\n",
      "genderx                     0.0027      0.573      0.005      0.996      -1.120       1.125\n",
      "First Time with partner    -0.0166      1.400     -0.012      0.991      -2.760       2.727\n",
      "Condom used                 1.0872      0.552      1.970      0.049       0.005       2.169\n",
      "selfcon                     0.3476      0.127      2.741      0.006       0.099       0.596\n",
      "sexexp                      0.1804      0.112      1.617      0.106      -0.038       0.399\n",
      "===========================================================================================\n"
     ]
    }
   ],
   "source": [
    "m02 = sm.GLM(data['usex'] , data[['const','safety','perceive','genderx','First Time with partner','Condom used', 'selfcon', 'sexexp']], \n",
    "          family=families.Binomial()).fit(attach_wls=True, atol=1e-10)\n",
    "print(m02.summary())"
   ]
  },
  {
   "cell_type": "code",
   "execution_count": 16,
   "metadata": {},
   "outputs": [],
   "source": [
    "data['predict'] = m02.fittedvalues"
   ]
  },
  {
   "cell_type": "code",
   "execution_count": 17,
   "metadata": {},
   "outputs": [
    {
     "data": {
      "text/html": [
       "<div>\n",
       "<style scoped>\n",
       "    .dataframe tbody tr th:only-of-type {\n",
       "        vertical-align: middle;\n",
       "    }\n",
       "\n",
       "    .dataframe tbody tr th {\n",
       "        vertical-align: top;\n",
       "    }\n",
       "\n",
       "    .dataframe thead th {\n",
       "        text-align: right;\n",
       "    }\n",
       "</style>\n",
       "<table border=\"1\" class=\"dataframe\">\n",
       "  <thead>\n",
       "    <tr style=\"text-align: right;\">\n",
       "      <th></th>\n",
       "      <th>const</th>\n",
       "      <th>particip</th>\n",
       "      <th>safety</th>\n",
       "      <th>use</th>\n",
       "      <th>gender</th>\n",
       "      <th>sexexp</th>\n",
       "      <th>previous</th>\n",
       "      <th>selfcon</th>\n",
       "      <th>perceive</th>\n",
       "      <th>usex</th>\n",
       "      <th>genderx</th>\n",
       "      <th>previousx</th>\n",
       "      <th>Condom used</th>\n",
       "      <th>First Time with partner</th>\n",
       "      <th>predict</th>\n",
       "    </tr>\n",
       "  </thead>\n",
       "  <tbody>\n",
       "    <tr>\n",
       "      <th>11</th>\n",
       "      <td>1.0</td>\n",
       "      <td>43</td>\n",
       "      <td>3</td>\n",
       "      <td>Unprotected</td>\n",
       "      <td>Female</td>\n",
       "      <td>1</td>\n",
       "      <td>No Condom</td>\n",
       "      <td>1</td>\n",
       "      <td>6</td>\n",
       "      <td>0</td>\n",
       "      <td>1</td>\n",
       "      <td>0</td>\n",
       "      <td>0</td>\n",
       "      <td>0</td>\n",
       "      <td>0.454654</td>\n",
       "    </tr>\n",
       "    <tr>\n",
       "      <th>52</th>\n",
       "      <td>1.0</td>\n",
       "      <td>83</td>\n",
       "      <td>5</td>\n",
       "      <td>Unprotected</td>\n",
       "      <td>Male</td>\n",
       "      <td>3</td>\n",
       "      <td>Condom used</td>\n",
       "      <td>7</td>\n",
       "      <td>6</td>\n",
       "      <td>0</td>\n",
       "      <td>0</td>\n",
       "      <td>1</td>\n",
       "      <td>1</td>\n",
       "      <td>0</td>\n",
       "      <td>0.915625</td>\n",
       "    </tr>\n",
       "    <tr>\n",
       "      <th>74</th>\n",
       "      <td>1.0</td>\n",
       "      <td>56</td>\n",
       "      <td>2</td>\n",
       "      <td>Condom Used</td>\n",
       "      <td>Female</td>\n",
       "      <td>2</td>\n",
       "      <td>Condom used</td>\n",
       "      <td>4</td>\n",
       "      <td>3</td>\n",
       "      <td>1</td>\n",
       "      <td>1</td>\n",
       "      <td>1</td>\n",
       "      <td>1</td>\n",
       "      <td>0</td>\n",
       "      <td>0.441225</td>\n",
       "    </tr>\n",
       "  </tbody>\n",
       "</table>\n",
       "</div>"
      ],
      "text/plain": [
       "    const  particip  safety          use  gender  sexexp     previous  \\\n",
       "11    1.0        43       3  Unprotected  Female       1    No Condom   \n",
       "52    1.0        83       5  Unprotected    Male       3  Condom used   \n",
       "74    1.0        56       2  Condom Used  Female       2  Condom used   \n",
       "\n",
       "    selfcon  perceive  usex  genderx  previousx  Condom used  \\\n",
       "11        1         6     0        1          0            0   \n",
       "52        7         6     0        0          1            1   \n",
       "74        4         3     1        1          1            1   \n",
       "\n",
       "    First Time with partner   predict  \n",
       "11                        0  0.454654  \n",
       "52                        0  0.915625  \n",
       "74                        0  0.441225  "
      ]
     },
     "execution_count": 17,
     "metadata": {},
     "output_type": "execute_result"
    }
   ],
   "source": [
    "data.iloc[[11,52,74]]"
   ]
  },
  {
   "cell_type": "code",
   "execution_count": null,
   "metadata": {},
   "outputs": [],
   "source": []
  },
  {
   "cell_type": "markdown",
   "metadata": {},
   "source": [
    "### A female who used a condom in her previous encounter with her new partner scores 2 on all variables except perceived risk (for which she scores 6). Use the model to estimate the probability that she will use a condom in her next encounter. "
   ]
  },
  {
   "cell_type": "code",
   "execution_count": 18,
   "metadata": {},
   "outputs": [
    {
     "data": {
      "text/plain": [
       "const                     -4.959739\n",
       "safety                    -0.482460\n",
       "perceive                   0.949088\n",
       "genderx                    0.002656\n",
       "First Time with partner   -0.016615\n",
       "Condom used                1.087196\n",
       "selfcon                    0.347626\n",
       "sexexp                     0.180423\n",
       "dtype: float64"
      ]
     },
     "execution_count": 18,
     "metadata": {},
     "output_type": "execute_result"
    }
   ],
   "source": [
    "m02.params"
   ]
  },
  {
   "cell_type": "code",
   "execution_count": 22,
   "metadata": {},
   "outputs": [],
   "source": [
    "Z = m02.params['const'] + 2*m02.params['safety'] + 6* m02.params['perceive'] + 1* m02.params['genderx']+m02.params['Condom used'] + 2*m02.params['selfcon'] + 2*m02.params['sexexp']"
   ]
  },
  {
   "cell_type": "code",
   "execution_count": 23,
   "metadata": {},
   "outputs": [
    {
     "data": {
      "text/plain": [
       "1.9158214940637062"
      ]
     },
     "execution_count": 23,
     "metadata": {},
     "output_type": "execute_result"
    }
   ],
   "source": [
    "Z"
   ]
  },
  {
   "cell_type": "code",
   "execution_count": 24,
   "metadata": {},
   "outputs": [
    {
     "data": {
      "text/plain": [
       "0.8716717510017506"
      ]
     },
     "execution_count": 24,
     "metadata": {},
     "output_type": "execute_result"
    }
   ],
   "source": [
    "probablity = 1/(1+np.exp(-Z))\n",
    "probablity"
   ]
  },
  {
   "cell_type": "markdown",
   "metadata": {},
   "source": [
    "### Therefore, there is a 87% chance that she will use a condom on her next encounter."
   ]
  },
  {
   "cell_type": "code",
   "execution_count": null,
   "metadata": {},
   "outputs": [],
   "source": []
  }
 ],
 "metadata": {
  "kernelspec": {
   "display_name": "Python 3",
   "language": "python",
   "name": "python3"
  },
  "language_info": {
   "codemirror_mode": {
    "name": "ipython",
    "version": 3
   },
   "file_extension": ".py",
   "mimetype": "text/x-python",
   "name": "python",
   "nbconvert_exporter": "python",
   "pygments_lexer": "ipython3",
   "version": "3.8.2"
  }
 },
 "nbformat": 4,
 "nbformat_minor": 4
}

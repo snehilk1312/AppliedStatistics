{
 "cells": [
  {
   "cell_type": "code",
   "execution_count": 9,
   "metadata": {},
   "outputs": [],
   "source": [
    "import pandas as pd\n",
    "import numpy as np\n",
    "import matplotlib.pyplot as plt\n",
    "import seaborn as sns\n",
    "import statsmodels.api as sm\n",
    "import scipy.stats as st\n",
    "import pingouin as pg\n",
    "%matplotlib inline "
   ]
  },
  {
   "cell_type": "code",
   "execution_count": 10,
   "metadata": {},
   "outputs": [],
   "source": [
    "data  = pd.read_csv('/home/atrides/Desktop/R/statistics_with_Python/08_LogisticRegression/Data_Files/Burnout.dat', sep='\\t')"
   ]
  },
  {
   "cell_type": "code",
   "execution_count": 11,
   "metadata": {},
   "outputs": [
    {
     "data": {
      "text/html": [
       "<div>\n",
       "<style scoped>\n",
       "    .dataframe tbody tr th:only-of-type {\n",
       "        vertical-align: middle;\n",
       "    }\n",
       "\n",
       "    .dataframe tbody tr th {\n",
       "        vertical-align: top;\n",
       "    }\n",
       "\n",
       "    .dataframe thead th {\n",
       "        text-align: right;\n",
       "    }\n",
       "</style>\n",
       "<table border=\"1\" class=\"dataframe\">\n",
       "  <thead>\n",
       "    <tr style=\"text-align: right;\">\n",
       "      <th></th>\n",
       "      <th>burnout</th>\n",
       "      <th>loc</th>\n",
       "      <th>cope</th>\n",
       "      <th>teaching</th>\n",
       "      <th>research</th>\n",
       "      <th>pastoral</th>\n",
       "    </tr>\n",
       "  </thead>\n",
       "  <tbody>\n",
       "    <tr>\n",
       "      <th>0</th>\n",
       "      <td>Not Burnt Out</td>\n",
       "      <td>7.647059</td>\n",
       "      <td>9.160305</td>\n",
       "      <td>32.727273</td>\n",
       "      <td>87.500000</td>\n",
       "      <td>31.481481</td>\n",
       "    </tr>\n",
       "    <tr>\n",
       "      <th>1</th>\n",
       "      <td>Not Burnt Out</td>\n",
       "      <td>6.470588</td>\n",
       "      <td>12.977099</td>\n",
       "      <td>52.727273</td>\n",
       "      <td>66.666667</td>\n",
       "      <td>68.518519</td>\n",
       "    </tr>\n",
       "    <tr>\n",
       "      <th>2</th>\n",
       "      <td>Not Burnt Out</td>\n",
       "      <td>8.823529</td>\n",
       "      <td>9.160305</td>\n",
       "      <td>49.090909</td>\n",
       "      <td>60.416667</td>\n",
       "      <td>53.703704</td>\n",
       "    </tr>\n",
       "    <tr>\n",
       "      <th>3</th>\n",
       "      <td>Not Burnt Out</td>\n",
       "      <td>20.000000</td>\n",
       "      <td>9.160305</td>\n",
       "      <td>52.727273</td>\n",
       "      <td>62.500000</td>\n",
       "      <td>50.000000</td>\n",
       "    </tr>\n",
       "    <tr>\n",
       "      <th>4</th>\n",
       "      <td>Not Burnt Out</td>\n",
       "      <td>6.470588</td>\n",
       "      <td>19.083969</td>\n",
       "      <td>43.636364</td>\n",
       "      <td>79.166667</td>\n",
       "      <td>40.740741</td>\n",
       "    </tr>\n",
       "  </tbody>\n",
       "</table>\n",
       "</div>"
      ],
      "text/plain": [
       "         burnout        loc       cope   teaching   research   pastoral\n",
       "0  Not Burnt Out   7.647059   9.160305  32.727273  87.500000  31.481481\n",
       "1  Not Burnt Out   6.470588  12.977099  52.727273  66.666667  68.518519\n",
       "2  Not Burnt Out   8.823529   9.160305  49.090909  60.416667  53.703704\n",
       "3  Not Burnt Out  20.000000   9.160305  52.727273  62.500000  50.000000\n",
       "4  Not Burnt Out   6.470588  19.083969  43.636364  79.166667  40.740741"
      ]
     },
     "execution_count": 11,
     "metadata": {},
     "output_type": "execute_result"
    }
   ],
   "source": [
    "data.head()"
   ]
  },
  {
   "cell_type": "code",
   "execution_count": 12,
   "metadata": {},
   "outputs": [
    {
     "name": "stdout",
     "output_type": "stream",
     "text": [
      "['Not Burnt Out' 'Burnt Out']\n"
     ]
    }
   ],
   "source": [
    "print(data['burnout'].unique())"
   ]
  },
  {
   "cell_type": "code",
   "execution_count": 13,
   "metadata": {},
   "outputs": [],
   "source": [
    "data['burnoutx'] = data['burnout'].replace({'Not Burnt Out':0, 'Burnt Out':1})"
   ]
  },
  {
   "cell_type": "code",
   "execution_count": 14,
   "metadata": {},
   "outputs": [],
   "source": [
    "from statsmodels.tools.tools import add_constant\n",
    "data = add_constant(data)"
   ]
  },
  {
   "cell_type": "code",
   "execution_count": 15,
   "metadata": {},
   "outputs": [],
   "source": [
    "from statsmodels.genmod import families"
   ]
  },
  {
   "cell_type": "code",
   "execution_count": 16,
   "metadata": {},
   "outputs": [
    {
     "name": "stdout",
     "output_type": "stream",
     "text": [
      "                 Generalized Linear Model Regression Results                  \n",
      "==============================================================================\n",
      "Dep. Variable:               burnoutx   No. Observations:                  467\n",
      "Model:                            GLM   Df Residuals:                      464\n",
      "Model Family:                Binomial   Df Model:                            2\n",
      "Link Function:                  logit   Scale:                          1.0000\n",
      "Method:                          IRLS   Log-Likelihood:                -182.09\n",
      "Date:                Wed, 16 Sep 2020   Deviance:                       364.18\n",
      "Time:                        01:37:54   Pearson chi2:                     428.\n",
      "No. Iterations:                     6                                         \n",
      "Covariance Type:            nonrobust                                         \n",
      "==============================================================================\n",
      "                 coef    std err          z      P>|z|      [0.025      0.975]\n",
      "------------------------------------------------------------------------------\n",
      "const         -4.4845      0.379    -11.818      0.000      -5.228      -3.741\n",
      "loc            0.0611      0.011      5.596      0.000       0.040       0.082\n",
      "cope           0.0827      0.009      8.829      0.000       0.064       0.101\n",
      "==============================================================================\n"
     ]
    }
   ],
   "source": [
    "m01 = sm.GLM(data['burnoutx'] , data[['const', 'loc', 'cope']],\n",
    "          family=families.Binomial()).fit(attach_wls=True, atol=1e-10)\n",
    "print(m01.summary())"
   ]
  },
  {
   "cell_type": "code",
   "execution_count": 18,
   "metadata": {},
   "outputs": [
    {
     "name": "stdout",
     "output_type": "stream",
     "text": [
      "Optimization terminated successfully.\n",
      "         Current function value: 0.389914\n",
      "         Iterations 6\n",
      "                           Logit Regression Results                           \n",
      "==============================================================================\n",
      "Dep. Variable:               burnoutx   No. Observations:                  467\n",
      "Model:                          Logit   Df Residuals:                      464\n",
      "Method:                           MLE   Df Model:                            2\n",
      "Date:                Wed, 16 Sep 2020   Pseudo R-squ.:                  0.3130\n",
      "Time:                        01:38:07   Log-Likelihood:                -182.09\n",
      "converged:                       True   LL-Null:                       -265.05\n",
      "Covariance Type:            nonrobust   LLR p-value:                 9.316e-37\n",
      "==============================================================================\n",
      "                 coef    std err          z      P>|z|      [0.025      0.975]\n",
      "------------------------------------------------------------------------------\n",
      "const         -4.4845      0.379    -11.818      0.000      -5.228      -3.741\n",
      "loc            0.0611      0.011      5.596      0.000       0.040       0.082\n",
      "cope           0.0827      0.009      8.829      0.000       0.064       0.101\n",
      "==============================================================================\n"
     ]
    }
   ],
   "source": [
    "m01_ = sm.Logit(data['burnoutx'] , data[['const', 'loc', 'cope']]).fit()\n",
    "print(m01_.summary())"
   ]
  },
  {
   "cell_type": "code",
   "execution_count": 19,
   "metadata": {},
   "outputs": [
    {
     "name": "stdout",
     "output_type": "stream",
     "text": [
      "                 Generalized Linear Model Regression Results                  \n",
      "==============================================================================\n",
      "Dep. Variable:               burnoutx   No. Observations:                  467\n",
      "Model:                            GLM   Df Residuals:                      461\n",
      "Model Family:                Binomial   Df Model:                            5\n",
      "Link Function:                  logit   Scale:                          1.0000\n",
      "Method:                          IRLS   Log-Likelihood:                -160.60\n",
      "Date:                Wed, 16 Sep 2020   Deviance:                       321.20\n",
      "Time:                        01:38:10   Pearson chi2:                     376.\n",
      "No. Iterations:                     6                                         \n",
      "Covariance Type:            nonrobust                                         \n",
      "==============================================================================\n",
      "                 coef    std err          z      P>|z|      [0.025      0.975]\n",
      "------------------------------------------------------------------------------\n",
      "const         -4.4399      1.086     -4.090      0.000      -6.568      -2.312\n",
      "loc            0.1108      0.015      7.414      0.000       0.081       0.140\n",
      "cope           0.1423      0.016      8.684      0.000       0.110       0.174\n",
      "teaching      -0.1122      0.020     -5.673      0.000      -0.151      -0.073\n",
      "research       0.0193      0.010      1.863      0.062      -0.001       0.040\n",
      "pastoral       0.0452      0.013      3.449      0.001       0.020       0.071\n",
      "==============================================================================\n"
     ]
    }
   ],
   "source": [
    "m02 = sm.GLM(data['burnoutx'] , data[['const', 'loc', 'cope', 'teaching', 'research', 'pastoral']],\n",
    "          family=families.Binomial()).fit(attach_wls=True, atol=1e-10)\n",
    "print(m02.summary())"
   ]
  },
  {
   "cell_type": "code",
   "execution_count": 20,
   "metadata": {},
   "outputs": [
    {
     "name": "stdout",
     "output_type": "stream",
     "text": [
      "Optimization terminated successfully.\n",
      "         Current function value: 0.343896\n",
      "         Iterations 7\n",
      "                           Logit Regression Results                           \n",
      "==============================================================================\n",
      "Dep. Variable:               burnoutx   No. Observations:                  467\n",
      "Model:                          Logit   Df Residuals:                      461\n",
      "Method:                           MLE   Df Model:                            5\n",
      "Date:                Wed, 16 Sep 2020   Pseudo R-squ.:                  0.3941\n",
      "Time:                        01:38:18   Log-Likelihood:                -160.60\n",
      "converged:                       True   LL-Null:                       -265.05\n",
      "Covariance Type:            nonrobust   LLR p-value:                 3.524e-43\n",
      "==============================================================================\n",
      "                 coef    std err          z      P>|z|      [0.025      0.975]\n",
      "------------------------------------------------------------------------------\n",
      "const         -4.4399      1.086     -4.090      0.000      -6.568      -2.312\n",
      "loc            0.1108      0.015      7.414      0.000       0.081       0.140\n",
      "cope           0.1423      0.016      8.684      0.000       0.110       0.174\n",
      "teaching      -0.1122      0.020     -5.673      0.000      -0.151      -0.073\n",
      "research       0.0193      0.010      1.863      0.062      -0.001       0.040\n",
      "pastoral       0.0452      0.013      3.449      0.001       0.020       0.071\n",
      "==============================================================================\n"
     ]
    }
   ],
   "source": [
    "m02_ = sm.Logit(data['burnoutx'] , data[['const', 'loc', 'cope', 'teaching', 'research', 'pastoral']]).fit()\n",
    "print(m02_.summary())"
   ]
  },
  {
   "cell_type": "code",
   "execution_count": 21,
   "metadata": {},
   "outputs": [
    {
     "data": {
      "text/plain": [
       "165.92773042447368"
      ]
     },
     "execution_count": 21,
     "metadata": {},
     "output_type": "execute_result"
    }
   ],
   "source": [
    "m01_chi = m01_.llr\n",
    "m01_chi"
   ]
  },
  {
   "cell_type": "code",
   "execution_count": 22,
   "metadata": {},
   "outputs": [
    {
     "data": {
      "text/plain": [
       "208.9085749199624"
      ]
     },
     "execution_count": 22,
     "metadata": {},
     "output_type": "execute_result"
    }
   ],
   "source": [
    "m02_chi = m02_.llr\n",
    "m02_chi"
   ]
  },
  {
   "cell_type": "code",
   "execution_count": null,
   "metadata": {},
   "outputs": [],
   "source": []
  }
 ],
 "metadata": {
  "kernelspec": {
   "display_name": "Python 3",
   "language": "python",
   "name": "python3"
  },
  "language_info": {
   "codemirror_mode": {
    "name": "ipython",
    "version": 3
   },
   "file_extension": ".py",
   "mimetype": "text/x-python",
   "name": "python",
   "nbconvert_exporter": "python",
   "pygments_lexer": "ipython3",
   "version": "3.8.2"
  }
 },
 "nbformat": 4,
 "nbformat_minor": 4
}

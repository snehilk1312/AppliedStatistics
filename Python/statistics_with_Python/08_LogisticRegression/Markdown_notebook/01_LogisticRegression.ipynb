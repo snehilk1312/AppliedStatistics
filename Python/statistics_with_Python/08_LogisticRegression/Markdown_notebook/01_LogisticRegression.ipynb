{
 "cells": [
  {
   "cell_type": "code",
   "execution_count": 76,
   "metadata": {},
   "outputs": [],
   "source": [
    "import pandas as pd\n",
    "import numpy as np\n",
    "import matplotlib.pyplot as plt\n",
    "import seaborn as sns\n",
    "import statsmodels.api as sm\n",
    "import scipy.stats as st\n",
    "import pingouin as pg"
   ]
  },
  {
   "cell_type": "code",
   "execution_count": 77,
   "metadata": {},
   "outputs": [
    {
     "name": "stdout",
     "output_type": "stream",
     "text": [
      "       Cured  Intervention  Duration\n",
      "0  Not Cured  No Treatment         7\n",
      "1  Not Cured  No Treatment         7\n",
      "2  Not Cured  No Treatment         6\n",
      "3      Cured  No Treatment         8\n",
      "4      Cured  Intervention         7\n"
     ]
    }
   ],
   "source": [
    "data = pd.read_csv('/home/atrides/Desktop/R/statistics_with_Python/08_LogisticRegression/Data_Files/eel.dat', sep='\\t')\n",
    "print(data.head())"
   ]
  },
  {
   "cell_type": "code",
   "execution_count": 78,
   "metadata": {},
   "outputs": [
    {
     "name": "stdout",
     "output_type": "stream",
     "text": [
      "<class 'pandas.core.frame.DataFrame'>\n",
      "RangeIndex: 113 entries, 0 to 112\n",
      "Data columns (total 3 columns):\n",
      " #   Column        Non-Null Count  Dtype \n",
      "---  ------        --------------  ----- \n",
      " 0   Cured         113 non-null    object\n",
      " 1   Intervention  113 non-null    object\n",
      " 2   Duration      113 non-null    int64 \n",
      "dtypes: int64(1), object(2)\n",
      "memory usage: 2.8+ KB\n",
      "None\n"
     ]
    }
   ],
   "source": [
    "print(data.info())"
   ]
  },
  {
   "cell_type": "code",
   "execution_count": 79,
   "metadata": {},
   "outputs": [
    {
     "name": "stdout",
     "output_type": "stream",
     "text": [
      "['Not Cured' 'Cured']\n"
     ]
    }
   ],
   "source": [
    "print(data['Cured'].unique())"
   ]
  },
  {
   "cell_type": "code",
   "execution_count": 80,
   "metadata": {},
   "outputs": [
    {
     "name": "stdout",
     "output_type": "stream",
     "text": [
      "['No Treatment' 'Intervention']\n"
     ]
    }
   ],
   "source": [
    "print(data['Intervention'].unique())"
   ]
  },
  {
   "cell_type": "code",
   "execution_count": 81,
   "metadata": {},
   "outputs": [],
   "source": [
    "data['Curedx'] = data['Cured'].replace({'Not Cured':0,'Cured':1 })\n",
    "data['Interventionx'] = data['Intervention'].replace({'No Treatment':0,'Intervention':1 })"
   ]
  },
  {
   "cell_type": "code",
   "execution_count": 82,
   "metadata": {},
   "outputs": [
    {
     "name": "stdout",
     "output_type": "stream",
     "text": [
      "       Cured  Intervention  Duration  Curedx  Interventionx\n",
      "0  Not Cured  No Treatment         7       0              0\n",
      "1  Not Cured  No Treatment         7       0              0\n",
      "2  Not Cured  No Treatment         6       0              0\n",
      "3      Cured  No Treatment         8       1              0\n",
      "4      Cured  Intervention         7       1              1\n"
     ]
    }
   ],
   "source": [
    "print(data.head())"
   ]
  },
  {
   "cell_type": "code",
   "execution_count": 83,
   "metadata": {},
   "outputs": [],
   "source": [
    "from statsmodels.tools.tools import add_constant\n",
    "data=add_constant(data)"
   ]
  },
  {
   "cell_type": "code",
   "execution_count": 112,
   "metadata": {},
   "outputs": [
    {
     "name": "stdout",
     "output_type": "stream",
     "text": [
      "Optimization terminated successfully.\n",
      "         Current function value: 0.637866\n",
      "         Iterations 5\n",
      "                           Logit Regression Results                           \n",
      "==============================================================================\n",
      "Dep. Variable:                 Curedx   No. Observations:                  113\n",
      "Model:                          Logit   Df Residuals:                      111\n",
      "Method:                           MLE   Df Model:                            1\n",
      "Date:                Wed, 16 Sep 2020   Pseudo R-squ.:                 0.06442\n",
      "Time:                        00:45:36   Log-Likelihood:                -72.079\n",
      "converged:                       True   LL-Null:                       -77.042\n",
      "Covariance Type:            nonrobust   LLR p-value:                  0.001629\n",
      "=================================================================================\n",
      "                    coef    std err          z      P>|z|      [0.025      0.975]\n",
      "---------------------------------------------------------------------------------\n",
      "const            -0.2877      0.270     -1.065      0.287      -0.817       0.242\n",
      "Interventionx     1.2287      0.400      3.074      0.002       0.445       2.012\n",
      "=================================================================================\n"
     ]
    }
   ],
   "source": [
    "m01 = sm.Logit(data['Curedx'] , data[['const', 'Interventionx']]).fit()\n",
    "print(m01.summary())"
   ]
  },
  {
   "cell_type": "code",
   "execution_count": 113,
   "metadata": {},
   "outputs": [
    {
     "name": "stdout",
     "output_type": "stream",
     "text": [
      "                         Results: Logit\n",
      "================================================================\n",
      "Model:              Logit            Pseudo R-squared: 0.064    \n",
      "Dependent Variable: Curedx           AIC:              148.1578 \n",
      "Date:               2020-09-16 00:45 BIC:              153.6126 \n",
      "No. Observations:   113              Log-Likelihood:   -72.079  \n",
      "Df Model:           1                LL-Null:          -77.042  \n",
      "Df Residuals:       111              LLR p-value:      0.0016294\n",
      "Converged:          1.0000           Scale:            1.0000   \n",
      "No. Iterations:     5.0000                                      \n",
      "----------------------------------------------------------------\n",
      "                   Coef.  Std.Err.    z    P>|z|   [0.025 0.975]\n",
      "----------------------------------------------------------------\n",
      "const             -0.2877   0.2700 -1.0654 0.2867 -0.8169 0.2416\n",
      "Interventionx      1.2287   0.3998  3.0735 0.0021  0.4452 2.0122\n",
      "================================================================\n",
      "\n"
     ]
    }
   ],
   "source": [
    "print(m01.summary2())"
   ]
  },
  {
   "cell_type": "markdown",
   "metadata": {},
   "source": [
    "##### AIC =      -2 * log_likelihood + 2 * k"
   ]
  },
  {
   "cell_type": "code",
   "execution_count": 114,
   "metadata": {},
   "outputs": [
    {
     "name": "stdout",
     "output_type": "stream",
     "text": [
      "148.158\n"
     ]
    }
   ],
   "source": [
    "AIC = -2*(-72.079)+ 2*2\n",
    "print(AIC)"
   ]
  },
  {
   "cell_type": "code",
   "execution_count": 115,
   "metadata": {},
   "outputs": [
    {
     "name": "stdout",
     "output_type": "stream",
     "text": [
      "-72.07890183908266\n",
      "9.926201217275832\n",
      "0.0016294247428934145\n",
      "0.06442071144251205\n"
     ]
    }
   ],
   "source": [
    "print(m01.llf)           #get Log-Likelihood\n",
    "print(m01.llr)           #get chi-square\n",
    "print(m01.llr_pvalue)    #get sig. level of chi-square test\n",
    "print(m01.prsquared)     #get pseudo-rsquared "
   ]
  },
  {
   "cell_type": "code",
   "execution_count": 116,
   "metadata": {},
   "outputs": [
    {
     "name": "stdout",
     "output_type": "stream",
     "text": [
      "9.926201217275832\n"
     ]
    }
   ],
   "source": [
    "print(-2*(m01.llnull-m01.llf))"
   ]
  },
  {
   "cell_type": "code",
   "execution_count": 117,
   "metadata": {},
   "outputs": [
    {
     "name": "stdout",
     "output_type": "stream",
     "text": [
      "9.926201217275832\n"
     ]
    }
   ],
   "source": [
    "print(m01.llr)"
   ]
  },
  {
   "cell_type": "markdown",
   "metadata": {},
   "source": [
    "### **chi-square = deviance_null - deviance_new**"
   ]
  },
  {
   "cell_type": "code",
   "execution_count": 118,
   "metadata": {},
   "outputs": [
    {
     "name": "stdout",
     "output_type": "stream",
     "text": [
      "9.926000000000016\n"
     ]
    }
   ],
   "source": [
    "chi_square  = (-2*(-77.042))-(-2*(-72.079))          # previous_deviance - present_deviance\n",
    "print(chi_square)"
   ]
  },
  {
   "cell_type": "code",
   "execution_count": 119,
   "metadata": {},
   "outputs": [
    {
     "name": "stdout",
     "output_type": "stream",
     "text": [
      "0.0016296028825595332\n"
     ]
    }
   ],
   "source": [
    "chi_df = 1\n",
    "print(1 - st.chi2.cdf(chi_square, chi_df))"
   ]
  },
  {
   "cell_type": "markdown",
   "metadata": {},
   "source": [
    "### Seeing above p-value we reject null hypothesis that m01 is not better than just chance at predicting outcome."
   ]
  },
  {
   "cell_type": "markdown",
   "metadata": {},
   "source": [
    "### **Note: The model chi-square is an analogue of the F-test for the linear regression**"
   ]
  },
  {
   "cell_type": "markdown",
   "metadata": {},
   "source": [
    "#### see https://www.statsmodels.org/stable/generated/statsmodels.discrete.discrete_model.LogitResults.html"
   ]
  },
  {
   "cell_type": "code",
   "execution_count": 120,
   "metadata": {},
   "outputs": [
    {
     "name": "stdout",
     "output_type": "stream",
     "text": [
      "148.15780367816532\n"
     ]
    }
   ],
   "source": [
    "print(m01.aic)"
   ]
  },
  {
   "cell_type": "code",
   "execution_count": 121,
   "metadata": {},
   "outputs": [
    {
     "name": "stdout",
     "output_type": "stream",
     "text": [
      "153.61257931559\n"
     ]
    }
   ],
   "source": [
    "print(m01.bic)"
   ]
  },
  {
   "cell_type": "code",
   "execution_count": 122,
   "metadata": {},
   "outputs": [
    {
     "name": "stdout",
     "output_type": "stream",
     "text": [
      "const            0.270031\n",
      "Interventionx    0.399759\n",
      "dtype: float64\n"
     ]
    }
   ],
   "source": [
    "print(m01.bse)"
   ]
  },
  {
   "cell_type": "code",
   "execution_count": 123,
   "metadata": {},
   "outputs": [
    {
     "name": "stdout",
     "output_type": "stream",
     "text": [
      "0.06442071144251205\n"
     ]
    }
   ],
   "source": [
    "print(m01.prsquared)"
   ]
  },
  {
   "cell_type": "code",
   "execution_count": 124,
   "metadata": {},
   "outputs": [
    {
     "name": "stdout",
     "output_type": "stream",
     "text": [
      "0     -1.057937\n",
      "1     -1.057937\n",
      "2     -1.057937\n",
      "3      1.301766\n",
      "4      0.811763\n",
      "         ...   \n",
      "108    0.811763\n",
      "109    0.811763\n",
      "110   -1.057937\n",
      "111   -1.057937\n",
      "112    0.811763\n",
      "Length: 113, dtype: float64\n"
     ]
    }
   ],
   "source": [
    "print(m01.resid_dev)"
   ]
  },
  {
   "cell_type": "markdown",
   "metadata": {},
   "source": [
    "#### chi_df = This creates a value called chidf that is the degrees of freedom for the model  subtracted from the degrees of freedom for the null model. "
   ]
  },
  {
   "cell_type": "code",
   "execution_count": 125,
   "metadata": {},
   "outputs": [
    {
     "name": "stdout",
     "output_type": "stream",
     "text": [
      "1\n"
     ]
    }
   ],
   "source": [
    "chi_df = 112-111\n",
    "print(chi_df)"
   ]
  },
  {
   "cell_type": "code",
   "execution_count": 126,
   "metadata": {},
   "outputs": [],
   "source": [
    "z_statsistics = 3.074  # from model\n",
    "deviance_null = -2*m01.llnull"
   ]
  },
  {
   "cell_type": "code",
   "execution_count": 127,
   "metadata": {},
   "outputs": [
    {
     "name": "stdout",
     "output_type": "stream",
     "text": [
      "0.21987916734928623\n"
     ]
    }
   ],
   "source": [
    "R  = np.sqrt((z_statsistics**2 - 2*chi_df)/deviance_null)\n",
    "print(R)"
   ]
  },
  {
   "cell_type": "markdown",
   "metadata": {},
   "source": [
    "#### The three different R_Squared :"
   ]
  },
  {
   "cell_type": "code",
   "execution_count": 128,
   "metadata": {},
   "outputs": [
    {
     "data": {
      "text/plain": [
       "144.15780367816532"
      ]
     },
     "execution_count": 128,
     "metadata": {},
     "output_type": "execute_result"
    }
   ],
   "source": [
    "deviance_new = -2*m01.llf\n",
    "deviance_new"
   ]
  },
  {
   "cell_type": "code",
   "execution_count": 129,
   "metadata": {},
   "outputs": [],
   "source": [
    "def R2(deviance_null, deivance_new, n):\n",
    "    R2_l = (deviance_null-deviance_new)/deviance_null\n",
    "    R2_cs = 1-np.exp((deviance_new-deviance_null)/n)\n",
    "    R2_n = R2_cs/(1-np.exp(-(deviance_null/n)))\n",
    "    print(\"pseudo R^2 for logistic regression:\\n\")\n",
    "    print(f\"Hosmer and Lemeshow R^2: {R2_l}\\n\")\n",
    "    print(f\"Cox and Snell R^2: {R2_cs} \\n\")\n",
    "    print(f\"Nagelkerke R^2 : {R2_n}\\n\")"
   ]
  },
  {
   "cell_type": "code",
   "execution_count": 130,
   "metadata": {},
   "outputs": [
    {
     "name": "stdout",
     "output_type": "stream",
     "text": [
      "pseudo R^2 for logistic regression:\n",
      "\n",
      "Hosmer and Lemeshow R^2: 0.06442071144251207\n",
      "\n",
      "Cox and Snell R^2: 0.08409486918276265 \n",
      "\n",
      "Nagelkerke R^2 : 0.11299197843845508\n",
      "\n"
     ]
    }
   ],
   "source": [
    "R2(deviance_null, deviance_new, len(data))"
   ]
  },
  {
   "cell_type": "code",
   "execution_count": 131,
   "metadata": {},
   "outputs": [
    {
     "name": "stdout",
     "output_type": "stream",
     "text": [
      "                      0         1\n",
      "const          0.441785  1.273245\n",
      "Interventionx  1.560729  7.479589\n"
     ]
    }
   ],
   "source": [
    "print(np.exp(m01.conf_int()))"
   ]
  },
  {
   "cell_type": "code",
   "execution_count": 132,
   "metadata": {},
   "outputs": [
    {
     "name": "stdout",
     "output_type": "stream",
     "text": [
      "0     -0.287682\n",
      "1     -0.287682\n",
      "2     -0.287682\n",
      "3     -0.287682\n",
      "4      0.940983\n",
      "         ...   \n",
      "108    0.940983\n",
      "109    0.940983\n",
      "110   -0.287682\n",
      "111   -0.287682\n",
      "112    0.940983\n",
      "Length: 113, dtype: float64\n"
     ]
    }
   ],
   "source": [
    "print(m01.fittedvalues)"
   ]
  },
  {
   "cell_type": "code",
   "execution_count": 133,
   "metadata": {},
   "outputs": [
    {
     "name": "stdout",
     "output_type": "stream",
     "text": [
      "0      0.428571\n",
      "1      0.428571\n",
      "2      0.428571\n",
      "3      0.428571\n",
      "4      0.719298\n",
      "         ...   \n",
      "108    0.719298\n",
      "109    0.719298\n",
      "110    0.428571\n",
      "111    0.428571\n",
      "112    0.719298\n",
      "Length: 113, dtype: float64\n"
     ]
    }
   ],
   "source": [
    "print(1/(1+np.exp(-(m01.fittedvalues))))"
   ]
  },
  {
   "cell_type": "code",
   "execution_count": 134,
   "metadata": {},
   "outputs": [
    {
     "name": "stdout",
     "output_type": "stream",
     "text": [
      "Optimization terminated successfully.\n",
      "         Current function value: 0.637858\n",
      "         Iterations 5\n",
      "                           Logit Regression Results                           \n",
      "==============================================================================\n",
      "Dep. Variable:                 Curedx   No. Observations:                  113\n",
      "Model:                          Logit   Df Residuals:                      110\n",
      "Method:                           MLE   Df Model:                            2\n",
      "Date:                Wed, 16 Sep 2020   Pseudo R-squ.:                 0.06443\n",
      "Time:                        00:47:24   Log-Likelihood:                -72.078\n",
      "converged:                       True   LL-Null:                       -77.042\n",
      "Covariance Type:            nonrobust   LLR p-value:                  0.006984\n",
      "=================================================================================\n",
      "                    coef    std err          z      P>|z|      [0.025      0.975]\n",
      "---------------------------------------------------------------------------------\n",
      "const            -0.2347      1.221     -0.192      0.848      -2.627       2.158\n",
      "Interventionx     1.2335      0.415      2.975      0.003       0.421       2.046\n",
      "Duration         -0.0078      0.176     -0.045      0.964      -0.353       0.337\n",
      "=================================================================================\n"
     ]
    }
   ],
   "source": [
    "m02 = sm.Logit(data['Curedx'] , data[['const', 'Interventionx','Duration']]).fit()\n",
    "print(m02.summary())"
   ]
  },
  {
   "cell_type": "code",
   "execution_count": 135,
   "metadata": {},
   "outputs": [
    {
     "name": "stdout",
     "output_type": "stream",
     "text": [
      "144.1558201498999\n"
     ]
    }
   ],
   "source": [
    "print(m02.llf*(-2))     # deviance of m02"
   ]
  },
  {
   "cell_type": "code",
   "execution_count": 136,
   "metadata": {},
   "outputs": [
    {
     "name": "stdout",
     "output_type": "stream",
     "text": [
      "0   -1.057199\n",
      "1   -1.057199\n",
      "2   -1.060374\n",
      "3    1.306008\n",
      "4    0.810711\n",
      "dtype: float64\n"
     ]
    }
   ],
   "source": [
    "print(m02.resid_dev.head())"
   ]
  },
  {
   "cell_type": "code",
   "execution_count": 137,
   "metadata": {},
   "outputs": [
    {
     "name": "stdout",
     "output_type": "stream",
     "text": [
      "0.001983528265412815\n"
     ]
    }
   ],
   "source": [
    "model_chi = -2*(m01.llf - m02.llf)     # previous_deviance - present_deviance\n",
    "print(model_chi)"
   ]
  },
  {
   "cell_type": "code",
   "execution_count": 138,
   "metadata": {},
   "outputs": [
    {
     "name": "stdout",
     "output_type": "stream",
     "text": [
      "1\n"
     ]
    }
   ],
   "source": [
    "chi_df = 111 - 110\n",
    "print(chi_df)"
   ]
  },
  {
   "cell_type": "code",
   "execution_count": 139,
   "metadata": {},
   "outputs": [
    {
     "name": "stdout",
     "output_type": "stream",
     "text": [
      "0.9644765035956879\n"
     ]
    }
   ],
   "source": [
    "print(1 - st.chi2.cdf(model_chi, chi_df))"
   ]
  },
  {
   "cell_type": "markdown",
   "metadata": {},
   "source": [
    "### m02 is not much of an improvement over model 1 , by seeing above output."
   ]
  },
  {
   "cell_type": "code",
   "execution_count": 145,
   "metadata": {},
   "outputs": [],
   "source": [
    "from statsmodels.genmod import families"
   ]
  },
  {
   "cell_type": "code",
   "execution_count": 146,
   "metadata": {},
   "outputs": [
    {
     "name": "stdout",
     "output_type": "stream",
     "text": [
      "                 Generalized Linear Model Regression Results                  \n",
      "==============================================================================\n",
      "Dep. Variable:                 Curedx   No. Observations:                  113\n",
      "Model:                            GLM   Df Residuals:                      110\n",
      "Model Family:                Binomial   Df Model:                            2\n",
      "Link Function:                  logit   Scale:                          1.0000\n",
      "Method:                          IRLS   Log-Likelihood:                -72.078\n",
      "Date:                Wed, 16 Sep 2020   Deviance:                       144.16\n",
      "Time:                        00:50:29   Pearson chi2:                     113.\n",
      "No. Iterations:                     5                                         \n",
      "Covariance Type:            nonrobust                                         \n",
      "=================================================================================\n",
      "                    coef    std err          z      P>|z|      [0.025      0.975]\n",
      "---------------------------------------------------------------------------------\n",
      "const            -0.2347      1.221     -0.192      0.848      -2.627       2.158\n",
      "Interventionx     1.2335      0.415      2.975      0.003       0.421       2.046\n",
      "Duration         -0.0078      0.176     -0.045      0.964      -0.353       0.337\n",
      "=================================================================================\n"
     ]
    }
   ],
   "source": [
    "res = sm.GLM(data['Curedx'] , data[['const', 'Interventionx','Duration']],\n",
    "          family=families.Binomial()).fit(attach_wls=True, atol=1e-10)\n",
    "print(res.summary())"
   ]
  },
  {
   "cell_type": "code",
   "execution_count": 147,
   "metadata": {},
   "outputs": [],
   "source": [
    "infl = res.get_influence(observed=False)"
   ]
  },
  {
   "cell_type": "code",
   "execution_count": 148,
   "metadata": {},
   "outputs": [
    {
     "data": {
      "text/html": [
       "<div>\n",
       "<style scoped>\n",
       "    .dataframe tbody tr th:only-of-type {\n",
       "        vertical-align: middle;\n",
       "    }\n",
       "\n",
       "    .dataframe tbody tr th {\n",
       "        vertical-align: top;\n",
       "    }\n",
       "\n",
       "    .dataframe thead th {\n",
       "        text-align: right;\n",
       "    }\n",
       "</style>\n",
       "<table border=\"1\" class=\"dataframe\">\n",
       "  <thead>\n",
       "    <tr style=\"text-align: right;\">\n",
       "      <th></th>\n",
       "      <th>dfb_const</th>\n",
       "      <th>dfb_Interventionx</th>\n",
       "      <th>dfb_Duration</th>\n",
       "      <th>cooks_d</th>\n",
       "      <th>standard_resid</th>\n",
       "      <th>hat_diag</th>\n",
       "      <th>dffits_internal</th>\n",
       "    </tr>\n",
       "  </thead>\n",
       "  <tbody>\n",
       "    <tr>\n",
       "      <th>40</th>\n",
       "      <td>-0.197143</td>\n",
       "      <td>-0.170641</td>\n",
       "      <td>0.239493</td>\n",
       "      <td>0.028150</td>\n",
       "      <td>1.198593</td>\n",
       "      <td>0.055520</td>\n",
       "      <td>0.290602</td>\n",
       "    </tr>\n",
       "    <tr>\n",
       "      <th>80</th>\n",
       "      <td>-0.197143</td>\n",
       "      <td>-0.170641</td>\n",
       "      <td>0.239493</td>\n",
       "      <td>0.028150</td>\n",
       "      <td>1.198593</td>\n",
       "      <td>0.055520</td>\n",
       "      <td>0.290602</td>\n",
       "    </tr>\n",
       "    <tr>\n",
       "      <th>3</th>\n",
       "      <td>-0.089777</td>\n",
       "      <td>-0.137947</td>\n",
       "      <td>0.128271</td>\n",
       "      <td>0.013978</td>\n",
       "      <td>1.177701</td>\n",
       "      <td>0.029347</td>\n",
       "      <td>0.204779</td>\n",
       "    </tr>\n",
       "    <tr>\n",
       "      <th>8</th>\n",
       "      <td>-0.089777</td>\n",
       "      <td>-0.137947</td>\n",
       "      <td>0.128271</td>\n",
       "      <td>0.013978</td>\n",
       "      <td>1.177701</td>\n",
       "      <td>0.029347</td>\n",
       "      <td>0.204779</td>\n",
       "    </tr>\n",
       "    <tr>\n",
       "      <th>36</th>\n",
       "      <td>-0.089777</td>\n",
       "      <td>-0.137947</td>\n",
       "      <td>0.128271</td>\n",
       "      <td>0.013978</td>\n",
       "      <td>1.177701</td>\n",
       "      <td>0.029347</td>\n",
       "      <td>0.204779</td>\n",
       "    </tr>\n",
       "    <tr>\n",
       "      <th>12</th>\n",
       "      <td>0.215020</td>\n",
       "      <td>-0.055470</td>\n",
       "      <td>-0.184177</td>\n",
       "      <td>0.019845</td>\n",
       "      <td>1.171349</td>\n",
       "      <td>0.041587</td>\n",
       "      <td>0.243998</td>\n",
       "    </tr>\n",
       "    <tr>\n",
       "      <th>86</th>\n",
       "      <td>0.215020</td>\n",
       "      <td>-0.055470</td>\n",
       "      <td>-0.184177</td>\n",
       "      <td>0.019845</td>\n",
       "      <td>1.171349</td>\n",
       "      <td>0.041587</td>\n",
       "      <td>0.243998</td>\n",
       "    </tr>\n",
       "    <tr>\n",
       "      <th>38</th>\n",
       "      <td>0.215020</td>\n",
       "      <td>-0.055470</td>\n",
       "      <td>-0.184177</td>\n",
       "      <td>0.019845</td>\n",
       "      <td>1.171349</td>\n",
       "      <td>0.041587</td>\n",
       "      <td>0.243998</td>\n",
       "    </tr>\n",
       "    <tr>\n",
       "      <th>75</th>\n",
       "      <td>0.011466</td>\n",
       "      <td>-0.108796</td>\n",
       "      <td>0.023927</td>\n",
       "      <td>0.008438</td>\n",
       "      <td>1.166456</td>\n",
       "      <td>0.018266</td>\n",
       "      <td>0.159108</td>\n",
       "    </tr>\n",
       "    <tr>\n",
       "      <th>78</th>\n",
       "      <td>0.011466</td>\n",
       "      <td>-0.108796</td>\n",
       "      <td>0.023927</td>\n",
       "      <td>0.008438</td>\n",
       "      <td>1.166456</td>\n",
       "      <td>0.018266</td>\n",
       "      <td>0.159108</td>\n",
       "    </tr>\n",
       "  </tbody>\n",
       "</table>\n",
       "</div>"
      ],
      "text/plain": [
       "    dfb_const  dfb_Interventionx  dfb_Duration   cooks_d  standard_resid  \\\n",
       "40  -0.197143          -0.170641      0.239493  0.028150        1.198593   \n",
       "80  -0.197143          -0.170641      0.239493  0.028150        1.198593   \n",
       "3   -0.089777          -0.137947      0.128271  0.013978        1.177701   \n",
       "8   -0.089777          -0.137947      0.128271  0.013978        1.177701   \n",
       "36  -0.089777          -0.137947      0.128271  0.013978        1.177701   \n",
       "12   0.215020          -0.055470     -0.184177  0.019845        1.171349   \n",
       "86   0.215020          -0.055470     -0.184177  0.019845        1.171349   \n",
       "38   0.215020          -0.055470     -0.184177  0.019845        1.171349   \n",
       "75   0.011466          -0.108796      0.023927  0.008438        1.166456   \n",
       "78   0.011466          -0.108796      0.023927  0.008438        1.166456   \n",
       "\n",
       "    hat_diag  dffits_internal  \n",
       "40  0.055520         0.290602  \n",
       "80  0.055520         0.290602  \n",
       "3   0.029347         0.204779  \n",
       "8   0.029347         0.204779  \n",
       "36  0.029347         0.204779  \n",
       "12  0.041587         0.243998  \n",
       "86  0.041587         0.243998  \n",
       "38  0.041587         0.243998  \n",
       "75  0.018266         0.159108  \n",
       "78  0.018266         0.159108  "
      ]
     },
     "execution_count": 148,
     "metadata": {},
     "output_type": "execute_result"
    }
   ],
   "source": [
    "summ_df = infl.summary_frame()\n",
    "summ_df.sort_values('standard_resid', ascending=False)[:10]"
   ]
  },
  {
   "cell_type": "markdown",
   "metadata": {},
   "source": [
    "## **Diagnostic statistics**"
   ]
  },
  {
   "cell_type": "markdown",
   "metadata": {},
   "source": [
    "### You need to look for cases that might be influencing the logistic regression model:\n",
    "\n",
    "\n",
    "#### i) Look at standardized residuals and check that no more than 5% of cases have absolute values above 2, and that no more than about 1% have absolute values above 2.5. Any case with a value above about 3 could be an outlier.\n",
    "\n",
    "\n",
    "\n",
    "#### ii)  Calculate the average leverage (the number of predictors plus 1, divided by the sample size) and then look for values greater than twice or three times this average value.\n",
    "\n",
    "\n",
    "\n",
    "#### iii)  Look for absolute values of DFBeta greater than 1."
   ]
  },
  {
   "cell_type": "markdown",
   "metadata": {},
   "source": [
    "#### all cases have DFBetas less than 1, and leverage statistics are very close to the calculated expected value of 0.018.\n",
    "#### All in all, this means that there are no influential cases having an effect on the model. \n",
    "#### The studentized residuals all have values of less than ±2 and so there seems to be very little here to concern us."
   ]
  },
  {
   "cell_type": "markdown",
   "metadata": {},
   "source": [
    "# Another Example"
   ]
  },
  {
   "cell_type": "code",
   "execution_count": 157,
   "metadata": {},
   "outputs": [],
   "source": [
    "pen_df = pd.read_csv('/home/atrides/Desktop/R/statistics_with_Python/08_LogisticRegression/Data_Files/penalty.dat', sep='\\t')"
   ]
  },
  {
   "cell_type": "code",
   "execution_count": 161,
   "metadata": {},
   "outputs": [
    {
     "name": "stdout",
     "output_type": "stream",
     "text": [
      "   PSWQ  Anxious  Previous          Scored\n",
      "0    18       21        56  Scored Penalty\n",
      "1    17       32        35  Scored Penalty\n",
      "2    16       34        35  Scored Penalty\n",
      "3    14       40        15  Scored Penalty\n",
      "4     5       24        47  Scored Penalty\n"
     ]
    }
   ],
   "source": [
    "print(pen_df.head())"
   ]
  },
  {
   "cell_type": "code",
   "execution_count": 162,
   "metadata": {},
   "outputs": [
    {
     "data": {
      "text/plain": [
       "array(['Scored Penalty', 'Missed Penalty'], dtype=object)"
      ]
     },
     "execution_count": 162,
     "metadata": {},
     "output_type": "execute_result"
    }
   ],
   "source": [
    "pen_df['Scored'].unique()"
   ]
  },
  {
   "cell_type": "code",
   "execution_count": 163,
   "metadata": {},
   "outputs": [],
   "source": [
    "pen_df['Scoredx']  = pen_df['Scored'].replace({'Scored Penalty':1, 'Missed Penalty':0})"
   ]
  },
  {
   "cell_type": "code",
   "execution_count": 164,
   "metadata": {},
   "outputs": [],
   "source": [
    "pen_df = add_constant(pen_df)"
   ]
  },
  {
   "cell_type": "code",
   "execution_count": 175,
   "metadata": {},
   "outputs": [
    {
     "name": "stdout",
     "output_type": "stream",
     "text": [
      "Optimization terminated successfully.\n",
      "         Current function value: 0.324412\n",
      "         Iterations 7\n",
      "                           Logit Regression Results                           \n",
      "==============================================================================\n",
      "Dep. Variable:                Scoredx   No. Observations:                   75\n",
      "Model:                          Logit   Df Residuals:                       72\n",
      "Method:                           MLE   Df Model:                            2\n",
      "Date:                Wed, 16 Sep 2020   Pseudo R-squ.:                  0.5305\n",
      "Time:                        00:56:56   Log-Likelihood:                -24.331\n",
      "converged:                       True   LL-Null:                       -51.819\n",
      "Covariance Type:            nonrobust   LLR p-value:                 1.153e-12\n",
      "==============================================================================\n",
      "                 coef    std err          z      P>|z|      [0.025      0.975]\n",
      "------------------------------------------------------------------------------\n",
      "const          1.2803      1.670      0.767      0.443      -1.993       4.554\n",
      "PSWQ          -0.2301      0.080     -2.882      0.004      -0.387      -0.074\n",
      "Previous       0.0648      0.022      2.934      0.003       0.022       0.108\n",
      "==============================================================================\n"
     ]
    }
   ],
   "source": [
    "p01 = sm.Logit(pen_df['Scoredx'], pen_df[['const', 'PSWQ', 'Previous']]).fit()\n",
    "print(p01.summary())"
   ]
  },
  {
   "cell_type": "code",
   "execution_count": 176,
   "metadata": {},
   "outputs": [
    {
     "name": "stdout",
     "output_type": "stream",
     "text": [
      "54.97669239214833\n"
     ]
    }
   ],
   "source": [
    "model1_chi_sq = -2*(p01.llnull - p01.llf)   # p01.llr\n",
    "print(model1_chi_sq)"
   ]
  },
  {
   "cell_type": "code",
   "execution_count": 177,
   "metadata": {},
   "outputs": [],
   "source": [
    "chi_df1 = 2"
   ]
  },
  {
   "cell_type": "code",
   "execution_count": 180,
   "metadata": {},
   "outputs": [
    {
     "name": "stdout",
     "output_type": "stream",
     "text": [
      "1.1532996779806126e-12\n"
     ]
    }
   ],
   "source": [
    "chisq_prob1 =  print(1 - st.chi2.cdf(model1_chi_sq, chi_df1))   # significant p-value"
   ]
  },
  {
   "cell_type": "markdown",
   "metadata": {},
   "source": [
    "### the chisquare probability 'chisq_prob1' value is less than 0.05 which tells that this model was quite an improvement over a null model(i.e just chance)"
   ]
  },
  {
   "cell_type": "code",
   "execution_count": 183,
   "metadata": {},
   "outputs": [
    {
     "name": "stdout",
     "output_type": "stream",
     "text": [
      "Optimization terminated successfully.\n",
      "         Current function value: 0.316104\n",
      "         Iterations 8\n",
      "                           Logit Regression Results                           \n",
      "==============================================================================\n",
      "Dep. Variable:                Scoredx   No. Observations:                   75\n",
      "Model:                          Logit   Df Residuals:                       71\n",
      "Method:                           MLE   Df Model:                            3\n",
      "Date:                Wed, 16 Sep 2020   Pseudo R-squ.:                  0.5425\n",
      "Time:                        00:59:09   Log-Likelihood:                -23.708\n",
      "converged:                       True   LL-Null:                       -51.819\n",
      "Covariance Type:            nonrobust   LLR p-value:                 3.765e-12\n",
      "==============================================================================\n",
      "                 coef    std err          z      P>|z|      [0.025      0.975]\n",
      "------------------------------------------------------------------------------\n",
      "const        -11.4926     11.802     -0.974      0.330     -34.624      11.638\n",
      "PSWQ          -0.2514      0.084     -2.992      0.003      -0.416      -0.087\n",
      "Previous       0.2026      0.129      1.567      0.117      -0.051       0.456\n",
      "Anxious        0.2758      0.253      1.092      0.275      -0.219       0.771\n",
      "==============================================================================\n"
     ]
    }
   ],
   "source": [
    "p02 = sm.Logit(pen_df['Scoredx'], pen_df[['const',  'PSWQ', 'Previous', 'Anxious']]).fit()\n",
    "print(p02.summary())"
   ]
  },
  {
   "cell_type": "code",
   "execution_count": 184,
   "metadata": {},
   "outputs": [
    {
     "name": "stdout",
     "output_type": "stream",
     "text": [
      "1.246266751259725\n"
     ]
    }
   ],
   "source": [
    "model2_chi_sq = -2*(p01.llf - p02.llf)   \n",
    "print(model2_chi_sq)"
   ]
  },
  {
   "cell_type": "code",
   "execution_count": 185,
   "metadata": {},
   "outputs": [],
   "source": [
    "chi_df2 = 1"
   ]
  },
  {
   "cell_type": "code",
   "execution_count": 187,
   "metadata": {},
   "outputs": [
    {
     "name": "stdout",
     "output_type": "stream",
     "text": [
      "0.2642667072391809\n"
     ]
    }
   ],
   "source": [
    "chisq_prob2 =  print(1 - st.chi2.cdf(model2_chi_sq, 1))   # non-significant p-value , so no improvement "
   ]
  },
  {
   "cell_type": "markdown",
   "metadata": {},
   "source": [
    "###  the chisquare probability 'chisq_prob2' value is greater than 0.05 , which tells that this model(i.e p02) was a improvement over p01  , just by chance."
   ]
  },
  {
   "cell_type": "code",
   "execution_count": 188,
   "metadata": {},
   "outputs": [
    {
     "name": "stdout",
     "output_type": "stream",
     "text": [
      "54.66180402298753\n",
      "55.41553727172781\n"
     ]
    }
   ],
   "source": [
    "print(p01.aic)\n",
    "print(p02.aic)"
   ]
  },
  {
   "cell_type": "code",
   "execution_count": 189,
   "metadata": {},
   "outputs": [
    {
     "name": "stdout",
     "output_type": "stream",
     "text": [
      "61.614268363596466\n",
      "64.68548972587305\n"
     ]
    }
   ],
   "source": [
    "print(p01.bic)\n",
    "print(p02.bic)"
   ]
  },
  {
   "cell_type": "code",
   "execution_count": 190,
   "metadata": {},
   "outputs": [],
   "source": [
    "copy_df = pen_df.copy()"
   ]
  },
  {
   "cell_type": "code",
   "execution_count": 191,
   "metadata": {},
   "outputs": [],
   "source": [
    "copy_df.drop(['Scored','Scoredx'], inplace=True, axis=1)"
   ]
  },
  {
   "cell_type": "code",
   "execution_count": 192,
   "metadata": {},
   "outputs": [
    {
     "data": {
      "text/html": [
       "<div>\n",
       "<style scoped>\n",
       "    .dataframe tbody tr th:only-of-type {\n",
       "        vertical-align: middle;\n",
       "    }\n",
       "\n",
       "    .dataframe tbody tr th {\n",
       "        vertical-align: top;\n",
       "    }\n",
       "\n",
       "    .dataframe thead th {\n",
       "        text-align: right;\n",
       "    }\n",
       "</style>\n",
       "<table border=\"1\" class=\"dataframe\">\n",
       "  <thead>\n",
       "    <tr style=\"text-align: right;\">\n",
       "      <th></th>\n",
       "      <th>const</th>\n",
       "      <th>PSWQ</th>\n",
       "      <th>Anxious</th>\n",
       "      <th>Previous</th>\n",
       "    </tr>\n",
       "  </thead>\n",
       "  <tbody>\n",
       "    <tr>\n",
       "      <th>0</th>\n",
       "      <td>1.0</td>\n",
       "      <td>18</td>\n",
       "      <td>21</td>\n",
       "      <td>56</td>\n",
       "    </tr>\n",
       "    <tr>\n",
       "      <th>1</th>\n",
       "      <td>1.0</td>\n",
       "      <td>17</td>\n",
       "      <td>32</td>\n",
       "      <td>35</td>\n",
       "    </tr>\n",
       "    <tr>\n",
       "      <th>2</th>\n",
       "      <td>1.0</td>\n",
       "      <td>16</td>\n",
       "      <td>34</td>\n",
       "      <td>35</td>\n",
       "    </tr>\n",
       "    <tr>\n",
       "      <th>3</th>\n",
       "      <td>1.0</td>\n",
       "      <td>14</td>\n",
       "      <td>40</td>\n",
       "      <td>15</td>\n",
       "    </tr>\n",
       "    <tr>\n",
       "      <th>4</th>\n",
       "      <td>1.0</td>\n",
       "      <td>5</td>\n",
       "      <td>24</td>\n",
       "      <td>47</td>\n",
       "    </tr>\n",
       "  </tbody>\n",
       "</table>\n",
       "</div>"
      ],
      "text/plain": [
       "   const  PSWQ  Anxious  Previous\n",
       "0    1.0    18       21        56\n",
       "1    1.0    17       32        35\n",
       "2    1.0    16       34        35\n",
       "3    1.0    14       40        15\n",
       "4    1.0     5       24        47"
      ]
     },
     "execution_count": 192,
     "metadata": {},
     "output_type": "execute_result"
    }
   ],
   "source": [
    "copy_df .head()"
   ]
  },
  {
   "cell_type": "code",
   "execution_count": 193,
   "metadata": {},
   "outputs": [],
   "source": [
    "cov = p02.cov_params()\n",
    "corr = cov / p02.bse / p02.bse[:, None]\n",
    "vif = np.diag(np.linalg.inv(corr.values[1:, 1:]))[[1, 0, 2]]"
   ]
  },
  {
   "cell_type": "code",
   "execution_count": 196,
   "metadata": {},
   "outputs": [
    {
     "name": "stdout",
     "output_type": "stream",
     "text": [
      "[35.22707635  1.08976625 35.58192988]\n"
     ]
    }
   ],
   "source": [
    "print(vif)"
   ]
  },
  {
   "cell_type": "markdown",
   "metadata": {},
   "source": [
    "#### https://stats.stackexchange.com/questions/474964/calculating-variance-inflation-factor-for-logistic-regression-using-statsmodels/475233#475233"
   ]
  },
  {
   "cell_type": "code",
   "execution_count": 197,
   "metadata": {},
   "outputs": [
    {
     "name": "stdout",
     "output_type": "stream",
     "text": [
      "[0.02838726 0.91762798 0.02810415]\n"
     ]
    }
   ],
   "source": [
    "tolerance = 1/vif\n",
    "print(tolerance)"
   ]
  },
  {
   "cell_type": "markdown",
   "metadata": {},
   "source": [
    "### from the output of  vif and tolerance , we can deduce that there is a high multicollinearity in our model "
   ]
  },
  {
   "cell_type": "markdown",
   "metadata": {},
   "source": [
    "### **Testing for linearity of the logit**"
   ]
  },
  {
   "cell_type": "code",
   "execution_count": 198,
   "metadata": {},
   "outputs": [
    {
     "data": {
      "text/html": [
       "<div>\n",
       "<style scoped>\n",
       "    .dataframe tbody tr th:only-of-type {\n",
       "        vertical-align: middle;\n",
       "    }\n",
       "\n",
       "    .dataframe tbody tr th {\n",
       "        vertical-align: top;\n",
       "    }\n",
       "\n",
       "    .dataframe thead th {\n",
       "        text-align: right;\n",
       "    }\n",
       "</style>\n",
       "<table border=\"1\" class=\"dataframe\">\n",
       "  <thead>\n",
       "    <tr style=\"text-align: right;\">\n",
       "      <th></th>\n",
       "      <th>const</th>\n",
       "      <th>PSWQ</th>\n",
       "      <th>Anxious</th>\n",
       "      <th>Previous</th>\n",
       "      <th>Scored</th>\n",
       "      <th>Scoredx</th>\n",
       "    </tr>\n",
       "  </thead>\n",
       "  <tbody>\n",
       "    <tr>\n",
       "      <th>0</th>\n",
       "      <td>1.0</td>\n",
       "      <td>18</td>\n",
       "      <td>21</td>\n",
       "      <td>56</td>\n",
       "      <td>Scored Penalty</td>\n",
       "      <td>1</td>\n",
       "    </tr>\n",
       "    <tr>\n",
       "      <th>1</th>\n",
       "      <td>1.0</td>\n",
       "      <td>17</td>\n",
       "      <td>32</td>\n",
       "      <td>35</td>\n",
       "      <td>Scored Penalty</td>\n",
       "      <td>1</td>\n",
       "    </tr>\n",
       "    <tr>\n",
       "      <th>2</th>\n",
       "      <td>1.0</td>\n",
       "      <td>16</td>\n",
       "      <td>34</td>\n",
       "      <td>35</td>\n",
       "      <td>Scored Penalty</td>\n",
       "      <td>1</td>\n",
       "    </tr>\n",
       "    <tr>\n",
       "      <th>3</th>\n",
       "      <td>1.0</td>\n",
       "      <td>14</td>\n",
       "      <td>40</td>\n",
       "      <td>15</td>\n",
       "      <td>Scored Penalty</td>\n",
       "      <td>1</td>\n",
       "    </tr>\n",
       "    <tr>\n",
       "      <th>4</th>\n",
       "      <td>1.0</td>\n",
       "      <td>5</td>\n",
       "      <td>24</td>\n",
       "      <td>47</td>\n",
       "      <td>Scored Penalty</td>\n",
       "      <td>1</td>\n",
       "    </tr>\n",
       "  </tbody>\n",
       "</table>\n",
       "</div>"
      ],
      "text/plain": [
       "   const  PSWQ  Anxious  Previous          Scored  Scoredx\n",
       "0    1.0    18       21        56  Scored Penalty        1\n",
       "1    1.0    17       32        35  Scored Penalty        1\n",
       "2    1.0    16       34        35  Scored Penalty        1\n",
       "3    1.0    14       40        15  Scored Penalty        1\n",
       "4    1.0     5       24        47  Scored Penalty        1"
      ]
     },
     "execution_count": 198,
     "metadata": {},
     "output_type": "execute_result"
    }
   ],
   "source": [
    "pen_df.head()"
   ]
  },
  {
   "cell_type": "code",
   "execution_count": 199,
   "metadata": {},
   "outputs": [],
   "source": [
    "pen_df['log_PSWQ'] = np.log(pen_df['PSWQ'])*pen_df['PSWQ']\n",
    "pen_df['log_Anxious'] = np.log(pen_df['Anxious'])*pen_df['Anxious']\n",
    "pen_df['log_Previous'] = np.log(pen_df['Previous']+1)*pen_df['Previous']"
   ]
  },
  {
   "cell_type": "code",
   "execution_count": 201,
   "metadata": {},
   "outputs": [
    {
     "name": "stdout",
     "output_type": "stream",
     "text": [
      "Optimization terminated successfully.\n",
      "         Current function value: 0.306062\n",
      "         Iterations 9\n",
      "                           Logit Regression Results                           \n",
      "==============================================================================\n",
      "Dep. Variable:                Scoredx   No. Observations:                   75\n",
      "Model:                          Logit   Df Residuals:                       68\n",
      "Method:                           MLE   Df Model:                            6\n",
      "Date:                Wed, 16 Sep 2020   Pseudo R-squ.:                  0.5570\n",
      "Time:                        01:04:21   Log-Likelihood:                -22.955\n",
      "converged:                       True   LL-Null:                       -51.819\n",
      "Covariance Type:            nonrobust   LLR p-value:                 1.300e-10\n",
      "================================================================================\n",
      "                   coef    std err          z      P>|z|      [0.025      0.975]\n",
      "--------------------------------------------------------------------------------\n",
      "const           -3.5721     15.008     -0.238      0.812     -32.988      25.844\n",
      "PSWQ            -0.4222      1.103     -0.383      0.702      -2.583       1.739\n",
      "Previous         1.6691      1.480      1.128      0.259      -1.232       4.570\n",
      "Anxious         -2.6480      2.793     -0.948      0.343      -8.122       2.826\n",
      "log_PSWQ         0.0439      0.297      0.148      0.882      -0.538       0.625\n",
      "log_Anxious      0.6815      0.652      1.046      0.296      -0.596       1.959\n",
      "log_Previous    -0.3192      0.317     -1.007      0.314      -0.940       0.302\n",
      "================================================================================\n"
     ]
    }
   ],
   "source": [
    "p03 = sm.Logit(pen_df['Scoredx'], pen_df[['const',  'PSWQ', 'Previous', 'Anxious','log_PSWQ', 'log_Anxious', 'log_Previous']]).fit()\n",
    "print(p03.summary())"
   ]
  },
  {
   "cell_type": "markdown",
   "metadata": {},
   "source": [
    "## From the summary output , if any interaction term has significance less than 0.05 , it will mean that assumption of linearity has been violated. In our output we can conclude that the assumption of linearity has been met as all interaction term is non-significant"
   ]
  }
 ],
 "metadata": {
  "kernelspec": {
   "display_name": "Python 3",
   "language": "python",
   "name": "python3"
  },
  "language_info": {
   "codemirror_mode": {
    "name": "ipython",
    "version": 3
   },
   "file_extension": ".py",
   "mimetype": "text/x-python",
   "name": "python",
   "nbconvert_exporter": "python",
   "pygments_lexer": "ipython3",
   "version": "3.8.2"
  }
 },
 "nbformat": 4,
 "nbformat_minor": 4
}

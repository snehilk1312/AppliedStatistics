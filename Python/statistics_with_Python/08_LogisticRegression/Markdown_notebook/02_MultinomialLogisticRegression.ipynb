{
 "cells": [
  {
   "cell_type": "markdown",
   "metadata": {},
   "source": [
    "## **Multinomial logistic regression**"
   ]
  },
  {
   "cell_type": "code",
   "execution_count": 6,
   "metadata": {},
   "outputs": [],
   "source": [
    "import pandas as pd\n",
    "import numpy as np\n",
    "import matplotlib.pyplot as plt\n",
    "import seaborn as sns\n",
    "import statsmodels.api as sm\n",
    "import scipy.stats as st\n",
    "import pingouin as pg"
   ]
  },
  {
   "cell_type": "code",
   "execution_count": 21,
   "metadata": {},
   "outputs": [
    {
     "name": "stdout",
     "output_type": "stream",
     "text": [
      "               Success  Funny  Sex  Good_Mate Gender\n",
      "0     Get Phone Number      3    7          6   Male\n",
      "1  Go Home with Person      5    7          2   Male\n",
      "2     Get Phone Number      4    6          6   Male\n",
      "3  Go Home with Person      3    7          5   Male\n",
      "4     Get Phone Number      5    1          6   Male\n"
     ]
    }
   ],
   "source": [
    "chat_up  = pd.read_csv('/home/atrides/Desktop/R/statistics_with_Python/08_LogisticRegression/Data_Files/Chat-Up Lines.dat', sep='\\t')\n",
    "print(chat_up.head())"
   ]
  },
  {
   "cell_type": "code",
   "execution_count": 22,
   "metadata": {},
   "outputs": [
    {
     "name": "stdout",
     "output_type": "stream",
     "text": [
      "['Get Phone Number' 'Go Home with Person' 'No response/Walk Off']\n"
     ]
    }
   ],
   "source": [
    "print(chat_up['Success'].unique())"
   ]
  },
  {
   "cell_type": "code",
   "execution_count": 23,
   "metadata": {},
   "outputs": [],
   "source": [
    "chat_up['Successx'] = chat_up['Success'].replace({'Get Phone Number':1, 'Go Home with Person':2, 'No response/Walk Off':0})\n",
    "chat_up['Genderx'] = chat_up['Gender'].replace({'Male':0, 'Female':1})\n",
    "\n",
    "chat_up['Gen_Funny'] = chat_up['Genderx'] * chat_up['Funny']\n",
    "chat_up['Gen_Sex'] = chat_up['Genderx'] * chat_up['Sex']"
   ]
  },
  {
   "cell_type": "code",
   "execution_count": 26,
   "metadata": {},
   "outputs": [
    {
     "name": "stdout",
     "output_type": "stream",
     "text": [
      "Optimization terminated successfully.\n",
      "         Current function value: 0.851702\n",
      "         Iterations 7\n",
      "                          MNLogit Regression Results                          \n",
      "==============================================================================\n",
      "Dep. Variable:               Successx   No. Observations:                 1020\n",
      "Model:                        MNLogit   Df Residuals:                     1006\n",
      "Method:                           MLE   Df Model:                           12\n",
      "Date:                Wed, 16 Sep 2020   Pseudo R-squ.:                  0.1382\n",
      "Time:                        01:16:38   Log-Likelihood:                -868.74\n",
      "converged:                       True   LL-Null:                       -1008.0\n",
      "Covariance Type:            nonrobust   LLR p-value:                 1.496e-52\n",
      "==============================================================================\n",
      "Successx=1       coef    std err          z      P>|z|      [0.025      0.975]\n",
      "------------------------------------------------------------------------------\n",
      "Intercept     -1.7831      0.670     -2.662      0.008      -3.096      -0.470\n",
      "Funny          0.1394      0.110      1.266      0.206      -0.076       0.355\n",
      "Sex            0.2762      0.089      3.097      0.002       0.101       0.451\n",
      "Good_Mate      0.1318      0.054      2.454      0.014       0.027       0.237\n",
      "Genderx       -1.6462      0.796     -2.067      0.039      -3.207      -0.086\n",
      "Gen_Funny      0.4924      0.140      3.518      0.000       0.218       0.767\n",
      "Gen_Sex       -0.3483      0.106     -3.290      0.001      -0.556      -0.141\n",
      "------------------------------------------------------------------------------\n",
      "Successx=2       coef    std err          z      P>|z|      [0.025      0.975]\n",
      "------------------------------------------------------------------------------\n",
      "Intercept     -4.2864      0.941     -4.553      0.000      -6.131      -2.441\n",
      "Funny          0.3185      0.125      2.542      0.011       0.073       0.564\n",
      "Sex            0.4173      0.122      3.418      0.001       0.178       0.657\n",
      "Good_Mate      0.1300      0.084      1.557      0.120      -0.034       0.294\n",
      "Genderx       -5.6264      1.329     -4.235      0.000      -8.230      -3.022\n",
      "Gen_Funny      1.1724      0.199      5.884      0.000       0.782       1.563\n",
      "Gen_Sex       -0.4766      0.163     -2.916      0.004      -0.797      -0.156\n",
      "==============================================================================\n"
     ]
    }
   ],
   "source": [
    "import statsmodels.formula.api as smf\n",
    "ml01 = smf.mnlogit('Successx ~ Funny + Sex + Good_Mate +Genderx+Gen_Funny+ Gen_Sex', chat_up).fit()\n",
    "print(ml01.summary())"
   ]
  },
  {
   "cell_type": "code",
   "execution_count": 27,
   "metadata": {},
   "outputs": [
    {
     "name": "stdout",
     "output_type": "stream",
     "text": [
      "                  0         1\n",
      "Intercept  0.168121  0.013755\n",
      "Funny      1.149571  1.375004\n",
      "Sex        1.318120  1.517832\n",
      "Good_Mate  1.140926  1.138850\n",
      "Genderx    0.192776  0.003601\n",
      "Gen_Funny  1.636307  3.229789\n",
      "Gen_Sex    0.705869  0.620866\n"
     ]
    }
   ],
   "source": [
    "print(np.exp(ml01.params))"
   ]
  },
  {
   "cell_type": "markdown",
   "metadata": {},
   "source": [
    "## Checking Assumptions"
   ]
  },
  {
   "cell_type": "markdown",
   "metadata": {},
   "source": [
    "### Assumptions of Multicollinearity"
   ]
  },
  {
   "cell_type": "code",
   "execution_count": 29,
   "metadata": {},
   "outputs": [],
   "source": [
    "from statsmodels.stats.outliers_influence import variance_inflation_factor"
   ]
  },
  {
   "cell_type": "code",
   "execution_count": 31,
   "metadata": {},
   "outputs": [
    {
     "name": "stdout",
     "output_type": "stream",
     "text": [
      "   Funny  Sex  Good_Mate  Genderx\n",
      "0      3    7          6        0\n",
      "1      5    7          2        0\n",
      "2      4    6          6        0\n",
      "3      3    7          5        0\n",
      "4      5    1          6        0\n"
     ]
    }
   ],
   "source": [
    "chat_up_ = chat_up.copy()\n",
    "chat_up_.drop(['Success', 'Successx', 'Gender','Gen_Funny', 'Gen_Sex'], inplace=True, axis=1)\n",
    "print(chat_up_.head())"
   ]
  },
  {
   "cell_type": "code",
   "execution_count": 33,
   "metadata": {},
   "outputs": [],
   "source": [
    "from statsmodels.tools.tools import add_constant"
   ]
  },
  {
   "cell_type": "code",
   "execution_count": 34,
   "metadata": {},
   "outputs": [],
   "source": [
    "chat_up_ = add_constant(chat_up_)"
   ]
  },
  {
   "cell_type": "code",
   "execution_count": 36,
   "metadata": {},
   "outputs": [],
   "source": [
    "vif = pd.Series([variance_inflation_factor(chat_up_.values, i) \n",
    "               for i in range(1, chat_up_.shape[1])], \n",
    "              index=chat_up_.columns[1:])\n",
    "\n",
    "tolerance  = 1/vif"
   ]
  },
  {
   "cell_type": "code",
   "execution_count": 37,
   "metadata": {},
   "outputs": [
    {
     "name": "stdout",
     "output_type": "stream",
     "text": [
      "Funny        1.264375\n",
      "Sex          1.017911\n",
      "Good_Mate    1.028197\n",
      "Genderx      1.218566\n",
      "dtype: float64\n"
     ]
    }
   ],
   "source": [
    "print(vif)"
   ]
  },
  {
   "cell_type": "code",
   "execution_count": 38,
   "metadata": {},
   "outputs": [
    {
     "name": "stdout",
     "output_type": "stream",
     "text": [
      "Funny        0.790905\n",
      "Sex          0.982404\n",
      "Good_Mate    0.972576\n",
      "Genderx      0.820637\n",
      "dtype: float64\n"
     ]
    }
   ],
   "source": [
    "print(tolerance)"
   ]
  },
  {
   "cell_type": "markdown",
   "metadata": {},
   "source": [
    "### also correlation value will show that there is no problem of multicollinearity.So, assumption of  multicollinearity has been followed"
   ]
  },
  {
   "cell_type": "code",
   "execution_count": 40,
   "metadata": {},
   "outputs": [
    {
     "name": "stdout",
     "output_type": "stream",
     "text": [
      "              Funny       Sex  Good_Mate\n",
      "Funny      1.000000  0.115608   0.163210\n",
      "Sex        0.115608  1.000000   0.037946\n",
      "Good_Mate  0.163210  0.037946   1.000000\n"
     ]
    }
   ],
   "source": [
    "# also, correlation table seems ok\n",
    "print(chat_up[['Funny', 'Sex', 'Good_Mate']].corr())"
   ]
  },
  {
   "cell_type": "markdown",
   "metadata": {},
   "source": [
    "### Assumption of Linearity"
   ]
  },
  {
   "cell_type": "code",
   "execution_count": 44,
   "metadata": {},
   "outputs": [],
   "source": [
    "for i in chat_up_.columns:\n",
    "    if i=='const' or i=='Genderx':\n",
    "        pass\n",
    "    else:\n",
    "        v = f'log_{i}'\n",
    "        chat_up_[v] = np.log(chat_up_[i])*chat_up_[i]"
   ]
  },
  {
   "cell_type": "code",
   "execution_count": 45,
   "metadata": {},
   "outputs": [],
   "source": [
    "chat_up_['Successx'] = chat_up['Successx']\n",
    "chat_up_['Gen_Funny'] = chat_up['Gen_Funny']\n",
    "chat_up_['Gen_Sex'] = chat_up['Gen_Sex']"
   ]
  },
  {
   "cell_type": "code",
   "execution_count": 46,
   "metadata": {},
   "outputs": [
    {
     "name": "stdout",
     "output_type": "stream",
     "text": [
      "Optimization terminated successfully.\n",
      "         Current function value: 0.840330\n",
      "         Iterations 8\n",
      "                          MNLogit Regression Results                          \n",
      "==============================================================================\n",
      "Dep. Variable:               Successx   No. Observations:                 1009\n",
      "Model:                        MNLogit   Df Residuals:                      989\n",
      "Method:                           MLE   Df Model:                           18\n",
      "Date:                Wed, 16 Sep 2020   Pseudo R-squ.:                  0.1510\n",
      "Time:                        01:26:34   Log-Likelihood:                -847.89\n",
      "converged:                       True   LL-Null:                       -998.65\n",
      "Covariance Type:            nonrobust   LLR p-value:                 2.342e-53\n",
      "=================================================================================\n",
      "   Successx=1       coef    std err          z      P>|z|      [0.025      0.975]\n",
      "---------------------------------------------------------------------------------\n",
      "Intercept        -2.4861      1.672     -1.487      0.137      -5.762       0.790\n",
      "Funny             1.1918      0.600      1.985      0.047       0.015       2.369\n",
      "Sex               0.5022      0.506      0.993      0.321      -0.489       1.494\n",
      "Good_Mate        -0.5378      0.501     -1.074      0.283      -1.519       0.444\n",
      "Genderx          -2.0926      0.879     -2.381      0.017      -3.815      -0.370\n",
      "Gen_Funny         0.5832      0.143      4.078      0.000       0.303       0.864\n",
      "Gen_Sex          -0.3514      0.118     -2.988      0.003      -0.582      -0.121\n",
      "log_Funny        -0.4542      0.253     -1.793      0.073      -0.951       0.042\n",
      "log_Sex          -0.0810      0.197     -0.411      0.681      -0.467       0.305\n",
      "log_Good_Mate     0.2472      0.189      1.310      0.190      -0.123       0.617\n",
      "---------------------------------------------------------------------------------\n",
      "   Successx=2       coef    std err          z      P>|z|      [0.025      0.975]\n",
      "---------------------------------------------------------------------------------\n",
      "Intercept         0.5870      2.318      0.253      0.800      -3.957       5.131\n",
      "Funny             2.0575      0.905      2.274      0.023       0.284       3.831\n",
      "Sex              -2.0946      0.631     -3.321      0.001      -3.331      -0.859\n",
      "Good_Mate        -1.4647      0.671     -2.183      0.029      -2.780      -0.150\n",
      "Genderx          -7.1509      1.430     -5.002      0.000      -9.953      -4.349\n",
      "Gen_Funny         1.4289      0.230      6.207      0.000       0.978       1.880\n",
      "Gen_Sex          -0.4486      0.146     -3.067      0.002      -0.735      -0.162\n",
      "log_Funny        -0.7509      0.369     -2.034      0.042      -1.474      -0.028\n",
      "log_Sex           0.9636      0.247      3.895      0.000       0.479       1.448\n",
      "log_Good_Mate     0.6042      0.257      2.355      0.019       0.101       1.107\n",
      "=================================================================================\n"
     ]
    }
   ],
   "source": [
    "ml02 = smf.mnlogit('Successx ~ Funny + Sex + Good_Mate +Genderx+Gen_Funny+ Gen_Sex+log_Funny+log_Sex+log_Good_Mate', chat_up_).fit()\n",
    "print(ml02.summary())"
   ]
  },
  {
   "cell_type": "markdown",
   "metadata": {},
   "source": [
    "## by seeing the log interaction term, its pretty clear that many values has significance p<0.05, hence the assumption of linearity of logit has been violated"
   ]
  },
  {
   "cell_type": "code",
   "execution_count": null,
   "metadata": {},
   "outputs": [],
   "source": []
  }
 ],
 "metadata": {
  "kernelspec": {
   "display_name": "Python 3",
   "language": "python",
   "name": "python3"
  },
  "language_info": {
   "codemirror_mode": {
    "name": "ipython",
    "version": 3
   },
   "file_extension": ".py",
   "mimetype": "text/x-python",
   "name": "python",
   "nbconvert_exporter": "python",
   "pygments_lexer": "ipython3",
   "version": "3.8.2"
  }
 },
 "nbformat": 4,
 "nbformat_minor": 4
}

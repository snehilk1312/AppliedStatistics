{
 "cells": [
  {
   "cell_type": "code",
   "execution_count": 1,
   "metadata": {},
   "outputs": [],
   "source": [
    "import pandas as pd\n",
    "import numpy as np\n",
    "import matplotlib.pyplot as plt\n",
    "import seaborn as sns\n",
    "import scipy.stats as st\n",
    "import statsmodels.formula.api as smf\n",
    "import statsmodels.api as sm\n",
    "import pingouin as pg\n",
    "%matplotlib inline"
   ]
  },
  {
   "cell_type": "code",
   "execution_count": 2,
   "metadata": {},
   "outputs": [
    {
     "data": {
      "text/html": [
       "<div>\n",
       "<style scoped>\n",
       "    .dataframe tbody tr th:only-of-type {\n",
       "        vertical-align: middle;\n",
       "    }\n",
       "\n",
       "    .dataframe tbody tr th {\n",
       "        vertical-align: top;\n",
       "    }\n",
       "\n",
       "    .dataframe thead th {\n",
       "        text-align: right;\n",
       "    }\n",
       "</style>\n",
       "<table border=\"1\" class=\"dataframe\">\n",
       "  <thead>\n",
       "    <tr style=\"text-align: right;\">\n",
       "      <th></th>\n",
       "      <th>dose</th>\n",
       "      <th>libido</th>\n",
       "      <th>partnerLibido</th>\n",
       "    </tr>\n",
       "  </thead>\n",
       "  <tbody>\n",
       "    <tr>\n",
       "      <th>0</th>\n",
       "      <td>1</td>\n",
       "      <td>3</td>\n",
       "      <td>4</td>\n",
       "    </tr>\n",
       "    <tr>\n",
       "      <th>1</th>\n",
       "      <td>1</td>\n",
       "      <td>2</td>\n",
       "      <td>1</td>\n",
       "    </tr>\n",
       "    <tr>\n",
       "      <th>2</th>\n",
       "      <td>1</td>\n",
       "      <td>5</td>\n",
       "      <td>5</td>\n",
       "    </tr>\n",
       "    <tr>\n",
       "      <th>3</th>\n",
       "      <td>1</td>\n",
       "      <td>2</td>\n",
       "      <td>1</td>\n",
       "    </tr>\n",
       "    <tr>\n",
       "      <th>4</th>\n",
       "      <td>1</td>\n",
       "      <td>2</td>\n",
       "      <td>2</td>\n",
       "    </tr>\n",
       "  </tbody>\n",
       "</table>\n",
       "</div>"
      ],
      "text/plain": [
       "   dose  libido  partnerLibido\n",
       "0     1       3              4\n",
       "1     1       2              1\n",
       "2     1       5              5\n",
       "3     1       2              1\n",
       "4     1       2              2"
      ]
     },
     "execution_count": 2,
     "metadata": {},
     "output_type": "execute_result"
    }
   ],
   "source": [
    "df = pd.read_csv('/home/atrides/Desktop/R/statistics_with_Python/11_GLM2_ANCOVA/Data_Files/ViagraCovariate.dat', sep='\\t')\n",
    "df.head()"
   ]
  },
  {
   "cell_type": "code",
   "execution_count": 6,
   "metadata": {},
   "outputs": [
    {
     "data": {
      "text/html": [
       "<div>\n",
       "<style scoped>\n",
       "    .dataframe tbody tr th:only-of-type {\n",
       "        vertical-align: middle;\n",
       "    }\n",
       "\n",
       "    .dataframe tbody tr th {\n",
       "        vertical-align: top;\n",
       "    }\n",
       "\n",
       "    .dataframe thead th {\n",
       "        text-align: right;\n",
       "    }\n",
       "</style>\n",
       "<table border=\"1\" class=\"dataframe\">\n",
       "  <thead>\n",
       "    <tr style=\"text-align: right;\">\n",
       "      <th></th>\n",
       "      <th>count</th>\n",
       "      <th>mean</th>\n",
       "      <th>std</th>\n",
       "      <th>min</th>\n",
       "      <th>25%</th>\n",
       "      <th>50%</th>\n",
       "      <th>75%</th>\n",
       "      <th>max</th>\n",
       "    </tr>\n",
       "    <tr>\n",
       "      <th>dose</th>\n",
       "      <th></th>\n",
       "      <th></th>\n",
       "      <th></th>\n",
       "      <th></th>\n",
       "      <th></th>\n",
       "      <th></th>\n",
       "      <th></th>\n",
       "      <th></th>\n",
       "    </tr>\n",
       "  </thead>\n",
       "  <tbody>\n",
       "    <tr>\n",
       "      <th>1</th>\n",
       "      <td>9.0</td>\n",
       "      <td>3.222222</td>\n",
       "      <td>1.787301</td>\n",
       "      <td>2.0</td>\n",
       "      <td>2.0</td>\n",
       "      <td>2.0</td>\n",
       "      <td>4.0</td>\n",
       "      <td>7.0</td>\n",
       "    </tr>\n",
       "    <tr>\n",
       "      <th>2</th>\n",
       "      <td>8.0</td>\n",
       "      <td>4.875000</td>\n",
       "      <td>1.457738</td>\n",
       "      <td>3.0</td>\n",
       "      <td>4.0</td>\n",
       "      <td>4.5</td>\n",
       "      <td>5.5</td>\n",
       "      <td>7.0</td>\n",
       "    </tr>\n",
       "    <tr>\n",
       "      <th>3</th>\n",
       "      <td>13.0</td>\n",
       "      <td>4.846154</td>\n",
       "      <td>2.115268</td>\n",
       "      <td>2.0</td>\n",
       "      <td>4.0</td>\n",
       "      <td>4.0</td>\n",
       "      <td>6.0</td>\n",
       "      <td>9.0</td>\n",
       "    </tr>\n",
       "  </tbody>\n",
       "</table>\n",
       "</div>"
      ],
      "text/plain": [
       "      count      mean       std  min  25%  50%  75%  max\n",
       "dose                                                    \n",
       "1       9.0  3.222222  1.787301  2.0  2.0  2.0  4.0  7.0\n",
       "2       8.0  4.875000  1.457738  3.0  4.0  4.5  5.5  7.0\n",
       "3      13.0  4.846154  2.115268  2.0  4.0  4.0  6.0  9.0"
      ]
     },
     "execution_count": 6,
     "metadata": {},
     "output_type": "execute_result"
    }
   ],
   "source": [
    "df.groupby(['dose']).describe()['libido']"
   ]
  },
  {
   "cell_type": "code",
   "execution_count": 7,
   "metadata": {},
   "outputs": [
    {
     "data": {
      "text/html": [
       "<div>\n",
       "<style scoped>\n",
       "    .dataframe tbody tr th:only-of-type {\n",
       "        vertical-align: middle;\n",
       "    }\n",
       "\n",
       "    .dataframe tbody tr th {\n",
       "        vertical-align: top;\n",
       "    }\n",
       "\n",
       "    .dataframe thead th {\n",
       "        text-align: right;\n",
       "    }\n",
       "</style>\n",
       "<table border=\"1\" class=\"dataframe\">\n",
       "  <thead>\n",
       "    <tr style=\"text-align: right;\">\n",
       "      <th></th>\n",
       "      <th>count</th>\n",
       "      <th>mean</th>\n",
       "      <th>std</th>\n",
       "      <th>min</th>\n",
       "      <th>25%</th>\n",
       "      <th>50%</th>\n",
       "      <th>75%</th>\n",
       "      <th>max</th>\n",
       "    </tr>\n",
       "    <tr>\n",
       "      <th>dose</th>\n",
       "      <th></th>\n",
       "      <th></th>\n",
       "      <th></th>\n",
       "      <th></th>\n",
       "      <th></th>\n",
       "      <th></th>\n",
       "      <th></th>\n",
       "      <th></th>\n",
       "    </tr>\n",
       "  </thead>\n",
       "  <tbody>\n",
       "    <tr>\n",
       "      <th>1</th>\n",
       "      <td>9.0</td>\n",
       "      <td>3.444444</td>\n",
       "      <td>2.068279</td>\n",
       "      <td>1.0</td>\n",
       "      <td>2.0</td>\n",
       "      <td>4.0</td>\n",
       "      <td>5.00</td>\n",
       "      <td>7.0</td>\n",
       "    </tr>\n",
       "    <tr>\n",
       "      <th>2</th>\n",
       "      <td>8.0</td>\n",
       "      <td>3.125000</td>\n",
       "      <td>1.726888</td>\n",
       "      <td>1.0</td>\n",
       "      <td>2.0</td>\n",
       "      <td>2.5</td>\n",
       "      <td>4.25</td>\n",
       "      <td>6.0</td>\n",
       "    </tr>\n",
       "    <tr>\n",
       "      <th>3</th>\n",
       "      <td>13.0</td>\n",
       "      <td>2.000000</td>\n",
       "      <td>1.632993</td>\n",
       "      <td>0.0</td>\n",
       "      <td>1.0</td>\n",
       "      <td>2.0</td>\n",
       "      <td>3.00</td>\n",
       "      <td>5.0</td>\n",
       "    </tr>\n",
       "  </tbody>\n",
       "</table>\n",
       "</div>"
      ],
      "text/plain": [
       "      count      mean       std  min  25%  50%   75%  max\n",
       "dose                                                     \n",
       "1       9.0  3.444444  2.068279  1.0  2.0  4.0  5.00  7.0\n",
       "2       8.0  3.125000  1.726888  1.0  2.0  2.5  4.25  6.0\n",
       "3      13.0  2.000000  1.632993  0.0  1.0  2.0  3.00  5.0"
      ]
     },
     "execution_count": 7,
     "metadata": {},
     "output_type": "execute_result"
    }
   ],
   "source": [
    "df.groupby(['dose']).describe()['partnerLibido']"
   ]
  },
  {
   "cell_type": "code",
   "execution_count": 8,
   "metadata": {},
   "outputs": [
    {
     "data": {
      "image/png": "[encoded data removed]",
      "text/plain": [
       "<Figure size 864x576 with 2 Axes>"
      ]
     },
     "metadata": {
      "needs_background": "light"
     },
     "output_type": "display_data"
    }
   ],
   "source": [
    "fig, (ax1, ax2) = plt.subplots(ncols=2, sharey=True,figsize=(12,8))\n",
    "_ = sns.boxplot(x='dose', y='libido', data=df, ax=ax1)\n",
    "_ = sns.boxplot(x='dose', y='partnerLibido', data=df, ax=ax2)"
   ]
  },
  {
   "cell_type": "code",
   "execution_count": 11,
   "metadata": {},
   "outputs": [],
   "source": [
    "df_dose1 = df[df['dose']==1]\n",
    "df_dose2 = df[df['dose']==2]\n",
    "df_dose3 = df[df['dose']==3]"
   ]
  },
  {
   "cell_type": "code",
   "execution_count": 13,
   "metadata": {},
   "outputs": [
    {
     "data": {
      "text/plain": [
       "LeveneResult(statistic=0.3255636973602896, pvalue=0.7249155808037104)"
      ]
     },
     "execution_count": 13,
     "metadata": {},
     "output_type": "execute_result"
    }
   ],
   "source": [
    "# Levene's Test for Homogeneity of Variance (center = median)\n",
    "st.levene(df_dose1['libido'], df_dose2['libido'], df_dose3['libido'])"
   ]
  },
  {
   "cell_type": "markdown",
   "metadata": {},
   "source": [
    "#### # levene test shows that homogeneity of variance is followed, let's do a good double check using Hartley's Fmax test"
   ]
  },
  {
   "cell_type": "code",
   "execution_count": 14,
   "metadata": {},
   "outputs": [
    {
     "data": {
      "text/plain": [
       "2.1055804943265355"
      ]
     },
     "execution_count": 14,
     "metadata": {},
     "output_type": "execute_result"
    }
   ],
   "source": [
    "F_max = 2.115268**2/1.457738**2\n",
    "F_max"
   ]
  },
  {
   "cell_type": "markdown",
   "metadata": {},
   "source": [
    "#### # from hartley's fmax table our fmax is less than the critical value of 5.34 (dof=9, k=3), so our variance is homogeneous."
   ]
  },
  {
   "cell_type": "code",
   "execution_count": 15,
   "metadata": {},
   "outputs": [
    {
     "data": {
      "text/html": [
       "<div>\n",
       "<style scoped>\n",
       "    .dataframe tbody tr th:only-of-type {\n",
       "        vertical-align: middle;\n",
       "    }\n",
       "\n",
       "    .dataframe tbody tr th {\n",
       "        vertical-align: top;\n",
       "    }\n",
       "\n",
       "    .dataframe thead th {\n",
       "        text-align: right;\n",
       "    }\n",
       "</style>\n",
       "<table border=\"1\" class=\"dataframe\">\n",
       "  <thead>\n",
       "    <tr style=\"text-align: right;\">\n",
       "      <th></th>\n",
       "      <th>df</th>\n",
       "      <th>sum_sq</th>\n",
       "      <th>mean_sq</th>\n",
       "      <th>F</th>\n",
       "      <th>PR(&gt;F)</th>\n",
       "    </tr>\n",
       "  </thead>\n",
       "  <tbody>\n",
       "    <tr>\n",
       "      <th>C(dose)</th>\n",
       "      <td>2.0</td>\n",
       "      <td>12.769444</td>\n",
       "      <td>6.384722</td>\n",
       "      <td>1.979254</td>\n",
       "      <td>0.157718</td>\n",
       "    </tr>\n",
       "    <tr>\n",
       "      <th>Residual</th>\n",
       "      <td>27.0</td>\n",
       "      <td>87.097222</td>\n",
       "      <td>3.225823</td>\n",
       "      <td>NaN</td>\n",
       "      <td>NaN</td>\n",
       "    </tr>\n",
       "  </tbody>\n",
       "</table>\n",
       "</div>"
      ],
      "text/plain": [
       "            df     sum_sq   mean_sq         F    PR(>F)\n",
       "C(dose)    2.0  12.769444  6.384722  1.979254  0.157718\n",
       "Residual  27.0  87.097222  3.225823       NaN       NaN"
      ]
     },
     "execution_count": 15,
     "metadata": {},
     "output_type": "execute_result"
    }
   ],
   "source": [
    "# Checking assumption, independence of covariate and experimental manipulator\n",
    "m00 = smf.ols('partnerLibido~C(dose)', data=df).fit()\n",
    "anova_table = sm.stats.anova_lm(m00)\n",
    "anova_table"
   ]
  },
  {
   "cell_type": "markdown",
   "metadata": {},
   "source": [
    "#### # The main effect of dose is not significant, F(2, 27) = 1.98, p = .16, which shows that the average level of partner’s libido was roughly the same in the three Viagra groups. In other words, the means for partner’s libido are not significantly different in the placebo, low and high-dose groups. This result means that it is appropriate to use partner’s libido as a covariate in the analysis"
   ]
  },
  {
   "cell_type": "code",
   "execution_count": 16,
   "metadata": {},
   "outputs": [
    {
     "data": {
      "text/html": [
       "<table class=\"simpletable\">\n",
       "<caption>OLS Regression Results</caption>\n",
       "<tr>\n",
       "  <th>Dep. Variable:</th>         <td>libido</td>      <th>  R-squared:         </th> <td>   0.288</td>\n",
       "</tr>\n",
       "<tr>\n",
       "  <th>Model:</th>                   <td>OLS</td>       <th>  Adj. R-squared:    </th> <td>   0.205</td>\n",
       "</tr>\n",
       "<tr>\n",
       "  <th>Method:</th>             <td>Least Squares</td>  <th>  F-statistic:       </th> <td>   3.500</td>\n",
       "</tr>\n",
       "<tr>\n",
       "  <th>Date:</th>             <td>Thu, 29 Oct 2020</td> <th>  Prob (F-statistic):</th>  <td>0.0295</td> \n",
       "</tr>\n",
       "<tr>\n",
       "  <th>Time:</th>                 <td>11:19:34</td>     <th>  Log-Likelihood:    </th> <td> -57.101</td>\n",
       "</tr>\n",
       "<tr>\n",
       "  <th>No. Observations:</th>      <td>    30</td>      <th>  AIC:               </th> <td>   122.2</td>\n",
       "</tr>\n",
       "<tr>\n",
       "  <th>Df Residuals:</th>          <td>    26</td>      <th>  BIC:               </th> <td>   127.8</td>\n",
       "</tr>\n",
       "<tr>\n",
       "  <th>Df Model:</th>              <td>     3</td>      <th>                     </th>     <td> </td>   \n",
       "</tr>\n",
       "<tr>\n",
       "  <th>Covariance Type:</th>      <td>nonrobust</td>    <th>                     </th>     <td> </td>   \n",
       "</tr>\n",
       "</table>\n",
       "<table class=\"simpletable\">\n",
       "<tr>\n",
       "        <td></td>           <th>coef</th>     <th>std err</th>      <th>t</th>      <th>P>|t|</th>  <th>[0.025</th>    <th>0.975]</th>  \n",
       "</tr>\n",
       "<tr>\n",
       "  <th>Intercept</th>     <td>    1.7892</td> <td>    0.867</td> <td>    2.063</td> <td> 0.049</td> <td>    0.007</td> <td>    3.572</td>\n",
       "</tr>\n",
       "<tr>\n",
       "  <th>C(dose)[T.2]</th>  <td>    1.7857</td> <td>    0.849</td> <td>    2.102</td> <td> 0.045</td> <td>    0.040</td> <td>    3.532</td>\n",
       "</tr>\n",
       "<tr>\n",
       "  <th>C(dose)[T.3]</th>  <td>    2.2249</td> <td>    0.803</td> <td>    2.771</td> <td> 0.010</td> <td>    0.575</td> <td>    3.875</td>\n",
       "</tr>\n",
       "<tr>\n",
       "  <th>partnerLibido</th> <td>    0.4160</td> <td>    0.187</td> <td>    2.227</td> <td> 0.035</td> <td>    0.032</td> <td>    0.800</td>\n",
       "</tr>\n",
       "</table>\n",
       "<table class=\"simpletable\">\n",
       "<tr>\n",
       "  <th>Omnibus:</th>       <td> 5.853</td> <th>  Durbin-Watson:     </th> <td>   2.559</td>\n",
       "</tr>\n",
       "<tr>\n",
       "  <th>Prob(Omnibus):</th> <td> 0.054</td> <th>  Jarque-Bera (JB):  </th> <td>   4.111</td>\n",
       "</tr>\n",
       "<tr>\n",
       "  <th>Skew:</th>          <td> 0.743</td> <th>  Prob(JB):          </th> <td>   0.128</td>\n",
       "</tr>\n",
       "<tr>\n",
       "  <th>Kurtosis:</th>      <td> 4.040</td> <th>  Cond. No.          </th> <td>    13.3</td>\n",
       "</tr>\n",
       "</table><br/><br/>Notes:<br/>[1] Standard Errors assume that the covariance matrix of the errors is correctly specified."
      ],
      "text/plain": [
       "<class 'statsmodels.iolib.summary.Summary'>\n",
       "\"\"\"\n",
       "                            OLS Regression Results                            \n",
       "==============================================================================\n",
       "Dep. Variable:                 libido   R-squared:                       0.288\n",
       "Model:                            OLS   Adj. R-squared:                  0.205\n",
       "Method:                 Least Squares   F-statistic:                     3.500\n",
       "Date:                Thu, 29 Oct 2020   Prob (F-statistic):             0.0295\n",
       "Time:                        11:19:34   Log-Likelihood:                -57.101\n",
       "No. Observations:                  30   AIC:                             122.2\n",
       "Df Residuals:                      26   BIC:                             127.8\n",
       "Df Model:                           3                                         \n",
       "Covariance Type:            nonrobust                                         \n",
       "=================================================================================\n",
       "                    coef    std err          t      P>|t|      [0.025      0.975]\n",
       "---------------------------------------------------------------------------------\n",
       "Intercept         1.7892      0.867      2.063      0.049       0.007       3.572\n",
       "C(dose)[T.2]      1.7857      0.849      2.102      0.045       0.040       3.532\n",
       "C(dose)[T.3]      2.2249      0.803      2.771      0.010       0.575       3.875\n",
       "partnerLibido     0.4160      0.187      2.227      0.035       0.032       0.800\n",
       "==============================================================================\n",
       "Omnibus:                        5.853   Durbin-Watson:                   2.559\n",
       "Prob(Omnibus):                  0.054   Jarque-Bera (JB):                4.111\n",
       "Skew:                           0.743   Prob(JB):                        0.128\n",
       "Kurtosis:                       4.040   Cond. No.                         13.3\n",
       "==============================================================================\n",
       "\n",
       "Notes:\n",
       "[1] Standard Errors assume that the covariance matrix of the errors is correctly specified.\n",
       "\"\"\""
      ]
     },
     "execution_count": 16,
     "metadata": {},
     "output_type": "execute_result"
    }
   ],
   "source": [
    "m01 = smf.ols('libido~partnerLibido+C(dose)', data=df).fit()\n",
    "m01.summary()"
   ]
  },
  {
   "cell_type": "code",
   "execution_count": 20,
   "metadata": {},
   "outputs": [
    {
     "data": {
      "text/html": [
       "<div>\n",
       "<style scoped>\n",
       "    .dataframe tbody tr th:only-of-type {\n",
       "        vertical-align: middle;\n",
       "    }\n",
       "\n",
       "    .dataframe tbody tr th {\n",
       "        vertical-align: top;\n",
       "    }\n",
       "\n",
       "    .dataframe thead th {\n",
       "        text-align: right;\n",
       "    }\n",
       "</style>\n",
       "<table border=\"1\" class=\"dataframe\">\n",
       "  <thead>\n",
       "    <tr style=\"text-align: right;\">\n",
       "      <th></th>\n",
       "      <th>sum_sq</th>\n",
       "      <th>df</th>\n",
       "      <th>F</th>\n",
       "      <th>PR(&gt;F)</th>\n",
       "    </tr>\n",
       "  </thead>\n",
       "  <tbody>\n",
       "    <tr>\n",
       "      <th>Intercept</th>\n",
       "      <td>12.943064</td>\n",
       "      <td>1.0</td>\n",
       "      <td>4.257204</td>\n",
       "      <td>0.049202</td>\n",
       "    </tr>\n",
       "    <tr>\n",
       "      <th>C(dose)</th>\n",
       "      <td>25.185194</td>\n",
       "      <td>2.0</td>\n",
       "      <td>4.141929</td>\n",
       "      <td>0.027447</td>\n",
       "    </tr>\n",
       "    <tr>\n",
       "      <th>partnerLibido</th>\n",
       "      <td>15.075748</td>\n",
       "      <td>1.0</td>\n",
       "      <td>4.958681</td>\n",
       "      <td>0.034833</td>\n",
       "    </tr>\n",
       "    <tr>\n",
       "      <th>Residual</th>\n",
       "      <td>79.047116</td>\n",
       "      <td>26.0</td>\n",
       "      <td>NaN</td>\n",
       "      <td>NaN</td>\n",
       "    </tr>\n",
       "  </tbody>\n",
       "</table>\n",
       "</div>"
      ],
      "text/plain": [
       "                  sum_sq    df         F    PR(>F)\n",
       "Intercept      12.943064   1.0  4.257204  0.049202\n",
       "C(dose)        25.185194   2.0  4.141929  0.027447\n",
       "partnerLibido  15.075748   1.0  4.958681  0.034833\n",
       "Residual       79.047116  26.0       NaN       NaN"
      ]
     },
     "execution_count": 20,
     "metadata": {},
     "output_type": "execute_result"
    }
   ],
   "source": [
    "anova_table1 = sm.stats.anova_lm(m01, typ=3)   # defaults to type 2\n",
    "anova_table1"
   ]
  },
  {
   "cell_type": "markdown",
   "metadata": {},
   "source": [
    "## Planned Contrasts"
   ]
  },
  {
   "cell_type": "code",
   "execution_count": 24,
   "metadata": {},
   "outputs": [
    {
     "data": {
      "text/plain": [
       "array([[-2,  0],\n",
       "       [ 1, -1],\n",
       "       [ 1,  1]])"
      ]
     },
     "execution_count": 24,
     "metadata": {},
     "output_type": "execute_result"
    }
   ],
   "source": [
    "contrast1 = [-2, 1, 1]\n",
    "contrast2 = [0,-1, 1]\n",
    "contrast = np.vstack((contrast1, contrast2))\n",
    "contrast = contrast.T\n",
    "contrast"
   ]
  },
  {
   "cell_type": "code",
   "execution_count": 27,
   "metadata": {
    "scrolled": true
   },
   "outputs": [
    {
     "name": "stdout",
     "output_type": "stream",
     "text": [
      "                            OLS Regression Results                            \n",
      "==============================================================================\n",
      "Dep. Variable:                 libido   R-squared:                       0.288\n",
      "Model:                            OLS   Adj. R-squared:                  0.205\n",
      "Method:                 Least Squares   F-statistic:                     3.500\n",
      "Date:                Thu, 29 Oct 2020   Prob (F-statistic):             0.0295\n",
      "Time:                        14:57:44   Log-Likelihood:                -57.101\n",
      "No. Observations:                  30   AIC:                             122.2\n",
      "Df Residuals:                      26   BIC:                             127.8\n",
      "Df Model:                           3                                         \n",
      "Covariance Type:            nonrobust                                         \n",
      "==============================================================================================\n",
      "                                 coef    std err          t      P>|t|      [0.025      0.975]\n",
      "----------------------------------------------------------------------------------------------\n",
      "Intercept                      3.1260      0.625      5.002      0.000       1.841       4.411\n",
      "C(dose, contrast)[custom0]     0.6684      0.240      2.785      0.010       0.175       1.162\n",
      "C(dose, contrast)[custom1]     0.2196      0.406      0.541      0.593      -0.614       1.053\n",
      "partnerLibido                  0.4160      0.187      2.227      0.035       0.032       0.800\n",
      "==============================================================================\n",
      "Omnibus:                        5.853   Durbin-Watson:                   2.559\n",
      "Prob(Omnibus):                  0.054   Jarque-Bera (JB):                4.111\n",
      "Skew:                           0.743   Prob(JB):                        0.128\n",
      "Kurtosis:                       4.040   Cond. No.                         7.10\n",
      "==============================================================================\n",
      "\n",
      "Notes:\n",
      "[1] Standard Errors assume that the covariance matrix of the errors is correctly specified.\n"
     ]
    }
   ],
   "source": [
    "contrast_model = smf.ols(\"libido ~ partnerLibido+C(dose, contrast)\", data=df).fit()\n",
    "print(contrast_model.summary())"
   ]
  },
  {
   "cell_type": "markdown",
   "metadata": {},
   "source": [
    "### the concept of adjusted means"
   ]
  },
  {
   "cell_type": "markdown",
   "metadata": {},
   "source": [
    "#### # We now turn our attention to the treatment means , adjusted to remove the effect of the covariate.\n",
    "\n",
    "#### # https://www.real-statistics.com/analysis-of-covariance-ancova/regression-approach-ancova/\n",
    "\n",
    "#### # y = 1.7892 + 0.4160 partnerLibido + 1.7857 t2 + 2.2249 t3"
   ]
  },
  {
   "cell_type": "code",
   "execution_count": 32,
   "metadata": {},
   "outputs": [
    {
     "name": "stdout",
     "output_type": "stream",
     "text": [
      "adjusted means for following groups: \n",
      "\n",
      "1.Placebo=2.926266666666667\n",
      "\n",
      "2.Low Dose=4.711966666666667\n",
      "\n",
      "3.High Dose=5.151166666666667\n"
     ]
    }
   ],
   "source": [
    "# from m01 summary table\n",
    "\n",
    "y_placebo = 1.7892 + 0.4160* df['partnerLibido'].mean() + 0 + 0\n",
    "y_low = 1.7892 + 0.4160* df['partnerLibido'].mean() + 1* 1.7857 + 0\n",
    "y_high = 1.7892 + 0.4160* df['partnerLibido'].mean() + 0* 1.7857 + 1* 2.2249\n",
    "print(f\"adjusted means for following groups: \\n\\n1.Placebo={y_placebo}\\n\\n2.Low Dose={y_low}\\n\\n3.High Dose={y_high}\")"
   ]
  },
  {
   "cell_type": "markdown",
   "metadata": {},
   "source": [
    "#### # from the above output , we can see if the effect of covariate is removed ,the difference between low and high dose group's mean increases considerably."
   ]
  },
  {
   "cell_type": "code",
   "execution_count": 33,
   "metadata": {},
   "outputs": [
    {
     "data": {
      "image/png": "[encoded data removed]",
      "text/plain": [
       "<Figure size 360x360 with 1 Axes>"
      ]
     },
     "metadata": {
      "needs_background": "light"
     },
     "output_type": "display_data"
    }
   ],
   "source": [
    "# Interpreting the covariate\n",
    "_ = sns.lmplot(y='libido', x=\"partnerLibido\", data=df)"
   ]
  },
  {
   "cell_type": "markdown",
   "metadata": {},
   "source": [
    "#### # Figure shows the resulting scatterplot for these data and confirms what we already know: the effect of the covariate is that as partner’s libido increases, so does the participant’s libido (as shown by the slope of the regression line)."
   ]
  },
  {
   "cell_type": "markdown",
   "metadata": {},
   "source": [
    "### Post Hoc tests in ANCOVA"
   ]
  },
  {
   "cell_type": "markdown",
   "metadata": {},
   "source": [
    "### I was not able to find appropriate python package to do Post-Hoc test on adjusted means in python, So refer to R's function ***glht()*** or find the same in R's section of this repo . "
   ]
  },
  {
   "cell_type": "markdown",
   "metadata": {},
   "source": [
    "## Plots in Ancova"
   ]
  },
  {
   "cell_type": "code",
   "execution_count": 35,
   "metadata": {},
   "outputs": [
    {
     "data": {
      "text/html": [
       "<div>\n",
       "<style scoped>\n",
       "    .dataframe tbody tr th:only-of-type {\n",
       "        vertical-align: middle;\n",
       "    }\n",
       "\n",
       "    .dataframe tbody tr th {\n",
       "        vertical-align: top;\n",
       "    }\n",
       "\n",
       "    .dataframe thead th {\n",
       "        text-align: right;\n",
       "    }\n",
       "</style>\n",
       "<table border=\"1\" class=\"dataframe\">\n",
       "  <thead>\n",
       "    <tr style=\"text-align: right;\">\n",
       "      <th></th>\n",
       "      <th>predicted</th>\n",
       "      <th>standarized_prediction</th>\n",
       "    </tr>\n",
       "  </thead>\n",
       "  <tbody>\n",
       "    <tr>\n",
       "      <th>0</th>\n",
       "      <td>3.453357</td>\n",
       "      <td>-0.870540</td>\n",
       "    </tr>\n",
       "    <tr>\n",
       "      <th>1</th>\n",
       "      <td>2.205230</td>\n",
       "      <td>-2.060217</td>\n",
       "    </tr>\n",
       "    <tr>\n",
       "      <th>2</th>\n",
       "      <td>3.869399</td>\n",
       "      <td>-0.473981</td>\n",
       "    </tr>\n",
       "    <tr>\n",
       "      <th>3</th>\n",
       "      <td>2.205230</td>\n",
       "      <td>-2.060217</td>\n",
       "    </tr>\n",
       "    <tr>\n",
       "      <th>4</th>\n",
       "      <td>2.621273</td>\n",
       "      <td>-1.663658</td>\n",
       "    </tr>\n",
       "  </tbody>\n",
       "</table>\n",
       "</div>"
      ],
      "text/plain": [
       "   predicted  standarized_prediction\n",
       "0   3.453357               -0.870540\n",
       "1   2.205230               -2.060217\n",
       "2   3.869399               -0.473981\n",
       "3   2.205230               -2.060217\n",
       "4   2.621273               -1.663658"
      ]
     },
     "execution_count": 35,
     "metadata": {},
     "output_type": "execute_result"
    }
   ],
   "source": [
    "prediction = pd.DataFrame(m01.fittedvalues)\n",
    "prediction.columns = ['predicted'] \n",
    "prediction['standarized_prediction']  = (prediction['predicted']-prediction['predicted'].mean())/prediction['predicted'].std()\n",
    "prediction.head()"
   ]
  },
  {
   "cell_type": "code",
   "execution_count": 36,
   "metadata": {},
   "outputs": [],
   "source": [
    "import statsmodels.stats.outliers_influence as sms"
   ]
  },
  {
   "cell_type": "code",
   "execution_count": 37,
   "metadata": {},
   "outputs": [],
   "source": [
    "summary_frame = sms.OLSInfluence(m01).summary_frame()\n",
    "summary_frame = pd.merge(summary_frame, prediction, how = 'inner', left_index = True, right_index = True)"
   ]
  },
  {
   "cell_type": "code",
   "execution_count": 38,
   "metadata": {},
   "outputs": [
    {
     "data": {
      "image/png": "[encoded data removed]",
      "text/plain": [
       "<Figure size 432x288 with 1 Axes>"
      ]
     },
     "metadata": {
      "needs_background": "light"
     },
     "output_type": "display_data"
    }
   ],
   "source": [
    "_ = sns.scatterplot(y = 'standard_resid', x='standarized_prediction', data = summary_frame)\n",
    "_ = plt.axhline(y=0)"
   ]
  },
  {
   "cell_type": "code",
   "execution_count": 39,
   "metadata": {},
   "outputs": [
    {
     "data": {
      "image/png": "[encoded data removed]",
      "text/plain": [
       "<Figure size 360x288 with 1 Axes>"
      ]
     },
     "metadata": {
      "needs_background": "light"
     },
     "output_type": "display_data"
    }
   ],
   "source": [
    "_ = pg.qqplot(summary_frame['standard_resid'], confidence=False)"
   ]
  },
  {
   "cell_type": "markdown",
   "metadata": {},
   "source": [
    "#### # The first graph (on the left of the figure) can be used for testing homogeneity of variance. The plot we have does show funnelling (the spread of scores is wider at some points than at others), which implies that the residuals might be heteroscedastic (a bad thing). The second plot (at bottom) is a Q-Q plot , which tells us about the normality of residuals in the model. We want our residuals to be normally distributed, which means that the dots on the graph should hover around the diagonal line. On ours, it looks like deviated from diagonal line. Again, this is not good news for the model. These plots suggest that a robust version of ANCOVA should be done."
   ]
  },
  {
   "cell_type": "markdown",
   "metadata": {},
   "source": [
    "## Final Remarks"
   ]
  },
  {
   "cell_type": "code",
   "execution_count": 42,
   "metadata": {},
   "outputs": [
    {
     "data": {
      "text/html": [
       "<div>\n",
       "<style scoped>\n",
       "    .dataframe tbody tr th:only-of-type {\n",
       "        vertical-align: middle;\n",
       "    }\n",
       "\n",
       "    .dataframe tbody tr th {\n",
       "        vertical-align: top;\n",
       "    }\n",
       "\n",
       "    .dataframe thead th {\n",
       "        text-align: right;\n",
       "    }\n",
       "</style>\n",
       "<table border=\"1\" class=\"dataframe\">\n",
       "  <thead>\n",
       "    <tr style=\"text-align: right;\">\n",
       "      <th></th>\n",
       "      <th>df</th>\n",
       "      <th>sum_sq</th>\n",
       "      <th>mean_sq</th>\n",
       "      <th>F</th>\n",
       "      <th>PR(&gt;F)</th>\n",
       "    </tr>\n",
       "  </thead>\n",
       "  <tbody>\n",
       "    <tr>\n",
       "      <th>C(dose)</th>\n",
       "      <td>2.0</td>\n",
       "      <td>16.843803</td>\n",
       "      <td>8.421902</td>\n",
       "      <td>2.415899</td>\n",
       "      <td>0.108339</td>\n",
       "    </tr>\n",
       "    <tr>\n",
       "      <th>Residual</th>\n",
       "      <td>27.0</td>\n",
       "      <td>94.122863</td>\n",
       "      <td>3.486032</td>\n",
       "      <td>NaN</td>\n",
       "      <td>NaN</td>\n",
       "    </tr>\n",
       "  </tbody>\n",
       "</table>\n",
       "</div>"
      ],
      "text/plain": [
       "            df     sum_sq   mean_sq         F    PR(>F)\n",
       "C(dose)    2.0  16.843803  8.421902  2.415899  0.108339\n",
       "Residual  27.0  94.122863  3.486032       NaN       NaN"
      ]
     },
     "execution_count": 42,
     "metadata": {},
     "output_type": "execute_result"
    }
   ],
   "source": [
    "model_justAnova = smf.ols('libido~C(dose)', data=df).fit()\n",
    "# model_justAnova.summary()\n",
    "anovaTable = sm.stats.anova_lm(model_justAnova)\n",
    "anovaTable"
   ]
  },
  {
   "cell_type": "markdown",
   "metadata": {},
   "source": [
    "#### # It shows non-significant difference .So , if we hadn't taken covariate in our calculation , the resulting summary would be incorrect and misleading"
   ]
  },
  {
   "cell_type": "markdown",
   "metadata": {},
   "source": [
    "### Checking assumption of homegeniety of regression slopes"
   ]
  },
  {
   "cell_type": "code",
   "execution_count": 48,
   "metadata": {},
   "outputs": [
    {
     "data": {
      "image/png": "[encoded data removed]",
      "text/plain": [
       "<Figure size 402.375x360 with 1 Axes>"
      ]
     },
     "metadata": {
      "needs_background": "light"
     },
     "output_type": "display_data"
    }
   ],
   "source": [
    "_ = sns.lmplot(x='libido', y='partnerLibido', hue='dose', data=df)       # groupwise effect"
   ]
  },
  {
   "cell_type": "code",
   "execution_count": 49,
   "metadata": {},
   "outputs": [
    {
     "data": {
      "image/png": "[encoded data removed]",
      "text/plain": [
       "<Figure size 432x288 with 1 Axes>"
      ]
     },
     "metadata": {
      "needs_background": "light"
     },
     "output_type": "display_data"
    }
   ],
   "source": [
    "_ = sns.regplot(x='libido', y='partnerLibido', data=df, color='black')   # overall effect"
   ]
  },
  {
   "cell_type": "code",
   "execution_count": 47,
   "metadata": {},
   "outputs": [
    {
     "data": {
      "text/html": [
       "<div>\n",
       "<style scoped>\n",
       "    .dataframe tbody tr th:only-of-type {\n",
       "        vertical-align: middle;\n",
       "    }\n",
       "\n",
       "    .dataframe tbody tr th {\n",
       "        vertical-align: top;\n",
       "    }\n",
       "\n",
       "    .dataframe thead th {\n",
       "        text-align: right;\n",
       "    }\n",
       "</style>\n",
       "<table border=\"1\" class=\"dataframe\">\n",
       "  <thead>\n",
       "    <tr style=\"text-align: right;\">\n",
       "      <th></th>\n",
       "      <th>sum_sq</th>\n",
       "      <th>df</th>\n",
       "      <th>F</th>\n",
       "      <th>PR(&gt;F)</th>\n",
       "    </tr>\n",
       "  </thead>\n",
       "  <tbody>\n",
       "    <tr>\n",
       "      <th>C(dose)</th>\n",
       "      <td>25.185194</td>\n",
       "      <td>2.0</td>\n",
       "      <td>5.155572</td>\n",
       "      <td>0.013719</td>\n",
       "    </tr>\n",
       "    <tr>\n",
       "      <th>partnerLibido</th>\n",
       "      <td>15.075748</td>\n",
       "      <td>1.0</td>\n",
       "      <td>6.172206</td>\n",
       "      <td>0.020348</td>\n",
       "    </tr>\n",
       "    <tr>\n",
       "      <th>C(dose):partnerLibido</th>\n",
       "      <td>20.426594</td>\n",
       "      <td>2.0</td>\n",
       "      <td>4.181456</td>\n",
       "      <td>0.027667</td>\n",
       "    </tr>\n",
       "    <tr>\n",
       "      <th>Residual</th>\n",
       "      <td>58.620522</td>\n",
       "      <td>24.0</td>\n",
       "      <td>NaN</td>\n",
       "      <td>NaN</td>\n",
       "    </tr>\n",
       "  </tbody>\n",
       "</table>\n",
       "</div>"
      ],
      "text/plain": [
       "                          sum_sq    df         F    PR(>F)\n",
       "C(dose)                25.185194   2.0  5.155572  0.013719\n",
       "partnerLibido          15.075748   1.0  6.172206  0.020348\n",
       "C(dose):partnerLibido  20.426594   2.0  4.181456  0.027667\n",
       "Residual               58.620522  24.0       NaN       NaN"
      ]
     },
     "execution_count": 47,
     "metadata": {},
     "output_type": "execute_result"
    }
   ],
   "source": [
    "hoRS_model= smf.ols('libido~C(dose)*partnerLibido', data=df).fit()\n",
    "anova_hoRS = sm.stats.anova_lm(hoRS_model, typ=2)\n",
    "anova_hoRS"
   ]
  },
  {
   "cell_type": "markdown",
   "metadata": {},
   "source": [
    "#### # shows the main summary table for the ANCOVA including the interaction term. The effects of the dose of Viagra and the partner’s libido are still significant, but the main thing in which we’re interested is the interaction term, so look at the significance value of the covariate by outcome interaction (partnerLibido:dose), if this effect is significant then the assumption of homogeneity of regression slopes has been broken. The effect here is significant (p < .05); therefore the assumption is not tenable. Although this finding is not surprising given the pattern of relationships in above plots, it does raise concern about the main analysis. This example illustrates why it is important to test assumptions and not to just blindly accept the results of an analysis.\n",
    "\n",
    "#### # Note: We could also use Type III sums of squares here: because we’re interested only in the highest-order interaction, Type II and III sums of squares will give us exactly the same results"
   ]
  },
  {
   "cell_type": "markdown",
   "metadata": {},
   "source": [
    "##  Effect size"
   ]
  },
  {
   "cell_type": "code",
   "execution_count": 50,
   "metadata": {},
   "outputs": [
    {
     "name": "stdout",
     "output_type": "stream",
     "text": [
      "                  sum_sq    df         F    PR(>F)\n",
      "Intercept      12.943064   1.0  4.257204  0.049202\n",
      "C(dose)        25.185194   2.0  4.141929  0.027447\n",
      "partnerLibido  15.075748   1.0  4.958681  0.034833\n",
      "Residual       79.047116  26.0       NaN       NaN\n"
     ]
    }
   ],
   "source": [
    "print(anova_table1)"
   ]
  },
  {
   "cell_type": "code",
   "execution_count": 54,
   "metadata": {},
   "outputs": [
    {
     "data": {
      "image/png": "[encoded data removed]",
      "text/plain": [
       "<IPython.core.display.Image object>"
      ]
     },
     "execution_count": 54,
     "metadata": {},
     "output_type": "execute_result"
    }
   ],
   "source": [
    "from IPython.display import Image\n",
    "Image('/home/atrides/Downloads/n2.png')"
   ]
  },
  {
   "cell_type": "code",
   "execution_count": 56,
   "metadata": {},
   "outputs": [
    {
     "data": {
      "text/plain": [
       "0.24162559574857354"
      ]
     },
     "execution_count": 56,
     "metadata": {},
     "output_type": "execute_result"
    }
   ],
   "source": [
    "partial_η2_dose = 25.185194/(25.185194+79.047116)\n",
    "partial_η2_dose"
   ]
  },
  {
   "cell_type": "code",
   "execution_count": 57,
   "metadata": {},
   "outputs": [
    {
     "data": {
      "text/plain": [
       "0.16017094422456163"
      ]
     },
     "execution_count": 57,
     "metadata": {},
     "output_type": "execute_result"
    }
   ],
   "source": [
    "partial_η2_partnerLibido = 15.075748/(15.075748+79.047116)\n",
    "partial_η2_partnerLibido"
   ]
  },
  {
   "cell_type": "code",
   "execution_count": 65,
   "metadata": {},
   "outputs": [],
   "source": [
    "# R contrast\n",
    "def r_contrast(t,d0f):\n",
    "    return np.sqrt(t**2/(t**2+d0f))\n",
    "d0f=26 # N-p-1 = 30-(2+1)-1"
   ]
  },
  {
   "cell_type": "code",
   "execution_count": 70,
   "metadata": {},
   "outputs": [
    {
     "name": "stdout",
     "output_type": "stream",
     "text": [
      "                            OLS Regression Results                            \n",
      "==============================================================================\n",
      "Dep. Variable:                 libido   R-squared:                       0.288\n",
      "Model:                            OLS   Adj. R-squared:                  0.205\n",
      "Method:                 Least Squares   F-statistic:                     3.500\n",
      "Date:                Thu, 29 Oct 2020   Prob (F-statistic):             0.0295\n",
      "Time:                        17:03:43   Log-Likelihood:                -57.101\n",
      "No. Observations:                  30   AIC:                             122.2\n",
      "Df Residuals:                      26   BIC:                             127.8\n",
      "Df Model:                           3                                         \n",
      "Covariance Type:            nonrobust                                         \n",
      "==============================================================================================\n",
      "                                 coef    std err          t      P>|t|      [0.025      0.975]\n",
      "----------------------------------------------------------------------------------------------\n",
      "Intercept                      3.1260      0.625      5.002      0.000       1.841       4.411\n",
      "C(dose, contrast)[custom0]     0.6684      0.240      2.785      0.010       0.175       1.162\n",
      "C(dose, contrast)[custom1]     0.2196      0.406      0.541      0.593      -0.614       1.053\n",
      "partnerLibido                  0.4160      0.187      2.227      0.035       0.032       0.800\n",
      "==============================================================================\n",
      "Omnibus:                        5.853   Durbin-Watson:                   2.559\n",
      "Prob(Omnibus):                  0.054   Jarque-Bera (JB):                4.111\n",
      "Skew:                           0.743   Prob(JB):                        0.128\n",
      "Kurtosis:                       4.040   Cond. No.                         7.10\n",
      "==============================================================================\n",
      "\n",
      "Notes:\n",
      "[1] Standard Errors assume that the covariance matrix of the errors is correctly specified.\n"
     ]
    }
   ],
   "source": [
    "print(contrast_model.summary())"
   ]
  },
  {
   "cell_type": "code",
   "execution_count": 66,
   "metadata": {},
   "outputs": [
    {
     "data": {
      "text/plain": [
       "0.40024235436415706"
      ]
     },
     "execution_count": 66,
     "metadata": {},
     "output_type": "execute_result"
    }
   ],
   "source": [
    "r_contrast(2.227,d0f)"
   ]
  },
  {
   "cell_type": "code",
   "execution_count": 67,
   "metadata": {},
   "outputs": [
    {
     "data": {
      "text/plain": [
       "0.4793450677347502"
      ]
     },
     "execution_count": 67,
     "metadata": {},
     "output_type": "execute_result"
    }
   ],
   "source": [
    "r_contrast(2.785,d0f)"
   ]
  },
  {
   "cell_type": "code",
   "execution_count": 68,
   "metadata": {},
   "outputs": [
    {
     "data": {
      "text/plain": [
       "0.10550664883954561"
      ]
     },
     "execution_count": 68,
     "metadata": {},
     "output_type": "execute_result"
    }
   ],
   "source": [
    "r_contrast(0.541,d0f)"
   ]
  },
  {
   "cell_type": "markdown",
   "metadata": {},
   "source": [
    "#### # If you think back to our benchmarks for effect sizes, the effect of the covariate (.400) and the difference between the combined dose groups and the placebo (.479) both represent medium to large effect sizes (they’re both between .4 and .5). Therefore, as well as being statistically significant, these effects are substantive findings. The difference between the high- and low-dose groups (.106) was a fairly small effect."
   ]
  },
  {
   "cell_type": "markdown",
   "metadata": {},
   "source": [
    "### An alternative of getting effect size of contrasts,is to get all pairwise effect sizes"
   ]
  },
  {
   "cell_type": "code",
   "execution_count": 71,
   "metadata": {},
   "outputs": [],
   "source": [
    "def s_within(s1,s2,n1,n2):\n",
    "    return np.sqrt((((n1-1)*(s1**2))+((n2-1)*(s2**2)))/(n1+n2-2))\n",
    "\n",
    "def mes(m1, m2, s1, s2, n1, n2):\n",
    "    s_ = s_within(s1,s2,n1,n2)\n",
    "    d = (m1-m2)/s_   # cohen's D\n",
    "    d_var = (n1+n2)/(n1*n2) + (d**2)/(2*(n1+n2))    # variance of d \n",
    "    \n",
    "    df = n1+n2-2\n",
    "    J = 1-3/(4*df-1)   # correction factor\n",
    "    \n",
    "    g = J*d          #   Hedges' g\n",
    "    \n",
    "    g_var = (J**2)*d_var     #   variance of g\n",
    "    \n",
    "    a = (n1+n2)**2/(n1*n2)    # a corrects for inbalance in n1 & n2\n",
    "    \n",
    "    r = d/np.sqrt(d**2+a)  # correlation coeffecient\n",
    "    \n",
    "    r_var = (a**2 * d_var)/((d**2 + a)**3)     #   variance of r\n",
    "    \n",
    "    \n",
    "    print(f'Cohen\\'s d: {d}, var.d: {d_var}')\n",
    "    print(f'Hedge\\'s g: {g}, var.g: {g_var}')\n",
    "    print(f'Correlation coeffecient: {r}, var.r: {r_var}')"
   ]
  },
  {
   "cell_type": "markdown",
   "metadata": {},
   "source": [
    "#### # We know the adjusted means and sample sizes, the problem is that we don’t know the adjusted standard deviations. We could either use the unadjusted standard deviations as an approximation, or we could estimate them from the standard errors of the adjusted means"
   ]
  },
  {
   "cell_type": "code",
   "execution_count": 72,
   "metadata": {},
   "outputs": [
    {
     "name": "stdout",
     "output_type": "stream",
     "text": [
      "Cohen's d: -1.0886337947101665, var.d: 0.2709676857871422\n",
      "Hedge's g: -1.033279533962192, var.g: 0.24411222712682507\n",
      "Correlation coeffecient: -0.4774428394493218, var.r: 0.031066020760067054\n"
     ]
    }
   ],
   "source": [
    "# placebo-low\n",
    "mes(2.92, 4.71, 1.79, 1.46, 9,8)"
   ]
  },
  {
   "cell_type": "code",
   "execution_count": 73,
   "metadata": {},
   "outputs": [
    {
     "name": "stdout",
     "output_type": "stream",
     "text": [
      "Cohen's d: 0.23199127672690636, var.d: 0.20320450436301454\n",
      "Hedge's g: 0.2227116256578301, var.g: 0.1872732712209542\n",
      "Correlation coeffecient: 0.1119515962214018, var.r: 0.04614191790941418\n"
     ]
    }
   ],
   "source": [
    "# high-low\n",
    "mes(5.15, 4.71, 2.11, 1.46, 13,8)"
   ]
  },
  {
   "cell_type": "code",
   "execution_count": 74,
   "metadata": {},
   "outputs": [
    {
     "name": "stdout",
     "output_type": "stream",
     "text": [
      "Cohen's d: 1.1216231105793681, var.d: 0.2166259699020457\n",
      "Hedge's g: 1.079029827899139, var.g: 0.20048575583307418\n",
      "Correlation coeffecient: 0.4829027244028852, var.r: 0.02361053121522755\n"
     ]
    }
   ],
   "source": [
    "# high-placebo\n",
    "mes(5.15, 2.92, 2.11, 1.79, 13,9)"
   ]
  },
  {
   "cell_type": "markdown",
   "metadata": {},
   "source": [
    "#### # The difference between the low-dose and placebo group is a large effect (the adjusted means are about a standard deviation different), d= -1.08, r=-.47; the difference between the high-dose and placebo groups is also a large effect (over a standard deviation difference between the adjusted group means), d= 1.12, r= .48; finally,he difference between the high- and low-dose groups is a very small effect (the adjusted means are about a tenth of standard deviation different), d= 0.23, r= .11"
   ]
  },
  {
   "cell_type": "markdown",
   "metadata": {},
   "source": [
    "## Final Reporting"
   ]
  },
  {
   "cell_type": "markdown",
   "metadata": {},
   "source": [
    "#### # The covariate, partner’s libido, was significantly related to the participant’s libido, F(1, 26) = 4.96, p < .05, r= .40. There was also a significant effect of the dose of Viagra on levels of libido after controlling for the effect of partner’s libido, F(2, 26) = 4.14, p < .05, partial η2= .24"
   ]
  },
  {
   "cell_type": "markdown",
   "metadata": {},
   "source": [
    "#### # Planned contrasts revealed that taking a high or low dose of Viagra significantly increased libido compared to taking a placebo, t(26) = 2.79, p < .01, r= .48; there was no significant difference between the high and low doses of Viagra, t(26) = 0.54, p = .59, r= .11"
   ]
  },
  {
   "cell_type": "markdown",
   "metadata": {},
   "source": [
    "#### # ukey post hoc tests revealed that the covariate adjusted mean of the high-dose group was significantly greater than that of the placebo (difference = 2.22, t= 2.77, p< .05, d= 1.13). However, there was no significant difference between the low-dose and pla-cebo groups (difference = 1.79, t= 2.10, p= .11, d= 1.04) and between the low-dose and high-dose groups (difference = 0.44, t= 0.54, p= .85, d= 0.11). Despite the lack of significance between the low-dose and placebo groups, the effect size was quite large"
   ]
  },
  {
   "cell_type": "code",
   "execution_count": null,
   "metadata": {},
   "outputs": [],
   "source": []
  }
 ],
 "metadata": {
  "kernelspec": {
   "display_name": "Python 3",
   "language": "python",
   "name": "python3"
  },
  "language_info": {
   "codemirror_mode": {
    "name": "ipython",
    "version": 3
   },
   "file_extension": ".py",
   "mimetype": "text/x-python",
   "name": "python",
   "nbconvert_exporter": "python",
   "pygments_lexer": "ipython3",
   "version": "3.8.5"
  }
 },
 "nbformat": 4,
 "nbformat_minor": 4
}

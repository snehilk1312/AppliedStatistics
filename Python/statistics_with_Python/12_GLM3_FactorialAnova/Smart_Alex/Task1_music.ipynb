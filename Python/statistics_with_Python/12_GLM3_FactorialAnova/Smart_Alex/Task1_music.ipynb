{
 "cells": [
  {
   "cell_type": "code",
   "execution_count": 1,
   "metadata": {},
   "outputs": [],
   "source": [
    "import pandas as pd\n",
    "import numpy as np\n",
    "import matplotlib.pyplot as plt\n",
    "import seaborn as sns\n",
    "import scipy.stats as st\n",
    "import statsmodels.formula.api as smf\n",
    "import statsmodels.api as sm\n",
    "import pingouin as pg\n",
    "%matplotlib inline"
   ]
  },
  {
   "cell_type": "code",
   "execution_count": 5,
   "metadata": {},
   "outputs": [
    {
     "data": {
      "text/html": [
       "<div>\n",
       "<style scoped>\n",
       "    .dataframe tbody tr th:only-of-type {\n",
       "        vertical-align: middle;\n",
       "    }\n",
       "\n",
       "    .dataframe tbody tr th {\n",
       "        vertical-align: top;\n",
       "    }\n",
       "\n",
       "    .dataframe thead th {\n",
       "        text-align: right;\n",
       "    }\n",
       "</style>\n",
       "<table border=\"1\" class=\"dataframe\">\n",
       "  <thead>\n",
       "    <tr style=\"text-align: right;\">\n",
       "      <th></th>\n",
       "      <th>music</th>\n",
       "      <th>age</th>\n",
       "      <th>liking</th>\n",
       "    </tr>\n",
       "  </thead>\n",
       "  <tbody>\n",
       "    <tr>\n",
       "      <th>0</th>\n",
       "      <td>1</td>\n",
       "      <td>1</td>\n",
       "      <td>-84</td>\n",
       "    </tr>\n",
       "    <tr>\n",
       "      <th>1</th>\n",
       "      <td>1</td>\n",
       "      <td>1</td>\n",
       "      <td>-71</td>\n",
       "    </tr>\n",
       "    <tr>\n",
       "      <th>2</th>\n",
       "      <td>1</td>\n",
       "      <td>1</td>\n",
       "      <td>-74</td>\n",
       "    </tr>\n",
       "    <tr>\n",
       "      <th>3</th>\n",
       "      <td>1</td>\n",
       "      <td>1</td>\n",
       "      <td>-75</td>\n",
       "    </tr>\n",
       "    <tr>\n",
       "      <th>4</th>\n",
       "      <td>1</td>\n",
       "      <td>1</td>\n",
       "      <td>-98</td>\n",
       "    </tr>\n",
       "  </tbody>\n",
       "</table>\n",
       "</div>"
      ],
      "text/plain": [
       "   music  age  liking\n",
       "0      1    1     -84\n",
       "1      1    1     -71\n",
       "2      1    1     -74\n",
       "3      1    1     -75\n",
       "4      1    1     -98"
      ]
     },
     "execution_count": 5,
     "metadata": {},
     "output_type": "execute_result"
    }
   ],
   "source": [
    "data = pd.read_csv('../Data_Files/fugazi.dat', sep='\\t')\n",
    "data.head()"
   ]
  },
  {
   "cell_type": "code",
   "execution_count": 6,
   "metadata": {},
   "outputs": [
    {
     "data": {
      "text/html": [
       "<div>\n",
       "<style scoped>\n",
       "    .dataframe tbody tr th:only-of-type {\n",
       "        vertical-align: middle;\n",
       "    }\n",
       "\n",
       "    .dataframe tbody tr th {\n",
       "        vertical-align: top;\n",
       "    }\n",
       "\n",
       "    .dataframe thead th {\n",
       "        text-align: right;\n",
       "    }\n",
       "</style>\n",
       "<table border=\"1\" class=\"dataframe\">\n",
       "  <thead>\n",
       "    <tr style=\"text-align: right;\">\n",
       "      <th></th>\n",
       "      <th></th>\n",
       "      <th>count</th>\n",
       "      <th>mean</th>\n",
       "      <th>std</th>\n",
       "      <th>min</th>\n",
       "      <th>25%</th>\n",
       "      <th>50%</th>\n",
       "      <th>75%</th>\n",
       "      <th>max</th>\n",
       "    </tr>\n",
       "    <tr>\n",
       "      <th>age</th>\n",
       "      <th>music</th>\n",
       "      <th></th>\n",
       "      <th></th>\n",
       "      <th></th>\n",
       "      <th></th>\n",
       "      <th></th>\n",
       "      <th></th>\n",
       "      <th></th>\n",
       "      <th></th>\n",
       "    </tr>\n",
       "  </thead>\n",
       "  <tbody>\n",
       "    <tr>\n",
       "      <th rowspan=\"3\" valign=\"top\">1</th>\n",
       "      <th>1</th>\n",
       "      <td>15.0</td>\n",
       "      <td>-75.866667</td>\n",
       "      <td>14.371930</td>\n",
       "      <td>-98.0</td>\n",
       "      <td>-83.5</td>\n",
       "      <td>-75.0</td>\n",
       "      <td>-73.5</td>\n",
       "      <td>-45.0</td>\n",
       "    </tr>\n",
       "    <tr>\n",
       "      <th>2</th>\n",
       "      <td>15.0</td>\n",
       "      <td>59.933333</td>\n",
       "      <td>19.983803</td>\n",
       "      <td>24.0</td>\n",
       "      <td>48.0</td>\n",
       "      <td>60.0</td>\n",
       "      <td>74.5</td>\n",
       "      <td>90.0</td>\n",
       "    </tr>\n",
       "    <tr>\n",
       "      <th>3</th>\n",
       "      <td>15.0</td>\n",
       "      <td>74.266667</td>\n",
       "      <td>22.294992</td>\n",
       "      <td>27.0</td>\n",
       "      <td>63.5</td>\n",
       "      <td>76.0</td>\n",
       "      <td>87.0</td>\n",
       "      <td>122.0</td>\n",
       "    </tr>\n",
       "    <tr>\n",
       "      <th rowspan=\"3\" valign=\"top\">2</th>\n",
       "      <th>1</th>\n",
       "      <td>15.0</td>\n",
       "      <td>66.200000</td>\n",
       "      <td>19.904056</td>\n",
       "      <td>38.0</td>\n",
       "      <td>53.0</td>\n",
       "      <td>68.0</td>\n",
       "      <td>78.5</td>\n",
       "      <td>96.0</td>\n",
       "    </tr>\n",
       "    <tr>\n",
       "      <th>2</th>\n",
       "      <td>15.0</td>\n",
       "      <td>64.133333</td>\n",
       "      <td>16.995237</td>\n",
       "      <td>37.0</td>\n",
       "      <td>54.0</td>\n",
       "      <td>65.0</td>\n",
       "      <td>73.0</td>\n",
       "      <td>92.0</td>\n",
       "    </tr>\n",
       "    <tr>\n",
       "      <th>3</th>\n",
       "      <td>15.0</td>\n",
       "      <td>-71.466667</td>\n",
       "      <td>23.179013</td>\n",
       "      <td>-118.0</td>\n",
       "      <td>-86.0</td>\n",
       "      <td>-66.0</td>\n",
       "      <td>-54.0</td>\n",
       "      <td>-40.0</td>\n",
       "    </tr>\n",
       "  </tbody>\n",
       "</table>\n",
       "</div>"
      ],
      "text/plain": [
       "           count       mean        std    min   25%   50%   75%    max\n",
       "age music                                                             \n",
       "1   1       15.0 -75.866667  14.371930  -98.0 -83.5 -75.0 -73.5  -45.0\n",
       "    2       15.0  59.933333  19.983803   24.0  48.0  60.0  74.5   90.0\n",
       "    3       15.0  74.266667  22.294992   27.0  63.5  76.0  87.0  122.0\n",
       "2   1       15.0  66.200000  19.904056   38.0  53.0  68.0  78.5   96.0\n",
       "    2       15.0  64.133333  16.995237   37.0  54.0  65.0  73.0   92.0\n",
       "    3       15.0 -71.466667  23.179013 -118.0 -86.0 -66.0 -54.0  -40.0"
      ]
     },
     "execution_count": 6,
     "metadata": {},
     "output_type": "execute_result"
    }
   ],
   "source": [
    "data.groupby(['age','music']).describe()['liking']"
   ]
  },
  {
   "cell_type": "markdown",
   "metadata": {},
   "source": [
    "#### for music : 1->fugazi, 2->ABBA, 3-> Barf Grooks\n",
    "#### for age : 1-> 40+, 2->0-40"
   ]
  },
  {
   "cell_type": "code",
   "execution_count": 7,
   "metadata": {},
   "outputs": [
    {
     "data": {
      "image/png": "[encoded data removed]",
      "text/plain": [
       "<Figure size 432x288 with 1 Axes>"
      ]
     },
     "metadata": {
      "needs_background": "light"
     },
     "output_type": "display_data"
    }
   ],
   "source": [
    "_ = sns.barplot(x='music', y='liking', hue='age', data=data)"
   ]
  },
  {
   "cell_type": "code",
   "execution_count": 8,
   "metadata": {},
   "outputs": [
    {
     "data": {
      "image/png": "[encoded data removed]",
      "text/plain": [
       "<Figure size 432x288 with 1 Axes>"
      ]
     },
     "metadata": {
      "needs_background": "light"
     },
     "output_type": "display_data"
    }
   ],
   "source": [
    "from statsmodels.graphics.factorplots import interaction_plot\n",
    "fig = interaction_plot(data.music, data.age, data.liking,\n",
    "             colors=['red','blue'], markers=['D','^'], ms=10)"
   ]
  },
  {
   "cell_type": "code",
   "execution_count": 9,
   "metadata": {},
   "outputs": [
    {
     "data": {
      "image/png": "[encoded data removed]",
      "text/plain": [
       "<Figure size 576x432 with 1 Axes>"
      ]
     },
     "metadata": {
      "needs_background": "light"
     },
     "output_type": "display_data"
    }
   ],
   "source": [
    "plt.figure(figsize=(8,6))\n",
    "_ = sns.boxplot(x='music', y='liking', hue='age', data=data)"
   ]
  },
  {
   "cell_type": "code",
   "execution_count": 10,
   "metadata": {},
   "outputs": [
    {
     "data": {
      "image/png": "[encoded data removed]",
      "text/plain": [
       "<Figure size 432x288 with 1 Axes>"
      ]
     },
     "metadata": {
      "needs_background": "light"
     },
     "output_type": "display_data"
    }
   ],
   "source": [
    "_ = sns.boxplot(x='music', y='liking', data=data)"
   ]
  },
  {
   "cell_type": "code",
   "execution_count": 11,
   "metadata": {},
   "outputs": [
    {
     "data": {
      "image/png": "[encoded data removed]",
      "text/plain": [
       "<Figure size 432x288 with 1 Axes>"
      ]
     },
     "metadata": {
      "needs_background": "light"
     },
     "output_type": "display_data"
    }
   ],
   "source": [
    "_ = sns.boxplot(x='age', y='liking', data=data)"
   ]
  },
  {
   "cell_type": "code",
   "execution_count": 13,
   "metadata": {},
   "outputs": [
    {
     "data": {
      "text/plain": [
       "[1, 2, 3, 4, 5, 6]"
      ]
     },
     "execution_count": 13,
     "metadata": {},
     "output_type": "execute_result"
    }
   ],
   "source": [
    "unique_list = [1,2,3,4,5,6]\n",
    "unique_list"
   ]
  },
  {
   "cell_type": "code",
   "execution_count": 14,
   "metadata": {},
   "outputs": [],
   "source": [
    "data['interaction'] = 0"
   ]
  },
  {
   "cell_type": "code",
   "execution_count": 15,
   "metadata": {},
   "outputs": [],
   "source": [
    "for i in range(6):\n",
    "    for j in range(15):\n",
    "        data.at[15*i+j,'interaction'] = unique_list[i]"
   ]
  },
  {
   "cell_type": "code",
   "execution_count": 16,
   "metadata": {},
   "outputs": [
    {
     "data": {
      "text/html": [
       "<div>\n",
       "<style scoped>\n",
       "    .dataframe tbody tr th:only-of-type {\n",
       "        vertical-align: middle;\n",
       "    }\n",
       "\n",
       "    .dataframe tbody tr th {\n",
       "        vertical-align: top;\n",
       "    }\n",
       "\n",
       "    .dataframe thead th {\n",
       "        text-align: right;\n",
       "    }\n",
       "</style>\n",
       "<table border=\"1\" class=\"dataframe\">\n",
       "  <thead>\n",
       "    <tr style=\"text-align: right;\">\n",
       "      <th></th>\n",
       "      <th>W</th>\n",
       "      <th>pval</th>\n",
       "      <th>equal_var</th>\n",
       "    </tr>\n",
       "  </thead>\n",
       "  <tbody>\n",
       "    <tr>\n",
       "      <th>levene</th>\n",
       "      <td>1.070659</td>\n",
       "      <td>0.382536</td>\n",
       "      <td>True</td>\n",
       "    </tr>\n",
       "  </tbody>\n",
       "</table>\n",
       "</div>"
      ],
      "text/plain": [
       "               W      pval  equal_var\n",
       "levene  1.070659  0.382536       True"
      ]
     },
     "execution_count": 16,
     "metadata": {},
     "output_type": "execute_result"
    }
   ],
   "source": [
    "# Levene test across interaction variables\n",
    "pg.homoscedasticity(data, dv='liking',group='interaction')"
   ]
  },
  {
   "cell_type": "markdown",
   "metadata": {},
   "source": [
    "#### # A non-significant result like the one we have here, W(5, 84) = 1.07, p = .382, is indicative of the assumption being met"
   ]
  },
  {
   "cell_type": "code",
   "execution_count": 17,
   "metadata": {},
   "outputs": [
    {
     "data": {
      "text/html": [
       "<table class=\"simpletable\">\n",
       "<caption>OLS Regression Results</caption>\n",
       "<tr>\n",
       "  <th>Dep. Variable:</th>         <td>liking</td>      <th>  R-squared:         </th> <td>   0.923</td>\n",
       "</tr>\n",
       "<tr>\n",
       "  <th>Model:</th>                   <td>OLS</td>       <th>  Adj. R-squared:    </th> <td>   0.919</td>\n",
       "</tr>\n",
       "<tr>\n",
       "  <th>Method:</th>             <td>Least Squares</td>  <th>  F-statistic:       </th> <td>   202.6</td>\n",
       "</tr>\n",
       "<tr>\n",
       "  <th>Date:</th>             <td>Sat, 31 Oct 2020</td> <th>  Prob (F-statistic):</th> <td>2.56e-45</td>\n",
       "</tr>\n",
       "<tr>\n",
       "  <th>Time:</th>                 <td>22:58:00</td>     <th>  Log-Likelihood:    </th> <td> -392.79</td>\n",
       "</tr>\n",
       "<tr>\n",
       "  <th>No. Observations:</th>      <td>    90</td>      <th>  AIC:               </th> <td>   797.6</td>\n",
       "</tr>\n",
       "<tr>\n",
       "  <th>Df Residuals:</th>          <td>    84</td>      <th>  BIC:               </th> <td>   812.6</td>\n",
       "</tr>\n",
       "<tr>\n",
       "  <th>Df Model:</th>              <td>     5</td>      <th>                     </th>     <td> </td>   \n",
       "</tr>\n",
       "<tr>\n",
       "  <th>Covariance Type:</th>      <td>nonrobust</td>    <th>                     </th>     <td> </td>   \n",
       "</tr>\n",
       "</table>\n",
       "<table class=\"simpletable\">\n",
       "<tr>\n",
       "              <td></td>                 <th>coef</th>     <th>std err</th>      <th>t</th>      <th>P>|t|</th>  <th>[0.025</th>    <th>0.975]</th>  \n",
       "</tr>\n",
       "<tr>\n",
       "  <th>Intercept</th>                 <td>  -75.8667</td> <td>    5.083</td> <td>  -14.926</td> <td> 0.000</td> <td>  -85.975</td> <td>  -65.759</td>\n",
       "</tr>\n",
       "<tr>\n",
       "  <th>C(age)[T.2]</th>               <td>  142.0667</td> <td>    7.188</td> <td>   19.763</td> <td> 0.000</td> <td>  127.772</td> <td>  156.361</td>\n",
       "</tr>\n",
       "<tr>\n",
       "  <th>C(music)[T.2]</th>             <td>  135.8000</td> <td>    7.188</td> <td>   18.892</td> <td> 0.000</td> <td>  121.505</td> <td>  150.095</td>\n",
       "</tr>\n",
       "<tr>\n",
       "  <th>C(music)[T.3]</th>             <td>  150.1333</td> <td>    7.188</td> <td>   20.886</td> <td> 0.000</td> <td>  135.839</td> <td>  164.428</td>\n",
       "</tr>\n",
       "<tr>\n",
       "  <th>C(age)[T.2]:C(music)[T.2]</th> <td> -137.8667</td> <td>   10.166</td> <td>  -13.562</td> <td> 0.000</td> <td> -158.083</td> <td> -117.651</td>\n",
       "</tr>\n",
       "<tr>\n",
       "  <th>C(age)[T.2]:C(music)[T.3]</th> <td> -287.8000</td> <td>   10.166</td> <td>  -28.310</td> <td> 0.000</td> <td> -308.016</td> <td> -267.584</td>\n",
       "</tr>\n",
       "</table>\n",
       "<table class=\"simpletable\">\n",
       "<tr>\n",
       "  <th>Omnibus:</th>       <td> 0.296</td> <th>  Durbin-Watson:     </th> <td>   2.200</td>\n",
       "</tr>\n",
       "<tr>\n",
       "  <th>Prob(Omnibus):</th> <td> 0.862</td> <th>  Jarque-Bera (JB):  </th> <td>   0.459</td>\n",
       "</tr>\n",
       "<tr>\n",
       "  <th>Skew:</th>          <td>-0.101</td> <th>  Prob(JB):          </th> <td>   0.795</td>\n",
       "</tr>\n",
       "<tr>\n",
       "  <th>Kurtosis:</th>      <td> 2.715</td> <th>  Cond. No.          </th> <td>    9.77</td>\n",
       "</tr>\n",
       "</table><br/><br/>Notes:<br/>[1] Standard Errors assume that the covariance matrix of the errors is correctly specified."
      ],
      "text/plain": [
       "<class 'statsmodels.iolib.summary.Summary'>\n",
       "\"\"\"\n",
       "                            OLS Regression Results                            \n",
       "==============================================================================\n",
       "Dep. Variable:                 liking   R-squared:                       0.923\n",
       "Model:                            OLS   Adj. R-squared:                  0.919\n",
       "Method:                 Least Squares   F-statistic:                     202.6\n",
       "Date:                Sat, 31 Oct 2020   Prob (F-statistic):           2.56e-45\n",
       "Time:                        22:58:00   Log-Likelihood:                -392.79\n",
       "No. Observations:                  90   AIC:                             797.6\n",
       "Df Residuals:                      84   BIC:                             812.6\n",
       "Df Model:                           5                                         \n",
       "Covariance Type:            nonrobust                                         \n",
       "=============================================================================================\n",
       "                                coef    std err          t      P>|t|      [0.025      0.975]\n",
       "---------------------------------------------------------------------------------------------\n",
       "Intercept                   -75.8667      5.083    -14.926      0.000     -85.975     -65.759\n",
       "C(age)[T.2]                 142.0667      7.188     19.763      0.000     127.772     156.361\n",
       "C(music)[T.2]               135.8000      7.188     18.892      0.000     121.505     150.095\n",
       "C(music)[T.3]               150.1333      7.188     20.886      0.000     135.839     164.428\n",
       "C(age)[T.2]:C(music)[T.2]  -137.8667     10.166    -13.562      0.000    -158.083    -117.651\n",
       "C(age)[T.2]:C(music)[T.3]  -287.8000     10.166    -28.310      0.000    -308.016    -267.584\n",
       "==============================================================================\n",
       "Omnibus:                        0.296   Durbin-Watson:                   2.200\n",
       "Prob(Omnibus):                  0.862   Jarque-Bera (JB):                0.459\n",
       "Skew:                          -0.101   Prob(JB):                        0.795\n",
       "Kurtosis:                       2.715   Cond. No.                         9.77\n",
       "==============================================================================\n",
       "\n",
       "Notes:\n",
       "[1] Standard Errors assume that the covariance matrix of the errors is correctly specified.\n",
       "\"\"\""
      ]
     },
     "execution_count": 17,
     "metadata": {},
     "output_type": "execute_result"
    }
   ],
   "source": [
    "m01 = smf.ols('liking~C(age)*C(music)', data=data).fit()\n",
    "m01.summary()"
   ]
  },
  {
   "cell_type": "code",
   "execution_count": 18,
   "metadata": {},
   "outputs": [
    {
     "data": {
      "text/html": [
       "<div>\n",
       "<style scoped>\n",
       "    .dataframe tbody tr th:only-of-type {\n",
       "        vertical-align: middle;\n",
       "    }\n",
       "\n",
       "    .dataframe tbody tr th {\n",
       "        vertical-align: top;\n",
       "    }\n",
       "\n",
       "    .dataframe thead th {\n",
       "        text-align: right;\n",
       "    }\n",
       "</style>\n",
       "<table border=\"1\" class=\"dataframe\">\n",
       "  <thead>\n",
       "    <tr style=\"text-align: right;\">\n",
       "      <th></th>\n",
       "      <th>df</th>\n",
       "      <th>sum_sq</th>\n",
       "      <th>mean_sq</th>\n",
       "      <th>F</th>\n",
       "      <th>PR(&gt;F)</th>\n",
       "    </tr>\n",
       "  </thead>\n",
       "  <tbody>\n",
       "    <tr>\n",
       "      <th>C(age)</th>\n",
       "      <td>1.0</td>\n",
       "      <td>0.711111</td>\n",
       "      <td>0.711111</td>\n",
       "      <td>0.001835</td>\n",
       "      <td>9.659339e-01</td>\n",
       "    </tr>\n",
       "    <tr>\n",
       "      <th>C(music)</th>\n",
       "      <td>2.0</td>\n",
       "      <td>81864.066667</td>\n",
       "      <td>40932.033333</td>\n",
       "      <td>105.619805</td>\n",
       "      <td>1.181397e-23</td>\n",
       "    </tr>\n",
       "    <tr>\n",
       "      <th>C(age):C(music)</th>\n",
       "      <td>2.0</td>\n",
       "      <td>310790.155556</td>\n",
       "      <td>155395.077778</td>\n",
       "      <td>400.976850</td>\n",
       "      <td>1.067743e-43</td>\n",
       "    </tr>\n",
       "    <tr>\n",
       "      <th>Residual</th>\n",
       "      <td>84.0</td>\n",
       "      <td>32553.466667</td>\n",
       "      <td>387.541270</td>\n",
       "      <td>NaN</td>\n",
       "      <td>NaN</td>\n",
       "    </tr>\n",
       "  </tbody>\n",
       "</table>\n",
       "</div>"
      ],
      "text/plain": [
       "                   df         sum_sq        mean_sq           F        PR(>F)\n",
       "C(age)            1.0       0.711111       0.711111    0.001835  9.659339e-01\n",
       "C(music)          2.0   81864.066667   40932.033333  105.619805  1.181397e-23\n",
       "C(age):C(music)   2.0  310790.155556  155395.077778  400.976850  1.067743e-43\n",
       "Residual         84.0   32553.466667     387.541270         NaN           NaN"
      ]
     },
     "execution_count": 18,
     "metadata": {},
     "output_type": "execute_result"
    }
   ],
   "source": [
    "sm.stats.anova_lm(m01)"
   ]
  },
  {
   "cell_type": "code",
   "execution_count": 19,
   "metadata": {},
   "outputs": [
    {
     "data": {
      "text/html": [
       "<div>\n",
       "<style scoped>\n",
       "    .dataframe tbody tr th:only-of-type {\n",
       "        vertical-align: middle;\n",
       "    }\n",
       "\n",
       "    .dataframe tbody tr th {\n",
       "        vertical-align: top;\n",
       "    }\n",
       "\n",
       "    .dataframe thead th {\n",
       "        text-align: right;\n",
       "    }\n",
       "</style>\n",
       "<table border=\"1\" class=\"dataframe\">\n",
       "  <thead>\n",
       "    <tr style=\"text-align: right;\">\n",
       "      <th></th>\n",
       "      <th>count</th>\n",
       "      <th>mean</th>\n",
       "      <th>std</th>\n",
       "      <th>min</th>\n",
       "      <th>25%</th>\n",
       "      <th>50%</th>\n",
       "      <th>75%</th>\n",
       "      <th>max</th>\n",
       "    </tr>\n",
       "    <tr>\n",
       "      <th>age</th>\n",
       "      <th></th>\n",
       "      <th></th>\n",
       "      <th></th>\n",
       "      <th></th>\n",
       "      <th></th>\n",
       "      <th></th>\n",
       "      <th></th>\n",
       "      <th></th>\n",
       "    </tr>\n",
       "  </thead>\n",
       "  <tbody>\n",
       "    <tr>\n",
       "      <th>1</th>\n",
       "      <td>45.0</td>\n",
       "      <td>19.444444</td>\n",
       "      <td>70.931643</td>\n",
       "      <td>-98.0</td>\n",
       "      <td>-73.0</td>\n",
       "      <td>55.0</td>\n",
       "      <td>75.0</td>\n",
       "      <td>122.0</td>\n",
       "    </tr>\n",
       "    <tr>\n",
       "      <th>2</th>\n",
       "      <td>45.0</td>\n",
       "      <td>19.622222</td>\n",
       "      <td>68.062568</td>\n",
       "      <td>-118.0</td>\n",
       "      <td>-54.0</td>\n",
       "      <td>49.0</td>\n",
       "      <td>69.0</td>\n",
       "      <td>96.0</td>\n",
       "    </tr>\n",
       "  </tbody>\n",
       "</table>\n",
       "</div>"
      ],
      "text/plain": [
       "     count       mean        std    min   25%   50%   75%    max\n",
       "age                                                             \n",
       "1     45.0  19.444444  70.931643  -98.0 -73.0  55.0  75.0  122.0\n",
       "2     45.0  19.622222  68.062568 -118.0 -54.0  49.0  69.0   96.0"
      ]
     },
     "execution_count": 19,
     "metadata": {},
     "output_type": "execute_result"
    }
   ],
   "source": [
    "# you can get idea for the main effect of age from this\n",
    "data.groupby('age')['liking'].describe()"
   ]
  },
  {
   "cell_type": "code",
   "execution_count": 20,
   "metadata": {},
   "outputs": [
    {
     "data": {
      "text/html": [
       "<div>\n",
       "<style scoped>\n",
       "    .dataframe tbody tr th:only-of-type {\n",
       "        vertical-align: middle;\n",
       "    }\n",
       "\n",
       "    .dataframe tbody tr th {\n",
       "        vertical-align: top;\n",
       "    }\n",
       "\n",
       "    .dataframe thead th {\n",
       "        text-align: right;\n",
       "    }\n",
       "</style>\n",
       "<table border=\"1\" class=\"dataframe\">\n",
       "  <thead>\n",
       "    <tr style=\"text-align: right;\">\n",
       "      <th></th>\n",
       "      <th>count</th>\n",
       "      <th>mean</th>\n",
       "      <th>std</th>\n",
       "      <th>min</th>\n",
       "      <th>25%</th>\n",
       "      <th>50%</th>\n",
       "      <th>75%</th>\n",
       "      <th>max</th>\n",
       "    </tr>\n",
       "    <tr>\n",
       "      <th>music</th>\n",
       "      <th></th>\n",
       "      <th></th>\n",
       "      <th></th>\n",
       "      <th></th>\n",
       "      <th></th>\n",
       "      <th></th>\n",
       "      <th></th>\n",
       "      <th></th>\n",
       "    </tr>\n",
       "  </thead>\n",
       "  <tbody>\n",
       "    <tr>\n",
       "      <th>1</th>\n",
       "      <td>30.0</td>\n",
       "      <td>-4.833333</td>\n",
       "      <td>74.234058</td>\n",
       "      <td>-98.0</td>\n",
       "      <td>-75.00</td>\n",
       "      <td>-3.5</td>\n",
       "      <td>66.50</td>\n",
       "      <td>96.0</td>\n",
       "    </tr>\n",
       "    <tr>\n",
       "      <th>2</th>\n",
       "      <td>30.0</td>\n",
       "      <td>62.033333</td>\n",
       "      <td>18.351892</td>\n",
       "      <td>24.0</td>\n",
       "      <td>50.25</td>\n",
       "      <td>62.0</td>\n",
       "      <td>73.75</td>\n",
       "      <td>92.0</td>\n",
       "    </tr>\n",
       "    <tr>\n",
       "      <th>3</th>\n",
       "      <td>30.0</td>\n",
       "      <td>1.400000</td>\n",
       "      <td>77.407832</td>\n",
       "      <td>-118.0</td>\n",
       "      <td>-65.75</td>\n",
       "      <td>-6.5</td>\n",
       "      <td>74.25</td>\n",
       "      <td>122.0</td>\n",
       "    </tr>\n",
       "  </tbody>\n",
       "</table>\n",
       "</div>"
      ],
      "text/plain": [
       "       count       mean        std    min    25%   50%    75%    max\n",
       "music                                                               \n",
       "1       30.0  -4.833333  74.234058  -98.0 -75.00  -3.5  66.50   96.0\n",
       "2       30.0  62.033333  18.351892   24.0  50.25  62.0  73.75   92.0\n",
       "3       30.0   1.400000  77.407832 -118.0 -65.75  -6.5  74.25  122.0"
      ]
     },
     "execution_count": 20,
     "metadata": {},
     "output_type": "execute_result"
    }
   ],
   "source": [
    "# you can get idea for the main effect of music from this\n",
    "data.groupby('music')['liking'].describe()"
   ]
  },
  {
   "cell_type": "markdown",
   "metadata": {},
   "source": [
    "## Planned Contrasts"
   ]
  },
  {
   "cell_type": "code",
   "execution_count": 25,
   "metadata": {},
   "outputs": [
    {
     "data": {
      "text/plain": [
       "array([[ 1,  1],\n",
       "       [-2,  0],\n",
       "       [ 1, -1]])"
      ]
     },
     "execution_count": 25,
     "metadata": {},
     "output_type": "execute_result"
    }
   ],
   "source": [
    "con1 = [1,-2,1]\n",
    "con2 = [1,0,-1]\n",
    "contrast = np.vstack((con1, con2))\n",
    "contrast_music = contrast.T\n",
    "contrast_music"
   ]
  },
  {
   "cell_type": "code",
   "execution_count": 26,
   "metadata": {},
   "outputs": [
    {
     "data": {
      "text/plain": [
       "array([[ 1],\n",
       "       [-1]])"
      ]
     },
     "execution_count": 26,
     "metadata": {},
     "output_type": "execute_result"
    }
   ],
   "source": [
    "contrast_age = np.array([[1,-1]])\n",
    "contrast_age =contrast_age.reshape(2,1)\n",
    "contrast_age"
   ]
  },
  {
   "cell_type": "code",
   "execution_count": 28,
   "metadata": {},
   "outputs": [
    {
     "data": {
      "text/html": [
       "<table class=\"simpletable\">\n",
       "<caption>OLS Regression Results</caption>\n",
       "<tr>\n",
       "  <th>Dep. Variable:</th>         <td>liking</td>      <th>  R-squared:         </th> <td>   0.923</td>\n",
       "</tr>\n",
       "<tr>\n",
       "  <th>Model:</th>                   <td>OLS</td>       <th>  Adj. R-squared:    </th> <td>   0.919</td>\n",
       "</tr>\n",
       "<tr>\n",
       "  <th>Method:</th>             <td>Least Squares</td>  <th>  F-statistic:       </th> <td>   202.6</td>\n",
       "</tr>\n",
       "<tr>\n",
       "  <th>Date:</th>             <td>Sat, 31 Oct 2020</td> <th>  Prob (F-statistic):</th> <td>2.56e-45</td>\n",
       "</tr>\n",
       "<tr>\n",
       "  <th>Time:</th>                 <td>23:00:42</td>     <th>  Log-Likelihood:    </th> <td> -392.79</td>\n",
       "</tr>\n",
       "<tr>\n",
       "  <th>No. Observations:</th>      <td>    90</td>      <th>  AIC:               </th> <td>   797.6</td>\n",
       "</tr>\n",
       "<tr>\n",
       "  <th>Df Residuals:</th>          <td>    84</td>      <th>  BIC:               </th> <td>   812.6</td>\n",
       "</tr>\n",
       "<tr>\n",
       "  <th>Df Model:</th>              <td>     5</td>      <th>                     </th>     <td> </td>   \n",
       "</tr>\n",
       "<tr>\n",
       "  <th>Covariance Type:</th>      <td>nonrobust</td>    <th>                     </th>     <td> </td>   \n",
       "</tr>\n",
       "</table>\n",
       "<table class=\"simpletable\">\n",
       "<tr>\n",
       "                                 <td></td>                                    <th>coef</th>     <th>std err</th>      <th>t</th>      <th>P>|t|</th>  <th>[0.025</th>    <th>0.975]</th>  \n",
       "</tr>\n",
       "<tr>\n",
       "  <th>Intercept</th>                                                       <td>   19.5333</td> <td>    2.075</td> <td>    9.413</td> <td> 0.000</td> <td>   15.407</td> <td>   23.660</td>\n",
       "</tr>\n",
       "<tr>\n",
       "  <th>C(age, contrast_age)[custom0]</th>                                   <td>   -0.0889</td> <td>    2.075</td> <td>   -0.043</td> <td> 0.966</td> <td>   -4.215</td> <td>    4.038</td>\n",
       "</tr>\n",
       "<tr>\n",
       "  <th>C(music, contrast_music)[custom0]</th>                               <td>  -21.2500</td> <td>    1.467</td> <td>  -14.482</td> <td> 0.000</td> <td>  -24.168</td> <td>  -18.332</td>\n",
       "</tr>\n",
       "<tr>\n",
       "  <th>C(music, contrast_music)[custom1]</th>                               <td>   -3.1167</td> <td>    2.541</td> <td>   -1.226</td> <td> 0.224</td> <td>   -8.171</td> <td>    1.937</td>\n",
       "</tr>\n",
       "<tr>\n",
       "  <th>C(age, contrast_age)[custom0]:C(music, contrast_music)[custom0]</th> <td>    1.0056</td> <td>    1.467</td> <td>    0.685</td> <td> 0.495</td> <td>   -1.912</td> <td>    3.923</td>\n",
       "</tr>\n",
       "<tr>\n",
       "  <th>C(age, contrast_age)[custom0]:C(music, contrast_music)[custom1]</th> <td>  -71.9500</td> <td>    2.541</td> <td>  -28.310</td> <td> 0.000</td> <td>  -77.004</td> <td>  -66.896</td>\n",
       "</tr>\n",
       "</table>\n",
       "<table class=\"simpletable\">\n",
       "<tr>\n",
       "  <th>Omnibus:</th>       <td> 0.296</td> <th>  Durbin-Watson:     </th> <td>   2.200</td>\n",
       "</tr>\n",
       "<tr>\n",
       "  <th>Prob(Omnibus):</th> <td> 0.862</td> <th>  Jarque-Bera (JB):  </th> <td>   0.459</td>\n",
       "</tr>\n",
       "<tr>\n",
       "  <th>Skew:</th>          <td>-0.101</td> <th>  Prob(JB):          </th> <td>   0.795</td>\n",
       "</tr>\n",
       "<tr>\n",
       "  <th>Kurtosis:</th>      <td> 2.715</td> <th>  Cond. No.          </th> <td>    1.73</td>\n",
       "</tr>\n",
       "</table><br/><br/>Notes:<br/>[1] Standard Errors assume that the covariance matrix of the errors is correctly specified."
      ],
      "text/plain": [
       "<class 'statsmodels.iolib.summary.Summary'>\n",
       "\"\"\"\n",
       "                            OLS Regression Results                            \n",
       "==============================================================================\n",
       "Dep. Variable:                 liking   R-squared:                       0.923\n",
       "Model:                            OLS   Adj. R-squared:                  0.919\n",
       "Method:                 Least Squares   F-statistic:                     202.6\n",
       "Date:                Sat, 31 Oct 2020   Prob (F-statistic):           2.56e-45\n",
       "Time:                        23:00:42   Log-Likelihood:                -392.79\n",
       "No. Observations:                  90   AIC:                             797.6\n",
       "Df Residuals:                      84   BIC:                             812.6\n",
       "Df Model:                           5                                         \n",
       "Covariance Type:            nonrobust                                         \n",
       "===================================================================================================================================\n",
       "                                                                      coef    std err          t      P>|t|      [0.025      0.975]\n",
       "-----------------------------------------------------------------------------------------------------------------------------------\n",
       "Intercept                                                          19.5333      2.075      9.413      0.000      15.407      23.660\n",
       "C(age, contrast_age)[custom0]                                      -0.0889      2.075     -0.043      0.966      -4.215       4.038\n",
       "C(music, contrast_music)[custom0]                                 -21.2500      1.467    -14.482      0.000     -24.168     -18.332\n",
       "C(music, contrast_music)[custom1]                                  -3.1167      2.541     -1.226      0.224      -8.171       1.937\n",
       "C(age, contrast_age)[custom0]:C(music, contrast_music)[custom0]     1.0056      1.467      0.685      0.495      -1.912       3.923\n",
       "C(age, contrast_age)[custom0]:C(music, contrast_music)[custom1]   -71.9500      2.541    -28.310      0.000     -77.004     -66.896\n",
       "==============================================================================\n",
       "Omnibus:                        0.296   Durbin-Watson:                   2.200\n",
       "Prob(Omnibus):                  0.862   Jarque-Bera (JB):                0.459\n",
       "Skew:                          -0.101   Prob(JB):                        0.795\n",
       "Kurtosis:                       2.715   Cond. No.                         1.73\n",
       "==============================================================================\n",
       "\n",
       "Notes:\n",
       "[1] Standard Errors assume that the covariance matrix of the errors is correctly specified.\n",
       "\"\"\""
      ]
     },
     "execution_count": 28,
     "metadata": {},
     "output_type": "execute_result"
    }
   ],
   "source": [
    "m02 = smf.ols('liking~C(age, contrast_age)*C(music, contrast_music)', data=data).fit()\n",
    "m02.summary()"
   ]
  },
  {
   "cell_type": "code",
   "execution_count": 29,
   "metadata": {},
   "outputs": [
    {
     "data": {
      "text/html": [
       "<div>\n",
       "<style scoped>\n",
       "    .dataframe tbody tr th:only-of-type {\n",
       "        vertical-align: middle;\n",
       "    }\n",
       "\n",
       "    .dataframe tbody tr th {\n",
       "        vertical-align: top;\n",
       "    }\n",
       "\n",
       "    .dataframe thead th {\n",
       "        text-align: right;\n",
       "    }\n",
       "</style>\n",
       "<table border=\"1\" class=\"dataframe\">\n",
       "  <thead>\n",
       "    <tr style=\"text-align: right;\">\n",
       "      <th></th>\n",
       "      <th>sum_sq</th>\n",
       "      <th>df</th>\n",
       "      <th>F</th>\n",
       "      <th>PR(&gt;F)</th>\n",
       "    </tr>\n",
       "  </thead>\n",
       "  <tbody>\n",
       "    <tr>\n",
       "      <th>Intercept</th>\n",
       "      <td>34339.600000</td>\n",
       "      <td>1.0</td>\n",
       "      <td>88.608885</td>\n",
       "      <td>8.744067e-15</td>\n",
       "    </tr>\n",
       "    <tr>\n",
       "      <th>C(age, contrast_age)</th>\n",
       "      <td>0.711111</td>\n",
       "      <td>1.0</td>\n",
       "      <td>0.001835</td>\n",
       "      <td>9.659339e-01</td>\n",
       "    </tr>\n",
       "    <tr>\n",
       "      <th>C(music, contrast_music)</th>\n",
       "      <td>81864.066667</td>\n",
       "      <td>2.0</td>\n",
       "      <td>105.619805</td>\n",
       "      <td>1.181397e-23</td>\n",
       "    </tr>\n",
       "    <tr>\n",
       "      <th>C(age, contrast_age):C(music, contrast_music)</th>\n",
       "      <td>310790.155556</td>\n",
       "      <td>2.0</td>\n",
       "      <td>400.976850</td>\n",
       "      <td>1.067743e-43</td>\n",
       "    </tr>\n",
       "    <tr>\n",
       "      <th>Residual</th>\n",
       "      <td>32553.466667</td>\n",
       "      <td>84.0</td>\n",
       "      <td>NaN</td>\n",
       "      <td>NaN</td>\n",
       "    </tr>\n",
       "  </tbody>\n",
       "</table>\n",
       "</div>"
      ],
      "text/plain": [
       "                                                      sum_sq    df  \\\n",
       "Intercept                                       34339.600000   1.0   \n",
       "C(age, contrast_age)                                0.711111   1.0   \n",
       "C(music, contrast_music)                        81864.066667   2.0   \n",
       "C(age, contrast_age):C(music, contrast_music)  310790.155556   2.0   \n",
       "Residual                                        32553.466667  84.0   \n",
       "\n",
       "                                                        F        PR(>F)  \n",
       "Intercept                                       88.608885  8.744067e-15  \n",
       "C(age, contrast_age)                             0.001835  9.659339e-01  \n",
       "C(music, contrast_music)                       105.619805  1.181397e-23  \n",
       "C(age, contrast_age):C(music, contrast_music)  400.976850  1.067743e-43  \n",
       "Residual                                              NaN           NaN  "
      ]
     },
     "execution_count": 29,
     "metadata": {},
     "output_type": "execute_result"
    }
   ],
   "source": [
    "sm.stats.anova_lm(m02,typ=3)"
   ]
  },
  {
   "cell_type": "markdown",
   "metadata": {},
   "source": [
    "### Plots to show different effects"
   ]
  },
  {
   "cell_type": "code",
   "execution_count": 30,
   "metadata": {},
   "outputs": [
    {
     "data": {
      "image/png": "[encoded data removed]",
      "text/plain": [
       "<Figure size 432x288 with 1 Axes>"
      ]
     },
     "metadata": {
      "needs_background": "light"
     },
     "output_type": "display_data"
    }
   ],
   "source": [
    "# main effect of age, as we can see from the plot below is not considerble and matches the values from descriptive statistics\n",
    "_ = sns.barplot(x='age', y='liking', data=data)"
   ]
  },
  {
   "cell_type": "code",
   "execution_count": 31,
   "metadata": {},
   "outputs": [
    {
     "data": {
      "image/png": "[encoded data removed]",
      "text/plain": [
       "<Figure size 432x288 with 1 Axes>"
      ]
     },
     "metadata": {
      "needs_background": "light"
     },
     "output_type": "display_data"
    }
   ],
   "source": [
    "# main effect of music, as we can see from the plot below is  considerble and matches the values from descriptive statistics\n",
    "_ = sns.barplot(x='music', y='liking', data=data)"
   ]
  },
  {
   "cell_type": "code",
   "execution_count": 32,
   "metadata": {},
   "outputs": [
    {
     "data": {
      "image/png": "[encoded data removed]",
      "text/plain": [
       "<Figure size 432x288 with 1 Axes>"
      ]
     },
     "metadata": {
      "needs_background": "light"
     },
     "output_type": "display_data"
    }
   ],
   "source": [
    "# intraction effect should be significant too\n",
    "_ = sns.barplot(x='music', y='liking', hue='age', data=data)"
   ]
  },
  {
   "cell_type": "markdown",
   "metadata": {},
   "source": [
    "### Post-hoc test"
   ]
  },
  {
   "cell_type": "code",
   "execution_count": 33,
   "metadata": {},
   "outputs": [],
   "source": [
    "from statsmodels.sandbox.stats.multicomp import MultiComparison"
   ]
  },
  {
   "cell_type": "code",
   "execution_count": 34,
   "metadata": {},
   "outputs": [],
   "source": [
    "multicomp = MultiComparison(data['liking'], data['music'])   # testfunc"
   ]
  },
  {
   "cell_type": "code",
   "execution_count": 35,
   "metadata": {},
   "outputs": [
    {
     "name": "stdout",
     "output_type": "stream",
     "text": [
      "Test Multiple Comparison ttest_ind \n",
      "FWER=0.05 method=bonf\n",
      "alphacSidak=0.02, alphacBonf=0.017\n",
      "=============================================\n",
      "group1 group2   stat   pval  pval_corr reject\n",
      "---------------------------------------------\n",
      "     1      2 -4.7895    0.0       0.0   True\n",
      "     1      3 -0.3183 0.7514       1.0  False\n",
      "     2      3  4.1746 0.0001    0.0003   True\n",
      "---------------------------------------------\n"
     ]
    }
   ],
   "source": [
    "# Bonferroni\n",
    "com = multicomp.allpairtest(st.ttest_ind, method='bonf')\n",
    "print(com[0])"
   ]
  },
  {
   "cell_type": "code",
   "execution_count": 36,
   "metadata": {},
   "outputs": [],
   "source": [
    "def Omega_factorial(n,a,b, MSa, MSb, MSab, MSr):\n",
    "    varA = ((a-1)*(MSa-MSr))/(n*a*b)\n",
    "    varB = ((b-1)*(MSb-MSr))/(n*a*b)\n",
    "    varAB = ((a-1)*(b-1)*(MSab-MSr))/(n*a*b)\n",
    "    varTotal = varA+varB+varAB+MSr\n",
    "    print(\"Omega-Squared A: \", varA/varTotal)\n",
    "    print(\"Omega-Squared B: \", varB/varTotal)\n",
    "    print(\"Omega-Squared AB: \", varAB/varTotal)"
   ]
  },
  {
   "cell_type": "code",
   "execution_count": 37,
   "metadata": {},
   "outputs": [
    {
     "data": {
      "text/html": [
       "<div>\n",
       "<style scoped>\n",
       "    .dataframe tbody tr th:only-of-type {\n",
       "        vertical-align: middle;\n",
       "    }\n",
       "\n",
       "    .dataframe tbody tr th {\n",
       "        vertical-align: top;\n",
       "    }\n",
       "\n",
       "    .dataframe thead th {\n",
       "        text-align: right;\n",
       "    }\n",
       "</style>\n",
       "<table border=\"1\" class=\"dataframe\">\n",
       "  <thead>\n",
       "    <tr style=\"text-align: right;\">\n",
       "      <th></th>\n",
       "      <th>df</th>\n",
       "      <th>sum_sq</th>\n",
       "      <th>mean_sq</th>\n",
       "      <th>F</th>\n",
       "      <th>PR(&gt;F)</th>\n",
       "    </tr>\n",
       "  </thead>\n",
       "  <tbody>\n",
       "    <tr>\n",
       "      <th>C(age)</th>\n",
       "      <td>1.0</td>\n",
       "      <td>0.711111</td>\n",
       "      <td>0.711111</td>\n",
       "      <td>0.001835</td>\n",
       "      <td>9.659339e-01</td>\n",
       "    </tr>\n",
       "    <tr>\n",
       "      <th>C(music)</th>\n",
       "      <td>2.0</td>\n",
       "      <td>81864.066667</td>\n",
       "      <td>40932.033333</td>\n",
       "      <td>105.619805</td>\n",
       "      <td>1.181397e-23</td>\n",
       "    </tr>\n",
       "    <tr>\n",
       "      <th>C(age):C(music)</th>\n",
       "      <td>2.0</td>\n",
       "      <td>310790.155556</td>\n",
       "      <td>155395.077778</td>\n",
       "      <td>400.976850</td>\n",
       "      <td>1.067743e-43</td>\n",
       "    </tr>\n",
       "    <tr>\n",
       "      <th>Residual</th>\n",
       "      <td>84.0</td>\n",
       "      <td>32553.466667</td>\n",
       "      <td>387.541270</td>\n",
       "      <td>NaN</td>\n",
       "      <td>NaN</td>\n",
       "    </tr>\n",
       "  </tbody>\n",
       "</table>\n",
       "</div>"
      ],
      "text/plain": [
       "                   df         sum_sq        mean_sq           F        PR(>F)\n",
       "C(age)            1.0       0.711111       0.711111    0.001835  9.659339e-01\n",
       "C(music)          2.0   81864.066667   40932.033333  105.619805  1.181397e-23\n",
       "C(age):C(music)   2.0  310790.155556  155395.077778  400.976850  1.067743e-43\n",
       "Residual         84.0   32553.466667     387.541270         NaN           NaN"
      ]
     },
     "execution_count": 37,
     "metadata": {},
     "output_type": "execute_result"
    }
   ],
   "source": [
    "sm.stats.anova_lm(m01)"
   ]
  },
  {
   "cell_type": "code",
   "execution_count": 38,
   "metadata": {},
   "outputs": [
    {
     "name": "stdout",
     "output_type": "stream",
     "text": [
      "Omega-Squared A:  -0.0009089141166005088\n",
      "Omega-Squared B:  0.19053044510140166\n",
      "Omega-Squared AB:  0.7284258211707323\n"
     ]
    }
   ],
   "source": [
    "Omega_factorial(15, 2, 3, 0.711111, 40932.033333, 155395.077778, 387.541270)"
   ]
  },
  {
   "cell_type": "markdown",
   "metadata": {},
   "source": [
    "#### # For the main effect of age, we get, ω2= −.00; for the main effect of music we get, ω2 = .19; and for the interaction, ω2= .73"
   ]
  },
  {
   "cell_type": "code",
   "execution_count": 39,
   "metadata": {},
   "outputs": [
    {
     "data": {
      "image/png": "[encoded data removed]",
      "text/plain": [
       "<IPython.core.display.Image object>"
      ]
     },
     "execution_count": 39,
     "metadata": {},
     "output_type": "execute_result"
    }
   ],
   "source": [
    "from IPython.display import Image\n",
    "Image('/home/atrides/Downloads/fugazi.png')"
   ]
  },
  {
   "cell_type": "code",
   "execution_count": null,
   "metadata": {},
   "outputs": [],
   "source": []
  }
 ],
 "metadata": {
  "kernelspec": {
   "display_name": "Python 3",
   "language": "python",
   "name": "python3"
  },
  "language_info": {
   "codemirror_mode": {
    "name": "ipython",
    "version": 3
   },
   "file_extension": ".py",
   "mimetype": "text/x-python",
   "name": "python",
   "nbconvert_exporter": "python",
   "pygments_lexer": "ipython3",
   "version": "3.8.5"
  }
 },
 "nbformat": 4,
 "nbformat_minor": 4
}

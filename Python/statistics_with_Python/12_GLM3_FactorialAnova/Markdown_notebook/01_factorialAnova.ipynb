{
 "cells": [
  {
   "cell_type": "code",
   "execution_count": 1,
   "metadata": {},
   "outputs": [],
   "source": [
    "import pandas as pd\n",
    "import numpy as np\n",
    "import matplotlib.pyplot as plt\n",
    "import seaborn as sns\n",
    "import scipy.stats as st\n",
    "import statsmodels.formula.api as smf\n",
    "import statsmodels.api as sm\n",
    "import pingouin as pg\n",
    "%matplotlib inline"
   ]
  },
  {
   "cell_type": "code",
   "execution_count": 3,
   "metadata": {},
   "outputs": [
    {
     "data": {
      "text/html": [
       "<div>\n",
       "<style scoped>\n",
       "    .dataframe tbody tr th:only-of-type {\n",
       "        vertical-align: middle;\n",
       "    }\n",
       "\n",
       "    .dataframe tbody tr th {\n",
       "        vertical-align: top;\n",
       "    }\n",
       "\n",
       "    .dataframe thead th {\n",
       "        text-align: right;\n",
       "    }\n",
       "</style>\n",
       "<table border=\"1\" class=\"dataframe\">\n",
       "  <thead>\n",
       "    <tr style=\"text-align: right;\">\n",
       "      <th></th>\n",
       "      <th>gender</th>\n",
       "      <th>alcohol</th>\n",
       "      <th>attractiveness</th>\n",
       "    </tr>\n",
       "  </thead>\n",
       "  <tbody>\n",
       "    <tr>\n",
       "      <th>0</th>\n",
       "      <td>Female</td>\n",
       "      <td>None</td>\n",
       "      <td>65</td>\n",
       "    </tr>\n",
       "    <tr>\n",
       "      <th>1</th>\n",
       "      <td>Female</td>\n",
       "      <td>None</td>\n",
       "      <td>70</td>\n",
       "    </tr>\n",
       "    <tr>\n",
       "      <th>2</th>\n",
       "      <td>Female</td>\n",
       "      <td>None</td>\n",
       "      <td>60</td>\n",
       "    </tr>\n",
       "    <tr>\n",
       "      <th>3</th>\n",
       "      <td>Female</td>\n",
       "      <td>None</td>\n",
       "      <td>60</td>\n",
       "    </tr>\n",
       "    <tr>\n",
       "      <th>4</th>\n",
       "      <td>Female</td>\n",
       "      <td>None</td>\n",
       "      <td>60</td>\n",
       "    </tr>\n",
       "  </tbody>\n",
       "</table>\n",
       "</div>"
      ],
      "text/plain": [
       "   gender alcohol  attractiveness\n",
       "0  Female    None              65\n",
       "1  Female    None              70\n",
       "2  Female    None              60\n",
       "3  Female    None              60\n",
       "4  Female    None              60"
      ]
     },
     "execution_count": 3,
     "metadata": {},
     "output_type": "execute_result"
    }
   ],
   "source": [
    "df = pd.read_csv('../Data_Files/goggles.csv')\n",
    "df.head()"
   ]
  },
  {
   "cell_type": "code",
   "execution_count": 6,
   "metadata": {},
   "outputs": [],
   "source": [
    "df['genderX'] = df['gender'].replace({'Male':1, 'Female':2})\n",
    "df['alcoholX'] = df['alcohol'].replace({'None':1, '2 Pints':2,'4 Pints':3})"
   ]
  },
  {
   "cell_type": "code",
   "execution_count": 10,
   "metadata": {},
   "outputs": [
    {
     "data": {
      "text/html": [
       "<div>\n",
       "<style scoped>\n",
       "    .dataframe tbody tr th:only-of-type {\n",
       "        vertical-align: middle;\n",
       "    }\n",
       "\n",
       "    .dataframe tbody tr th {\n",
       "        vertical-align: top;\n",
       "    }\n",
       "\n",
       "    .dataframe thead th {\n",
       "        text-align: right;\n",
       "    }\n",
       "</style>\n",
       "<table border=\"1\" class=\"dataframe\">\n",
       "  <thead>\n",
       "    <tr style=\"text-align: right;\">\n",
       "      <th></th>\n",
       "      <th></th>\n",
       "      <th>count</th>\n",
       "      <th>mean</th>\n",
       "      <th>std</th>\n",
       "      <th>min</th>\n",
       "      <th>25%</th>\n",
       "      <th>50%</th>\n",
       "      <th>75%</th>\n",
       "      <th>max</th>\n",
       "    </tr>\n",
       "    <tr>\n",
       "      <th>gender</th>\n",
       "      <th>alcohol</th>\n",
       "      <th></th>\n",
       "      <th></th>\n",
       "      <th></th>\n",
       "      <th></th>\n",
       "      <th></th>\n",
       "      <th></th>\n",
       "      <th></th>\n",
       "      <th></th>\n",
       "    </tr>\n",
       "  </thead>\n",
       "  <tbody>\n",
       "    <tr>\n",
       "      <th rowspan=\"3\" valign=\"top\">Female</th>\n",
       "      <th>2 Pints</th>\n",
       "      <td>8.0</td>\n",
       "      <td>62.500</td>\n",
       "      <td>6.546537</td>\n",
       "      <td>50.0</td>\n",
       "      <td>60.00</td>\n",
       "      <td>62.5</td>\n",
       "      <td>66.25</td>\n",
       "      <td>70.0</td>\n",
       "    </tr>\n",
       "    <tr>\n",
       "      <th>4 Pints</th>\n",
       "      <td>8.0</td>\n",
       "      <td>57.500</td>\n",
       "      <td>7.071068</td>\n",
       "      <td>50.0</td>\n",
       "      <td>53.75</td>\n",
       "      <td>55.0</td>\n",
       "      <td>61.25</td>\n",
       "      <td>70.0</td>\n",
       "    </tr>\n",
       "    <tr>\n",
       "      <th>None</th>\n",
       "      <td>8.0</td>\n",
       "      <td>60.625</td>\n",
       "      <td>4.955156</td>\n",
       "      <td>55.0</td>\n",
       "      <td>58.75</td>\n",
       "      <td>60.0</td>\n",
       "      <td>61.25</td>\n",
       "      <td>70.0</td>\n",
       "    </tr>\n",
       "    <tr>\n",
       "      <th rowspan=\"3\" valign=\"top\">Male</th>\n",
       "      <th>2 Pints</th>\n",
       "      <td>8.0</td>\n",
       "      <td>66.875</td>\n",
       "      <td>12.517844</td>\n",
       "      <td>45.0</td>\n",
       "      <td>60.00</td>\n",
       "      <td>67.5</td>\n",
       "      <td>72.50</td>\n",
       "      <td>85.0</td>\n",
       "    </tr>\n",
       "    <tr>\n",
       "      <th>4 Pints</th>\n",
       "      <td>8.0</td>\n",
       "      <td>35.625</td>\n",
       "      <td>10.835622</td>\n",
       "      <td>20.0</td>\n",
       "      <td>30.00</td>\n",
       "      <td>32.5</td>\n",
       "      <td>41.25</td>\n",
       "      <td>55.0</td>\n",
       "    </tr>\n",
       "    <tr>\n",
       "      <th>None</th>\n",
       "      <td>8.0</td>\n",
       "      <td>66.875</td>\n",
       "      <td>10.329396</td>\n",
       "      <td>50.0</td>\n",
       "      <td>62.50</td>\n",
       "      <td>67.5</td>\n",
       "      <td>75.00</td>\n",
       "      <td>80.0</td>\n",
       "    </tr>\n",
       "  </tbody>\n",
       "</table>\n",
       "</div>"
      ],
      "text/plain": [
       "                count    mean        std   min    25%   50%    75%   max\n",
       "gender alcohol                                                          \n",
       "Female 2 Pints    8.0  62.500   6.546537  50.0  60.00  62.5  66.25  70.0\n",
       "       4 Pints    8.0  57.500   7.071068  50.0  53.75  55.0  61.25  70.0\n",
       "       None       8.0  60.625   4.955156  55.0  58.75  60.0  61.25  70.0\n",
       "Male   2 Pints    8.0  66.875  12.517844  45.0  60.00  67.5  72.50  85.0\n",
       "       4 Pints    8.0  35.625  10.835622  20.0  30.00  32.5  41.25  55.0\n",
       "       None       8.0  66.875  10.329396  50.0  62.50  67.5  75.00  80.0"
      ]
     },
     "execution_count": 10,
     "metadata": {},
     "output_type": "execute_result"
    }
   ],
   "source": [
    "df.groupby(['gender', 'alcohol']).describe()['attractiveness']"
   ]
  },
  {
   "cell_type": "code",
   "execution_count": 12,
   "metadata": {},
   "outputs": [
    {
     "data": {
      "image/png": "[encoded data removed]",
      "text/plain": [
       "<Figure size 432x288 with 1 Axes>"
      ]
     },
     "metadata": {
      "needs_background": "light"
     },
     "output_type": "display_data"
    }
   ],
   "source": [
    "from statsmodels.graphics.factorplots import interaction_plot\n",
    "fig = interaction_plot(df.alcoholX, df.gender, df.attractiveness,\n",
    "             colors=['red','blue'], markers=['D','^'], ms=10)"
   ]
  },
  {
   "cell_type": "code",
   "execution_count": 26,
   "metadata": {},
   "outputs": [
    {
     "data": {
      "image/png": "[encoded data removed]",
      "text/plain": [
       "<Figure size 432x288 with 1 Axes>"
      ]
     },
     "metadata": {
      "needs_background": "light"
     },
     "output_type": "display_data"
    }
   ],
   "source": [
    "_ = sns.lineplot(x='alcohol', y='attractiveness', hue='gender', err_style=\"bars\",sort=False,data=df,style='gender',markers=['D','^'])"
   ]
  },
  {
   "cell_type": "code",
   "execution_count": 28,
   "metadata": {},
   "outputs": [
    {
     "data": {
      "image/png": "[encoded data removed]",
      "text/plain": [
       "<Figure size 576x432 with 1 Axes>"
      ]
     },
     "metadata": {
      "needs_background": "light"
     },
     "output_type": "display_data"
    }
   ],
   "source": [
    "plt.figure(figsize=(8,6))\n",
    "_ = sns.boxplot(x='alcohol', y='attractiveness', hue='gender', data=df)"
   ]
  },
  {
   "cell_type": "code",
   "execution_count": 41,
   "metadata": {},
   "outputs": [
    {
     "data": {
      "image/png": "[encoded data removed]",
      "text/plain": [
       "<Figure size 432x288 with 1 Axes>"
      ]
     },
     "metadata": {
      "needs_background": "light"
     },
     "output_type": "display_data"
    }
   ],
   "source": [
    "# main effect of alcohol\n",
    "_ = sns.boxplot(x='alcoholX', y='attractiveness', data=df)"
   ]
  },
  {
   "cell_type": "code",
   "execution_count": 30,
   "metadata": {},
   "outputs": [
    {
     "data": {
      "image/png": "[encoded data removed]",
      "text/plain": [
       "<Figure size 432x288 with 1 Axes>"
      ]
     },
     "metadata": {
      "needs_background": "light"
     },
     "output_type": "display_data"
    }
   ],
   "source": [
    "# main effect of gender\n",
    "_ = sns.boxplot(x='genderX', y='attractiveness', data=df)"
   ]
  },
  {
   "cell_type": "markdown",
   "metadata": {},
   "source": [
    "## levene test on interaction of variables"
   ]
  },
  {
   "cell_type": "code",
   "execution_count": 32,
   "metadata": {},
   "outputs": [
    {
     "data": {
      "text/plain": [
       "[1, 2, 3, 4, 5, 6]"
      ]
     },
     "execution_count": 32,
     "metadata": {},
     "output_type": "execute_result"
    }
   ],
   "source": [
    "unique_list = [i for i in range(1,7)]\n",
    "unique_list"
   ]
  },
  {
   "cell_type": "code",
   "execution_count": 33,
   "metadata": {},
   "outputs": [],
   "source": [
    "df['interaction'] = 0\n",
    "for i in range(6):\n",
    "    for j in range(8):\n",
    "        df.at[8*i+j,'interaction'] = unique_list[i]"
   ]
  },
  {
   "cell_type": "code",
   "execution_count": 34,
   "metadata": {},
   "outputs": [
    {
     "data": {
      "text/html": [
       "<div>\n",
       "<style scoped>\n",
       "    .dataframe tbody tr th:only-of-type {\n",
       "        vertical-align: middle;\n",
       "    }\n",
       "\n",
       "    .dataframe tbody tr th {\n",
       "        vertical-align: top;\n",
       "    }\n",
       "\n",
       "    .dataframe thead th {\n",
       "        text-align: right;\n",
       "    }\n",
       "</style>\n",
       "<table border=\"1\" class=\"dataframe\">\n",
       "  <thead>\n",
       "    <tr style=\"text-align: right;\">\n",
       "      <th></th>\n",
       "      <th>gender</th>\n",
       "      <th>alcohol</th>\n",
       "      <th>attractiveness</th>\n",
       "      <th>genderX</th>\n",
       "      <th>alcoholX</th>\n",
       "      <th>interaction</th>\n",
       "    </tr>\n",
       "  </thead>\n",
       "  <tbody>\n",
       "    <tr>\n",
       "      <th>0</th>\n",
       "      <td>Female</td>\n",
       "      <td>None</td>\n",
       "      <td>65</td>\n",
       "      <td>2</td>\n",
       "      <td>1</td>\n",
       "      <td>1</td>\n",
       "    </tr>\n",
       "    <tr>\n",
       "      <th>1</th>\n",
       "      <td>Female</td>\n",
       "      <td>None</td>\n",
       "      <td>70</td>\n",
       "      <td>2</td>\n",
       "      <td>1</td>\n",
       "      <td>1</td>\n",
       "    </tr>\n",
       "    <tr>\n",
       "      <th>2</th>\n",
       "      <td>Female</td>\n",
       "      <td>None</td>\n",
       "      <td>60</td>\n",
       "      <td>2</td>\n",
       "      <td>1</td>\n",
       "      <td>1</td>\n",
       "    </tr>\n",
       "    <tr>\n",
       "      <th>3</th>\n",
       "      <td>Female</td>\n",
       "      <td>None</td>\n",
       "      <td>60</td>\n",
       "      <td>2</td>\n",
       "      <td>1</td>\n",
       "      <td>1</td>\n",
       "    </tr>\n",
       "    <tr>\n",
       "      <th>4</th>\n",
       "      <td>Female</td>\n",
       "      <td>None</td>\n",
       "      <td>60</td>\n",
       "      <td>2</td>\n",
       "      <td>1</td>\n",
       "      <td>1</td>\n",
       "    </tr>\n",
       "  </tbody>\n",
       "</table>\n",
       "</div>"
      ],
      "text/plain": [
       "   gender alcohol  attractiveness  genderX  alcoholX  interaction\n",
       "0  Female    None              65        2         1            1\n",
       "1  Female    None              70        2         1            1\n",
       "2  Female    None              60        2         1            1\n",
       "3  Female    None              60        2         1            1\n",
       "4  Female    None              60        2         1            1"
      ]
     },
     "execution_count": 34,
     "metadata": {},
     "output_type": "execute_result"
    }
   ],
   "source": [
    "df.head()"
   ]
  },
  {
   "cell_type": "code",
   "execution_count": 35,
   "metadata": {},
   "outputs": [
    {
     "data": {
      "text/html": [
       "<div>\n",
       "<style scoped>\n",
       "    .dataframe tbody tr th:only-of-type {\n",
       "        vertical-align: middle;\n",
       "    }\n",
       "\n",
       "    .dataframe tbody tr th {\n",
       "        vertical-align: top;\n",
       "    }\n",
       "\n",
       "    .dataframe thead th {\n",
       "        text-align: right;\n",
       "    }\n",
       "</style>\n",
       "<table border=\"1\" class=\"dataframe\">\n",
       "  <thead>\n",
       "    <tr style=\"text-align: right;\">\n",
       "      <th></th>\n",
       "      <th>W</th>\n",
       "      <th>pval</th>\n",
       "      <th>equal_var</th>\n",
       "    </tr>\n",
       "  </thead>\n",
       "  <tbody>\n",
       "    <tr>\n",
       "      <th>levene</th>\n",
       "      <td>1.425225</td>\n",
       "      <td>0.235068</td>\n",
       "      <td>True</td>\n",
       "    </tr>\n",
       "  </tbody>\n",
       "</table>\n",
       "</div>"
      ],
      "text/plain": [
       "               W      pval  equal_var\n",
       "levene  1.425225  0.235068       True"
      ]
     },
     "execution_count": 35,
     "metadata": {},
     "output_type": "execute_result"
    }
   ],
   "source": [
    "# Levene test on interaction variables\n",
    "pg.homoscedasticity(df, dv='attractiveness',group='interaction')"
   ]
  },
  {
   "cell_type": "markdown",
   "metadata": {},
   "source": [
    "#### # A non-significant result like the one we have here, W(5, 42) = 1.425, p = .235, is indicative of the assumption being met."
   ]
  },
  {
   "cell_type": "code",
   "execution_count": 36,
   "metadata": {},
   "outputs": [
    {
     "data": {
      "text/html": [
       "<table class=\"simpletable\">\n",
       "<caption>OLS Regression Results</caption>\n",
       "<tr>\n",
       "  <th>Dep. Variable:</th>     <td>attractiveness</td>  <th>  R-squared:         </th> <td>   0.611</td>\n",
       "</tr>\n",
       "<tr>\n",
       "  <th>Model:</th>                   <td>OLS</td>       <th>  Adj. R-squared:    </th> <td>   0.565</td>\n",
       "</tr>\n",
       "<tr>\n",
       "  <th>Method:</th>             <td>Least Squares</td>  <th>  F-statistic:       </th> <td>   13.20</td>\n",
       "</tr>\n",
       "<tr>\n",
       "  <th>Date:</th>             <td>Sat, 31 Oct 2020</td> <th>  Prob (F-statistic):</th> <td>9.61e-08</td>\n",
       "</tr>\n",
       "<tr>\n",
       "  <th>Time:</th>                 <td>21:14:07</td>     <th>  Log-Likelihood:    </th> <td> -170.97</td>\n",
       "</tr>\n",
       "<tr>\n",
       "  <th>No. Observations:</th>      <td>    48</td>      <th>  AIC:               </th> <td>   353.9</td>\n",
       "</tr>\n",
       "<tr>\n",
       "  <th>Df Residuals:</th>          <td>    42</td>      <th>  BIC:               </th> <td>   365.2</td>\n",
       "</tr>\n",
       "<tr>\n",
       "  <th>Df Model:</th>              <td>     5</td>      <th>                     </th>     <td> </td>   \n",
       "</tr>\n",
       "<tr>\n",
       "  <th>Covariance Type:</th>      <td>nonrobust</td>    <th>                     </th>     <td> </td>   \n",
       "</tr>\n",
       "</table>\n",
       "<table class=\"simpletable\">\n",
       "<tr>\n",
       "                  <td></td>                    <th>coef</th>     <th>std err</th>      <th>t</th>      <th>P>|t|</th>  <th>[0.025</th>    <th>0.975]</th>  \n",
       "</tr>\n",
       "<tr>\n",
       "  <th>Intercept</th>                        <td>   66.8750</td> <td>    3.222</td> <td>   20.758</td> <td> 0.000</td> <td>   60.373</td> <td>   73.377</td>\n",
       "</tr>\n",
       "<tr>\n",
       "  <th>C(genderX)[T.2]</th>                  <td>   -6.2500</td> <td>    4.556</td> <td>   -1.372</td> <td> 0.177</td> <td>  -15.445</td> <td>    2.945</td>\n",
       "</tr>\n",
       "<tr>\n",
       "  <th>C(alcoholX)[T.2]</th>                 <td>  4.33e-15</td> <td>    4.556</td> <td>  9.5e-16</td> <td> 1.000</td> <td>   -9.195</td> <td>    9.195</td>\n",
       "</tr>\n",
       "<tr>\n",
       "  <th>C(alcoholX)[T.3]</th>                 <td>  -31.2500</td> <td>    4.556</td> <td>   -6.859</td> <td> 0.000</td> <td>  -40.445</td> <td>  -22.055</td>\n",
       "</tr>\n",
       "<tr>\n",
       "  <th>C(genderX)[T.2]:C(alcoholX)[T.2]</th> <td>    1.8750</td> <td>    6.443</td> <td>    0.291</td> <td> 0.772</td> <td>  -11.128</td> <td>   14.878</td>\n",
       "</tr>\n",
       "<tr>\n",
       "  <th>C(genderX)[T.2]:C(alcoholX)[T.3]</th> <td>   28.1250</td> <td>    6.443</td> <td>    4.365</td> <td> 0.000</td> <td>   15.122</td> <td>   41.128</td>\n",
       "</tr>\n",
       "</table>\n",
       "<table class=\"simpletable\">\n",
       "<tr>\n",
       "  <th>Omnibus:</th>       <td> 0.446</td> <th>  Durbin-Watson:     </th> <td>   1.846</td>\n",
       "</tr>\n",
       "<tr>\n",
       "  <th>Prob(Omnibus):</th> <td> 0.800</td> <th>  Jarque-Bera (JB):  </th> <td>   0.057</td>\n",
       "</tr>\n",
       "<tr>\n",
       "  <th>Skew:</th>          <td>-0.041</td> <th>  Prob(JB):          </th> <td>   0.972</td>\n",
       "</tr>\n",
       "<tr>\n",
       "  <th>Kurtosis:</th>      <td> 3.147</td> <th>  Cond. No.          </th> <td>    9.77</td>\n",
       "</tr>\n",
       "</table><br/><br/>Notes:<br/>[1] Standard Errors assume that the covariance matrix of the errors is correctly specified."
      ],
      "text/plain": [
       "<class 'statsmodels.iolib.summary.Summary'>\n",
       "\"\"\"\n",
       "                            OLS Regression Results                            \n",
       "==============================================================================\n",
       "Dep. Variable:         attractiveness   R-squared:                       0.611\n",
       "Model:                            OLS   Adj. R-squared:                  0.565\n",
       "Method:                 Least Squares   F-statistic:                     13.20\n",
       "Date:                Sat, 31 Oct 2020   Prob (F-statistic):           9.61e-08\n",
       "Time:                        21:14:07   Log-Likelihood:                -170.97\n",
       "No. Observations:                  48   AIC:                             353.9\n",
       "Df Residuals:                      42   BIC:                             365.2\n",
       "Df Model:                           5                                         \n",
       "Covariance Type:            nonrobust                                         \n",
       "====================================================================================================\n",
       "                                       coef    std err          t      P>|t|      [0.025      0.975]\n",
       "----------------------------------------------------------------------------------------------------\n",
       "Intercept                           66.8750      3.222     20.758      0.000      60.373      73.377\n",
       "C(genderX)[T.2]                     -6.2500      4.556     -1.372      0.177     -15.445       2.945\n",
       "C(alcoholX)[T.2]                   4.33e-15      4.556    9.5e-16      1.000      -9.195       9.195\n",
       "C(alcoholX)[T.3]                   -31.2500      4.556     -6.859      0.000     -40.445     -22.055\n",
       "C(genderX)[T.2]:C(alcoholX)[T.2]     1.8750      6.443      0.291      0.772     -11.128      14.878\n",
       "C(genderX)[T.2]:C(alcoholX)[T.3]    28.1250      6.443      4.365      0.000      15.122      41.128\n",
       "==============================================================================\n",
       "Omnibus:                        0.446   Durbin-Watson:                   1.846\n",
       "Prob(Omnibus):                  0.800   Jarque-Bera (JB):                0.057\n",
       "Skew:                          -0.041   Prob(JB):                        0.972\n",
       "Kurtosis:                       3.147   Cond. No.                         9.77\n",
       "==============================================================================\n",
       "\n",
       "Notes:\n",
       "[1] Standard Errors assume that the covariance matrix of the errors is correctly specified.\n",
       "\"\"\""
      ]
     },
     "execution_count": 36,
     "metadata": {},
     "output_type": "execute_result"
    }
   ],
   "source": [
    "m01 = smf.ols('attractiveness~C(genderX)*C(alcoholX)', data=df).fit()\n",
    "m01.summary()"
   ]
  },
  {
   "cell_type": "markdown",
   "metadata": {},
   "source": [
    "#### # https://www.statsmodels.org/devel/examples/notebooks/generated/contrasts.html#examples-notebooks-generated-contrasts--page-root"
   ]
  },
  {
   "cell_type": "markdown",
   "metadata": {},
   "source": [
    "### Planned Contrast"
   ]
  },
  {
   "cell_type": "code",
   "execution_count": 37,
   "metadata": {},
   "outputs": [
    {
     "data": {
      "text/plain": [
       "array([[-2,  0],\n",
       "       [ 1, -1],\n",
       "       [ 1,  1]])"
      ]
     },
     "execution_count": 37,
     "metadata": {},
     "output_type": "execute_result"
    }
   ],
   "source": [
    "con1 = [-2,1,1]\n",
    "con2 = [0,-1,1]\n",
    "contrast = np.vstack((con1, con2))\n",
    "contrast_alc = contrast.T\n",
    "contrast_alc"
   ]
  },
  {
   "cell_type": "code",
   "execution_count": 38,
   "metadata": {},
   "outputs": [
    {
     "data": {
      "text/plain": [
       "array([[ 1],\n",
       "       [-1]])"
      ]
     },
     "execution_count": 38,
     "metadata": {},
     "output_type": "execute_result"
    }
   ],
   "source": [
    "contrast_gen = np.array([[1,-1]])\n",
    "contrast_gen =contrast_gen.reshape(2,1)\n",
    "contrast_gen"
   ]
  },
  {
   "cell_type": "code",
   "execution_count": 50,
   "metadata": {},
   "outputs": [
    {
     "data": {
      "text/html": [
       "<table class=\"simpletable\">\n",
       "<caption>OLS Regression Results</caption>\n",
       "<tr>\n",
       "  <th>Dep. Variable:</th>     <td>attractiveness</td>  <th>  R-squared:         </th> <td>   0.611</td>\n",
       "</tr>\n",
       "<tr>\n",
       "  <th>Model:</th>                   <td>OLS</td>       <th>  Adj. R-squared:    </th> <td>   0.565</td>\n",
       "</tr>\n",
       "<tr>\n",
       "  <th>Method:</th>             <td>Least Squares</td>  <th>  F-statistic:       </th> <td>   13.20</td>\n",
       "</tr>\n",
       "<tr>\n",
       "  <th>Date:</th>             <td>Sat, 31 Oct 2020</td> <th>  Prob (F-statistic):</th> <td>9.61e-08</td>\n",
       "</tr>\n",
       "<tr>\n",
       "  <th>Time:</th>                 <td>22:02:13</td>     <th>  Log-Likelihood:    </th> <td> -170.97</td>\n",
       "</tr>\n",
       "<tr>\n",
       "  <th>No. Observations:</th>      <td>    48</td>      <th>  AIC:               </th> <td>   353.9</td>\n",
       "</tr>\n",
       "<tr>\n",
       "  <th>Df Residuals:</th>          <td>    42</td>      <th>  BIC:               </th> <td>   365.2</td>\n",
       "</tr>\n",
       "<tr>\n",
       "  <th>Df Model:</th>              <td>     5</td>      <th>                     </th>     <td> </td>   \n",
       "</tr>\n",
       "<tr>\n",
       "  <th>Covariance Type:</th>      <td>nonrobust</td>    <th>                     </th>     <td> </td>   \n",
       "</tr>\n",
       "</table>\n",
       "<table class=\"simpletable\">\n",
       "<tr>\n",
       "                                    <td></td>                                      <th>coef</th>     <th>std err</th>      <th>t</th>      <th>P>|t|</th>  <th>[0.025</th>    <th>0.975]</th>  \n",
       "</tr>\n",
       "<tr>\n",
       "  <th>Intercept</th>                                                            <td>   58.3333</td> <td>    1.315</td> <td>   44.351</td> <td> 0.000</td> <td>   55.679</td> <td>   60.988</td>\n",
       "</tr>\n",
       "<tr>\n",
       "  <th>C(genderX, contrast_gen)[custom0]</th>                                    <td>   -1.8750</td> <td>    1.315</td> <td>   -1.426</td> <td> 0.161</td> <td>   -4.529</td> <td>    0.779</td>\n",
       "</tr>\n",
       "<tr>\n",
       "  <th>C(alcoholX, contrast_alc)[custom0]</th>                                   <td>   -2.7083</td> <td>    0.930</td> <td>   -2.912</td> <td> 0.006</td> <td>   -4.585</td> <td>   -0.831</td>\n",
       "</tr>\n",
       "<tr>\n",
       "  <th>C(alcoholX, contrast_alc)[custom1]</th>                                   <td>   -9.0625</td> <td>    1.611</td> <td>   -5.626</td> <td> 0.000</td> <td>  -12.313</td> <td>   -5.812</td>\n",
       "</tr>\n",
       "<tr>\n",
       "  <th>C(genderX, contrast_gen)[custom0]:C(alcoholX, contrast_alc)[custom0]</th> <td>   -2.5000</td> <td>    0.930</td> <td>   -2.688</td> <td> 0.010</td> <td>   -4.377</td> <td>   -0.623</td>\n",
       "</tr>\n",
       "<tr>\n",
       "  <th>C(genderX, contrast_gen)[custom0]:C(alcoholX, contrast_alc)[custom1]</th> <td>   -6.5625</td> <td>    1.611</td> <td>   -4.074</td> <td> 0.000</td> <td>   -9.813</td> <td>   -3.312</td>\n",
       "</tr>\n",
       "</table>\n",
       "<table class=\"simpletable\">\n",
       "<tr>\n",
       "  <th>Omnibus:</th>       <td> 0.446</td> <th>  Durbin-Watson:     </th> <td>   1.846</td>\n",
       "</tr>\n",
       "<tr>\n",
       "  <th>Prob(Omnibus):</th> <td> 0.800</td> <th>  Jarque-Bera (JB):  </th> <td>   0.057</td>\n",
       "</tr>\n",
       "<tr>\n",
       "  <th>Skew:</th>          <td>-0.041</td> <th>  Prob(JB):          </th> <td>   0.972</td>\n",
       "</tr>\n",
       "<tr>\n",
       "  <th>Kurtosis:</th>      <td> 3.147</td> <th>  Cond. No.          </th> <td>    1.73</td>\n",
       "</tr>\n",
       "</table><br/><br/>Notes:<br/>[1] Standard Errors assume that the covariance matrix of the errors is correctly specified."
      ],
      "text/plain": [
       "<class 'statsmodels.iolib.summary.Summary'>\n",
       "\"\"\"\n",
       "                            OLS Regression Results                            \n",
       "==============================================================================\n",
       "Dep. Variable:         attractiveness   R-squared:                       0.611\n",
       "Model:                            OLS   Adj. R-squared:                  0.565\n",
       "Method:                 Least Squares   F-statistic:                     13.20\n",
       "Date:                Sat, 31 Oct 2020   Prob (F-statistic):           9.61e-08\n",
       "Time:                        22:02:13   Log-Likelihood:                -170.97\n",
       "No. Observations:                  48   AIC:                             353.9\n",
       "Df Residuals:                      42   BIC:                             365.2\n",
       "Df Model:                           5                                         \n",
       "Covariance Type:            nonrobust                                         \n",
       "========================================================================================================================================\n",
       "                                                                           coef    std err          t      P>|t|      [0.025      0.975]\n",
       "----------------------------------------------------------------------------------------------------------------------------------------\n",
       "Intercept                                                               58.3333      1.315     44.351      0.000      55.679      60.988\n",
       "C(genderX, contrast_gen)[custom0]                                       -1.8750      1.315     -1.426      0.161      -4.529       0.779\n",
       "C(alcoholX, contrast_alc)[custom0]                                      -2.7083      0.930     -2.912      0.006      -4.585      -0.831\n",
       "C(alcoholX, contrast_alc)[custom1]                                      -9.0625      1.611     -5.626      0.000     -12.313      -5.812\n",
       "C(genderX, contrast_gen)[custom0]:C(alcoholX, contrast_alc)[custom0]    -2.5000      0.930     -2.688      0.010      -4.377      -0.623\n",
       "C(genderX, contrast_gen)[custom0]:C(alcoholX, contrast_alc)[custom1]    -6.5625      1.611     -4.074      0.000      -9.813      -3.312\n",
       "==============================================================================\n",
       "Omnibus:                        0.446   Durbin-Watson:                   1.846\n",
       "Prob(Omnibus):                  0.800   Jarque-Bera (JB):                0.057\n",
       "Skew:                          -0.041   Prob(JB):                        0.972\n",
       "Kurtosis:                       3.147   Cond. No.                         1.73\n",
       "==============================================================================\n",
       "\n",
       "Notes:\n",
       "[1] Standard Errors assume that the covariance matrix of the errors is correctly specified.\n",
       "\"\"\""
      ]
     },
     "execution_count": 50,
     "metadata": {},
     "output_type": "execute_result"
    }
   ],
   "source": [
    "contrast_model = smf.ols('attractiveness~C(genderX,contrast_gen)*C(alcoholX, contrast_alc)', data=df).fit()\n",
    "contrast_model.summary()"
   ]
  },
  {
   "cell_type": "markdown",
   "metadata": {},
   "source": [
    "## Simple Effect Analysis"
   ]
  },
  {
   "cell_type": "code",
   "execution_count": 42,
   "metadata": {},
   "outputs": [
    {
     "data": {
      "image/png": "[encoded data removed]",
      "text/plain": [
       "<IPython.core.display.Image object>"
      ]
     },
     "execution_count": 42,
     "metadata": {},
     "output_type": "execute_result"
    }
   ],
   "source": [
    "from IPython.display import Image\n",
    "Image('/home/atrides/Downloads/simpleEffectAnalysis.png')"
   ]
  },
  {
   "cell_type": "code",
   "execution_count": 46,
   "metadata": {},
   "outputs": [
    {
     "data": {
      "image/png": "[encoded data removed]",
      "text/plain": [
       "<IPython.core.display.Image object>"
      ]
     },
     "execution_count": 46,
     "metadata": {},
     "output_type": "execute_result"
    }
   ],
   "source": [
    "Image('/home/atrides/Downloads/contrast_table.png')"
   ]
  },
  {
   "cell_type": "code",
   "execution_count": 43,
   "metadata": {},
   "outputs": [],
   "source": [
    "contrast1 = [-2, 1, 1, -2, 1, 1]\n",
    "contrast2 = [0, -1, 1, 0, -1, 1]\n",
    "contrast3 = [ 1, 0, 0, -1, 0, 0]\n",
    "contrast4 = [ 0, 1, 0, 0, -1, 0]\n",
    "contrast5 = [ 0, 0, -1, 0, 0, 1]"
   ]
  },
  {
   "cell_type": "code",
   "execution_count": 47,
   "metadata": {},
   "outputs": [
    {
     "data": {
      "text/plain": [
       "array([[-2,  0,  1,  0,  0],\n",
       "       [ 1, -1,  0,  1,  0],\n",
       "       [ 1,  1,  0,  0, -1],\n",
       "       [-2,  0, -1,  0,  0],\n",
       "       [ 1, -1,  0, -1,  0],\n",
       "       [ 1,  1,  0,  0,  1]])"
      ]
     },
     "execution_count": 47,
     "metadata": {},
     "output_type": "execute_result"
    }
   ],
   "source": [
    "final_contrast = np.vstack((contrast1, contrast2, contrast3, contrast4, contrast5))\n",
    "final_contrast = final_contrast.T\n",
    "final_contrast  # according to levels, i.e 0F, 2F, 4F, 0M, 2M, 4M"
   ]
  },
  {
   "cell_type": "code",
   "execution_count": 51,
   "metadata": {},
   "outputs": [
    {
     "data": {
      "text/html": [
       "<table class=\"simpletable\">\n",
       "<caption>OLS Regression Results</caption>\n",
       "<tr>\n",
       "  <th>Dep. Variable:</th>     <td>attractiveness</td>  <th>  R-squared:         </th> <td>   0.611</td>\n",
       "</tr>\n",
       "<tr>\n",
       "  <th>Model:</th>                   <td>OLS</td>       <th>  Adj. R-squared:    </th> <td>   0.565</td>\n",
       "</tr>\n",
       "<tr>\n",
       "  <th>Method:</th>             <td>Least Squares</td>  <th>  F-statistic:       </th> <td>   13.20</td>\n",
       "</tr>\n",
       "<tr>\n",
       "  <th>Date:</th>             <td>Sat, 31 Oct 2020</td> <th>  Prob (F-statistic):</th> <td>9.61e-08</td>\n",
       "</tr>\n",
       "<tr>\n",
       "  <th>Time:</th>                 <td>22:02:39</td>     <th>  Log-Likelihood:    </th> <td> -170.97</td>\n",
       "</tr>\n",
       "<tr>\n",
       "  <th>No. Observations:</th>      <td>    48</td>      <th>  AIC:               </th> <td>   353.9</td>\n",
       "</tr>\n",
       "<tr>\n",
       "  <th>Df Residuals:</th>          <td>    42</td>      <th>  BIC:               </th> <td>   365.2</td>\n",
       "</tr>\n",
       "<tr>\n",
       "  <th>Df Model:</th>              <td>     5</td>      <th>                     </th>     <td> </td>   \n",
       "</tr>\n",
       "<tr>\n",
       "  <th>Covariance Type:</th>      <td>nonrobust</td>    <th>                     </th>     <td> </td>   \n",
       "</tr>\n",
       "</table>\n",
       "<table class=\"simpletable\">\n",
       "<tr>\n",
       "                     <td></td>                        <th>coef</th>     <th>std err</th>      <th>t</th>      <th>P>|t|</th>  <th>[0.025</th>    <th>0.975]</th>  \n",
       "</tr>\n",
       "<tr>\n",
       "  <th>Intercept</th>                               <td>   58.3333</td> <td>    1.315</td> <td>   44.351</td> <td> 0.000</td> <td>   55.679</td> <td>   60.988</td>\n",
       "</tr>\n",
       "<tr>\n",
       "  <th>C(interaction, final_contrast)[custom0]</th> <td>   -2.7083</td> <td>    0.930</td> <td>   -2.912</td> <td> 0.006</td> <td>   -4.585</td> <td>   -0.831</td>\n",
       "</tr>\n",
       "<tr>\n",
       "  <th>C(interaction, final_contrast)[custom1]</th> <td>   -9.0625</td> <td>    1.611</td> <td>   -5.626</td> <td> 0.000</td> <td>  -12.313</td> <td>   -5.812</td>\n",
       "</tr>\n",
       "<tr>\n",
       "  <th>C(interaction, final_contrast)[custom2]</th> <td>   -3.1250</td> <td>    2.278</td> <td>   -1.372</td> <td> 0.177</td> <td>   -7.722</td> <td>    1.472</td>\n",
       "</tr>\n",
       "<tr>\n",
       "  <th>C(interaction, final_contrast)[custom3]</th> <td>   -2.1875</td> <td>    2.278</td> <td>   -0.960</td> <td> 0.342</td> <td>   -6.785</td> <td>    2.410</td>\n",
       "</tr>\n",
       "<tr>\n",
       "  <th>C(interaction, final_contrast)[custom4]</th> <td>  -10.9375</td> <td>    2.278</td> <td>   -4.801</td> <td> 0.000</td> <td>  -15.535</td> <td>   -6.340</td>\n",
       "</tr>\n",
       "</table>\n",
       "<table class=\"simpletable\">\n",
       "<tr>\n",
       "  <th>Omnibus:</th>       <td> 0.446</td> <th>  Durbin-Watson:     </th> <td>   1.846</td>\n",
       "</tr>\n",
       "<tr>\n",
       "  <th>Prob(Omnibus):</th> <td> 0.800</td> <th>  Jarque-Bera (JB):  </th> <td>   0.057</td>\n",
       "</tr>\n",
       "<tr>\n",
       "  <th>Skew:</th>          <td>-0.041</td> <th>  Prob(JB):          </th> <td>   0.972</td>\n",
       "</tr>\n",
       "<tr>\n",
       "  <th>Kurtosis:</th>      <td> 3.147</td> <th>  Cond. No.          </th> <td>    2.45</td>\n",
       "</tr>\n",
       "</table><br/><br/>Notes:<br/>[1] Standard Errors assume that the covariance matrix of the errors is correctly specified."
      ],
      "text/plain": [
       "<class 'statsmodels.iolib.summary.Summary'>\n",
       "\"\"\"\n",
       "                            OLS Regression Results                            \n",
       "==============================================================================\n",
       "Dep. Variable:         attractiveness   R-squared:                       0.611\n",
       "Model:                            OLS   Adj. R-squared:                  0.565\n",
       "Method:                 Least Squares   F-statistic:                     13.20\n",
       "Date:                Sat, 31 Oct 2020   Prob (F-statistic):           9.61e-08\n",
       "Time:                        22:02:39   Log-Likelihood:                -170.97\n",
       "No. Observations:                  48   AIC:                             353.9\n",
       "Df Residuals:                      42   BIC:                             365.2\n",
       "Df Model:                           5                                         \n",
       "Covariance Type:            nonrobust                                         \n",
       "===========================================================================================================\n",
       "                                              coef    std err          t      P>|t|      [0.025      0.975]\n",
       "-----------------------------------------------------------------------------------------------------------\n",
       "Intercept                                  58.3333      1.315     44.351      0.000      55.679      60.988\n",
       "C(interaction, final_contrast)[custom0]    -2.7083      0.930     -2.912      0.006      -4.585      -0.831\n",
       "C(interaction, final_contrast)[custom1]    -9.0625      1.611     -5.626      0.000     -12.313      -5.812\n",
       "C(interaction, final_contrast)[custom2]    -3.1250      2.278     -1.372      0.177      -7.722       1.472\n",
       "C(interaction, final_contrast)[custom3]    -2.1875      2.278     -0.960      0.342      -6.785       2.410\n",
       "C(interaction, final_contrast)[custom4]   -10.9375      2.278     -4.801      0.000     -15.535      -6.340\n",
       "==============================================================================\n",
       "Omnibus:                        0.446   Durbin-Watson:                   1.846\n",
       "Prob(Omnibus):                  0.800   Jarque-Bera (JB):                0.057\n",
       "Skew:                          -0.041   Prob(JB):                        0.972\n",
       "Kurtosis:                       3.147   Cond. No.                         2.45\n",
       "==============================================================================\n",
       "\n",
       "Notes:\n",
       "[1] Standard Errors assume that the covariance matrix of the errors is correctly specified.\n",
       "\"\"\""
      ]
     },
     "execution_count": 51,
     "metadata": {},
     "output_type": "execute_result"
    }
   ],
   "source": [
    "effectAnalysis_model = smf.ols('attractiveness~C(interaction,final_contrast)', data=df).fit()\n",
    "effectAnalysis_model.summary()"
   ]
  },
  {
   "cell_type": "markdown",
   "metadata": {},
   "source": [
    "#### # The resulting output contains the parameter estimates for the five contrasts. Looking at the significance values for each simple effect, it appears that there was no significant difference between men and women when they drank no alcohol, p = .177, or when they drank 2 pints, p = .34, but there was a very significant difference, p < .001, when 4 pints were consumed (which, judging from the interaction graph, reflects the fact that the mean for men is considerably lower than for women)"
   ]
  },
  {
   "cell_type": "markdown",
   "metadata": {},
   "source": [
    "## Post-hoc Tests"
   ]
  },
  {
   "cell_type": "code",
   "execution_count": 52,
   "metadata": {},
   "outputs": [],
   "source": [
    "from statsmodels.sandbox.stats.multicomp import MultiComparison"
   ]
  },
  {
   "cell_type": "code",
   "execution_count": 55,
   "metadata": {},
   "outputs": [],
   "source": [
    "multicomp = MultiComparison(df['attractiveness'], df['interaction'])   # testfunc"
   ]
  },
  {
   "cell_type": "code",
   "execution_count": 56,
   "metadata": {},
   "outputs": [
    {
     "name": "stdout",
     "output_type": "stream",
     "text": [
      "Test Multiple Comparison ttest_ind \n",
      "FWER=0.05 method=bonf\n",
      "alphacSidak=0.00, alphacBonf=0.003\n",
      "=============================================\n",
      "group1 group2   stat   pval  pval_corr reject\n",
      "---------------------------------------------\n",
      "     1      2 -0.6459 0.5288       1.0  False\n",
      "     1      3  1.0237 0.3234       1.0  False\n",
      "     1      4  -1.543 0.1451       1.0  False\n",
      "     1      5 -1.3131 0.2103       1.0  False\n",
      "     1      6  5.9347    0.0    0.0005   True\n",
      "     2      3  1.4676 0.1643       1.0  False\n",
      "     2      4 -1.0119 0.3288       1.0  False\n",
      "     2      5  -0.876 0.3958       1.0  False\n",
      "     2      6  6.0044    0.0    0.0005   True\n",
      "     3      4 -2.1183 0.0525    0.7878  False\n",
      "     3      5 -1.8444 0.0864       1.0  False\n",
      "     3      6  4.7819 0.0003    0.0044   True\n",
      "     4      5     0.0    1.0       1.0  False\n",
      "     4      6  5.9043    0.0    0.0006   True\n",
      "     5      6  5.3387 0.0001    0.0016   True\n",
      "---------------------------------------------\n"
     ]
    }
   ],
   "source": [
    "# Bonferroni\n",
    "com = multicomp.allpairtest(st.ttest_ind, method='bonf')\n",
    "print(com[0])"
   ]
  },
  {
   "cell_type": "code",
   "execution_count": 58,
   "metadata": {},
   "outputs": [
    {
     "data": {
      "text/html": [
       "<div>\n",
       "<style scoped>\n",
       "    .dataframe tbody tr th:only-of-type {\n",
       "        vertical-align: middle;\n",
       "    }\n",
       "\n",
       "    .dataframe tbody tr th {\n",
       "        vertical-align: top;\n",
       "    }\n",
       "\n",
       "    .dataframe thead th {\n",
       "        text-align: right;\n",
       "    }\n",
       "</style>\n",
       "<table border=\"1\" class=\"dataframe\">\n",
       "  <thead>\n",
       "    <tr style=\"text-align: right;\">\n",
       "      <th></th>\n",
       "      <th>predicted</th>\n",
       "      <th>standarized_prediction</th>\n",
       "    </tr>\n",
       "  </thead>\n",
       "  <tbody>\n",
       "    <tr>\n",
       "      <th>0</th>\n",
       "      <td>60.625</td>\n",
       "      <td>0.212248</td>\n",
       "    </tr>\n",
       "    <tr>\n",
       "      <th>1</th>\n",
       "      <td>60.625</td>\n",
       "      <td>0.212248</td>\n",
       "    </tr>\n",
       "    <tr>\n",
       "      <th>2</th>\n",
       "      <td>60.625</td>\n",
       "      <td>0.212248</td>\n",
       "    </tr>\n",
       "    <tr>\n",
       "      <th>3</th>\n",
       "      <td>60.625</td>\n",
       "      <td>0.212248</td>\n",
       "    </tr>\n",
       "    <tr>\n",
       "      <th>4</th>\n",
       "      <td>60.625</td>\n",
       "      <td>0.212248</td>\n",
       "    </tr>\n",
       "  </tbody>\n",
       "</table>\n",
       "</div>"
      ],
      "text/plain": [
       "   predicted  standarized_prediction\n",
       "0     60.625                0.212248\n",
       "1     60.625                0.212248\n",
       "2     60.625                0.212248\n",
       "3     60.625                0.212248\n",
       "4     60.625                0.212248"
      ]
     },
     "execution_count": 58,
     "metadata": {},
     "output_type": "execute_result"
    }
   ],
   "source": [
    "prediction = pd.DataFrame(m01.fittedvalues)\n",
    "prediction.columns = ['predicted'] \n",
    "prediction['standarized_prediction']  = (prediction['predicted']-prediction['predicted'].mean())/prediction['predicted'].std()\n",
    "prediction.head()"
   ]
  },
  {
   "cell_type": "code",
   "execution_count": 60,
   "metadata": {},
   "outputs": [],
   "source": [
    "import statsmodels.stats.outliers_influence as sms"
   ]
  },
  {
   "cell_type": "code",
   "execution_count": 61,
   "metadata": {},
   "outputs": [],
   "source": [
    "summary_frame = sms.OLSInfluence(m01).summary_frame()\n",
    "summary_frame = pd.merge(summary_frame, prediction, how = 'inner', left_index = True, right_index = True)"
   ]
  },
  {
   "cell_type": "markdown",
   "metadata": {},
   "source": [
    "### Some Plots"
   ]
  },
  {
   "cell_type": "code",
   "execution_count": 62,
   "metadata": {},
   "outputs": [
    {
     "data": {
      "image/png": "[encoded data removed]",
      "text/plain": [
       "<Figure size 432x288 with 1 Axes>"
      ]
     },
     "metadata": {
      "needs_background": "light"
     },
     "output_type": "display_data"
    }
   ],
   "source": [
    "_ = sns.scatterplot(y = 'standard_resid', x='standarized_prediction', data = summary_frame)\n",
    "_ = plt.axhline(y=0)"
   ]
  },
  {
   "cell_type": "code",
   "execution_count": 63,
   "metadata": {},
   "outputs": [
    {
     "data": {
      "image/png": "[encoded data removed]",
      "text/plain": [
       "<Figure size 360x288 with 1 Axes>"
      ]
     },
     "metadata": {
      "needs_background": "light"
     },
     "output_type": "display_data"
    }
   ],
   "source": [
    "_ = pg.qqplot(summary_frame['standard_resid'], confidence=False)"
   ]
  },
  {
   "cell_type": "markdown",
   "metadata": {},
   "source": [
    "#### # The plot we have does show funnelling (the spread of scores is wider at some points than at others), which implies that the residuals might be heteroscedastic (a bad thing). The second plot (on the right) is a Q-Q plot , which tells us about the normality of residuals in the model, from plot we can say our assumptions of normally distributed residuals have been true"
   ]
  },
  {
   "cell_type": "code",
   "execution_count": 65,
   "metadata": {},
   "outputs": [
    {
     "data": {
      "image/png": "[encoded data removed]",
      "text/plain": [
       "<Figure size 864x432 with 2 Axes>"
      ]
     },
     "metadata": {
      "needs_background": "light"
     },
     "output_type": "display_data"
    }
   ],
   "source": [
    "# one more interaction graph\n",
    "plt.figure(figsize=(12,6))\n",
    "plt.subplot(1,2,1)\n",
    "_ = sns.barplot(x='alcohol', y='attractiveness', data=df, hue='gender')\n",
    "plt.subplot(1,2,2)\n",
    "_ = sns.barplot(x='gender', y='attractiveness', data=df, hue='alcohol')"
   ]
  },
  {
   "cell_type": "markdown",
   "metadata": {},
   "source": [
    "## Robust Factorial Anova"
   ]
  },
  {
   "cell_type": "code",
   "execution_count": 68,
   "metadata": {},
   "outputs": [],
   "source": [
    "df1 = df[df['interaction']==1]\n",
    "df2 = df[df['interaction']==2]\n",
    "df3 = df[df['interaction']==3]\n",
    "df4 = df[df['interaction']==4]\n",
    "df5 = df[df['interaction']==5]\n",
    "df6 = df[df['interaction']==6]"
   ]
  },
  {
   "cell_type": "code",
   "execution_count": 69,
   "metadata": {},
   "outputs": [
    {
     "data": {
      "text/plain": [
       "KruskalResult(statistic=22.646737025561556, pvalue=0.00039430018097061473)"
      ]
     },
     "execution_count": 69,
     "metadata": {},
     "output_type": "execute_result"
    }
   ],
   "source": [
    "st.kruskal(df1['attractiveness'], df2['attractiveness'], df3['attractiveness'],df4['attractiveness'],df5['attractiveness'],df6['attractiveness'])"
   ]
  },
  {
   "cell_type": "code",
   "execution_count": 70,
   "metadata": {},
   "outputs": [
    {
     "data": {
      "text/html": [
       "<div>\n",
       "<style scoped>\n",
       "    .dataframe tbody tr th:only-of-type {\n",
       "        vertical-align: middle;\n",
       "    }\n",
       "\n",
       "    .dataframe tbody tr th {\n",
       "        vertical-align: top;\n",
       "    }\n",
       "\n",
       "    .dataframe thead th {\n",
       "        text-align: right;\n",
       "    }\n",
       "</style>\n",
       "<table border=\"1\" class=\"dataframe\">\n",
       "  <thead>\n",
       "    <tr style=\"text-align: right;\">\n",
       "      <th></th>\n",
       "      <th>sum_sq</th>\n",
       "      <th>df</th>\n",
       "      <th>F</th>\n",
       "      <th>PR(&gt;F)</th>\n",
       "    </tr>\n",
       "  </thead>\n",
       "  <tbody>\n",
       "    <tr>\n",
       "      <th>Intercept</th>\n",
       "      <td>27844.063808</td>\n",
       "      <td>1.0</td>\n",
       "      <td>335.326360</td>\n",
       "      <td>1.228294e-21</td>\n",
       "    </tr>\n",
       "    <tr>\n",
       "      <th>C(genderX)</th>\n",
       "      <td>197.704082</td>\n",
       "      <td>1.0</td>\n",
       "      <td>2.380952</td>\n",
       "      <td>1.303246e-01</td>\n",
       "    </tr>\n",
       "    <tr>\n",
       "      <th>C(alcoholX)</th>\n",
       "      <td>3586.327016</td>\n",
       "      <td>2.0</td>\n",
       "      <td>21.595087</td>\n",
       "      <td>3.548587e-07</td>\n",
       "    </tr>\n",
       "    <tr>\n",
       "      <th>C(genderX):C(alcoholX)</th>\n",
       "      <td>2026.763804</td>\n",
       "      <td>2.0</td>\n",
       "      <td>12.204169</td>\n",
       "      <td>6.630713e-05</td>\n",
       "    </tr>\n",
       "    <tr>\n",
       "      <th>Residual</th>\n",
       "      <td>3487.500000</td>\n",
       "      <td>42.0</td>\n",
       "      <td>NaN</td>\n",
       "      <td>NaN</td>\n",
       "    </tr>\n",
       "  </tbody>\n",
       "</table>\n",
       "</div>"
      ],
      "text/plain": [
       "                              sum_sq    df           F        PR(>F)\n",
       "Intercept               27844.063808   1.0  335.326360  1.228294e-21\n",
       "C(genderX)                197.704082   1.0    2.380952  1.303246e-01\n",
       "C(alcoholX)              3586.327016   2.0   21.595087  3.548587e-07\n",
       "C(genderX):C(alcoholX)   2026.763804   2.0   12.204169  6.630713e-05\n",
       "Residual                 3487.500000  42.0         NaN           NaN"
      ]
     },
     "execution_count": 70,
     "metadata": {},
     "output_type": "execute_result"
    }
   ],
   "source": [
    "sm.stats.anova_lm(m01,typ=3,robust=\"hc1\")"
   ]
  },
  {
   "cell_type": "code",
   "execution_count": 71,
   "metadata": {},
   "outputs": [
    {
     "data": {
      "text/html": [
       "<div>\n",
       "<style scoped>\n",
       "    .dataframe tbody tr th:only-of-type {\n",
       "        vertical-align: middle;\n",
       "    }\n",
       "\n",
       "    .dataframe tbody tr th {\n",
       "        vertical-align: top;\n",
       "    }\n",
       "\n",
       "    .dataframe thead th {\n",
       "        text-align: right;\n",
       "    }\n",
       "</style>\n",
       "<table border=\"1\" class=\"dataframe\">\n",
       "  <thead>\n",
       "    <tr style=\"text-align: right;\">\n",
       "      <th></th>\n",
       "      <th>sum_sq</th>\n",
       "      <th>df</th>\n",
       "      <th>F</th>\n",
       "      <th>PR(&gt;F)</th>\n",
       "    </tr>\n",
       "  </thead>\n",
       "  <tbody>\n",
       "    <tr>\n",
       "      <th>Intercept</th>\n",
       "      <td>24363.555832</td>\n",
       "      <td>1.0</td>\n",
       "      <td>293.410565</td>\n",
       "      <td>1.467245e-20</td>\n",
       "    </tr>\n",
       "    <tr>\n",
       "      <th>C(genderX)</th>\n",
       "      <td>172.991071</td>\n",
       "      <td>1.0</td>\n",
       "      <td>2.083333</td>\n",
       "      <td>1.563325e-01</td>\n",
       "    </tr>\n",
       "    <tr>\n",
       "      <th>C(alcoholX)</th>\n",
       "      <td>3138.036139</td>\n",
       "      <td>2.0</td>\n",
       "      <td>18.895701</td>\n",
       "      <td>1.403321e-06</td>\n",
       "    </tr>\n",
       "    <tr>\n",
       "      <th>C(genderX):C(alcoholX)</th>\n",
       "      <td>1773.418328</td>\n",
       "      <td>2.0</td>\n",
       "      <td>10.678648</td>\n",
       "      <td>1.780352e-04</td>\n",
       "    </tr>\n",
       "    <tr>\n",
       "      <th>Residual</th>\n",
       "      <td>3487.500000</td>\n",
       "      <td>42.0</td>\n",
       "      <td>NaN</td>\n",
       "      <td>NaN</td>\n",
       "    </tr>\n",
       "  </tbody>\n",
       "</table>\n",
       "</div>"
      ],
      "text/plain": [
       "                              sum_sq    df           F        PR(>F)\n",
       "Intercept               24363.555832   1.0  293.410565  1.467245e-20\n",
       "C(genderX)                172.991071   1.0    2.083333  1.563325e-01\n",
       "C(alcoholX)              3138.036139   2.0   18.895701  1.403321e-06\n",
       "C(genderX):C(alcoholX)   1773.418328   2.0   10.678648  1.780352e-04\n",
       "Residual                 3487.500000  42.0         NaN           NaN"
      ]
     },
     "execution_count": 71,
     "metadata": {},
     "output_type": "execute_result"
    }
   ],
   "source": [
    "sm.stats.anova_lm(m01,typ=3,robust=\"hc3\")"
   ]
  },
  {
   "cell_type": "markdown",
   "metadata": {},
   "source": [
    "## Robust post-hocs test"
   ]
  },
  {
   "cell_type": "code",
   "execution_count": 76,
   "metadata": {},
   "outputs": [
    {
     "name": "stderr",
     "output_type": "stream",
     "text": [
      "/home/atrides/.local/lib/python3.8/site-packages/scipy/stats/morestats.py:2879: UserWarning: Sample size too small for normal approximation.\n",
      "  warnings.warn(\"Sample size too small for normal approximation.\")\n"
     ]
    },
    {
     "data": {
      "text/html": [
       "<div>\n",
       "<style scoped>\n",
       "    .dataframe tbody tr th:only-of-type {\n",
       "        vertical-align: middle;\n",
       "    }\n",
       "\n",
       "    .dataframe tbody tr th {\n",
       "        vertical-align: top;\n",
       "    }\n",
       "\n",
       "    .dataframe thead th {\n",
       "        text-align: right;\n",
       "    }\n",
       "</style>\n",
       "<table border=\"1\" class=\"dataframe\">\n",
       "  <thead>\n",
       "    <tr style=\"text-align: right;\">\n",
       "      <th></th>\n",
       "      <th>1</th>\n",
       "      <th>2</th>\n",
       "      <th>3</th>\n",
       "      <th>4</th>\n",
       "      <th>5</th>\n",
       "      <th>6</th>\n",
       "    </tr>\n",
       "  </thead>\n",
       "  <tbody>\n",
       "    <tr>\n",
       "      <th>1</th>\n",
       "      <td>1.000000</td>\n",
       "      <td>0.317311</td>\n",
       "      <td>0.248213</td>\n",
       "      <td>0.259086</td>\n",
       "      <td>0.260858</td>\n",
       "      <td>0.011514</td>\n",
       "    </tr>\n",
       "    <tr>\n",
       "      <th>2</th>\n",
       "      <td>0.317311</td>\n",
       "      <td>1.000000</td>\n",
       "      <td>0.128978</td>\n",
       "      <td>0.397321</td>\n",
       "      <td>0.359169</td>\n",
       "      <td>0.011412</td>\n",
       "    </tr>\n",
       "    <tr>\n",
       "      <th>3</th>\n",
       "      <td>0.248213</td>\n",
       "      <td>0.128978</td>\n",
       "      <td>1.000000</td>\n",
       "      <td>0.047715</td>\n",
       "      <td>0.055316</td>\n",
       "      <td>0.017756</td>\n",
       "    </tr>\n",
       "    <tr>\n",
       "      <th>4</th>\n",
       "      <td>0.259086</td>\n",
       "      <td>0.397321</td>\n",
       "      <td>0.047715</td>\n",
       "      <td>1.000000</td>\n",
       "      <td>1.000000</td>\n",
       "      <td>0.011616</td>\n",
       "    </tr>\n",
       "    <tr>\n",
       "      <th>5</th>\n",
       "      <td>0.260858</td>\n",
       "      <td>0.359169</td>\n",
       "      <td>0.055316</td>\n",
       "      <td>1.000000</td>\n",
       "      <td>1.000000</td>\n",
       "      <td>0.011616</td>\n",
       "    </tr>\n",
       "    <tr>\n",
       "      <th>6</th>\n",
       "      <td>0.011514</td>\n",
       "      <td>0.011412</td>\n",
       "      <td>0.017756</td>\n",
       "      <td>0.011616</td>\n",
       "      <td>0.011616</td>\n",
       "      <td>1.000000</td>\n",
       "    </tr>\n",
       "  </tbody>\n",
       "</table>\n",
       "</div>"
      ],
      "text/plain": [
       "          1         2         3         4         5         6\n",
       "1  1.000000  0.317311  0.248213  0.259086  0.260858  0.011514\n",
       "2  0.317311  1.000000  0.128978  0.397321  0.359169  0.011412\n",
       "3  0.248213  0.128978  1.000000  0.047715  0.055316  0.017756\n",
       "4  0.259086  0.397321  0.047715  1.000000  1.000000  0.011616\n",
       "5  0.260858  0.359169  0.055316  1.000000  1.000000  0.011616\n",
       "6  0.011514  0.011412  0.017756  0.011616  0.011616  1.000000"
      ]
     },
     "execution_count": 76,
     "metadata": {},
     "output_type": "execute_result"
    }
   ],
   "source": [
    "# using scikit-posthocs\n",
    "import scikit_posthocs as sp\n",
    "sp.posthoc_wilcoxon(df, val_col = 'attractiveness', group_col='interaction')"
   ]
  },
  {
   "cell_type": "markdown",
   "metadata": {},
   "source": [
    "## Some basic understanding of sum of squares"
   ]
  },
  {
   "cell_type": "code",
   "execution_count": 79,
   "metadata": {},
   "outputs": [
    {
     "data": {
      "text/html": [
       "<div>\n",
       "<style scoped>\n",
       "    .dataframe tbody tr th:only-of-type {\n",
       "        vertical-align: middle;\n",
       "    }\n",
       "\n",
       "    .dataframe tbody tr th {\n",
       "        vertical-align: top;\n",
       "    }\n",
       "\n",
       "    .dataframe thead th {\n",
       "        text-align: right;\n",
       "    }\n",
       "</style>\n",
       "<table border=\"1\" class=\"dataframe\">\n",
       "  <thead>\n",
       "    <tr style=\"text-align: right;\">\n",
       "      <th></th>\n",
       "      <th>gender</th>\n",
       "      <th>alcohol</th>\n",
       "      <th>attractiveness</th>\n",
       "      <th>genderX</th>\n",
       "      <th>alcoholX</th>\n",
       "      <th>interaction</th>\n",
       "    </tr>\n",
       "  </thead>\n",
       "  <tbody>\n",
       "    <tr>\n",
       "      <th>0</th>\n",
       "      <td>Female</td>\n",
       "      <td>None</td>\n",
       "      <td>65</td>\n",
       "      <td>2</td>\n",
       "      <td>1</td>\n",
       "      <td>1</td>\n",
       "    </tr>\n",
       "    <tr>\n",
       "      <th>1</th>\n",
       "      <td>Female</td>\n",
       "      <td>None</td>\n",
       "      <td>70</td>\n",
       "      <td>2</td>\n",
       "      <td>1</td>\n",
       "      <td>1</td>\n",
       "    </tr>\n",
       "    <tr>\n",
       "      <th>2</th>\n",
       "      <td>Female</td>\n",
       "      <td>None</td>\n",
       "      <td>60</td>\n",
       "      <td>2</td>\n",
       "      <td>1</td>\n",
       "      <td>1</td>\n",
       "    </tr>\n",
       "    <tr>\n",
       "      <th>3</th>\n",
       "      <td>Female</td>\n",
       "      <td>None</td>\n",
       "      <td>60</td>\n",
       "      <td>2</td>\n",
       "      <td>1</td>\n",
       "      <td>1</td>\n",
       "    </tr>\n",
       "    <tr>\n",
       "      <th>4</th>\n",
       "      <td>Female</td>\n",
       "      <td>None</td>\n",
       "      <td>60</td>\n",
       "      <td>2</td>\n",
       "      <td>1</td>\n",
       "      <td>1</td>\n",
       "    </tr>\n",
       "  </tbody>\n",
       "</table>\n",
       "</div>"
      ],
      "text/plain": [
       "   gender alcohol  attractiveness  genderX  alcoholX  interaction\n",
       "0  Female    None              65        2         1            1\n",
       "1  Female    None              70        2         1            1\n",
       "2  Female    None              60        2         1            1\n",
       "3  Female    None              60        2         1            1\n",
       "4  Female    None              60        2         1            1"
      ]
     },
     "execution_count": 79,
     "metadata": {},
     "output_type": "execute_result"
    }
   ],
   "source": [
    "df.head()"
   ]
  },
  {
   "cell_type": "code",
   "execution_count": 80,
   "metadata": {},
   "outputs": [
    {
     "data": {
      "text/plain": [
       "count    48.000000\n",
       "mean     58.333333\n",
       "std      13.812318\n",
       "min      20.000000\n",
       "25%      53.750000\n",
       "50%      60.000000\n",
       "75%      66.250000\n",
       "max      85.000000\n",
       "Name: attractiveness, dtype: float64"
      ]
     },
     "execution_count": 80,
     "metadata": {},
     "output_type": "execute_result"
    }
   ],
   "source": [
    "df['attractiveness'].describe()"
   ]
  },
  {
   "cell_type": "code",
   "execution_count": 81,
   "metadata": {},
   "outputs": [
    {
     "data": {
      "text/plain": [
       "58.333333333333336"
      ]
     },
     "execution_count": 81,
     "metadata": {},
     "output_type": "execute_result"
    }
   ],
   "source": [
    "x_grand =  df['attractiveness'].mean()\n",
    "x_grand"
   ]
  },
  {
   "cell_type": "code",
   "execution_count": 82,
   "metadata": {},
   "outputs": [
    {
     "data": {
      "text/plain": [
       "8966.666666666668"
      ]
     },
     "execution_count": 82,
     "metadata": {},
     "output_type": "execute_result"
    }
   ],
   "source": [
    "SSt = df['attractiveness'].std()**2 * (47)\n",
    "SSt"
   ]
  },
  {
   "cell_type": "code",
   "execution_count": 84,
   "metadata": {},
   "outputs": [
    {
     "data": {
      "text/plain": [
       "5479.166666666667"
      ]
     },
     "execution_count": 84,
     "metadata": {},
     "output_type": "execute_result"
    }
   ],
   "source": [
    "SSm = 0\n",
    "for i in range(1,7):\n",
    "    a = eval(f'df{i}')\n",
    "    g_mean = a['attractiveness'].mean()\n",
    "    SSm = SSm+8*(g_mean-x_grand)**2\n",
    "SSm"
   ]
  },
  {
   "cell_type": "code",
   "execution_count": 85,
   "metadata": {},
   "outputs": [
    {
     "data": {
      "text/plain": [
       "3487.500000000001"
      ]
     },
     "execution_count": 85,
     "metadata": {},
     "output_type": "execute_result"
    }
   ],
   "source": [
    "SSr = SSt - SSm\n",
    "SSr"
   ]
  },
  {
   "cell_type": "code",
   "execution_count": 86,
   "metadata": {},
   "outputs": [],
   "source": [
    "df_m = df[df['gender']=='Male']\n",
    "df_f = df[df['gender']=='Female']"
   ]
  },
  {
   "cell_type": "code",
   "execution_count": 88,
   "metadata": {},
   "outputs": [
    {
     "data": {
      "text/plain": [
       "168.75"
      ]
     },
     "execution_count": 88,
     "metadata": {},
     "output_type": "execute_result"
    }
   ],
   "source": [
    "## SS_gender\n",
    "SSa = 0\n",
    "gender_l = ['m', 'f']\n",
    "for i in range(2):\n",
    "    a = eval(f'df_{gender_l[i]}')\n",
    "    g_mean = a['attractiveness'].mean()\n",
    "    SSa = SSa+24*(g_mean-x_grand)**2\n",
    "SSa"
   ]
  },
  {
   "cell_type": "code",
   "execution_count": 89,
   "metadata": {},
   "outputs": [],
   "source": [
    "alcohol_list = ['no', '2pint', '4pint']\n",
    "alcohol_no = df[df['alcoholX']==1]\n",
    "alcohol_2pint = df[df['alcoholX']==2]\n",
    "alcohol_4pint = df[df['alcoholX']==3]"
   ]
  },
  {
   "cell_type": "code",
   "execution_count": 90,
   "metadata": {},
   "outputs": [
    {
     "data": {
      "text/plain": [
       "3332.291666666667"
      ]
     },
     "execution_count": 90,
     "metadata": {},
     "output_type": "execute_result"
    }
   ],
   "source": [
    "## SS_alcohol\n",
    "SSb = 0\n",
    "for i in range(3):\n",
    "    a = eval(f'alcohol_{alcohol_list[i]}')\n",
    "    g_mean = a['attractiveness'].mean()\n",
    "    SSb = SSb+16*(g_mean-x_grand)**2\n",
    "SSb"
   ]
  },
  {
   "cell_type": "code",
   "execution_count": 91,
   "metadata": {},
   "outputs": [
    {
     "data": {
      "text/plain": [
       "1978.125"
      ]
     },
     "execution_count": 91,
     "metadata": {},
     "output_type": "execute_result"
    }
   ],
   "source": [
    "SSab = SSm - SSa - SSb\n",
    "SSab"
   ]
  },
  {
   "cell_type": "code",
   "execution_count": 92,
   "metadata": {},
   "outputs": [
    {
     "data": {
      "text/plain": [
       "3487.500000000001"
      ]
     },
     "execution_count": 92,
     "metadata": {},
     "output_type": "execute_result"
    }
   ],
   "source": [
    "SSr = SSt-SSm\n",
    "SSr"
   ]
  },
  {
   "cell_type": "markdown",
   "metadata": {},
   "source": [
    "### calculating degree of freedom"
   ]
  },
  {
   "cell_type": "code",
   "execution_count": 93,
   "metadata": {},
   "outputs": [],
   "source": [
    "n = 48\n",
    "k = 6"
   ]
  },
  {
   "cell_type": "code",
   "execution_count": 94,
   "metadata": {},
   "outputs": [
    {
     "data": {
      "text/plain": [
       "47"
      ]
     },
     "execution_count": 94,
     "metadata": {},
     "output_type": "execute_result"
    }
   ],
   "source": [
    "df_SSt = n-1\n",
    "df_SSt"
   ]
  },
  {
   "cell_type": "code",
   "execution_count": 95,
   "metadata": {},
   "outputs": [
    {
     "data": {
      "text/plain": [
       "5"
      ]
     },
     "execution_count": 95,
     "metadata": {},
     "output_type": "execute_result"
    }
   ],
   "source": [
    "df_SSm = k-1\n",
    "df_SSm"
   ]
  },
  {
   "cell_type": "code",
   "execution_count": 96,
   "metadata": {},
   "outputs": [
    {
     "data": {
      "text/plain": [
       "1"
      ]
     },
     "execution_count": 96,
     "metadata": {},
     "output_type": "execute_result"
    }
   ],
   "source": [
    "df_SSa = 2-1\n",
    "df_SSa"
   ]
  },
  {
   "cell_type": "code",
   "execution_count": 97,
   "metadata": {},
   "outputs": [
    {
     "data": {
      "text/plain": [
       "2"
      ]
     },
     "execution_count": 97,
     "metadata": {},
     "output_type": "execute_result"
    }
   ],
   "source": [
    "df_SSb = 3-1\n",
    "df_SSb"
   ]
  },
  {
   "cell_type": "code",
   "execution_count": 98,
   "metadata": {},
   "outputs": [
    {
     "data": {
      "text/plain": [
       "2"
      ]
     },
     "execution_count": 98,
     "metadata": {},
     "output_type": "execute_result"
    }
   ],
   "source": [
    "df_SSab = df_SSa*df_SSb  # or use df_SSab = df_SSm - df_SSa-df_SSb\n",
    "df_SSab"
   ]
  },
  {
   "cell_type": "code",
   "execution_count": 99,
   "metadata": {},
   "outputs": [
    {
     "data": {
      "text/plain": [
       "42"
      ]
     },
     "execution_count": 99,
     "metadata": {},
     "output_type": "execute_result"
    }
   ],
   "source": [
    "df_SSr = n-k\n",
    "df_SSr"
   ]
  },
  {
   "cell_type": "markdown",
   "metadata": {},
   "source": [
    "### Calculating mean sum of squares"
   ]
  },
  {
   "cell_type": "code",
   "execution_count": 100,
   "metadata": {},
   "outputs": [
    {
     "data": {
      "text/plain": [
       "1095.8333333333335"
      ]
     },
     "execution_count": 100,
     "metadata": {},
     "output_type": "execute_result"
    }
   ],
   "source": [
    "MSm = SSm/df_SSm\n",
    "MSm"
   ]
  },
  {
   "cell_type": "code",
   "execution_count": 101,
   "metadata": {},
   "outputs": [
    {
     "data": {
      "text/plain": [
       "168.75"
      ]
     },
     "execution_count": 101,
     "metadata": {},
     "output_type": "execute_result"
    }
   ],
   "source": [
    "MSa = SSa/df_SSa\n",
    "MSa"
   ]
  },
  {
   "cell_type": "code",
   "execution_count": 102,
   "metadata": {},
   "outputs": [
    {
     "data": {
      "text/plain": [
       "1666.1458333333335"
      ]
     },
     "execution_count": 102,
     "metadata": {},
     "output_type": "execute_result"
    }
   ],
   "source": [
    "MSb = SSb/df_SSb\n",
    "MSb"
   ]
  },
  {
   "cell_type": "code",
   "execution_count": 103,
   "metadata": {},
   "outputs": [
    {
     "data": {
      "text/plain": [
       "989.0625"
      ]
     },
     "execution_count": 103,
     "metadata": {},
     "output_type": "execute_result"
    }
   ],
   "source": [
    "MSab = SSab/df_SSab\n",
    "MSab"
   ]
  },
  {
   "cell_type": "code",
   "execution_count": 106,
   "metadata": {},
   "outputs": [
    {
     "data": {
      "text/plain": [
       "83.0357142857143"
      ]
     },
     "execution_count": 106,
     "metadata": {},
     "output_type": "execute_result"
    }
   ],
   "source": [
    "MSr = SSr/df_SSr\n",
    "MSr"
   ]
  },
  {
   "cell_type": "markdown",
   "metadata": {},
   "source": [
    "### Calculating F-ratios"
   ]
  },
  {
   "cell_type": "code",
   "execution_count": 105,
   "metadata": {},
   "outputs": [
    {
     "data": {
      "text/plain": [
       "2.0322580645161286"
      ]
     },
     "execution_count": 105,
     "metadata": {},
     "output_type": "execute_result"
    }
   ],
   "source": [
    "F_a = MSa/MSr\n",
    "F_a"
   ]
  },
  {
   "cell_type": "code",
   "execution_count": 107,
   "metadata": {},
   "outputs": [
    {
     "data": {
      "text/plain": [
       "20.065412186379927"
      ]
     },
     "execution_count": 107,
     "metadata": {},
     "output_type": "execute_result"
    }
   ],
   "source": [
    "F_b = MSb/MSr\n",
    "F_b"
   ]
  },
  {
   "cell_type": "code",
   "execution_count": 108,
   "metadata": {},
   "outputs": [
    {
     "data": {
      "text/plain": [
       "11.911290322580642"
      ]
     },
     "execution_count": 108,
     "metadata": {},
     "output_type": "execute_result"
    }
   ],
   "source": [
    "F_ab = MSab/MSr\n",
    "F_ab"
   ]
  },
  {
   "cell_type": "markdown",
   "metadata": {},
   "source": [
    "## Effect Size"
   ]
  },
  {
   "cell_type": "code",
   "execution_count": 109,
   "metadata": {},
   "outputs": [
    {
     "data": {
      "text/html": [
       "<div>\n",
       "<style scoped>\n",
       "    .dataframe tbody tr th:only-of-type {\n",
       "        vertical-align: middle;\n",
       "    }\n",
       "\n",
       "    .dataframe tbody tr th {\n",
       "        vertical-align: top;\n",
       "    }\n",
       "\n",
       "    .dataframe thead th {\n",
       "        text-align: right;\n",
       "    }\n",
       "</style>\n",
       "<table border=\"1\" class=\"dataframe\">\n",
       "  <thead>\n",
       "    <tr style=\"text-align: right;\">\n",
       "      <th></th>\n",
       "      <th>sum_sq</th>\n",
       "      <th>df</th>\n",
       "      <th>F</th>\n",
       "      <th>PR(&gt;F)</th>\n",
       "    </tr>\n",
       "  </thead>\n",
       "  <tbody>\n",
       "    <tr>\n",
       "      <th>Intercept</th>\n",
       "      <td>35778.125000</td>\n",
       "      <td>1.0</td>\n",
       "      <td>430.876344</td>\n",
       "      <td>1.060490e-23</td>\n",
       "    </tr>\n",
       "    <tr>\n",
       "      <th>C(genderX)</th>\n",
       "      <td>156.250000</td>\n",
       "      <td>1.0</td>\n",
       "      <td>1.881720</td>\n",
       "      <td>1.774224e-01</td>\n",
       "    </tr>\n",
       "    <tr>\n",
       "      <th>C(alcoholX)</th>\n",
       "      <td>5208.333333</td>\n",
       "      <td>2.0</td>\n",
       "      <td>31.362007</td>\n",
       "      <td>4.647969e-09</td>\n",
       "    </tr>\n",
       "    <tr>\n",
       "      <th>C(genderX):C(alcoholX)</th>\n",
       "      <td>1978.125000</td>\n",
       "      <td>2.0</td>\n",
       "      <td>11.911290</td>\n",
       "      <td>7.986603e-05</td>\n",
       "    </tr>\n",
       "    <tr>\n",
       "      <th>Residual</th>\n",
       "      <td>3487.500000</td>\n",
       "      <td>42.0</td>\n",
       "      <td>NaN</td>\n",
       "      <td>NaN</td>\n",
       "    </tr>\n",
       "  </tbody>\n",
       "</table>\n",
       "</div>"
      ],
      "text/plain": [
       "                              sum_sq    df           F        PR(>F)\n",
       "Intercept               35778.125000   1.0  430.876344  1.060490e-23\n",
       "C(genderX)                156.250000   1.0    1.881720  1.774224e-01\n",
       "C(alcoholX)              5208.333333   2.0   31.362007  4.647969e-09\n",
       "C(genderX):C(alcoholX)   1978.125000   2.0   11.911290  7.986603e-05\n",
       "Residual                 3487.500000  42.0         NaN           NaN"
      ]
     },
     "execution_count": 109,
     "metadata": {},
     "output_type": "execute_result"
    }
   ],
   "source": [
    "sm.stats.anova_lm(m01,typ=3)"
   ]
  },
  {
   "cell_type": "code",
   "execution_count": 110,
   "metadata": {},
   "outputs": [],
   "source": [
    "# a is the number of levels of the first independent variable\n",
    "# b is the number of levels of the second independent variable \n",
    "# n is the number of people per condition.\n",
    "def Omega_factorial(n,a,b, MSa, MSb, MSab, MSr):\n",
    "    varA = ((a-1)*(MSa-MSr))/(n*a*b)\n",
    "    varB = ((b-1)*(MSb-MSr))/(n*a*b)\n",
    "    varAB = ((a-1)*(b-1)*(MSab-MSr))/(n*a*b)\n",
    "    varTotal = varA+varB+varAB+MSr\n",
    "    print(\"Omega-Squared A: \", varA/varTotal)\n",
    "    print(\"Omega-Squared B: \", varB/varTotal)\n",
    "    print(\"Omega-Squared AB: \", varAB/varTotal)"
   ]
  },
  {
   "cell_type": "code",
   "execution_count": 111,
   "metadata": {},
   "outputs": [
    {
     "name": "stdout",
     "output_type": "stream",
     "text": [
      "Omega-Squared A:  0.009471503272272827\n",
      "Omega-Squared B:  0.3498700957016476\n",
      "Omega-Squared AB:  0.20023349886539277\n"
     ]
    }
   ],
   "source": [
    "Omega_factorial(8, 2, 3, MSa, MSb, MSab, MSr)"
   ]
  },
  {
   "cell_type": "code",
   "execution_count": 112,
   "metadata": {},
   "outputs": [],
   "source": [
    "def s_within(s1,s2,n1,n2):\n",
    "    return np.sqrt((((n1-1)*(s1**2))+((n2-1)*(s2**2)))/(n1+n2-2))\n",
    "\n",
    "def mes(m1, m2, s1, s2, n1, n2):\n",
    "    s_ = s_within(s1,s2,n1,n2)\n",
    "    d = (m1-m2)/s_   # cohen's D\n",
    "    d_var = (n1+n2)/(n1*n2) + (d**2)/(2*(n1+n2))    # variance of d \n",
    "    \n",
    "    df = n1+n2-2\n",
    "    J = 1-3/(4*df-1)   # correction factor\n",
    "    \n",
    "    g = J*d          #   Hedges' g\n",
    "    \n",
    "    g_var = (J**2)*d_var     #   variance of g\n",
    "    \n",
    "    a = (n1+n2)**2/(n1*n2)    # a corrects for inbalance in n1 & n2\n",
    "    \n",
    "    r = d/np.sqrt(d**2+a)  # correlation coeffecient\n",
    "    \n",
    "    r_var = (a**2 * d_var)/((d**2 + a)**3)     #   variance of r\n",
    "    \n",
    "    \n",
    "    print(f'Cohen\\'s d: {d}, var.d: {d_var}')\n",
    "    print(f'Hedge\\'s g: {g}, var.g: {g_var}')\n",
    "    print(f'Correlation coeffecient: {r}, var.r: {r_var}')"
   ]
  },
  {
   "cell_type": "markdown",
   "metadata": {},
   "source": [
    "#### # Several times it is perhaps more useful to quantify focused differences (i.e., between two things) than overall effect, Compute the differences between means for one independent variable at different levels of the other independent variable."
   ]
  },
  {
   "cell_type": "markdown",
   "metadata": {},
   "source": [
    "## Effect sizes of gender at different level of alcohol"
   ]
  },
  {
   "cell_type": "code",
   "execution_count": 113,
   "metadata": {},
   "outputs": [
    {
     "name": "stdout",
     "output_type": "stream",
     "text": [
      "Cohen's d: 0.7715167518584259, var.d: 0.268601190574943\n",
      "Hedge's g: 0.7294340199388755, var.g: 0.24009838655029617\n",
      "Correlation coeffecient: 0.3599078762059593, var.r: 0.04428981429138486\n"
     ]
    }
   ],
   "source": [
    "# none - male vs female\n",
    "mes(66.875, 60.625, 10.3293963, 4.95515604, 8, 8)"
   ]
  },
  {
   "cell_type": "code",
   "execution_count": 114,
   "metadata": {},
   "outputs": [
    {
     "name": "stdout",
     "output_type": "stream",
     "text": [
      "Cohen's d: 0.43798910047367273, var.d: 0.2559948266291793\n",
      "Hedge's g: 0.41409878590238147, var.g: 0.22882975577034734\n",
      "Correlation coeffecient: 0.21392485272768005, var.r: 0.0556081956104548\n"
     ]
    }
   ],
   "source": [
    "# 2 pints - male vs female\n",
    "mes(66.875, 62.5, 12.5178444, 6.5465367, 8, 8)"
   ]
  },
  {
   "cell_type": "code",
   "execution_count": 115,
   "metadata": {},
   "outputs": [
    {
     "name": "stdout",
     "output_type": "stream",
     "text": [
      "Cohen's d: -2.3909551750892244, var.d: 0.42864583279018575\n",
      "Hedge's g: -2.260539438266176, var.g: 0.38315977912881394\n",
      "Correlation coeffecient: -0.7670307629902544, var.r: 0.007475954987123108\n"
     ]
    }
   ],
   "source": [
    "# 4 pints - male vs female\n",
    "mes(35.625, 57.5, 10.8356225, 7.0710678, 8, 8)"
   ]
  },
  {
   "cell_type": "markdown",
   "metadata": {},
   "source": [
    "#### # The difference in attractiveness scores between males and females who drank no alcohol is a medium effect (the means are under a standard deviation different), d = 0.77, r = .36; the difference between males and females who drank 2 pints is a fairly small effect (there is less than half a standard deviation difference between the group means), d = 0.44, r = .21; finally, the difference between males and females who drank 4 pints is a very large effect (the means are more than 2 standard deviation apart), d = −2.39, r = −.77"
   ]
  },
  {
   "cell_type": "code",
   "execution_count": 116,
   "metadata": {},
   "outputs": [
    {
     "data": {
      "image/png": "[encoded data removed]",
      "text/plain": [
       "<IPython.core.display.Image object>"
      ]
     },
     "execution_count": 116,
     "metadata": {},
     "output_type": "execute_result"
    }
   ],
   "source": [
    "Image('/home/atrides/Downloads/report1.png')"
   ]
  },
  {
   "cell_type": "code",
   "execution_count": 117,
   "metadata": {},
   "outputs": [
    {
     "data": {
      "image/png": "[encoded data removed]",
      "text/plain": [
       "<IPython.core.display.Image object>"
      ]
     },
     "execution_count": 117,
     "metadata": {},
     "output_type": "execute_result"
    }
   ],
   "source": [
    "Image('/home/atrides/Downloads/report2.png')"
   ]
  },
  {
   "cell_type": "code",
   "execution_count": null,
   "metadata": {},
   "outputs": [],
   "source": []
  }
 ],
 "metadata": {
  "kernelspec": {
   "display_name": "Python 3",
   "language": "python",
   "name": "python3"
  },
  "language_info": {
   "codemirror_mode": {
    "name": "ipython",
    "version": 3
   },
   "file_extension": ".py",
   "mimetype": "text/x-python",
   "name": "python",
   "nbconvert_exporter": "python",
   "pygments_lexer": "ipython3",
   "version": "3.8.5"
  }
 },
 "nbformat": 4,
 "nbformat_minor": 4
}
